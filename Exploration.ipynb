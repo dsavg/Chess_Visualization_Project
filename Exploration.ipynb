{
 "cells": [
  {
   "cell_type": "markdown",
   "metadata": {},
   "source": [
    "# Exploration"
   ]
  },
  {
   "cell_type": "markdown",
   "metadata": {},
   "source": [
    "The data used in this notebook were found online on Free Internet Chess Server (FICS) https://www.ficsgames.org/download.html"
   ]
  },
  {
   "cell_type": "markdown",
   "metadata": {},
   "source": [
    "Before exploring the data, we need to figure out how the chess library in Python works."
   ]
  },
  {
   "cell_type": "code",
   "execution_count": 1,
   "metadata": {},
   "outputs": [],
   "source": [
    "# importing the needed libraries\n",
    "import pandas as pd \n",
    "import chess.pgn\n",
    "import chess"
   ]
  },
  {
   "cell_type": "markdown",
   "metadata": {},
   "source": [
    "* Checking how many lines the .pgn file has"
   ]
  },
  {
   "cell_type": "code",
   "execution_count": 2,
   "metadata": {},
   "outputs": [
    {
     "name": "stdout",
     "output_type": "stream",
     "text": [
      " 19191183 /Users/danaiavg/Downloads/ficsgamesdb_201701_chess_movetimes_1545427.pgn\r\n"
     ]
    }
   ],
   "source": [
    "! wc -l ~/Downloads/ficsgamesdb_201701_chess_movetimes_1545427.pgn "
   ]
  },
  {
   "cell_type": "markdown",
   "metadata": {},
   "source": [
    "* Taking a look at the format of the data, to figure out what we need and what not for our analysis"
   ]
  },
  {
   "cell_type": "code",
   "execution_count": 3,
   "metadata": {},
   "outputs": [
    {
     "name": "stdout",
     "output_type": "stream",
     "text": [
      "[Event \"FICS rated blitz game\"]\r",
      "\r\n",
      "[Site \"FICS freechess.org\"]\r",
      "\r\n",
      "[FICSGamesDBGameNo \"410988621\"]\r",
      "\r\n",
      "[White \"gromarx\"]\r",
      "\r\n",
      "[Black \"GriffySr\"]\r",
      "\r\n",
      "[WhiteElo \"1965\"]\r",
      "\r\n",
      "[BlackElo \"1970\"]\r",
      "\r\n",
      "[WhiteRD \"33.1\"]\r",
      "\r\n",
      "[BlackRD \"21.3\"]\r",
      "\r\n",
      "[BlackIsComp \"Yes\"]\r",
      "\r\n",
      "[TimeControl \"120+12\"]\r",
      "\r\n",
      "[Date \"2017.01.31\"]\r",
      "\r\n",
      "[Time \"23:53:00\"]\r",
      "\r\n",
      "[WhiteClock \"0:02:00.000\"]\r",
      "\r\n",
      "[BlackClock \"0:02:00.000\"]\r",
      "\r\n",
      "[ECO \"D00\"]\r",
      "\r\n",
      "[PlyCount \"131\"]\r",
      "\r\n",
      "[Result \"1-0\"]\r",
      "\r\n",
      "\r",
      "\r\n",
      "1. d4 {[%emt 0.0]} d5 {[%emt 0.0]} 2. Nc3 {[%emt 2.047]} Nf6 {[%emt 0.102]} 3. Bf4 {[%emt 3.277]} e6 {[%emt 0.138]} 4. f3 {[%emt 1.239]} Bb4 {[%emt 0.134]} 5. e3 {[%emt 2.917]} O-O {[%emt 0.135]} 6. Bg3 {[%emt 2.921]} Nc6 {[%emt 0.139]} 7. f4 {[%emt 6.412]} Ne4 {[%emt 0.109]} 8. Ne2 {[%emt 3.349]} Ba5 {[%emt 0.101]} 9. Qd3 {[%emt 11.326]} Nb4 {[%emt 0.116]} 10. Qd1 {[%emt 1.125]} Nc6 {[%emt 0.1]} 11. Qd3 {[%emt 2.091]} Bd7 {[%emt 0.17]} 12. a3 {[%emt 4.166]} Qf6 {[%emt 0.146]} 13. O-O-O {[%emt 4.625]} Qf5 {[%emt 0.1]} 14. Be1 {[%emt 8.753]} Qg6 {[%emt 0.315]} 15. h3 {[%emt 26.988]} a6 {[%emt 0.232]} 16. g4 {[%emt 2.636]} Rad8 {[%emt 0.1]} 17. Bg2 {[%emt 9.017]} Nxc3 {[%emt 0.182]} 18. Nxc3 {[%emt 9.563]} Qxd3 {[%emt 0.1]} 19. Rxd3 {[%emt 1.981]} Bb6 {[%emt 0.1]} 20. Na4 {[%emt 16.193]} Ne5 {[%emt 0.106]} 21. fxe5 {[%emt 9.594]} Bxa4 {[%emt 0.109]} 22. c3 {[%emt 13.993]} Bb5 {[%emt 0.12]} 23. Rd1 {[%emt 1.451]} Be2 {[%emt 0.117]} 24. Rd2 {[%emt 1.17]} Bc4 {[%emt 0.11]} 25. Kc2 {[%emt 2.574]} c5 {[%emt 0.113]} 26. a4 {[%emt 4.478]} cxd4 {[%emt 0.133]} 27. exd4 {[%emt 14.196]} a5 {[%emt 0.126]} 28. Bh4 {[%emt 6.63]} Rc8 {[%emt 0.107]} 29. Bf1 {[%emt 7.27]} Bd8 {[%emt 0.132]} 30. Bxd8 {[%emt 9.375]} Rfxd8 {[%emt 0.1]} 31. Rf2 {[%emt 4.477]} b6 {[%emt 0.108]} 32. b3 {[%emt 7.223]} Bxf1 {[%emt 0.1]} 33. Rhxf1 {[%emt 1.653]} Rc7 {[%emt 0.104]} 34. g5 {[%emt 2.402]} g6 {[%emt 0.109]} 35. h4 {[%emt 1.42]} Rdc8 {[%emt 0.106]} 36. Rf3 {[%emt 3.057]} Kg7 {[%emt 0.147]} 37. Re1 {[%emt 5.897]} h6 {[%emt 0.104]} 38. Rh3 {[%emt 10.14]} Rh8 {[%emt 0.105]} 39. gxh6+ {[%emt 9.141]} Rxh6 {[%emt 0.135]} 40. Reh1 {[%emt 6.162]} Rh5 {[%emt 0.117]} 41. Rf3 {[%emt 3.011]} Rf5 {[%emt 0.1]} 42. Rfh3 {[%emt 11.466]} Rf2+ {[%emt 0.11]} 43. Kd3 {[%emt 1.124]} Rb2 {[%emt 0.1]} 44. h5 {[%emt 2.871]} Rxb3 {[%emt 0.105]} 45. Kc2 {[%emt 5.85]} Rb4 {[%emt 0.153]} 46. hxg6 {[%emt 8.159]} Rxa4 {[%emt 0.104]} 47. gxf7 {[%emt 37.706]} Rxf7 {[%emt 0.1]} 48. Rh7+ {[%emt 3.338]} Kf8 {[%emt 0.103]} 49. Rxf7+ {[%emt 5.226]} Kxf7 {[%emt 0.104]} 50. Rh7+ {[%emt 2.075]} Kg6 {[%emt 0.112]} 51. Rb7 {[%emt 1.731]} Ra2+ {[%emt 0.161]} 52. Kb3 {[%emt 1.56]} Rg2 {[%emt 0.123]} 53. Rxb6 {[%emt 2.216]} Kf5 {[%emt 0.105]} 54. Ra6 {[%emt 2.418]} Rf2 {[%emt 0.1]} 55. Rxa5 {[%emt 1.638]} Ke4 {[%emt 0.108]} 56. Ra6 {[%emt 2.371]} Kf5 {[%emt 0.106]} 57. Ra8 {[%emt 6.194]} Rf4 {[%emt 0.129]} 58. Re8 {[%emt 9.22]} Rh4 {[%emt 0.115]} 59. Rf8+ {[%emt 1.357]} Kg5 {[%emt 0.102]} 60. Rf6 {[%emt 1.762]} Rh6 {[%emt 0.1]} 61. Rxh6 {[%emt 0.967]} Kxh6 {[%emt 0.101]} 62. c4 {[%emt 1.014]} Kg5 {[%emt 0.118]} 63. c5 {[%emt 2.605]} Kf4 {[%emt 0.108]} 64. c6 {[%emt 0.936]} Ke4 {[%emt 0.1]} 65. c7 {[%emt 0.671]} Kxd4 {[%emt 0.102]} 66. c8=Q {[%emt 1.357]} {Black resigns} 1-0\r",
      "\r\n"
     ]
    }
   ],
   "source": [
    "! head -20 ~/Downloads/ficsgamesdb_201701_chess_movetimes_1545427.pgn "
   ]
  },
  {
   "cell_type": "markdown",
   "metadata": {},
   "source": [
    "* Counting how many times the word 'FICSGamesDBGameNo' appears in the file, which indicates "
   ]
  },
  {
   "cell_type": "code",
   "execution_count": 4,
   "metadata": {},
   "outputs": [
    {
     "name": "stdout",
     "output_type": "stream",
     "text": [
      "  955855\r\n"
     ]
    }
   ],
   "source": [
    "! grep FICSGamesDBGameNo ~/Downloads/ficsgamesdb_201701_chess_movetimes_1545427.pgn | wc -l"
   ]
  },
  {
   "cell_type": "markdown",
   "metadata": {},
   "source": [
    "As we can observe there are 955,855 games for January 2017. "
   ]
  },
  {
   "cell_type": "code",
   "execution_count": 5,
   "metadata": {},
   "outputs": [],
   "source": [
    "# reading in the data\n",
    "pgn = open(\"/Users/danaiavg/Downloads/ficsgamesdb_201701_chess_movetimes_1545427.pgn\")"
   ]
  },
  {
   "cell_type": "markdown",
   "metadata": {},
   "source": [
    "In order to run our analysis faster we are going to get a subset of data."
   ]
  },
  {
   "cell_type": "markdown",
   "metadata": {},
   "source": [
    "Notes:\n",
    "- When there are a lot of moves, the following doesn't show until the check mate, wierd"
   ]
  },
  {
   "cell_type": "markdown",
   "metadata": {},
   "source": [
    "Following there is an example of how to print a hierarchical chart \n",
    "https://plot.ly/python/tree-plots/"
   ]
  },
  {
   "cell_type": "markdown",
   "metadata": {
    "collapsed": true
   },
   "source": [
    "another example in this link: https://plot.ly/~empet/14305/a-tree-with-improved-walker-layout-1/#plot"
   ]
  },
  {
   "cell_type": "code",
   "execution_count": null,
   "metadata": {},
   "outputs": [],
   "source": [
    "# first_game = chess.pgn.read_game(pgn)\n",
    "# board = chess.Board()\n",
    "# moves = first_game.main_line()\n",
    "# node = first_game\n",
    "# while node.variations:\n",
    "#     next_node = node.variation(0)\n",
    "# #     print(next_node)\n",
    "\n",
    "#     print(next_node.move)  #prints the origin square and the destination square\n",
    "#     b = next_node.move.to_square\n",
    "# #     print(b)\n",
    "#     a = node.board().san(next_node.move)[-2:]\n",
    "#     print(a)\n",
    "#     board.push_san(node.board().san(next_node.move))\n",
    "#     print(board.piece_at(next_node.move.to_square))  #prints the piece that was moved\n",
    "    \n",
    "#     print(board)\n",
    "    \n",
    "#     print(board.is_game_over())\n",
    "#     node = next_node"
   ]
  },
  {
   "cell_type": "markdown",
   "metadata": {},
   "source": [
    "## Start from here"
   ]
  },
  {
   "cell_type": "code",
   "execution_count": 73,
   "metadata": {},
   "outputs": [],
   "source": [
    "initial_list = []\n",
    "for i in range(10): #10\n",
    "    first_game = chess.pgn.read_game(pgn)\n",
    "    board = chess.Board()\n",
    "    moves = first_game.main_line()\n",
    "    node = first_game\n",
    "    a = 0\n",
    "    list1 = []\n",
    "    i = 1\n",
    "    while node.variations:\n",
    "        next_node = node.variation(0)\n",
    "        b = str(next_node.move)[-2:]  #take the following position\n",
    "        list1.append((str(i-1)+str(a),str(i)+str(b)+str(i-1)+str(a)))\n",
    "        a = str(b)+str(i-1)+str(a)\n",
    "        board.push_san(node.board().san(next_node.move))\n",
    "        node = next_node\n",
    "        if len(list1) > 3:  #take a subset for depth #3\n",
    "            break\n",
    "        i += 1\n",
    "#     initial_list = initial_list + [i for i in list1 if i not in initial_list]  #there is a concern with that\n",
    "    initial_list = initial_list + list1"
   ]
  },
  {
   "cell_type": "markdown",
   "metadata": {},
   "source": [
    "### Plot - None hierarcical (for now)"
   ]
  },
  {
   "cell_type": "code",
   "execution_count": 74,
   "metadata": {},
   "outputs": [
    {
     "data": {
      "text/html": [
       "<script>requirejs.config({paths: { 'plotly': ['https://cdn.plot.ly/plotly-latest.min']},});if(!window.Plotly) {{require(['plotly'],function(plotly) {window.Plotly=plotly;});}}</script>"
      ],
      "text/vnd.plotly.v1+html": [
       "<script>requirejs.config({paths: { 'plotly': ['https://cdn.plot.ly/plotly-latest.min']},});if(!window.Plotly) {{require(['plotly'],function(plotly) {window.Plotly=plotly;});}}</script>"
      ]
     },
     "metadata": {},
     "output_type": "display_data"
    }
   ],
   "source": [
    "import plotly.plotly as py\n",
    "import plotly\n",
    "import plotly.graph_objs as go\n",
    "import networkx as nx\n",
    "import matplotlib.pyplot as plt\n",
    "import collections\n",
    "from plotly.offline import init_notebook_mode, plot\n",
    "from networkx.drawing.nx_agraph import graphviz_layout\n",
    "init_notebook_mode(connected=True)"
   ]
  },
  {
   "cell_type": "code",
   "execution_count": 75,
   "metadata": {},
   "outputs": [],
   "source": [
    "node1 = [n[0] for n in initial_list]\n",
    "node2 = [n[1] for n in initial_list]\n",
    "node1.extend(node2)\n",
    "my_nodes = list(set(node1))\n",
    "my_nodes.sort()"
   ]
  },
  {
   "cell_type": "code",
   "execution_count": 76,
   "metadata": {},
   "outputs": [],
   "source": [
    "G=nx.Graph()\n",
    "G.add_nodes_from(my_nodes)\n",
    "my_edges=initial_list\n",
    "G.add_edges_from(my_edges)"
   ]
  },
  {
   "cell_type": "code",
   "execution_count": 77,
   "metadata": {},
   "outputs": [],
   "source": [
    "pos=nx.fruchterman_reingold_layout(G) "
   ]
  },
  {
   "cell_type": "code",
   "execution_count": 78,
   "metadata": {},
   "outputs": [],
   "source": [
    "pos=collections.OrderedDict(sorted(pos.items()))"
   ]
  },
  {
   "cell_type": "code",
   "execution_count": 79,
   "metadata": {},
   "outputs": [],
   "source": [
    "Xn=[pos[k][0] for k in pos.keys()]\n",
    "Yn=[pos[k][1] for k in pos.keys()]"
   ]
  },
  {
   "cell_type": "code",
   "execution_count": 80,
   "metadata": {},
   "outputs": [],
   "source": [
    "labels=my_nodes"
   ]
  },
  {
   "cell_type": "code",
   "execution_count": 81,
   "metadata": {},
   "outputs": [],
   "source": [
    "trace_nodes=dict(type='scatter',\n",
    "                 x=Xn, \n",
    "                 y=Yn,\n",
    "                 mode='markers',\n",
    "                 marker=dict(symbol='dot', size=28, color='rgb(0,240,0)'),\n",
    "                 text=labels,\n",
    "                 hoverinfo='text')"
   ]
  },
  {
   "cell_type": "code",
   "execution_count": 82,
   "metadata": {},
   "outputs": [],
   "source": [
    "Xe=[]\n",
    "Ye=[]\n",
    "for e in G.edges():\n",
    "    Xe.extend([pos[e[0]][0], pos[e[1]][0], None])\n",
    "    Ye.extend([pos[e[0]][1], pos[e[1]][1], None])"
   ]
  },
  {
   "cell_type": "code",
   "execution_count": 83,
   "metadata": {},
   "outputs": [],
   "source": [
    "trace_edges=dict(type='scatter',\n",
    "                 mode='lines',\n",
    "                 x=Xe,\n",
    "                 y=Ye,\n",
    "                 line=dict(width=1, color='rgb(25,25,25)'),\n",
    "                 hoverinfo='none' \n",
    "                )"
   ]
  },
  {
   "cell_type": "code",
   "execution_count": 84,
   "metadata": {},
   "outputs": [],
   "source": [
    "axis=dict(showline=False, # hide axis line, grid, ticklabels and  title\n",
    "          zeroline=False,\n",
    "          showgrid=False,\n",
    "          showticklabels=False,\n",
    "          title='' \n",
    "          )\n",
    "layout=dict(title= 'Graph',  \n",
    "            font= dict(family='Balto'),\n",
    "            width=600,\n",
    "            height=600,\n",
    "            autosize=False,\n",
    "            showlegend=False,\n",
    "            xaxis=axis,\n",
    "            yaxis=axis,\n",
    "            margin=dict(\n",
    "            l=40,\n",
    "            r=40,\n",
    "            b=85,\n",
    "            t=100,\n",
    "            pad=0,\n",
    "       \n",
    "    ),\n",
    "    hovermode='closest',\n",
    "    plot_bgcolor='#efecea', #set background color            \n",
    "    )\n",
    "\n",
    "\n",
    "fig = dict(data=[trace_edges, trace_nodes], layout=layout)"
   ]
  },
  {
   "cell_type": "code",
   "execution_count": 85,
   "metadata": {},
   "outputs": [],
   "source": [
    "def make_annotations(pos, anno_text, font_size=14, font_color='rgb(10,10,10)'):\n",
    "    L=len(pos)\n",
    "    if len(anno_text)!=L:\n",
    "        raise ValueError('The lists pos and text must have the same len')\n",
    "    annotations = []\n",
    "    i = 0\n",
    "    for k in pos.keys():\n",
    "        annotations.append(dict(text=anno_text[i], \n",
    "                                x=pos[k][0], \n",
    "                                y=pos[k][1]+0.075,#this additional value is chosen by trial and error\n",
    "                                xref='x1', yref='y1',\n",
    "                                font=dict(color= font_color, size=font_size),\n",
    "                                showarrow=False)\n",
    "                          )\n",
    "        i += 1\n",
    "    return annotations  "
   ]
  },
  {
   "cell_type": "code",
   "execution_count": 86,
   "metadata": {},
   "outputs": [],
   "source": [
    "fig['layout'].update(annotations=make_annotations(pos, labels))"
   ]
  },
  {
   "cell_type": "code",
   "execution_count": 87,
   "metadata": {},
   "outputs": [
    {
     "data": {
      "application/vnd.plotly.v1+json": {
       "data": [
        {
         "hoverinfo": "none",
         "line": {
          "color": "rgb(25,25,25)",
          "width": 1
         },
         "mode": "lines",
         "type": "scatter",
         "x": [
          0.29506628078608077,
          0.13810388939309365,
          null,
          0.29506628078608077,
          0.6384699872970434,
          null,
          0.9042143546698534,
          0.9686514988275019,
          null,
          0.9042143546698534,
          0.6384699872970434,
          null,
          0.026603671834521676,
          0.2703919321571998,
          null,
          0.026603671834521676,
          0.1381559270011766,
          null,
          0.8776403217814921,
          0.5994042541355176,
          null,
          0.8776403217814921,
          0.9916302074450766,
          null,
          0.874684291309689,
          0.9744175419982752,
          null,
          0.9916302074450766,
          0.9744175419982752,
          null,
          0.5502186749055649,
          0.2703919321571998,
          null,
          0.5502186749055649,
          0.8273738959121624,
          null,
          0.7819201615368473,
          0.6808250247142157,
          null,
          0.7819201615368473,
          0.9171841990654594,
          null,
          0.6651970267924426,
          0.6808250247142157,
          null,
          0.6651970267924426,
          0.5994042541355176,
          null,
          0.5994042541355176,
          0.2703919321571998,
          null,
          0.5994042541355176,
          0.6384699872970434,
          null,
          0.5994042541355176,
          0.5409204841757557,
          null,
          0.5409204841757557,
          0.3429262440073307,
          null,
          0.2774828206393497,
          0.5277007882701654,
          null,
          0.2774828206393497,
          0.11086499028139349,
          null,
          0.09051490327467578,
          0.3429262440073307,
          null,
          0.09051490327467578,
          0,
          null,
          0.8273738959121624,
          0.7554591954131352,
          null,
          0.11086499028139349,
          0.2703919321571998,
          null,
          0.11086499028139349,
          0.22409029135112832,
          null,
          0.06028863319919337,
          0.2012222109472201,
          null,
          0.06028863319919337,
          0.2703919321571998,
          null,
          0.13810388939309365,
          0.04107113083764774,
          null,
          0.22409029135112832,
          0.4292870107275684,
          null,
          0.2012222109472201,
          0.4226720477404934,
          null,
          0.9981212999798944,
          0.9686514988275019,
          null,
          0.1381559270011766,
          0.3396520132578365,
          null
         ],
         "y": [
          0.040649177187741935,
          0.14888521331136428,
          null,
          0.040649177187741935,
          0.06335502440827803,
          null,
          0.2734683437741962,
          0.4619155720329384,
          null,
          0.2734683437741962,
          0.06335502440827803,
          null,
          0.667650784942422,
          0.4969054154434664,
          null,
          0.667650784942422,
          0.8491016112725661,
          null,
          0.21167857464385814,
          0.2858047920171671,
          null,
          0.21167857464385814,
          0.3911130541174084,
          null,
          0.8377803315510604,
          0.657145932049937,
          null,
          0.3911130541174084,
          0.657145932049937,
          null,
          0.3584850332239689,
          0.4969054154434664,
          null,
          0.3584850332239689,
          0.12015853417077704,
          null,
          0.9007515955554029,
          0.9125442185689352,
          null,
          0.9007515955554029,
          0.7783131399254218,
          null,
          0.6295289637470066,
          0.9125442185689352,
          null,
          0.6295289637470066,
          0.2858047920171671,
          null,
          0.2858047920171671,
          0.4969054154434664,
          null,
          0.2858047920171671,
          0.06335502440827803,
          null,
          0.2858047920171671,
          0.004587421259183666,
          null,
          0.004587421259183666,
          0.021750491520482803,
          null,
          0.9505858874901352,
          1,
          null,
          0.9505858874901352,
          0.7671331723261136,
          null,
          0.21156856854394693,
          0.021750491520482803,
          null,
          0.21156856854394693,
          0.4520692262394851,
          null,
          0.12015853417077704,
          0.06840964195719801,
          null,
          0.7671331723261136,
          0.4969054154434664,
          null,
          0.7671331723261136,
          0.893836276054789,
          null,
          0.3629592548199623,
          0.10303938580054244,
          null,
          0.3629592548199623,
          0.4969054154434664,
          null,
          0.14888521331136428,
          0.2919837813761709,
          null,
          0.893836276054789,
          0.9939406792559974,
          null,
          0.10303938580054244,
          0,
          null,
          0.5601308984460589,
          0.4619155720329384,
          null,
          0.8491016112725661,
          0.9764883745757467,
          null
         ]
        },
        {
         "hoverinfo": "text",
         "marker": {
          "color": "rgb(0,240,0)",
          "size": 28,
          "symbol": "dot"
         },
         "mode": "markers",
         "text": [
          "00",
          "1c400",
          "1d300",
          "1d400",
          "1e400",
          "1g400",
          "2c61d400",
          "2c61e400",
          "2d51e400",
          "2e51c400",
          "2e51d300",
          "2e51e400",
          "2e51g400",
          "2e61e400",
          "2f61d400",
          "3c32e51c400",
          "3c32e51e400",
          "3c42c61d400",
          "3c42f61d400",
          "3d42c61e400",
          "3d52d51e400",
          "3f32e51d300",
          "3f32e51e400",
          "3f32e61e400",
          "3g22e51g400",
          "4c63c32e51e400",
          "4c63f32e51d300",
          "4c63f32e51e400",
          "4c63g22e51g400",
          "4d53c42c61d400",
          "4d53d42c61e400",
          "4d53d52d51e400",
          "4d53f32e61e400",
          "4e63c42f61d400",
          "4f63c32e51c400"
         ],
         "type": "scatter",
         "x": [
          0.5994042541355176,
          0.6651970267924426,
          0.5409204841757557,
          0.6384699872970434,
          0.2703919321571998,
          0.8776403217814921,
          0.29506628078608077,
          0.026603671834521676,
          0.06028863319919337,
          0.6808250247142157,
          0.3429262440073307,
          0.11086499028139349,
          0.9916302074450766,
          0.5502186749055649,
          0.9042143546698534,
          0.7819201615368473,
          0.2774828206393497,
          0.13810388939309365,
          0.9686514988275019,
          0.1381559270011766,
          0.2012222109472201,
          0.09051490327467578,
          0.22409029135112832,
          0.8273738959121624,
          0.9744175419982752,
          0.5277007882701654,
          0,
          0.4292870107275684,
          0.874684291309689,
          0.04107113083764774,
          0.3396520132578365,
          0.4226720477404934,
          0.7554591954131352,
          0.9981212999798944,
          0.9171841990654594
         ],
         "y": [
          0.2858047920171671,
          0.6295289637470066,
          0.004587421259183666,
          0.06335502440827803,
          0.4969054154434664,
          0.21167857464385814,
          0.040649177187741935,
          0.667650784942422,
          0.3629592548199623,
          0.9125442185689352,
          0.021750491520482803,
          0.7671331723261136,
          0.3911130541174084,
          0.3584850332239689,
          0.2734683437741962,
          0.9007515955554029,
          0.9505858874901352,
          0.14888521331136428,
          0.4619155720329384,
          0.8491016112725661,
          0.10303938580054244,
          0.21156856854394693,
          0.893836276054789,
          0.12015853417077704,
          0.657145932049937,
          1,
          0.4520692262394851,
          0.9939406792559974,
          0.8377803315510604,
          0.2919837813761709,
          0.9764883745757467,
          0,
          0.06840964195719801,
          0.5601308984460589,
          0.7783131399254218
         ]
        }
       ],
       "layout": {
        "annotations": [
         {
          "font": {
           "color": "rgb(10,10,10)",
           "size": 14
          },
          "showarrow": false,
          "text": "00",
          "x": 0.5994042541355176,
          "xref": "x1",
          "y": 0.3608047920171671,
          "yref": "y1"
         },
         {
          "font": {
           "color": "rgb(10,10,10)",
           "size": 14
          },
          "showarrow": false,
          "text": "1c400",
          "x": 0.6651970267924426,
          "xref": "x1",
          "y": 0.7045289637470066,
          "yref": "y1"
         },
         {
          "font": {
           "color": "rgb(10,10,10)",
           "size": 14
          },
          "showarrow": false,
          "text": "1d300",
          "x": 0.5409204841757557,
          "xref": "x1",
          "y": 0.07958742125918367,
          "yref": "y1"
         },
         {
          "font": {
           "color": "rgb(10,10,10)",
           "size": 14
          },
          "showarrow": false,
          "text": "1d400",
          "x": 0.6384699872970434,
          "xref": "x1",
          "y": 0.13835502440827802,
          "yref": "y1"
         },
         {
          "font": {
           "color": "rgb(10,10,10)",
           "size": 14
          },
          "showarrow": false,
          "text": "1e400",
          "x": 0.2703919321571998,
          "xref": "x1",
          "y": 0.5719054154434664,
          "yref": "y1"
         },
         {
          "font": {
           "color": "rgb(10,10,10)",
           "size": 14
          },
          "showarrow": false,
          "text": "1g400",
          "x": 0.8776403217814921,
          "xref": "x1",
          "y": 0.28667857464385815,
          "yref": "y1"
         },
         {
          "font": {
           "color": "rgb(10,10,10)",
           "size": 14
          },
          "showarrow": false,
          "text": "2c61d400",
          "x": 0.29506628078608077,
          "xref": "x1",
          "y": 0.11564917718774193,
          "yref": "y1"
         },
         {
          "font": {
           "color": "rgb(10,10,10)",
           "size": 14
          },
          "showarrow": false,
          "text": "2c61e400",
          "x": 0.026603671834521676,
          "xref": "x1",
          "y": 0.742650784942422,
          "yref": "y1"
         },
         {
          "font": {
           "color": "rgb(10,10,10)",
           "size": 14
          },
          "showarrow": false,
          "text": "2d51e400",
          "x": 0.06028863319919337,
          "xref": "x1",
          "y": 0.4379592548199623,
          "yref": "y1"
         },
         {
          "font": {
           "color": "rgb(10,10,10)",
           "size": 14
          },
          "showarrow": false,
          "text": "2e51c400",
          "x": 0.6808250247142157,
          "xref": "x1",
          "y": 0.9875442185689352,
          "yref": "y1"
         },
         {
          "font": {
           "color": "rgb(10,10,10)",
           "size": 14
          },
          "showarrow": false,
          "text": "2e51d300",
          "x": 0.3429262440073307,
          "xref": "x1",
          "y": 0.0967504915204828,
          "yref": "y1"
         },
         {
          "font": {
           "color": "rgb(10,10,10)",
           "size": 14
          },
          "showarrow": false,
          "text": "2e51e400",
          "x": 0.11086499028139349,
          "xref": "x1",
          "y": 0.8421331723261135,
          "yref": "y1"
         },
         {
          "font": {
           "color": "rgb(10,10,10)",
           "size": 14
          },
          "showarrow": false,
          "text": "2e51g400",
          "x": 0.9916302074450766,
          "xref": "x1",
          "y": 0.4661130541174084,
          "yref": "y1"
         },
         {
          "font": {
           "color": "rgb(10,10,10)",
           "size": 14
          },
          "showarrow": false,
          "text": "2e61e400",
          "x": 0.5502186749055649,
          "xref": "x1",
          "y": 0.4334850332239689,
          "yref": "y1"
         },
         {
          "font": {
           "color": "rgb(10,10,10)",
           "size": 14
          },
          "showarrow": false,
          "text": "2f61d400",
          "x": 0.9042143546698534,
          "xref": "x1",
          "y": 0.3484683437741962,
          "yref": "y1"
         },
         {
          "font": {
           "color": "rgb(10,10,10)",
           "size": 14
          },
          "showarrow": false,
          "text": "3c32e51c400",
          "x": 0.7819201615368473,
          "xref": "x1",
          "y": 0.9757515955554028,
          "yref": "y1"
         },
         {
          "font": {
           "color": "rgb(10,10,10)",
           "size": 14
          },
          "showarrow": false,
          "text": "3c32e51e400",
          "x": 0.2774828206393497,
          "xref": "x1",
          "y": 1.0255858874901351,
          "yref": "y1"
         },
         {
          "font": {
           "color": "rgb(10,10,10)",
           "size": 14
          },
          "showarrow": false,
          "text": "3c42c61d400",
          "x": 0.13810388939309365,
          "xref": "x1",
          "y": 0.2238852133113643,
          "yref": "y1"
         },
         {
          "font": {
           "color": "rgb(10,10,10)",
           "size": 14
          },
          "showarrow": false,
          "text": "3c42f61d400",
          "x": 0.9686514988275019,
          "xref": "x1",
          "y": 0.5369155720329384,
          "yref": "y1"
         },
         {
          "font": {
           "color": "rgb(10,10,10)",
           "size": 14
          },
          "showarrow": false,
          "text": "3d42c61e400",
          "x": 0.1381559270011766,
          "xref": "x1",
          "y": 0.9241016112725661,
          "yref": "y1"
         },
         {
          "font": {
           "color": "rgb(10,10,10)",
           "size": 14
          },
          "showarrow": false,
          "text": "3d52d51e400",
          "x": 0.2012222109472201,
          "xref": "x1",
          "y": 0.17803938580054243,
          "yref": "y1"
         },
         {
          "font": {
           "color": "rgb(10,10,10)",
           "size": 14
          },
          "showarrow": false,
          "text": "3f32e51d300",
          "x": 0.09051490327467578,
          "xref": "x1",
          "y": 0.2865685685439469,
          "yref": "y1"
         },
         {
          "font": {
           "color": "rgb(10,10,10)",
           "size": 14
          },
          "showarrow": false,
          "text": "3f32e51e400",
          "x": 0.22409029135112832,
          "xref": "x1",
          "y": 0.968836276054789,
          "yref": "y1"
         },
         {
          "font": {
           "color": "rgb(10,10,10)",
           "size": 14
          },
          "showarrow": false,
          "text": "3f32e61e400",
          "x": 0.8273738959121624,
          "xref": "x1",
          "y": 0.19515853417077705,
          "yref": "y1"
         },
         {
          "font": {
           "color": "rgb(10,10,10)",
           "size": 14
          },
          "showarrow": false,
          "text": "3g22e51g400",
          "x": 0.9744175419982752,
          "xref": "x1",
          "y": 0.7321459320499369,
          "yref": "y1"
         },
         {
          "font": {
           "color": "rgb(10,10,10)",
           "size": 14
          },
          "showarrow": false,
          "text": "4c63c32e51e400",
          "x": 0.5277007882701654,
          "xref": "x1",
          "y": 1.075,
          "yref": "y1"
         },
         {
          "font": {
           "color": "rgb(10,10,10)",
           "size": 14
          },
          "showarrow": false,
          "text": "4c63f32e51d300",
          "x": 0,
          "xref": "x1",
          "y": 0.527069226239485,
          "yref": "y1"
         },
         {
          "font": {
           "color": "rgb(10,10,10)",
           "size": 14
          },
          "showarrow": false,
          "text": "4c63f32e51e400",
          "x": 0.4292870107275684,
          "xref": "x1",
          "y": 1.0689406792559975,
          "yref": "y1"
         },
         {
          "font": {
           "color": "rgb(10,10,10)",
           "size": 14
          },
          "showarrow": false,
          "text": "4c63g22e51g400",
          "x": 0.874684291309689,
          "xref": "x1",
          "y": 0.9127803315510603,
          "yref": "y1"
         },
         {
          "font": {
           "color": "rgb(10,10,10)",
           "size": 14
          },
          "showarrow": false,
          "text": "4d53c42c61d400",
          "x": 0.04107113083764774,
          "xref": "x1",
          "y": 0.36698378137617094,
          "yref": "y1"
         },
         {
          "font": {
           "color": "rgb(10,10,10)",
           "size": 14
          },
          "showarrow": false,
          "text": "4d53d42c61e400",
          "x": 0.3396520132578365,
          "xref": "x1",
          "y": 1.0514883745757466,
          "yref": "y1"
         },
         {
          "font": {
           "color": "rgb(10,10,10)",
           "size": 14
          },
          "showarrow": false,
          "text": "4d53d52d51e400",
          "x": 0.4226720477404934,
          "xref": "x1",
          "y": 0.075,
          "yref": "y1"
         },
         {
          "font": {
           "color": "rgb(10,10,10)",
           "size": 14
          },
          "showarrow": false,
          "text": "4d53f32e61e400",
          "x": 0.7554591954131352,
          "xref": "x1",
          "y": 0.14340964195719802,
          "yref": "y1"
         },
         {
          "font": {
           "color": "rgb(10,10,10)",
           "size": 14
          },
          "showarrow": false,
          "text": "4e63c42f61d400",
          "x": 0.9981212999798944,
          "xref": "x1",
          "y": 0.6351308984460589,
          "yref": "y1"
         },
         {
          "font": {
           "color": "rgb(10,10,10)",
           "size": 14
          },
          "showarrow": false,
          "text": "4f63c32e51c400",
          "x": 0.9171841990654594,
          "xref": "x1",
          "y": 0.8533131399254218,
          "yref": "y1"
         }
        ],
        "autosize": false,
        "font": {
         "family": "Balto"
        },
        "height": 600,
        "hovermode": "closest",
        "margin": {
         "b": 85,
         "l": 40,
         "pad": 0,
         "r": 40,
         "t": 100
        },
        "plot_bgcolor": "#efecea",
        "showlegend": false,
        "title": "Graph",
        "width": 600,
        "xaxis": {
         "showgrid": false,
         "showline": false,
         "showticklabels": false,
         "title": "",
         "zeroline": false
        },
        "yaxis": {
         "showgrid": false,
         "showline": false,
         "showticklabels": false,
         "title": "",
         "zeroline": false
        }
       }
      },
      "text/html": [
       "<div id=\"65bc2ca4-5290-4d63-90e9-7e5e72512f29\" style=\"height: 600px; width: 600px;\" class=\"plotly-graph-div\"></div><script type=\"text/javascript\">require([\"plotly\"], function(Plotly) { window.PLOTLYENV=window.PLOTLYENV || {};window.PLOTLYENV.BASE_URL=\"https://plot.ly\";Plotly.newPlot(\"65bc2ca4-5290-4d63-90e9-7e5e72512f29\", [{\"mode\": \"lines\", \"hoverinfo\": \"none\", \"y\": [0.040649177187741935, 0.14888521331136428, null, 0.040649177187741935, 0.06335502440827803, null, 0.2734683437741962, 0.4619155720329384, null, 0.2734683437741962, 0.06335502440827803, null, 0.667650784942422, 0.4969054154434664, null, 0.667650784942422, 0.8491016112725661, null, 0.21167857464385814, 0.2858047920171671, null, 0.21167857464385814, 0.3911130541174084, null, 0.8377803315510604, 0.657145932049937, null, 0.3911130541174084, 0.657145932049937, null, 0.3584850332239689, 0.4969054154434664, null, 0.3584850332239689, 0.12015853417077704, null, 0.9007515955554029, 0.9125442185689352, null, 0.9007515955554029, 0.7783131399254218, null, 0.6295289637470066, 0.9125442185689352, null, 0.6295289637470066, 0.2858047920171671, null, 0.2858047920171671, 0.4969054154434664, null, 0.2858047920171671, 0.06335502440827803, null, 0.2858047920171671, 0.004587421259183666, null, 0.004587421259183666, 0.021750491520482803, null, 0.9505858874901352, 1.0, null, 0.9505858874901352, 0.7671331723261136, null, 0.21156856854394693, 0.021750491520482803, null, 0.21156856854394693, 0.4520692262394851, null, 0.12015853417077704, 0.06840964195719801, null, 0.7671331723261136, 0.4969054154434664, null, 0.7671331723261136, 0.893836276054789, null, 0.3629592548199623, 0.10303938580054244, null, 0.3629592548199623, 0.4969054154434664, null, 0.14888521331136428, 0.2919837813761709, null, 0.893836276054789, 0.9939406792559974, null, 0.10303938580054244, 0.0, null, 0.5601308984460589, 0.4619155720329384, null, 0.8491016112725661, 0.9764883745757467, null], \"x\": [0.29506628078608077, 0.13810388939309365, null, 0.29506628078608077, 0.6384699872970434, null, 0.9042143546698534, 0.9686514988275019, null, 0.9042143546698534, 0.6384699872970434, null, 0.026603671834521676, 0.2703919321571998, null, 0.026603671834521676, 0.1381559270011766, null, 0.8776403217814921, 0.5994042541355176, null, 0.8776403217814921, 0.9916302074450766, null, 0.874684291309689, 0.9744175419982752, null, 0.9916302074450766, 0.9744175419982752, null, 0.5502186749055649, 0.2703919321571998, null, 0.5502186749055649, 0.8273738959121624, null, 0.7819201615368473, 0.6808250247142157, null, 0.7819201615368473, 0.9171841990654594, null, 0.6651970267924426, 0.6808250247142157, null, 0.6651970267924426, 0.5994042541355176, null, 0.5994042541355176, 0.2703919321571998, null, 0.5994042541355176, 0.6384699872970434, null, 0.5994042541355176, 0.5409204841757557, null, 0.5409204841757557, 0.3429262440073307, null, 0.2774828206393497, 0.5277007882701654, null, 0.2774828206393497, 0.11086499028139349, null, 0.09051490327467578, 0.3429262440073307, null, 0.09051490327467578, 0.0, null, 0.8273738959121624, 0.7554591954131352, null, 0.11086499028139349, 0.2703919321571998, null, 0.11086499028139349, 0.22409029135112832, null, 0.06028863319919337, 0.2012222109472201, null, 0.06028863319919337, 0.2703919321571998, null, 0.13810388939309365, 0.04107113083764774, null, 0.22409029135112832, 0.4292870107275684, null, 0.2012222109472201, 0.4226720477404934, null, 0.9981212999798944, 0.9686514988275019, null, 0.1381559270011766, 0.3396520132578365, null], \"line\": {\"color\": \"rgb(25,25,25)\", \"width\": 1}, \"type\": \"scatter\"}, {\"text\": [\"00\", \"1c400\", \"1d300\", \"1d400\", \"1e400\", \"1g400\", \"2c61d400\", \"2c61e400\", \"2d51e400\", \"2e51c400\", \"2e51d300\", \"2e51e400\", \"2e51g400\", \"2e61e400\", \"2f61d400\", \"3c32e51c400\", \"3c32e51e400\", \"3c42c61d400\", \"3c42f61d400\", \"3d42c61e400\", \"3d52d51e400\", \"3f32e51d300\", \"3f32e51e400\", \"3f32e61e400\", \"3g22e51g400\", \"4c63c32e51e400\", \"4c63f32e51d300\", \"4c63f32e51e400\", \"4c63g22e51g400\", \"4d53c42c61d400\", \"4d53d42c61e400\", \"4d53d52d51e400\", \"4d53f32e61e400\", \"4e63c42f61d400\", \"4f63c32e51c400\"], \"y\": [0.2858047920171671, 0.6295289637470066, 0.004587421259183666, 0.06335502440827803, 0.4969054154434664, 0.21167857464385814, 0.040649177187741935, 0.667650784942422, 0.3629592548199623, 0.9125442185689352, 0.021750491520482803, 0.7671331723261136, 0.3911130541174084, 0.3584850332239689, 0.2734683437741962, 0.9007515955554029, 0.9505858874901352, 0.14888521331136428, 0.4619155720329384, 0.8491016112725661, 0.10303938580054244, 0.21156856854394693, 0.893836276054789, 0.12015853417077704, 0.657145932049937, 1.0, 0.4520692262394851, 0.9939406792559974, 0.8377803315510604, 0.2919837813761709, 0.9764883745757467, 0.0, 0.06840964195719801, 0.5601308984460589, 0.7783131399254218], \"mode\": \"markers\", \"hoverinfo\": \"text\", \"marker\": {\"color\": \"rgb(0,240,0)\", \"symbol\": \"dot\", \"size\": 28}, \"x\": [0.5994042541355176, 0.6651970267924426, 0.5409204841757557, 0.6384699872970434, 0.2703919321571998, 0.8776403217814921, 0.29506628078608077, 0.026603671834521676, 0.06028863319919337, 0.6808250247142157, 0.3429262440073307, 0.11086499028139349, 0.9916302074450766, 0.5502186749055649, 0.9042143546698534, 0.7819201615368473, 0.2774828206393497, 0.13810388939309365, 0.9686514988275019, 0.1381559270011766, 0.2012222109472201, 0.09051490327467578, 0.22409029135112832, 0.8273738959121624, 0.9744175419982752, 0.5277007882701654, 0.0, 0.4292870107275684, 0.874684291309689, 0.04107113083764774, 0.3396520132578365, 0.4226720477404934, 0.7554591954131352, 0.9981212999798944, 0.9171841990654594], \"type\": \"scatter\"}], {\"autosize\": false, \"title\": \"Graph\", \"plot_bgcolor\": \"#efecea\", \"yaxis\": {\"zeroline\": false, \"showline\": false, \"showticklabels\": false, \"showgrid\": false, \"title\": \"\"}, \"showlegend\": false, \"height\": 600, \"width\": 600, \"xaxis\": {\"zeroline\": false, \"showline\": false, \"showticklabels\": false, \"showgrid\": false, \"title\": \"\"}, \"hovermode\": \"closest\", \"font\": {\"family\": \"Balto\"}, \"margin\": {\"b\": 85, \"r\": 40, \"pad\": 0, \"t\": 100, \"l\": 40}, \"annotations\": [{\"xref\": \"x1\", \"yref\": \"y1\", \"text\": \"00\", \"y\": 0.3608047920171671, \"x\": 0.5994042541355176, \"font\": {\"color\": \"rgb(10,10,10)\", \"size\": 14}, \"showarrow\": false}, {\"xref\": \"x1\", \"yref\": \"y1\", \"text\": \"1c400\", \"y\": 0.7045289637470066, \"x\": 0.6651970267924426, \"font\": {\"color\": \"rgb(10,10,10)\", \"size\": 14}, \"showarrow\": false}, {\"xref\": \"x1\", \"yref\": \"y1\", \"text\": \"1d300\", \"y\": 0.07958742125918367, \"x\": 0.5409204841757557, \"font\": {\"color\": \"rgb(10,10,10)\", \"size\": 14}, \"showarrow\": false}, {\"xref\": \"x1\", \"yref\": \"y1\", \"text\": \"1d400\", \"y\": 0.13835502440827802, \"x\": 0.6384699872970434, \"font\": {\"color\": \"rgb(10,10,10)\", \"size\": 14}, \"showarrow\": false}, {\"xref\": \"x1\", \"yref\": \"y1\", \"text\": \"1e400\", \"y\": 0.5719054154434664, \"x\": 0.2703919321571998, \"font\": {\"color\": \"rgb(10,10,10)\", \"size\": 14}, \"showarrow\": false}, {\"xref\": \"x1\", \"yref\": \"y1\", \"text\": \"1g400\", \"y\": 0.28667857464385815, \"x\": 0.8776403217814921, \"font\": {\"color\": \"rgb(10,10,10)\", \"size\": 14}, \"showarrow\": false}, {\"xref\": \"x1\", \"yref\": \"y1\", \"text\": \"2c61d400\", \"y\": 0.11564917718774193, \"x\": 0.29506628078608077, \"font\": {\"color\": \"rgb(10,10,10)\", \"size\": 14}, \"showarrow\": false}, {\"xref\": \"x1\", \"yref\": \"y1\", \"text\": \"2c61e400\", \"y\": 0.742650784942422, \"x\": 0.026603671834521676, \"font\": {\"color\": \"rgb(10,10,10)\", \"size\": 14}, \"showarrow\": false}, {\"xref\": \"x1\", \"yref\": \"y1\", \"text\": \"2d51e400\", \"y\": 0.4379592548199623, \"x\": 0.06028863319919337, \"font\": {\"color\": \"rgb(10,10,10)\", \"size\": 14}, \"showarrow\": false}, {\"xref\": \"x1\", \"yref\": \"y1\", \"text\": \"2e51c400\", \"y\": 0.9875442185689352, \"x\": 0.6808250247142157, \"font\": {\"color\": \"rgb(10,10,10)\", \"size\": 14}, \"showarrow\": false}, {\"xref\": \"x1\", \"yref\": \"y1\", \"text\": \"2e51d300\", \"y\": 0.0967504915204828, \"x\": 0.3429262440073307, \"font\": {\"color\": \"rgb(10,10,10)\", \"size\": 14}, \"showarrow\": false}, {\"xref\": \"x1\", \"yref\": \"y1\", \"text\": \"2e51e400\", \"y\": 0.8421331723261135, \"x\": 0.11086499028139349, \"font\": {\"color\": \"rgb(10,10,10)\", \"size\": 14}, \"showarrow\": false}, {\"xref\": \"x1\", \"yref\": \"y1\", \"text\": \"2e51g400\", \"y\": 0.4661130541174084, \"x\": 0.9916302074450766, \"font\": {\"color\": \"rgb(10,10,10)\", \"size\": 14}, \"showarrow\": false}, {\"xref\": \"x1\", \"yref\": \"y1\", \"text\": \"2e61e400\", \"y\": 0.4334850332239689, \"x\": 0.5502186749055649, \"font\": {\"color\": \"rgb(10,10,10)\", \"size\": 14}, \"showarrow\": false}, {\"xref\": \"x1\", \"yref\": \"y1\", \"text\": \"2f61d400\", \"y\": 0.3484683437741962, \"x\": 0.9042143546698534, \"font\": {\"color\": \"rgb(10,10,10)\", \"size\": 14}, \"showarrow\": false}, {\"xref\": \"x1\", \"yref\": \"y1\", \"text\": \"3c32e51c400\", \"y\": 0.9757515955554028, \"x\": 0.7819201615368473, \"font\": {\"color\": \"rgb(10,10,10)\", \"size\": 14}, \"showarrow\": false}, {\"xref\": \"x1\", \"yref\": \"y1\", \"text\": \"3c32e51e400\", \"y\": 1.0255858874901351, \"x\": 0.2774828206393497, \"font\": {\"color\": \"rgb(10,10,10)\", \"size\": 14}, \"showarrow\": false}, {\"xref\": \"x1\", \"yref\": \"y1\", \"text\": \"3c42c61d400\", \"y\": 0.2238852133113643, \"x\": 0.13810388939309365, \"font\": {\"color\": \"rgb(10,10,10)\", \"size\": 14}, \"showarrow\": false}, {\"xref\": \"x1\", \"yref\": \"y1\", \"text\": \"3c42f61d400\", \"y\": 0.5369155720329384, \"x\": 0.9686514988275019, \"font\": {\"color\": \"rgb(10,10,10)\", \"size\": 14}, \"showarrow\": false}, {\"xref\": \"x1\", \"yref\": \"y1\", \"text\": \"3d42c61e400\", \"y\": 0.9241016112725661, \"x\": 0.1381559270011766, \"font\": {\"color\": \"rgb(10,10,10)\", \"size\": 14}, \"showarrow\": false}, {\"xref\": \"x1\", \"yref\": \"y1\", \"text\": \"3d52d51e400\", \"y\": 0.17803938580054243, \"x\": 0.2012222109472201, \"font\": {\"color\": \"rgb(10,10,10)\", \"size\": 14}, \"showarrow\": false}, {\"xref\": \"x1\", \"yref\": \"y1\", \"text\": \"3f32e51d300\", \"y\": 0.2865685685439469, \"x\": 0.09051490327467578, \"font\": {\"color\": \"rgb(10,10,10)\", \"size\": 14}, \"showarrow\": false}, {\"xref\": \"x1\", \"yref\": \"y1\", \"text\": \"3f32e51e400\", \"y\": 0.968836276054789, \"x\": 0.22409029135112832, \"font\": {\"color\": \"rgb(10,10,10)\", \"size\": 14}, \"showarrow\": false}, {\"xref\": \"x1\", \"yref\": \"y1\", \"text\": \"3f32e61e400\", \"y\": 0.19515853417077705, \"x\": 0.8273738959121624, \"font\": {\"color\": \"rgb(10,10,10)\", \"size\": 14}, \"showarrow\": false}, {\"xref\": \"x1\", \"yref\": \"y1\", \"text\": \"3g22e51g400\", \"y\": 0.7321459320499369, \"x\": 0.9744175419982752, \"font\": {\"color\": \"rgb(10,10,10)\", \"size\": 14}, \"showarrow\": false}, {\"xref\": \"x1\", \"yref\": \"y1\", \"text\": \"4c63c32e51e400\", \"y\": 1.075, \"x\": 0.5277007882701654, \"font\": {\"color\": \"rgb(10,10,10)\", \"size\": 14}, \"showarrow\": false}, {\"xref\": \"x1\", \"yref\": \"y1\", \"text\": \"4c63f32e51d300\", \"y\": 0.527069226239485, \"x\": 0.0, \"font\": {\"color\": \"rgb(10,10,10)\", \"size\": 14}, \"showarrow\": false}, {\"xref\": \"x1\", \"yref\": \"y1\", \"text\": \"4c63f32e51e400\", \"y\": 1.0689406792559975, \"x\": 0.4292870107275684, \"font\": {\"color\": \"rgb(10,10,10)\", \"size\": 14}, \"showarrow\": false}, {\"xref\": \"x1\", \"yref\": \"y1\", \"text\": \"4c63g22e51g400\", \"y\": 0.9127803315510603, \"x\": 0.874684291309689, \"font\": {\"color\": \"rgb(10,10,10)\", \"size\": 14}, \"showarrow\": false}, {\"xref\": \"x1\", \"yref\": \"y1\", \"text\": \"4d53c42c61d400\", \"y\": 0.36698378137617094, \"x\": 0.04107113083764774, \"font\": {\"color\": \"rgb(10,10,10)\", \"size\": 14}, \"showarrow\": false}, {\"xref\": \"x1\", \"yref\": \"y1\", \"text\": \"4d53d42c61e400\", \"y\": 1.0514883745757466, \"x\": 0.3396520132578365, \"font\": {\"color\": \"rgb(10,10,10)\", \"size\": 14}, \"showarrow\": false}, {\"xref\": \"x1\", \"yref\": \"y1\", \"text\": \"4d53d52d51e400\", \"y\": 0.075, \"x\": 0.4226720477404934, \"font\": {\"color\": \"rgb(10,10,10)\", \"size\": 14}, \"showarrow\": false}, {\"xref\": \"x1\", \"yref\": \"y1\", \"text\": \"4d53f32e61e400\", \"y\": 0.14340964195719802, \"x\": 0.7554591954131352, \"font\": {\"color\": \"rgb(10,10,10)\", \"size\": 14}, \"showarrow\": false}, {\"xref\": \"x1\", \"yref\": \"y1\", \"text\": \"4e63c42f61d400\", \"y\": 0.6351308984460589, \"x\": 0.9981212999798944, \"font\": {\"color\": \"rgb(10,10,10)\", \"size\": 14}, \"showarrow\": false}, {\"xref\": \"x1\", \"yref\": \"y1\", \"text\": \"4f63c32e51c400\", \"y\": 0.8533131399254218, \"x\": 0.9171841990654594, \"font\": {\"color\": \"rgb(10,10,10)\", \"size\": 14}, \"showarrow\": false}]}, {\"linkText\": \"Export to plot.ly\", \"showLink\": true})});</script>"
      ],
      "text/vnd.plotly.v1+html": [
       "<div id=\"65bc2ca4-5290-4d63-90e9-7e5e72512f29\" style=\"height: 600px; width: 600px;\" class=\"plotly-graph-div\"></div><script type=\"text/javascript\">require([\"plotly\"], function(Plotly) { window.PLOTLYENV=window.PLOTLYENV || {};window.PLOTLYENV.BASE_URL=\"https://plot.ly\";Plotly.newPlot(\"65bc2ca4-5290-4d63-90e9-7e5e72512f29\", [{\"mode\": \"lines\", \"hoverinfo\": \"none\", \"y\": [0.040649177187741935, 0.14888521331136428, null, 0.040649177187741935, 0.06335502440827803, null, 0.2734683437741962, 0.4619155720329384, null, 0.2734683437741962, 0.06335502440827803, null, 0.667650784942422, 0.4969054154434664, null, 0.667650784942422, 0.8491016112725661, null, 0.21167857464385814, 0.2858047920171671, null, 0.21167857464385814, 0.3911130541174084, null, 0.8377803315510604, 0.657145932049937, null, 0.3911130541174084, 0.657145932049937, null, 0.3584850332239689, 0.4969054154434664, null, 0.3584850332239689, 0.12015853417077704, null, 0.9007515955554029, 0.9125442185689352, null, 0.9007515955554029, 0.7783131399254218, null, 0.6295289637470066, 0.9125442185689352, null, 0.6295289637470066, 0.2858047920171671, null, 0.2858047920171671, 0.4969054154434664, null, 0.2858047920171671, 0.06335502440827803, null, 0.2858047920171671, 0.004587421259183666, null, 0.004587421259183666, 0.021750491520482803, null, 0.9505858874901352, 1.0, null, 0.9505858874901352, 0.7671331723261136, null, 0.21156856854394693, 0.021750491520482803, null, 0.21156856854394693, 0.4520692262394851, null, 0.12015853417077704, 0.06840964195719801, null, 0.7671331723261136, 0.4969054154434664, null, 0.7671331723261136, 0.893836276054789, null, 0.3629592548199623, 0.10303938580054244, null, 0.3629592548199623, 0.4969054154434664, null, 0.14888521331136428, 0.2919837813761709, null, 0.893836276054789, 0.9939406792559974, null, 0.10303938580054244, 0.0, null, 0.5601308984460589, 0.4619155720329384, null, 0.8491016112725661, 0.9764883745757467, null], \"x\": [0.29506628078608077, 0.13810388939309365, null, 0.29506628078608077, 0.6384699872970434, null, 0.9042143546698534, 0.9686514988275019, null, 0.9042143546698534, 0.6384699872970434, null, 0.026603671834521676, 0.2703919321571998, null, 0.026603671834521676, 0.1381559270011766, null, 0.8776403217814921, 0.5994042541355176, null, 0.8776403217814921, 0.9916302074450766, null, 0.874684291309689, 0.9744175419982752, null, 0.9916302074450766, 0.9744175419982752, null, 0.5502186749055649, 0.2703919321571998, null, 0.5502186749055649, 0.8273738959121624, null, 0.7819201615368473, 0.6808250247142157, null, 0.7819201615368473, 0.9171841990654594, null, 0.6651970267924426, 0.6808250247142157, null, 0.6651970267924426, 0.5994042541355176, null, 0.5994042541355176, 0.2703919321571998, null, 0.5994042541355176, 0.6384699872970434, null, 0.5994042541355176, 0.5409204841757557, null, 0.5409204841757557, 0.3429262440073307, null, 0.2774828206393497, 0.5277007882701654, null, 0.2774828206393497, 0.11086499028139349, null, 0.09051490327467578, 0.3429262440073307, null, 0.09051490327467578, 0.0, null, 0.8273738959121624, 0.7554591954131352, null, 0.11086499028139349, 0.2703919321571998, null, 0.11086499028139349, 0.22409029135112832, null, 0.06028863319919337, 0.2012222109472201, null, 0.06028863319919337, 0.2703919321571998, null, 0.13810388939309365, 0.04107113083764774, null, 0.22409029135112832, 0.4292870107275684, null, 0.2012222109472201, 0.4226720477404934, null, 0.9981212999798944, 0.9686514988275019, null, 0.1381559270011766, 0.3396520132578365, null], \"line\": {\"color\": \"rgb(25,25,25)\", \"width\": 1}, \"type\": \"scatter\"}, {\"text\": [\"00\", \"1c400\", \"1d300\", \"1d400\", \"1e400\", \"1g400\", \"2c61d400\", \"2c61e400\", \"2d51e400\", \"2e51c400\", \"2e51d300\", \"2e51e400\", \"2e51g400\", \"2e61e400\", \"2f61d400\", \"3c32e51c400\", \"3c32e51e400\", \"3c42c61d400\", \"3c42f61d400\", \"3d42c61e400\", \"3d52d51e400\", \"3f32e51d300\", \"3f32e51e400\", \"3f32e61e400\", \"3g22e51g400\", \"4c63c32e51e400\", \"4c63f32e51d300\", \"4c63f32e51e400\", \"4c63g22e51g400\", \"4d53c42c61d400\", \"4d53d42c61e400\", \"4d53d52d51e400\", \"4d53f32e61e400\", \"4e63c42f61d400\", \"4f63c32e51c400\"], \"y\": [0.2858047920171671, 0.6295289637470066, 0.004587421259183666, 0.06335502440827803, 0.4969054154434664, 0.21167857464385814, 0.040649177187741935, 0.667650784942422, 0.3629592548199623, 0.9125442185689352, 0.021750491520482803, 0.7671331723261136, 0.3911130541174084, 0.3584850332239689, 0.2734683437741962, 0.9007515955554029, 0.9505858874901352, 0.14888521331136428, 0.4619155720329384, 0.8491016112725661, 0.10303938580054244, 0.21156856854394693, 0.893836276054789, 0.12015853417077704, 0.657145932049937, 1.0, 0.4520692262394851, 0.9939406792559974, 0.8377803315510604, 0.2919837813761709, 0.9764883745757467, 0.0, 0.06840964195719801, 0.5601308984460589, 0.7783131399254218], \"mode\": \"markers\", \"hoverinfo\": \"text\", \"marker\": {\"color\": \"rgb(0,240,0)\", \"symbol\": \"dot\", \"size\": 28}, \"x\": [0.5994042541355176, 0.6651970267924426, 0.5409204841757557, 0.6384699872970434, 0.2703919321571998, 0.8776403217814921, 0.29506628078608077, 0.026603671834521676, 0.06028863319919337, 0.6808250247142157, 0.3429262440073307, 0.11086499028139349, 0.9916302074450766, 0.5502186749055649, 0.9042143546698534, 0.7819201615368473, 0.2774828206393497, 0.13810388939309365, 0.9686514988275019, 0.1381559270011766, 0.2012222109472201, 0.09051490327467578, 0.22409029135112832, 0.8273738959121624, 0.9744175419982752, 0.5277007882701654, 0.0, 0.4292870107275684, 0.874684291309689, 0.04107113083764774, 0.3396520132578365, 0.4226720477404934, 0.7554591954131352, 0.9981212999798944, 0.9171841990654594], \"type\": \"scatter\"}], {\"autosize\": false, \"title\": \"Graph\", \"plot_bgcolor\": \"#efecea\", \"yaxis\": {\"zeroline\": false, \"showline\": false, \"showticklabels\": false, \"showgrid\": false, \"title\": \"\"}, \"showlegend\": false, \"height\": 600, \"width\": 600, \"xaxis\": {\"zeroline\": false, \"showline\": false, \"showticklabels\": false, \"showgrid\": false, \"title\": \"\"}, \"hovermode\": \"closest\", \"font\": {\"family\": \"Balto\"}, \"margin\": {\"b\": 85, \"r\": 40, \"pad\": 0, \"t\": 100, \"l\": 40}, \"annotations\": [{\"xref\": \"x1\", \"yref\": \"y1\", \"text\": \"00\", \"y\": 0.3608047920171671, \"x\": 0.5994042541355176, \"font\": {\"color\": \"rgb(10,10,10)\", \"size\": 14}, \"showarrow\": false}, {\"xref\": \"x1\", \"yref\": \"y1\", \"text\": \"1c400\", \"y\": 0.7045289637470066, \"x\": 0.6651970267924426, \"font\": {\"color\": \"rgb(10,10,10)\", \"size\": 14}, \"showarrow\": false}, {\"xref\": \"x1\", \"yref\": \"y1\", \"text\": \"1d300\", \"y\": 0.07958742125918367, \"x\": 0.5409204841757557, \"font\": {\"color\": \"rgb(10,10,10)\", \"size\": 14}, \"showarrow\": false}, {\"xref\": \"x1\", \"yref\": \"y1\", \"text\": \"1d400\", \"y\": 0.13835502440827802, \"x\": 0.6384699872970434, \"font\": {\"color\": \"rgb(10,10,10)\", \"size\": 14}, \"showarrow\": false}, {\"xref\": \"x1\", \"yref\": \"y1\", \"text\": \"1e400\", \"y\": 0.5719054154434664, \"x\": 0.2703919321571998, \"font\": {\"color\": \"rgb(10,10,10)\", \"size\": 14}, \"showarrow\": false}, {\"xref\": \"x1\", \"yref\": \"y1\", \"text\": \"1g400\", \"y\": 0.28667857464385815, \"x\": 0.8776403217814921, \"font\": {\"color\": \"rgb(10,10,10)\", \"size\": 14}, \"showarrow\": false}, {\"xref\": \"x1\", \"yref\": \"y1\", \"text\": \"2c61d400\", \"y\": 0.11564917718774193, \"x\": 0.29506628078608077, \"font\": {\"color\": \"rgb(10,10,10)\", \"size\": 14}, \"showarrow\": false}, {\"xref\": \"x1\", \"yref\": \"y1\", \"text\": \"2c61e400\", \"y\": 0.742650784942422, \"x\": 0.026603671834521676, \"font\": {\"color\": \"rgb(10,10,10)\", \"size\": 14}, \"showarrow\": false}, {\"xref\": \"x1\", \"yref\": \"y1\", \"text\": \"2d51e400\", \"y\": 0.4379592548199623, \"x\": 0.06028863319919337, \"font\": {\"color\": \"rgb(10,10,10)\", \"size\": 14}, \"showarrow\": false}, {\"xref\": \"x1\", \"yref\": \"y1\", \"text\": \"2e51c400\", \"y\": 0.9875442185689352, \"x\": 0.6808250247142157, \"font\": {\"color\": \"rgb(10,10,10)\", \"size\": 14}, \"showarrow\": false}, {\"xref\": \"x1\", \"yref\": \"y1\", \"text\": \"2e51d300\", \"y\": 0.0967504915204828, \"x\": 0.3429262440073307, \"font\": {\"color\": \"rgb(10,10,10)\", \"size\": 14}, \"showarrow\": false}, {\"xref\": \"x1\", \"yref\": \"y1\", \"text\": \"2e51e400\", \"y\": 0.8421331723261135, \"x\": 0.11086499028139349, \"font\": {\"color\": \"rgb(10,10,10)\", \"size\": 14}, \"showarrow\": false}, {\"xref\": \"x1\", \"yref\": \"y1\", \"text\": \"2e51g400\", \"y\": 0.4661130541174084, \"x\": 0.9916302074450766, \"font\": {\"color\": \"rgb(10,10,10)\", \"size\": 14}, \"showarrow\": false}, {\"xref\": \"x1\", \"yref\": \"y1\", \"text\": \"2e61e400\", \"y\": 0.4334850332239689, \"x\": 0.5502186749055649, \"font\": {\"color\": \"rgb(10,10,10)\", \"size\": 14}, \"showarrow\": false}, {\"xref\": \"x1\", \"yref\": \"y1\", \"text\": \"2f61d400\", \"y\": 0.3484683437741962, \"x\": 0.9042143546698534, \"font\": {\"color\": \"rgb(10,10,10)\", \"size\": 14}, \"showarrow\": false}, {\"xref\": \"x1\", \"yref\": \"y1\", \"text\": \"3c32e51c400\", \"y\": 0.9757515955554028, \"x\": 0.7819201615368473, \"font\": {\"color\": \"rgb(10,10,10)\", \"size\": 14}, \"showarrow\": false}, {\"xref\": \"x1\", \"yref\": \"y1\", \"text\": \"3c32e51e400\", \"y\": 1.0255858874901351, \"x\": 0.2774828206393497, \"font\": {\"color\": \"rgb(10,10,10)\", \"size\": 14}, \"showarrow\": false}, {\"xref\": \"x1\", \"yref\": \"y1\", \"text\": \"3c42c61d400\", \"y\": 0.2238852133113643, \"x\": 0.13810388939309365, \"font\": {\"color\": \"rgb(10,10,10)\", \"size\": 14}, \"showarrow\": false}, {\"xref\": \"x1\", \"yref\": \"y1\", \"text\": \"3c42f61d400\", \"y\": 0.5369155720329384, \"x\": 0.9686514988275019, \"font\": {\"color\": \"rgb(10,10,10)\", \"size\": 14}, \"showarrow\": false}, {\"xref\": \"x1\", \"yref\": \"y1\", \"text\": \"3d42c61e400\", \"y\": 0.9241016112725661, \"x\": 0.1381559270011766, \"font\": {\"color\": \"rgb(10,10,10)\", \"size\": 14}, \"showarrow\": false}, {\"xref\": \"x1\", \"yref\": \"y1\", \"text\": \"3d52d51e400\", \"y\": 0.17803938580054243, \"x\": 0.2012222109472201, \"font\": {\"color\": \"rgb(10,10,10)\", \"size\": 14}, \"showarrow\": false}, {\"xref\": \"x1\", \"yref\": \"y1\", \"text\": \"3f32e51d300\", \"y\": 0.2865685685439469, \"x\": 0.09051490327467578, \"font\": {\"color\": \"rgb(10,10,10)\", \"size\": 14}, \"showarrow\": false}, {\"xref\": \"x1\", \"yref\": \"y1\", \"text\": \"3f32e51e400\", \"y\": 0.968836276054789, \"x\": 0.22409029135112832, \"font\": {\"color\": \"rgb(10,10,10)\", \"size\": 14}, \"showarrow\": false}, {\"xref\": \"x1\", \"yref\": \"y1\", \"text\": \"3f32e61e400\", \"y\": 0.19515853417077705, \"x\": 0.8273738959121624, \"font\": {\"color\": \"rgb(10,10,10)\", \"size\": 14}, \"showarrow\": false}, {\"xref\": \"x1\", \"yref\": \"y1\", \"text\": \"3g22e51g400\", \"y\": 0.7321459320499369, \"x\": 0.9744175419982752, \"font\": {\"color\": \"rgb(10,10,10)\", \"size\": 14}, \"showarrow\": false}, {\"xref\": \"x1\", \"yref\": \"y1\", \"text\": \"4c63c32e51e400\", \"y\": 1.075, \"x\": 0.5277007882701654, \"font\": {\"color\": \"rgb(10,10,10)\", \"size\": 14}, \"showarrow\": false}, {\"xref\": \"x1\", \"yref\": \"y1\", \"text\": \"4c63f32e51d300\", \"y\": 0.527069226239485, \"x\": 0.0, \"font\": {\"color\": \"rgb(10,10,10)\", \"size\": 14}, \"showarrow\": false}, {\"xref\": \"x1\", \"yref\": \"y1\", \"text\": \"4c63f32e51e400\", \"y\": 1.0689406792559975, \"x\": 0.4292870107275684, \"font\": {\"color\": \"rgb(10,10,10)\", \"size\": 14}, \"showarrow\": false}, {\"xref\": \"x1\", \"yref\": \"y1\", \"text\": \"4c63g22e51g400\", \"y\": 0.9127803315510603, \"x\": 0.874684291309689, \"font\": {\"color\": \"rgb(10,10,10)\", \"size\": 14}, \"showarrow\": false}, {\"xref\": \"x1\", \"yref\": \"y1\", \"text\": \"4d53c42c61d400\", \"y\": 0.36698378137617094, \"x\": 0.04107113083764774, \"font\": {\"color\": \"rgb(10,10,10)\", \"size\": 14}, \"showarrow\": false}, {\"xref\": \"x1\", \"yref\": \"y1\", \"text\": \"4d53d42c61e400\", \"y\": 1.0514883745757466, \"x\": 0.3396520132578365, \"font\": {\"color\": \"rgb(10,10,10)\", \"size\": 14}, \"showarrow\": false}, {\"xref\": \"x1\", \"yref\": \"y1\", \"text\": \"4d53d52d51e400\", \"y\": 0.075, \"x\": 0.4226720477404934, \"font\": {\"color\": \"rgb(10,10,10)\", \"size\": 14}, \"showarrow\": false}, {\"xref\": \"x1\", \"yref\": \"y1\", \"text\": \"4d53f32e61e400\", \"y\": 0.14340964195719802, \"x\": 0.7554591954131352, \"font\": {\"color\": \"rgb(10,10,10)\", \"size\": 14}, \"showarrow\": false}, {\"xref\": \"x1\", \"yref\": \"y1\", \"text\": \"4e63c42f61d400\", \"y\": 0.6351308984460589, \"x\": 0.9981212999798944, \"font\": {\"color\": \"rgb(10,10,10)\", \"size\": 14}, \"showarrow\": false}, {\"xref\": \"x1\", \"yref\": \"y1\", \"text\": \"4f63c32e51c400\", \"y\": 0.8533131399254218, \"x\": 0.9171841990654594, \"font\": {\"color\": \"rgb(10,10,10)\", \"size\": 14}, \"showarrow\": false}]}, {\"linkText\": \"Export to plot.ly\", \"showLink\": true})});</script>"
      ]
     },
     "metadata": {},
     "output_type": "display_data"
    }
   ],
   "source": [
    "plotly.offline.iplot(fig, filename='Tree-Reingold-Tilf')"
   ]
  },
  {
   "cell_type": "code",
   "execution_count": 88,
   "metadata": {},
   "outputs": [],
   "source": [
    "import networkx as nx\n",
    "\n",
    "def hierarchy_pos(G, root, width=1., vert_gap = 0.2, vert_loc = 0, xcenter = 0.5 ):\n",
    "    '''If there is a cycle that is reachable from root, then result will not be a hierarchy.\n",
    "\n",
    "       G: the graph\n",
    "       root: the root node of current branch\n",
    "       width: horizontal space allocated for this branch - avoids overlap with other branches\n",
    "       vert_gap: gap between levels of hierarchy\n",
    "       vert_loc: vertical location of root\n",
    "       xcenter: horizontal location of root\n",
    "    '''\n",
    "\n",
    "    def h_recur(G, root, width=1., vert_gap = 0.2, vert_loc = 0, xcenter = 0.5, \n",
    "                  pos = None, parent = None, parsed = [] ):\n",
    "        if(root not in parsed):\n",
    "            parsed.append(root)\n",
    "            if pos == None:\n",
    "                pos = {root:(xcenter,vert_loc)}\n",
    "            else:\n",
    "                pos[root] = (xcenter, vert_loc)\n",
    "            neighbors = G.neighbors(root)\n",
    "            if parent != None:\n",
    "                neighbors.remove(parent)\n",
    "            if len(neighbors)!=0:\n",
    "                dx = width/len(neighbors) \n",
    "                nextx = xcenter - width/2 - dx/2\n",
    "                for neighbor in neighbors:\n",
    "                    nextx += dx\n",
    "                    pos = h_recur(G,neighbor, width = dx, vert_gap = vert_gap, \n",
    "                                        vert_loc = vert_loc-vert_gap, xcenter=nextx, pos=pos, \n",
    "                                        parent = root, parsed = parsed)\n",
    "        return pos\n",
    "\n",
    "    return h_recur(G, root, width=1., vert_gap = 0.2, vert_loc = 0, xcenter = 0.5)"
   ]
  },
  {
   "cell_type": "code",
   "execution_count": 89,
   "metadata": {
    "scrolled": false
   },
   "outputs": [
    {
     "data": {
      "image/png": "[encoded data removed]",
      "text/plain": [
       "<matplotlib.figure.Figure at 0x11cedc510>"
      ]
     },
     "metadata": {},
     "output_type": "display_data"
    }
   ],
   "source": [
    "G=nx.Graph()\n",
    "G.add_edges_from(initial_list)\n",
    "pos = hierarchy_pos(G,'00')    \n",
    "nx.draw(G, pos=pos, with_labels=True)"
   ]
  },
  {
   "cell_type": "code",
   "execution_count": 90,
   "metadata": {},
   "outputs": [],
   "source": [
    "pos = collections.OrderedDict(sorted(pos.items()))"
   ]
  },
  {
   "cell_type": "code",
   "execution_count": 91,
   "metadata": {},
   "outputs": [],
   "source": [
    "labeldict = {}\n",
    "for i in pos.keys():\n",
    "    if i == '00':\n",
    "        labeldict[i] = i\n",
    "    else:\n",
    "        labeldict[i] = i[1:3]"
   ]
  },
  {
   "cell_type": "code",
   "execution_count": 92,
   "metadata": {
    "scrolled": false
   },
   "outputs": [
    {
     "data": {
      "image/png": "[encoded data removed]",
      "text/plain": [
       "<matplotlib.figure.Figure at 0x11c854110>"
      ]
     },
     "metadata": {},
     "output_type": "display_data"
    }
   ],
   "source": [
    "nx.draw(G,pos = pos, labels=labeldict, with_labels = True)"
   ]
  },
  {
   "cell_type": "markdown",
   "metadata": {},
   "source": [
    "## Implementing that in plotly with more nodes"
   ]
  },
  {
   "cell_type": "code",
   "execution_count": 99,
   "metadata": {},
   "outputs": [],
   "source": [
    "initial_list = []\n",
    "for i in range(20): \n",
    "    first_game = chess.pgn.read_game(pgn)\n",
    "    board = chess.Board()\n",
    "    moves = first_game.main_line()\n",
    "    node = first_game\n",
    "    a = 0\n",
    "    list1 = []\n",
    "    i = 1\n",
    "    while node.variations:\n",
    "        next_node = node.variation(0)\n",
    "        b = str(next_node.move)[-2:]  #take the following position\n",
    "        list1.append((str(i-1)+str(a),str(i)+str(b)+str(i-1)+str(a)))\n",
    "        a = str(b)+str(i-1)+str(a)\n",
    "        board.push_san(node.board().san(next_node.move))\n",
    "        node = next_node\n",
    "        if len(list1) > 15:  #take a subset for depth \n",
    "            break\n",
    "        i += 1\n",
    "#     initial_list = initial_list + [i for i in list1 if i not in initial_list]  #there is a concern with that\n",
    "    initial_list = initial_list + list1"
   ]
  },
  {
   "cell_type": "code",
   "execution_count": 100,
   "metadata": {},
   "outputs": [],
   "source": [
    "G=nx.Graph()\n",
    "G.add_edges_from(initial_list)\n",
    "pos = hierarchy_pos(G,'00')  "
   ]
  },
  {
   "cell_type": "code",
   "execution_count": 101,
   "metadata": {},
   "outputs": [],
   "source": [
    "pos = collections.OrderedDict(sorted(pos.items()))"
   ]
  },
  {
   "cell_type": "code",
   "execution_count": 102,
   "metadata": {},
   "outputs": [],
   "source": [
    "labeldict = {}\n",
    "for i in pos.keys():\n",
    "    if i == '00':\n",
    "        labeldict[i] = i\n",
    "    else:\n",
    "        labeldict[i] = i[1:3]"
   ]
  },
  {
   "cell_type": "code",
   "execution_count": 103,
   "metadata": {},
   "outputs": [],
   "source": [
    "Xn=[pos[k][0] for k in pos.keys()]\n",
    "Yn=[pos[k][1] for k in pos.keys()]"
   ]
  },
  {
   "cell_type": "code",
   "execution_count": 104,
   "metadata": {},
   "outputs": [],
   "source": [
    "labeldict1 = collections.OrderedDict(sorted(labeldict.items()))"
   ]
  },
  {
   "cell_type": "code",
   "execution_count": 105,
   "metadata": {},
   "outputs": [],
   "source": [
    "labels=labeldict1.values()"
   ]
  },
  {
   "cell_type": "code",
   "execution_count": 106,
   "metadata": {},
   "outputs": [],
   "source": [
    "trace_nodes=dict(type='scatter',\n",
    "                 x=Xn, \n",
    "                 y=Yn,\n",
    "                 mode='markers',\n",
    "                 marker=dict(symbol='dot', size=28, color='rgb(0,240,0)'),\n",
    "                 text=labels,\n",
    "                 hoverinfo='text')"
   ]
  },
  {
   "cell_type": "code",
   "execution_count": 107,
   "metadata": {},
   "outputs": [],
   "source": [
    "Xe=[]\n",
    "Ye=[]\n",
    "for e in G.edges():\n",
    "    Xe.extend([pos[e[0]][0], pos[e[1]][0], None])\n",
    "    Ye.extend([pos[e[0]][1], pos[e[1]][1], None])"
   ]
  },
  {
   "cell_type": "code",
   "execution_count": 108,
   "metadata": {},
   "outputs": [],
   "source": [
    "trace_edges=dict(type='scatter',\n",
    "                 mode='lines',\n",
    "                 x=Xe,\n",
    "                 y=Ye,\n",
    "                 line=dict(width=1, color='rgb(25,25,25)'),\n",
    "                 hoverinfo='none' \n",
    "                )"
   ]
  },
  {
   "cell_type": "code",
   "execution_count": 109,
   "metadata": {},
   "outputs": [],
   "source": [
    "axis=dict(showline=False, # hide axis line, grid, ticklabels and  title\n",
    "          zeroline=False,\n",
    "          showgrid=False,\n",
    "          showticklabels=False,\n",
    "          title='' \n",
    "          )\n",
    "layout=dict(title= 'Graph',  \n",
    "            font= dict(family='Balto'),\n",
    "            width=600,\n",
    "            height=600,\n",
    "            autosize=False,\n",
    "            showlegend=False,\n",
    "            xaxis=axis,\n",
    "            yaxis=axis,\n",
    "            margin=dict(\n",
    "            l=40,\n",
    "            r=40,\n",
    "            b=85,\n",
    "            t=100,\n",
    "            pad=0,\n",
    "       \n",
    "    ),\n",
    "    hovermode='closest',\n",
    "    plot_bgcolor='#efecea', #set background color            \n",
    "    )\n",
    "\n",
    "\n",
    "fig = dict(data=[trace_edges, trace_nodes], layout=layout)"
   ]
  },
  {
   "cell_type": "code",
   "execution_count": 110,
   "metadata": {},
   "outputs": [],
   "source": [
    "def make_annotations(pos, anno_text, font_size=14, font_color='rgb(10,10,10)'):\n",
    "    L=len(pos)\n",
    "    if len(anno_text)!=L:\n",
    "        raise ValueError('The lists pos and text must have the same len')\n",
    "    annotations = []\n",
    "    i = 0\n",
    "    for k in pos.keys():\n",
    "        annotations.append(dict(text=anno_text[i], \n",
    "                                x=pos[k][0], \n",
    "                                y=pos[k][1]+0.075,#this additional value is chosen by trial and error\n",
    "                                xref='x1', yref='y1',\n",
    "                                font=dict(color= font_color, size=font_size),\n",
    "                                showarrow=False)\n",
    "                          )\n",
    "        i += 1\n",
    "    return annotations  "
   ]
  },
  {
   "cell_type": "code",
   "execution_count": 111,
   "metadata": {},
   "outputs": [],
   "source": [
    "fig['layout'].update(annotations=make_annotations(pos, labels))"
   ]
  },
  {
   "cell_type": "code",
   "execution_count": 112,
   "metadata": {},
   "outputs": [
    {
     "data": {
      "application/vnd.plotly.v1+json": {
       "data": [
        {
         "hoverinfo": "none",
         "line": {
          "color": "rgb(25,25,25)",
          "width": 1
         },
         "mode": "lines",
         "type": "scatter",
         "x": [
          0.32187500000000013,
          0.32187500000000013,
          null,
          0.32187500000000013,
          0.32187500000000013,
          null,
          0.5625000000000013,
          0.5625000000000014,
          null,
          0.5625000000000013,
          0.5625000000000012,
          null,
          0.4375,
          0.4375,
          null,
          0.4375,
          0.4375,
          null,
          0.1875,
          0.1875,
          null,
          0.1875,
          0.1875,
          null,
          0.58125,
          0.58125,
          null,
          0.58125,
          0.58125,
          null,
          0.2687500000000005,
          0.26875000000000043,
          null,
          0.2687500000000005,
          0.26875000000000054,
          null,
          0.6125000000000014,
          0.6125000000000013,
          null,
          0.6125000000000014,
          0.6125000000000015,
          null,
          0.3625000000000001,
          0.3625000000000001,
          null,
          0.3625000000000001,
          0.3625000000000001,
          null,
          0.59375,
          0.59375,
          null,
          0.59375,
          0.59375,
          null,
          0.6125000000000004,
          0.6125000000000005,
          null,
          0.6125000000000004,
          0.6125000000000003,
          null,
          0.3375000000000001,
          0.3375000000000001,
          null,
          0.3625000000000001,
          0.3625000000000001,
          null,
          0.3625000000000001,
          0.3625000000000001,
          null,
          0.5375000000000009,
          0.537500000000001,
          null,
          0.5375000000000009,
          0.5375000000000008,
          null,
          0.9375,
          0.9375,
          null,
          0.9375,
          0.9375,
          null,
          0.31562500000000016,
          0.31562500000000016,
          null,
          0.31562500000000016,
          0.31562500000000016,
          null,
          0.25625,
          0.25625,
          null,
          0.25625,
          0.25625,
          null,
          0.6125000000000008,
          0.6125000000000009,
          null,
          0.6125000000000008,
          0.6125000000000007,
          null,
          0.31875000000000014,
          0.31562500000000016,
          null,
          0.31875000000000014,
          0.32187500000000013,
          null,
          0.31875000000000014,
          0.3187500000000001,
          null,
          0.26875000000000043,
          0.2687500000000004,
          null,
          0.5125,
          0.5125,
          null,
          0.5125,
          0.5125,
          null,
          0.28750000000000003,
          0.28750000000000003,
          null,
          0.28750000000000003,
          0.28750000000000003,
          null,
          0.0625,
          0.0625,
          null,
          0.0625,
          0.0625,
          null,
          0.5625000000000006,
          0.5625000000000007,
          null,
          0.5625000000000006,
          0.5625000000000004,
          null,
          0.2687500000000004,
          0.2687500000000003,
          null,
          0.4375,
          0.4375,
          null,
          0.4375,
          0.4375,
          null,
          0.5625000000000001,
          0.5625000000000002,
          null,
          0.5625000000000001,
          0.5625,
          null,
          0.31562500000000016,
          0.31562500000000016,
          null,
          0.28750000000000003,
          0.28750000000000003,
          null,
          0.28750000000000003,
          0.28750000000000003,
          null,
          0.1875,
          0.1875,
          null,
          0.1875,
          0.1875,
          null,
          0.3375000000000001,
          0.3375000000000001,
          null,
          0.3375000000000001,
          0.3375000000000001,
          null,
          0.3625000000000001,
          0.3625000000000001,
          null,
          0.3625000000000001,
          0.3625000000000001,
          null,
          0.9375,
          0.9375,
          null,
          0.9375,
          0.9375,
          null,
          0.4375,
          0.4375,
          null,
          0.4375,
          0.4375,
          null,
          0.4375,
          0.4375,
          null,
          0.4375,
          0.4375,
          null,
          0.3375000000000001,
          0.3375000000000001,
          null,
          0.3375000000000001,
          0.3375000000000001,
          null,
          0.1875,
          0.1875,
          null,
          0.537500000000001,
          0.5375000000000011,
          null,
          0.6125000000000013,
          0.6125000000000012,
          null,
          0.5125,
          0.5125,
          null,
          0.0625,
          0.0625,
          null,
          0.0625,
          0.0625,
          null,
          0.3625000000000001,
          0.3625000000000001,
          null,
          0.3625000000000001,
          0.3625000000000001,
          null,
          0.59375,
          0.59375,
          null,
          0.59375,
          0.59375,
          null,
          0.58125,
          0.58125,
          null,
          0.3187500000000001,
          0.31250000000000006,
          null,
          0.3625000000000001,
          0.3625000000000001,
          null,
          0.4375,
          0.4375,
          null,
          0.4375,
          0.4375,
          null,
          0.26875000000000016,
          0.2687500000000001,
          null,
          0.26875000000000016,
          0.2687500000000002,
          null,
          0.8125,
          0.8125,
          null,
          0.8125,
          0.8125,
          null,
          0.28750000000000003,
          0.28750000000000003,
          null,
          0.28750000000000003,
          0.28750000000000003,
          null,
          0.25625,
          0.25625,
          null,
          0.25625,
          0.25625,
          null,
          0.32187500000000013,
          0.32187500000000013,
          null,
          0.26875000000000054,
          0.2687500000000006,
          null,
          0.2625,
          0.25625,
          null,
          0.2625,
          0.3125,
          null,
          0.2625,
          0.26875,
          null,
          0.4375,
          0.5,
          null,
          0.5375000000000005,
          0.5375000000000006,
          null,
          0.5375000000000005,
          0.5375000000000004,
          null,
          0.59375,
          0.59375,
          null,
          0.59375,
          0.59375,
          null,
          0.0625,
          0.0625,
          null,
          0.0625,
          0.0625,
          null,
          0.5625000000000003,
          0.5625000000000002,
          null,
          0.5625000000000003,
          0.5625000000000004,
          null,
          0.25625,
          0.25625,
          null,
          0.1875,
          0.1875,
          null,
          0.1875,
          0.1875,
          null,
          0.3062500000000004,
          0.30625000000000036,
          null,
          0.3062500000000004,
          0.30625000000000047,
          null,
          0.5375000000000001,
          0.5375,
          null,
          0.5375000000000001,
          0.5375000000000002,
          null,
          0.25625,
          0.25625,
          null,
          0.25625,
          0.25625,
          null,
          0.0625,
          0.0625,
          null,
          0.5625000000000016,
          0.5625000000000014,
          null,
          0.8125,
          0.8125,
          null,
          0.3625000000000001,
          0.3625000000000001,
          null,
          0.3625000000000001,
          0.3625000000000001,
          null,
          0.5375000000000004,
          0.5375000000000003,
          null,
          0.5625000000000009,
          0.562500000000001,
          null,
          0.5625000000000009,
          0.5625000000000008,
          null,
          0.31562500000000016,
          0.31562500000000016,
          null,
          0.25625,
          0.25625,
          null,
          0.25625,
          0.25625,
          null,
          0.59375,
          0.59375,
          null,
          0.59375,
          0.59375,
          null,
          0.4375,
          0.4375,
          null,
          0.5125,
          0.5125,
          null,
          0.5125,
          0.5125,
          null,
          0.9375,
          0.9375,
          null,
          0.9375,
          0.9375,
          null,
          0.8125,
          0.8125,
          null,
          0.8125,
          0.8125,
          null,
          0.5125,
          0.5625,
          null,
          0.5125,
          0.5125,
          null,
          0.6875,
          0.6875,
          null,
          0.6875,
          0.6875,
          null,
          0.5625000000000007,
          0.5625000000000008,
          null,
          0.2687500000000003,
          0.26875000000000027,
          null,
          0.3375000000000001,
          0.3375000000000001,
          null,
          0.6125000000000005,
          0.6125000000000006,
          null,
          0.0625,
          0.0625,
          null,
          0.4375,
          0.4375,
          null,
          0.0625,
          0.5,
          null,
          0.5,
          0.1875,
          null,
          0.5,
          0.3125,
          null,
          0.5,
          0.5625,
          null,
          0.5,
          0.6875,
          null,
          0.5,
          0.8125,
          null,
          0.5,
          0.9375,
          null,
          0.3375000000000001,
          0.3375000000000001,
          null,
          0.6125000000000016,
          0.6125000000000015,
          null,
          0.5125,
          0.5125,
          null,
          0.30625000000000024,
          0.3062500000000003,
          null,
          0.30625000000000024,
          0.3062500000000002,
          null,
          0.1875,
          0.1875,
          null,
          0.1875,
          0.1875,
          null,
          0.1875,
          0.1875,
          null,
          0.1875,
          0.1875,
          null,
          0.4375,
          0.4375,
          null,
          0.4375,
          0.4375,
          null,
          0.28750000000000003,
          0.28750000000000003,
          null,
          0.28750000000000003,
          0.28750000000000003,
          null,
          0.31562500000000016,
          0.31562500000000016,
          null,
          0.31562500000000016,
          0.31562500000000016,
          null,
          0.3062500000000006,
          0.3062500000000005,
          null,
          0.3062500000000006,
          0.30625000000000063,
          null,
          0.30625000000000063,
          0.3062500000000007,
          null,
          0.5875,
          0.5625,
          null,
          0.5875,
          0.58125,
          null,
          0.5875,
          0.59375,
          null,
          0.9375,
          0.9375,
          null,
          0.9375,
          0.9375,
          null,
          0.3062500000000003,
          0.30625000000000036,
          null,
          0.8125,
          0.8125,
          null,
          0.6875,
          0.6875,
          null,
          0.6875,
          0.6875,
          null,
          0.6875,
          0.6875,
          null,
          0.28750000000000003,
          0.28750000000000003,
          null,
          0.58125,
          0.58125,
          null,
          0.58125,
          0.58125,
          null,
          0.8125,
          0.8125,
          null,
          0.8125,
          0.8125,
          null,
          0.5375000000000003,
          0.5375000000000002,
          null,
          0.58125,
          0.58125,
          null,
          0.58125,
          0.58125,
          null,
          0.58125,
          0.58125,
          null,
          0.1875,
          0.1875,
          null,
          0.5375000000000011,
          0.5375000000000012,
          null,
          0.6875,
          0.6875,
          null,
          0.6875,
          0.6875,
          null,
          0.3062500000000002,
          0.30625000000000013,
          null,
          0.5625,
          0.5625,
          null,
          0.0625,
          0.0625,
          null,
          0.0625,
          0.0625,
          null,
          0.9375,
          0.9375,
          null,
          0.9375,
          0.9375,
          null,
          0.3375000000000001,
          0.3125,
          null,
          0.3375000000000001,
          0.3375000000000001,
          null,
          0.6875,
          0.6875,
          null,
          0.6875,
          0.6875,
          null,
          0.32187500000000013,
          0.32187500000000013,
          null,
          0.32187500000000013,
          0.32187500000000013,
          null,
          0.26875,
          0.26875000000000004,
          null,
          0.0625,
          0.0625,
          null,
          0.32187500000000013,
          0.32187500000000013,
          null,
          0.1875,
          0.1875,
          null,
          0.28750000000000003,
          0.28750000000000003,
          null,
          0.3625000000000001,
          0.3625000000000001,
          null,
          0.31562500000000016,
          0.31562500000000016,
          null,
          0.0625,
          0.0625,
          null,
          0.25625,
          0.25625,
          null,
          0.32187500000000013,
          0.32187500000000013,
          null,
          0.2687500000000006,
          0.26875000000000066,
          null,
          0.5375000000000014,
          0.5375000000000015,
          null,
          0.5375000000000014,
          0.5375000000000013,
          null,
          0.59375,
          0.59375,
          null,
          0.3375000000000001,
          0.3375000000000001,
          null,
          0.31562500000000016,
          0.31562500000000016,
          null,
          0.31562500000000016,
          0.31562500000000016,
          null,
          0.3625000000000001,
          0.3625000000000001,
          null,
          0.5625,
          0.5375,
          null,
          0.5625,
          0.6125,
          null,
          0.6875,
          0.6875,
          null,
          0.59375,
          0.59375,
          null,
          0.32187500000000013,
          0.32187500000000013,
          null,
          0.25625,
          0.25625,
          null,
          0.3062500000000008,
          0.30625000000000074,
          null,
          0.59375,
          0.59375,
          null,
          0.5125,
          0.5125,
          null,
          0.5125,
          0.5125,
          null,
          0.6125000000000009,
          0.612500000000001,
          null,
          0.5125,
          0.5125,
          null,
          0.5125,
          0.5125,
          null,
          0.32187500000000013,
          0.32187500000000013,
          null,
          0.58125,
          0.58125,
          null,
          0.5125,
          0.5125,
          null,
          0.3625000000000001,
          0.3125,
          null,
          0.3625000000000001,
          0.3625000000000001,
          null,
          0.6125,
          0.6125000000000002,
          null,
          0.3375000000000001,
          0.3375000000000001,
          null,
          0.5125,
          0.5125,
          null,
          0.8125,
          0.8125,
          null,
          0.3062500000000005,
          0.30625000000000047,
          null,
          0.3375000000000001,
          0.3375000000000001,
          null,
          0.5375000000000008,
          0.5375000000000006,
          null,
          0.1875,
          0.1875,
          null,
          0.5375000000000013,
          0.5375000000000012,
          null,
          0.25625,
          0.25625,
          null,
          0.562500000000001,
          0.5625000000000011,
          null,
          0.6875,
          0.6875,
          null,
          0.6875,
          0.6875,
          null,
          0.3062500000000007,
          0.30625000000000074,
          null,
          0.3375000000000001,
          0.3375000000000001,
          null,
          0.3375000000000001,
          0.3375000000000001,
          null,
          0.0625,
          0.0625,
          null,
          0.6875,
          0.6875,
          null,
          0.6125000000000006,
          0.6125000000000007,
          null,
          0.28750000000000003,
          0.28750000000000003,
          null,
          0.28750000000000003,
          0.28750000000000003,
          null,
          0.9375,
          0.9375,
          null,
          0.31250000000000006,
          0.3125,
          null,
          0.31250000000000006,
          0.3062500000000001,
          null,
          0.8125,
          0.8125,
          null,
          0.8125,
          0.8125,
          null,
          0.32187500000000013,
          0.32187500000000013,
          null,
          0.32187500000000013,
          0.32187500000000013,
          null,
          0.6125000000000002,
          0.6125000000000003,
          null,
          0.4375,
          0.4375,
          null,
          0.9375,
          0.9375,
          null,
          0.9375,
          0.9375,
          null,
          0.3125,
          0.28750000000000003,
          null,
          0.8125,
          0.8125,
          null,
          0.8125,
          0.8125,
          null,
          0.9375,
          0.9375,
          null,
          0.28750000000000003,
          0.28750000000000003,
          null,
          0.0625,
          0.0625,
          null,
          0.26875000000000004,
          0.2687500000000001,
          null,
          0.58125,
          0.58125,
          null,
          0.58125,
          0.58125,
          null,
          0.31562500000000016,
          0.31562500000000016,
          null,
          0.6875,
          0.6875,
          null,
          0.31562500000000016,
          0.31562500000000016,
          null,
          0.3062500000000001,
          0.30625000000000013,
          null,
          0.9375,
          0.9375,
          null,
          0.5125,
          0.5125,
          null,
          0.5625000000000011,
          0.5625000000000012,
          null,
          0.58125,
          0.58125,
          null,
          0.26875000000000027,
          0.2687500000000002,
          null,
          0.8125,
          0.8125,
          null,
          0.59375,
          0.59375,
          null,
          0.0625,
          0.0625,
          null,
          0.6125000000000012,
          0.612500000000001,
          null,
          0.58125,
          0.58125,
          null,
          0.59375,
          0.59375,
          null,
          0.8125,
          0.8125,
          null,
          0.6875,
          0.6875,
          null,
          0.25625,
          0.25625,
          null,
          0.3375000000000001,
          0.3375000000000001,
          null,
          0.26875000000000066,
          0.2687500000000007,
          null,
          0.1875,
          0.1875,
          null,
          0.28750000000000003,
          0.28750000000000003,
          null
         ],
         "y": [
          -2.6,
          -2.8000000000000003,
          null,
          -2.6,
          -2.4,
          null,
          -2.8000000000000003,
          -3.0000000000000004,
          null,
          -2.8000000000000003,
          -2.6,
          null,
          -1.4,
          -1.2,
          null,
          -1.4,
          -1.5999999999999999,
          null,
          -2.8000000000000003,
          -3.0000000000000004,
          null,
          -2.8000000000000003,
          -2.6,
          null,
          -1.4,
          -1.5999999999999999,
          null,
          -1.4,
          -1.2,
          null,
          -2.4,
          -2.1999999999999997,
          null,
          -2.4,
          -2.6,
          null,
          -2.8000000000000003,
          -2.6,
          null,
          -2.8000000000000003,
          -3.0000000000000004,
          null,
          -0.8,
          -1,
          null,
          -0.8,
          -0.6000000000000001,
          null,
          -2.6,
          -2.4,
          null,
          -2.6,
          -2.8000000000000003,
          null,
          -1,
          -1.2,
          null,
          -1,
          -0.8,
          null,
          -3.2000000000000006,
          -3.0000000000000004,
          null,
          -3.0000000000000004,
          -2.8000000000000003,
          null,
          -3.0000000000000004,
          -3.2000000000000006,
          null,
          -1.9999999999999998,
          -2.1999999999999997,
          null,
          -1.9999999999999998,
          -1.7999999999999998,
          null,
          -1.9999999999999998,
          -2.1999999999999997,
          null,
          -1.9999999999999998,
          -1.7999999999999998,
          null,
          -1.5999999999999999,
          -1.4,
          null,
          -1.5999999999999999,
          -1.7999999999999998,
          null,
          -1.2,
          -1,
          null,
          -1.2,
          -1.4,
          null,
          -1.7999999999999998,
          -1.9999999999999998,
          null,
          -1.7999999999999998,
          -1.5999999999999999,
          null,
          -0.8,
          -1,
          null,
          -0.8,
          -1,
          null,
          -0.8,
          -0.6000000000000001,
          null,
          -2.1999999999999997,
          -1.9999999999999998,
          null,
          -2.4,
          -2.6,
          null,
          -2.4,
          -2.1999999999999997,
          null,
          -2.8000000000000003,
          -3.0000000000000004,
          null,
          -2.8000000000000003,
          -2.6,
          null,
          -0.4,
          -0.2,
          null,
          -0.4,
          -0.6000000000000001,
          null,
          -1.4,
          -1.5999999999999999,
          null,
          -1.4,
          -1.2,
          null,
          -1.9999999999999998,
          -1.7999999999999998,
          null,
          -2.8000000000000003,
          -3.0000000000000004,
          null,
          -2.8000000000000003,
          -2.6,
          null,
          -0.6000000000000001,
          -0.8,
          null,
          -0.6000000000000001,
          -0.4,
          null,
          -1.4,
          -1.2,
          null,
          -2.4,
          -2.1999999999999997,
          null,
          -2.4,
          -2.6,
          null,
          -1.9999999999999998,
          -2.1999999999999997,
          null,
          -1.9999999999999998,
          -1.7999999999999998,
          null,
          -2.1999999999999997,
          -1.9999999999999998,
          null,
          -2.1999999999999997,
          -2.4,
          null,
          -2.1999999999999997,
          -2.4,
          null,
          -2.1999999999999997,
          -1.9999999999999998,
          null,
          -3.0000000000000004,
          -2.8000000000000003,
          null,
          -3.0000000000000004,
          -3.2000000000000006,
          null,
          -1.7999999999999998,
          -1.5999999999999999,
          null,
          -1.7999999999999998,
          -1.9999999999999998,
          null,
          -0.8,
          -0.6000000000000001,
          null,
          -0.8,
          -1,
          null,
          -0.8,
          -0.6000000000000001,
          null,
          -0.8,
          -1,
          null,
          -3.2000000000000006,
          -3.0000000000000004,
          null,
          -2.1999999999999997,
          -2.4,
          null,
          -2.6,
          -2.4,
          null,
          -3.2000000000000006,
          -3.0000000000000004,
          null,
          -1,
          -0.8,
          null,
          -1,
          -1.2,
          null,
          -1.7999999999999998,
          -1.9999999999999998,
          null,
          -1.7999999999999998,
          -1.5999999999999999,
          null,
          -1.9999999999999998,
          -1.7999999999999998,
          null,
          -1.9999999999999998,
          -2.1999999999999997,
          null,
          -1.5999999999999999,
          -1.7999999999999998,
          null,
          -0.6000000000000001,
          -0.4,
          null,
          -1.5999999999999999,
          -1.4,
          null,
          -0.4,
          -0.6000000000000001,
          null,
          -0.4,
          -0.2,
          null,
          -1.2,
          -1,
          null,
          -1.2,
          -1.4,
          null,
          -1.4,
          -1.2,
          null,
          -1.4,
          -1.5999999999999999,
          null,
          -1.5999999999999999,
          -1.4,
          null,
          -1.5999999999999999,
          -1.7999999999999998,
          null,
          -2.1999999999999997,
          -1.9999999999999998,
          null,
          -2.1999999999999997,
          -2.4,
          null,
          -2.4,
          -2.1999999999999997,
          null,
          -2.6,
          -2.8000000000000003,
          null,
          -0.4,
          -0.6000000000000001,
          null,
          -0.4,
          -0.2,
          null,
          -0.4,
          -0.6000000000000001,
          null,
          -0.2,
          0,
          null,
          -1.4,
          -1.5999999999999999,
          null,
          -1.4,
          -1.2,
          null,
          -1.4,
          -1.2,
          null,
          -1.4,
          -1.5999999999999999,
          null,
          -2.1999999999999997,
          -2.4,
          null,
          -2.1999999999999997,
          -1.9999999999999998,
          null,
          -1,
          -0.8,
          null,
          -1,
          -1.2,
          null,
          -3.2000000000000006,
          -3.0000000000000004,
          null,
          -0.4,
          -0.6000000000000001,
          null,
          -0.4,
          -0.2,
          null,
          -1.7999999999999998,
          -1.5999999999999999,
          null,
          -1.7999999999999998,
          -1.9999999999999998,
          null,
          -0.6000000000000001,
          -0.4,
          null,
          -0.6000000000000001,
          -0.8,
          null,
          -2.8000000000000003,
          -2.6,
          null,
          -2.8000000000000003,
          -3.0000000000000004,
          null,
          -1.2,
          -1.4,
          null,
          -3.2000000000000006,
          -3.0000000000000004,
          null,
          -3.2000000000000006,
          -3.0000000000000004,
          null,
          -2.6,
          -2.4,
          null,
          -2.6,
          -2.8000000000000003,
          null,
          -1.2,
          -1,
          null,
          -1.9999999999999998,
          -2.1999999999999997,
          null,
          -1.9999999999999998,
          -1.7999999999999998,
          null,
          -1.7999999999999998,
          -1.9999999999999998,
          null,
          -1.5999999999999999,
          -1.7999999999999998,
          null,
          -1.5999999999999999,
          -1.4,
          null,
          -1,
          -1.2,
          null,
          -1,
          -0.8,
          null,
          -2.6,
          -2.4,
          null,
          -1,
          -0.8,
          null,
          -1,
          -1.2,
          null,
          -2.4,
          -2.6,
          null,
          -2.4,
          -2.1999999999999997,
          null,
          -2.4,
          -2.6,
          null,
          -2.4,
          -2.1999999999999997,
          null,
          -0.4,
          -0.2,
          null,
          -0.4,
          -0.6000000000000001,
          null,
          -2.8000000000000003,
          -3.0000000000000004,
          null,
          -2.8000000000000003,
          -2.6,
          null,
          -1.5999999999999999,
          -1.7999999999999998,
          null,
          -1.7999999999999998,
          -1.5999999999999999,
          null,
          -1,
          -1.2,
          null,
          -1.2,
          -1.4,
          null,
          -0.6000000000000001,
          -0.8,
          null,
          -3.2000000000000006,
          -3.0000000000000004,
          null,
          -0.2,
          0,
          null,
          0,
          -0.2,
          null,
          0,
          -0.2,
          null,
          0,
          -0.2,
          null,
          0,
          -0.2,
          null,
          0,
          -0.2,
          null,
          0,
          -0.2,
          null,
          -2.4,
          -2.6,
          null,
          -3.2000000000000006,
          -3.0000000000000004,
          null,
          -1.2,
          -1.4,
          null,
          -1.2,
          -1.4,
          null,
          -1.2,
          -1,
          null,
          -1,
          -1.2,
          null,
          -1,
          -0.8,
          null,
          -1.5999999999999999,
          -1.4,
          null,
          -1.5999999999999999,
          -1.7999999999999998,
          null,
          -2.1999999999999997,
          -2.4,
          null,
          -2.1999999999999997,
          -1.9999999999999998,
          null,
          -0.8,
          -0.6000000000000001,
          null,
          -0.8,
          -1,
          null,
          -3.0000000000000004,
          -2.8000000000000003,
          null,
          -3.0000000000000004,
          -3.2000000000000006,
          null,
          -2.4,
          -2.1999999999999997,
          null,
          -2.4,
          -2.6,
          null,
          -2.6,
          -2.8000000000000003,
          null,
          -0.4,
          -0.2,
          null,
          -0.4,
          -0.6000000000000001,
          null,
          -0.4,
          -0.6000000000000001,
          null,
          -0.6000000000000001,
          -0.8,
          null,
          -0.6000000000000001,
          -0.4,
          null,
          -1.4,
          -1.5999999999999999,
          null,
          -0.2,
          -0.4,
          null,
          -0.6000000000000001,
          -0.8,
          null,
          -0.6000000000000001,
          -0.4,
          null,
          -2.6,
          -2.4,
          null,
          -3.2000000000000006,
          -3.0000000000000004,
          null,
          -3.0000000000000004,
          -2.8000000000000003,
          null,
          -3.0000000000000004,
          -3.2000000000000006,
          null,
          -1.7999999999999998,
          -1.5999999999999999,
          null,
          -1.7999999999999998,
          -1.9999999999999998,
          null,
          -1,
          -0.8,
          null,
          -0.8,
          -1,
          null,
          -0.8,
          -0.6000000000000001,
          null,
          -1.2,
          -1,
          null,
          -0.6000000000000001,
          -0.8,
          null,
          -2.4,
          -2.6,
          null,
          -1.2,
          -1.4,
          null,
          -1.2,
          -1,
          null,
          -1,
          -0.8,
          null,
          -0.4,
          -0.2,
          null,
          -2.8000000000000003,
          -2.6,
          null,
          -2.8000000000000003,
          -3.0000000000000004,
          null,
          -1,
          -0.8,
          null,
          -1,
          -1.2,
          null,
          -0.4,
          -0.2,
          null,
          -0.4,
          -0.6000000000000001,
          null,
          -1.9999999999999998,
          -1.7999999999999998,
          null,
          -1.9999999999999998,
          -2.1999999999999997,
          null,
          -1.5999999999999999,
          -1.7999999999999998,
          null,
          -1.5999999999999999,
          -1.4,
          null,
          -0.6000000000000001,
          -0.8,
          null,
          -1.9999999999999998,
          -1.7999999999999998,
          null,
          -2.1999999999999997,
          -1.9999999999999998,
          null,
          -2.6,
          -2.4,
          null,
          -2.1999999999999997,
          -1.9999999999999998,
          null,
          -1.4,
          -1.2,
          null,
          -1.2,
          -1,
          null,
          -2.6,
          -2.4,
          null,
          -2.6,
          -2.4,
          null,
          -3.2000000000000006,
          -3.0000000000000004,
          null,
          -2.8000000000000003,
          -3.0000000000000004,
          null,
          -3.0000000000000004,
          -3.2000000000000006,
          null,
          -3.0000000000000004,
          -2.8000000000000003,
          null,
          -1.5999999999999999,
          -1.7999999999999998,
          null,
          -1.2,
          -1.4,
          null,
          -2.6,
          -2.8000000000000003,
          null,
          -2.6,
          -2.4,
          null,
          -1,
          -1.2,
          null,
          -0.2,
          -0.4,
          null,
          -0.2,
          -0.4,
          null,
          -2.4,
          -2.1999999999999997,
          null,
          -0.6000000000000001,
          -0.8,
          null,
          -1.7999999999999998,
          -1.9999999999999998,
          null,
          -1,
          -0.8,
          null,
          -3.2000000000000006,
          -3.0000000000000004,
          null,
          -2.8000000000000003,
          -3.0000000000000004,
          null,
          -1.7999999999999998,
          -1.9999999999999998,
          null,
          -1.7999999999999998,
          -1.5999999999999999,
          null,
          -1.9999999999999998,
          -2.1999999999999997,
          null,
          -2.8000000000000003,
          -2.6,
          null,
          -2.8000000000000003,
          -3.0000000000000004,
          null,
          -1.4,
          -1.2,
          null,
          -1.7999999999999998,
          -1.9999999999999998,
          null,
          -1.4,
          -1.5999999999999999,
          null,
          -0.4,
          -0.2,
          null,
          -0.4,
          -0.6000000000000001,
          null,
          -0.4,
          -0.6000000000000001,
          null,
          -2.6,
          -2.8000000000000003,
          null,
          -2.1999999999999997,
          -1.9999999999999998,
          null,
          -2.1999999999999997,
          -1.9999999999999998,
          null,
          -2.1999999999999997,
          -1.9999999999999998,
          null,
          -1.9999999999999998,
          -1.7999999999999998,
          null,
          -1.7999999999999998,
          -1.5999999999999999,
          null,
          -1.4,
          -1.2,
          null,
          -2.8000000000000003,
          -2.6,
          null,
          -0.6000000000000001,
          -0.8,
          null,
          -2.1999999999999997,
          -2.4,
          null,
          -1,
          -0.8,
          null,
          -1.7999999999999998,
          -1.5999999999999999,
          null,
          -2.8000000000000003,
          -3.0000000000000004,
          null,
          -1.5999999999999999,
          -1.7999999999999998,
          null,
          -1.5999999999999999,
          -1.4,
          null,
          -3.0000000000000004,
          -3.2000000000000006,
          null,
          -3.0000000000000004,
          -3.2000000000000006,
          null,
          -1.4,
          -1.5999999999999999,
          null,
          -1.2,
          -1,
          null,
          -1.2,
          -1.4,
          null,
          -0.2,
          -0.4,
          null,
          -0.4,
          -0.2,
          null,
          -0.4,
          -0.6000000000000001,
          null,
          -1,
          -1.2,
          null,
          -1,
          -0.8,
          null,
          -2.8000000000000003,
          -3.0000000000000004,
          null,
          -1,
          -1.2,
          null,
          -0.6000000000000001,
          -0.8,
          null,
          -1.2,
          -1,
          null,
          -1.5999999999999999,
          -1.4,
          null,
          -1.5999999999999999,
          -1.7999999999999998,
          null,
          -0.2,
          -0.4,
          null,
          -2.8000000000000003,
          -3.0000000000000004,
          null,
          -2.8000000000000003,
          -2.6,
          null,
          -1.4,
          -1.2,
          null,
          -0.6000000000000001,
          -0.4,
          null,
          -1.4,
          -1.5999999999999999,
          null,
          -0.8,
          -1,
          null,
          -2.1999999999999997,
          -2.4,
          null,
          -2.1999999999999997,
          -1.9999999999999998,
          null,
          -2.4,
          -2.1999999999999997,
          null,
          -0.2,
          -0.4,
          null,
          -2.1999999999999997,
          -1.9999999999999998,
          null,
          -0.6000000000000001,
          -0.8,
          null,
          -2.8000000000000003,
          -2.6,
          null,
          -0.6000000000000001,
          -0.8,
          null,
          -2.4,
          -2.6,
          null,
          -2.8000000000000003,
          -2.6,
          null,
          -1.5999999999999999,
          -1.4,
          null,
          -0.4,
          -0.6000000000000001,
          null,
          -3.2000000000000006,
          -3.0000000000000004,
          null,
          -1.7999999999999998,
          -1.5999999999999999,
          null,
          -2.4,
          -2.1999999999999997,
          null,
          -2.4,
          -2.6,
          null,
          -2.1999999999999997,
          -2.4,
          null,
          -0.8,
          -0.6000000000000001,
          null,
          -1.5999999999999999,
          -1.4,
          null,
          -1.9999999999999998,
          -1.7999999999999998,
          null,
          -3.0000000000000004,
          -2.8000000000000003,
          null,
          -3.0000000000000004,
          -3.2000000000000006,
          null,
          -2.1999999999999997,
          -2.4,
          null,
          -1.7999999999999998,
          -1.9999999999999998,
          null
         ]
        },
        {
         "hoverinfo": "text",
         "marker": {
          "color": "rgb(0,240,0)",
          "size": 28,
          "symbol": "dot"
         },
         "mode": "markers",
         "text": [
          "00",
          "0b",
          "0b",
          "0b",
          "0c",
          "0c",
          "0d",
          "0d",
          "0d",
          "0d",
          "0e",
          "0e",
          "0e",
          "0f",
          "0f",
          "0f",
          "0f",
          "0g",
          "0g",
          "0h",
          "0h",
          "1b",
          "1b",
          "1b",
          "1c",
          "1c",
          "1d",
          "1d",
          "1d",
          "1d",
          "1d",
          "1e",
          "1e",
          "1f",
          "1f",
          "1f",
          "1f",
          "1f",
          "1g",
          "1g",
          "1h",
          "2c",
          "2c",
          "2d",
          "2d",
          "2d",
          "2d",
          "2d",
          "2d",
          "2e",
          "2e",
          "2e",
          "2e",
          "2e",
          "2e",
          "2f",
          "2f",
          "2g",
          "2g",
          "2g",
          "2g",
          "3b",
          "3b",
          "3c",
          "3c",
          "3d",
          "3d",
          "3d",
          "3d",
          "3d",
          "3d",
          "3d",
          "3e",
          "3e",
          "3e",
          "3f",
          "3g",
          "3g",
          "3g",
          "3g",
          "3g",
          "4c",
          "4c",
          "4c",
          "4d",
          "4d",
          "4d",
          "4d",
          "4e",
          "4e",
          "4e",
          "4e",
          "4f",
          "4f",
          "4f",
          "4f",
          "4f",
          "4g",
          "4g",
          "4g",
          "4h",
          "5a",
          "5b",
          "5b",
          "5b",
          "5c",
          "5d",
          "5d",
          "5d",
          "5d",
          "5d",
          "5e",
          "5f",
          "5f",
          "5g",
          "5g",
          "5g",
          "5g",
          "5g",
          "5g",
          "5h",
          "6a",
          "6a",
          "6c",
          "6c",
          "6d",
          "6d",
          "6d",
          "6d",
          "6e",
          "6e",
          "6e",
          "6e",
          "6e",
          "6g",
          "6g",
          "6g",
          "6g",
          "6g",
          "6g",
          "6h",
          "c3",
          "c4",
          "d4",
          "e3",
          "e4",
          "f3",
          "f4",
          "g3",
          "b6",
          "b6",
          "c5",
          "c6",
          "c6",
          "d5",
          "d5",
          "d6",
          "e5",
          "e5",
          "e5",
          "e6",
          "e6",
          "e6",
          "f5",
          "g6",
          "c3",
          "c3",
          "c3",
          "c4",
          "c4",
          "c4",
          "d4",
          "e2",
          "e3",
          "e4",
          "f3",
          "f3",
          "f3",
          "f3",
          "f3",
          "f4",
          "f4",
          "g2",
          "g3",
          "b7",
          "b7",
          "c6",
          "c6",
          "c7",
          "d5",
          "d5",
          "d5",
          "d5",
          "d5",
          "d6",
          "d6",
          "e6",
          "e6",
          "e6",
          "f5",
          "f6",
          "f6",
          "g7",
          "b5",
          "b5",
          "c3",
          "c4",
          "d3",
          "d3",
          "d3",
          "d4",
          "d4",
          "d4",
          "d5",
          "d5",
          "e3",
          "f3",
          "f3",
          "f3",
          "g2",
          "g3",
          "g3",
          "g5",
          "a6",
          "c5",
          "c6",
          "d4",
          "d5",
          "d5",
          "d6",
          "d6",
          "d6",
          "d6",
          "d7",
          "d7",
          "e4",
          "e4",
          "e5",
          "e6",
          "e7",
          "f6",
          "f6",
          "g6",
          "a4",
          "c3",
          "c3",
          "c3",
          "c3",
          "c3",
          "c4",
          "d4",
          "d5",
          "e2",
          "e3",
          "e4",
          "e5",
          "f3",
          "g1",
          "g2",
          "g3",
          "g3",
          "h4",
          "h4",
          "a6",
          "b4",
          "c6",
          "c6",
          "d4",
          "d5",
          "d5",
          "d6",
          "d8",
          "e5",
          "e6",
          "e6",
          "f6",
          "f6",
          "f6",
          "f6",
          "f6",
          "f6",
          "f6",
          "g8",
          "c3",
          "c4",
          "d3",
          "d4",
          "d5",
          "d7",
          "f3",
          "f3",
          "f3",
          "f4",
          "f4",
          "f6",
          "g1",
          "g1",
          "g2",
          "g2",
          "g5",
          "g5",
          "h3",
          "h3"
         ],
         "type": "scatter",
         "x": [
          0.5,
          0.8125,
          0.31562500000000016,
          0.4375,
          0.30625000000000047,
          0.25625,
          0.1875,
          0.0625,
          0.2687500000000004,
          0.5625000000000009,
          0.32187500000000013,
          0.58125,
          0.3625000000000001,
          0.9375,
          0.5375000000000009,
          0.59375,
          0.5125,
          0.28750000000000003,
          0.6875,
          0.6125000000000009,
          0.3375000000000001,
          0.31562500000000016,
          0.25625,
          0.3625000000000001,
          0.1875,
          0.562500000000001,
          0.4375,
          0.0625,
          0.26875000000000043,
          0.3062500000000005,
          0.6875,
          0.9375,
          0.59375,
          0.8125,
          0.58125,
          0.3375000000000001,
          0.28750000000000003,
          0.612500000000001,
          0.32187500000000013,
          0.537500000000001,
          0.5125,
          0.1875,
          0.3625000000000001,
          0.3062500000000006,
          0.32187500000000013,
          0.4375,
          0.28750000000000003,
          0.0625,
          0.6875,
          0.3375000000000001,
          0.31562500000000016,
          0.25625,
          0.5625000000000011,
          0.5375000000000011,
          0.5125,
          0.9375,
          0.6125000000000012,
          0.2687500000000005,
          0.8125,
          0.59375,
          0.58125,
          0.6125000000000013,
          0.26875000000000054,
          0.6875,
          0.59375,
          0.5625000000000012,
          0.30625000000000063,
          0.32187500000000013,
          0.3375000000000001,
          0.25625,
          0.3625000000000001,
          0.28750000000000003,
          0.31562500000000016,
          0.8125,
          0.5125,
          0.5375000000000012,
          0.4375,
          0.0625,
          0.9375,
          0.58125,
          0.1875,
          0.6125000000000014,
          0.6875,
          0.0625,
          0.59375,
          0.3625000000000001,
          0.28750000000000003,
          0.9375,
          0.8125,
          0.58125,
          0.1875,
          0.32187500000000013,
          0.5125,
          0.5625000000000013,
          0.3375000000000001,
          0.5375000000000013,
          0.4375,
          0.3062500000000007,
          0.25625,
          0.31562500000000016,
          0.2687500000000006,
          0.0625,
          0.59375,
          0.1875,
          0.4375,
          0.31562500000000016,
          0.8125,
          0.5625000000000014,
          0.6125000000000015,
          0.6875,
          0.3625000000000001,
          0.58125,
          0.28750000000000003,
          0.5375000000000014,
          0.32187500000000013,
          0.3375000000000001,
          0.30625000000000074,
          0.25625,
          0.5125,
          0.9375,
          0.26875000000000066,
          0.6875,
          0.3375000000000001,
          0.59375,
          0.2687500000000007,
          0.8125,
          0.6125000000000016,
          0.4375,
          0.31562500000000016,
          0.3625000000000001,
          0.58125,
          0.28750000000000003,
          0.1875,
          0.0625,
          0.5125,
          0.5375000000000015,
          0.25625,
          0.32187500000000013,
          0.3062500000000008,
          0.9375,
          0.5625000000000016,
          0.9375,
          0.0625,
          0.5625,
          0.8125,
          0.3125,
          0.6875,
          0.4375,
          0.1875,
          0.5625,
          0.4375,
          0.2625,
          0.5375,
          0.28750000000000003,
          0.9375,
          0.6125,
          0.3375000000000001,
          0.0625,
          0.8125,
          0.31250000000000006,
          0.5125,
          0.3625000000000001,
          0.1875,
          0.5875,
          0.6875,
          0.5375000000000001,
          0.0625,
          0.8125,
          0.6125000000000002,
          0.5125,
          0.6875,
          0.3375000000000001,
          0.25625,
          0.58125,
          0.9375,
          0.4375,
          0.26875,
          0.3187500000000001,
          0.3625000000000001,
          0.59375,
          0.5625000000000001,
          0.3062500000000001,
          0.1875,
          0.28750000000000003,
          0.4375,
          0.5625000000000002,
          0.9375,
          0.31875000000000014,
          0.5375000000000002,
          0.8125,
          0.5125,
          0.3375000000000001,
          0.30625000000000013,
          0.28750000000000003,
          0.26875000000000004,
          0.3625000000000001,
          0.6125000000000003,
          0.25625,
          0.59375,
          0.1875,
          0.0625,
          0.58125,
          0.6875,
          0.31562500000000016,
          0.2687500000000001,
          0.6125000000000004,
          0.58125,
          0.32187500000000013,
          0.5375000000000003,
          0.1875,
          0.9375,
          0.8125,
          0.3625000000000001,
          0.3375000000000001,
          0.3062500000000002,
          0.4375,
          0.5625000000000003,
          0.5125,
          0.0625,
          0.28750000000000003,
          0.25625,
          0.6875,
          0.59375,
          0.31562500000000016,
          0.0625,
          0.5125,
          0.8125,
          0.3375000000000001,
          0.25625,
          0.58125,
          0.5375000000000004,
          0.5625000000000004,
          0.6875,
          0.26875000000000016,
          0.3625000000000001,
          0.30625000000000024,
          0.28750000000000003,
          0.1875,
          0.9375,
          0.59375,
          0.6125000000000005,
          0.32187500000000013,
          0.4375,
          0.31562500000000016,
          0.5125,
          0.3375000000000001,
          0.58125,
          0.3625000000000001,
          0.3062500000000003,
          0.1875,
          0.8125,
          0.9375,
          0.4375,
          0.5625000000000006,
          0.28750000000000003,
          0.25625,
          0.6125000000000006,
          0.2687500000000002,
          0.6875,
          0.0625,
          0.32187500000000013,
          0.5375000000000005,
          0.59375,
          0.26875000000000027,
          0.6125000000000007,
          0.3625000000000001,
          0.4375,
          0.25625,
          0.9375,
          0.32187500000000013,
          0.5125,
          0.3375000000000001,
          0.5375000000000006,
          0.58125,
          0.5625000000000007,
          0.31562500000000016,
          0.30625000000000036,
          0.1875,
          0.8125,
          0.28750000000000003,
          0.6875,
          0.59375,
          0.0625,
          0.8125,
          0.3062500000000004,
          0.58125,
          0.4375,
          0.5375000000000008,
          0.2687500000000003,
          0.9375,
          0.1875,
          0.28750000000000003,
          0.3625000000000001,
          0.25625,
          0.59375,
          0.31562500000000016,
          0.6875,
          0.32187500000000013,
          0.0625,
          0.6125000000000008,
          0.5125,
          0.3375000000000001,
          0.5625000000000008
         ],
         "y": [
          0,
          -1.9999999999999998,
          -1.9999999999999998,
          -1.9999999999999998,
          -1.9999999999999998,
          -1.9999999999999998,
          -1.9999999999999998,
          -1.9999999999999998,
          -1.9999999999999998,
          -1.9999999999999998,
          -1.9999999999999998,
          -1.9999999999999998,
          -1.9999999999999998,
          -1.9999999999999998,
          -1.9999999999999998,
          -1.9999999999999998,
          -1.9999999999999998,
          -1.9999999999999998,
          -1.9999999999999998,
          -1.9999999999999998,
          -1.9999999999999998,
          -2.1999999999999997,
          -2.1999999999999997,
          -2.1999999999999997,
          -2.1999999999999997,
          -2.1999999999999997,
          -2.1999999999999997,
          -2.1999999999999997,
          -2.1999999999999997,
          -2.1999999999999997,
          -2.1999999999999997,
          -2.1999999999999997,
          -2.1999999999999997,
          -2.1999999999999997,
          -2.1999999999999997,
          -2.1999999999999997,
          -2.1999999999999997,
          -2.1999999999999997,
          -2.1999999999999997,
          -2.1999999999999997,
          -2.1999999999999997,
          -2.4,
          -2.4,
          -2.4,
          -2.4,
          -2.4,
          -2.4,
          -2.4,
          -2.4,
          -2.4,
          -2.4,
          -2.4,
          -2.4,
          -2.4,
          -2.4,
          -2.4,
          -2.4,
          -2.4,
          -2.4,
          -2.4,
          -2.4,
          -2.6,
          -2.6,
          -2.6,
          -2.6,
          -2.6,
          -2.6,
          -2.6,
          -2.6,
          -2.6,
          -2.6,
          -2.6,
          -2.6,
          -2.6,
          -2.6,
          -2.6,
          -2.6,
          -2.6,
          -2.6,
          -2.6,
          -2.6,
          -2.8000000000000003,
          -2.8000000000000003,
          -2.8000000000000003,
          -2.8000000000000003,
          -2.8000000000000003,
          -2.8000000000000003,
          -2.8000000000000003,
          -2.8000000000000003,
          -2.8000000000000003,
          -2.8000000000000003,
          -2.8000000000000003,
          -2.8000000000000003,
          -2.8000000000000003,
          -2.8000000000000003,
          -2.8000000000000003,
          -2.8000000000000003,
          -2.8000000000000003,
          -2.8000000000000003,
          -2.8000000000000003,
          -2.8000000000000003,
          -3.0000000000000004,
          -3.0000000000000004,
          -3.0000000000000004,
          -3.0000000000000004,
          -3.0000000000000004,
          -3.0000000000000004,
          -3.0000000000000004,
          -3.0000000000000004,
          -3.0000000000000004,
          -3.0000000000000004,
          -3.0000000000000004,
          -3.0000000000000004,
          -3.0000000000000004,
          -3.0000000000000004,
          -3.0000000000000004,
          -3.0000000000000004,
          -3.0000000000000004,
          -3.0000000000000004,
          -3.0000000000000004,
          -3.0000000000000004,
          -3.2000000000000006,
          -3.2000000000000006,
          -3.2000000000000006,
          -3.2000000000000006,
          -3.2000000000000006,
          -3.2000000000000006,
          -3.2000000000000006,
          -3.2000000000000006,
          -3.2000000000000006,
          -3.2000000000000006,
          -3.2000000000000006,
          -3.2000000000000006,
          -3.2000000000000006,
          -3.2000000000000006,
          -3.2000000000000006,
          -3.2000000000000006,
          -3.2000000000000006,
          -3.2000000000000006,
          -3.2000000000000006,
          -3.2000000000000006,
          -0.2,
          -0.2,
          -0.2,
          -0.2,
          -0.2,
          -0.2,
          -0.2,
          -0.2,
          -0.4,
          -0.4,
          -0.4,
          -0.4,
          -0.4,
          -0.4,
          -0.4,
          -0.4,
          -0.4,
          -0.4,
          -0.4,
          -0.4,
          -0.4,
          -0.4,
          -0.4,
          -0.4,
          -0.6000000000000001,
          -0.6000000000000001,
          -0.6000000000000001,
          -0.6000000000000001,
          -0.6000000000000001,
          -0.6000000000000001,
          -0.6000000000000001,
          -0.6000000000000001,
          -0.6000000000000001,
          -0.6000000000000001,
          -0.6000000000000001,
          -0.6000000000000001,
          -0.6000000000000001,
          -0.6000000000000001,
          -0.6000000000000001,
          -0.6000000000000001,
          -0.6000000000000001,
          -0.6000000000000001,
          -0.6000000000000001,
          -0.8,
          -0.8,
          -0.8,
          -0.8,
          -0.8,
          -0.8,
          -0.8,
          -0.8,
          -0.8,
          -0.8,
          -0.8,
          -0.8,
          -0.8,
          -0.8,
          -0.8,
          -0.8,
          -0.8,
          -0.8,
          -0.8,
          -1,
          -1,
          -1,
          -1,
          -1,
          -1,
          -1,
          -1,
          -1,
          -1,
          -1,
          -1,
          -1,
          -1,
          -1,
          -1,
          -1,
          -1,
          -1,
          -1,
          -1.2,
          -1.2,
          -1.2,
          -1.2,
          -1.2,
          -1.2,
          -1.2,
          -1.2,
          -1.2,
          -1.2,
          -1.2,
          -1.2,
          -1.2,
          -1.2,
          -1.2,
          -1.2,
          -1.2,
          -1.2,
          -1.2,
          -1.2,
          -1.4,
          -1.4,
          -1.4,
          -1.4,
          -1.4,
          -1.4,
          -1.4,
          -1.4,
          -1.4,
          -1.4,
          -1.4,
          -1.4,
          -1.4,
          -1.4,
          -1.4,
          -1.4,
          -1.4,
          -1.4,
          -1.4,
          -1.4,
          -1.5999999999999999,
          -1.5999999999999999,
          -1.5999999999999999,
          -1.5999999999999999,
          -1.5999999999999999,
          -1.5999999999999999,
          -1.5999999999999999,
          -1.5999999999999999,
          -1.5999999999999999,
          -1.5999999999999999,
          -1.5999999999999999,
          -1.5999999999999999,
          -1.5999999999999999,
          -1.5999999999999999,
          -1.5999999999999999,
          -1.5999999999999999,
          -1.5999999999999999,
          -1.5999999999999999,
          -1.5999999999999999,
          -1.5999999999999999,
          -1.7999999999999998,
          -1.7999999999999998,
          -1.7999999999999998,
          -1.7999999999999998,
          -1.7999999999999998,
          -1.7999999999999998,
          -1.7999999999999998,
          -1.7999999999999998,
          -1.7999999999999998,
          -1.7999999999999998,
          -1.7999999999999998,
          -1.7999999999999998,
          -1.7999999999999998,
          -1.7999999999999998,
          -1.7999999999999998,
          -1.7999999999999998,
          -1.7999999999999998,
          -1.7999999999999998,
          -1.7999999999999998,
          -1.7999999999999998
         ]
        }
       ],
       "layout": {
        "annotations": [
         {
          "font": {
           "color": "rgb(10,10,10)",
           "size": 14
          },
          "showarrow": false,
          "text": "00",
          "x": 0.5,
          "xref": "x1",
          "y": 0.075,
          "yref": "y1"
         },
         {
          "font": {
           "color": "rgb(10,10,10)",
           "size": 14
          },
          "showarrow": false,
          "text": "0b",
          "x": 0.8125,
          "xref": "x1",
          "y": -1.9249999999999998,
          "yref": "y1"
         },
         {
          "font": {
           "color": "rgb(10,10,10)",
           "size": 14
          },
          "showarrow": false,
          "text": "0b",
          "x": 0.31562500000000016,
          "xref": "x1",
          "y": -1.9249999999999998,
          "yref": "y1"
         },
         {
          "font": {
           "color": "rgb(10,10,10)",
           "size": 14
          },
          "showarrow": false,
          "text": "0b",
          "x": 0.4375,
          "xref": "x1",
          "y": -1.9249999999999998,
          "yref": "y1"
         },
         {
          "font": {
           "color": "rgb(10,10,10)",
           "size": 14
          },
          "showarrow": false,
          "text": "0c",
          "x": 0.30625000000000047,
          "xref": "x1",
          "y": -1.9249999999999998,
          "yref": "y1"
         },
         {
          "font": {
           "color": "rgb(10,10,10)",
           "size": 14
          },
          "showarrow": false,
          "text": "0c",
          "x": 0.25625,
          "xref": "x1",
          "y": -1.9249999999999998,
          "yref": "y1"
         },
         {
          "font": {
           "color": "rgb(10,10,10)",
           "size": 14
          },
          "showarrow": false,
          "text": "0d",
          "x": 0.1875,
          "xref": "x1",
          "y": -1.9249999999999998,
          "yref": "y1"
         },
         {
          "font": {
           "color": "rgb(10,10,10)",
           "size": 14
          },
          "showarrow": false,
          "text": "0d",
          "x": 0.0625,
          "xref": "x1",
          "y": -1.9249999999999998,
          "yref": "y1"
         },
         {
          "font": {
           "color": "rgb(10,10,10)",
           "size": 14
          },
          "showarrow": false,
          "text": "0d",
          "x": 0.2687500000000004,
          "xref": "x1",
          "y": -1.9249999999999998,
          "yref": "y1"
         },
         {
          "font": {
           "color": "rgb(10,10,10)",
           "size": 14
          },
          "showarrow": false,
          "text": "0d",
          "x": 0.5625000000000009,
          "xref": "x1",
          "y": -1.9249999999999998,
          "yref": "y1"
         },
         {
          "font": {
           "color": "rgb(10,10,10)",
           "size": 14
          },
          "showarrow": false,
          "text": "0e",
          "x": 0.32187500000000013,
          "xref": "x1",
          "y": -1.9249999999999998,
          "yref": "y1"
         },
         {
          "font": {
           "color": "rgb(10,10,10)",
           "size": 14
          },
          "showarrow": false,
          "text": "0e",
          "x": 0.58125,
          "xref": "x1",
          "y": -1.9249999999999998,
          "yref": "y1"
         },
         {
          "font": {
           "color": "rgb(10,10,10)",
           "size": 14
          },
          "showarrow": false,
          "text": "0e",
          "x": 0.3625000000000001,
          "xref": "x1",
          "y": -1.9249999999999998,
          "yref": "y1"
         },
         {
          "font": {
           "color": "rgb(10,10,10)",
           "size": 14
          },
          "showarrow": false,
          "text": "0f",
          "x": 0.9375,
          "xref": "x1",
          "y": -1.9249999999999998,
          "yref": "y1"
         },
         {
          "font": {
           "color": "rgb(10,10,10)",
           "size": 14
          },
          "showarrow": false,
          "text": "0f",
          "x": 0.5375000000000009,
          "xref": "x1",
          "y": -1.9249999999999998,
          "yref": "y1"
         },
         {
          "font": {
           "color": "rgb(10,10,10)",
           "size": 14
          },
          "showarrow": false,
          "text": "0f",
          "x": 0.59375,
          "xref": "x1",
          "y": -1.9249999999999998,
          "yref": "y1"
         },
         {
          "font": {
           "color": "rgb(10,10,10)",
           "size": 14
          },
          "showarrow": false,
          "text": "0f",
          "x": 0.5125,
          "xref": "x1",
          "y": -1.9249999999999998,
          "yref": "y1"
         },
         {
          "font": {
           "color": "rgb(10,10,10)",
           "size": 14
          },
          "showarrow": false,
          "text": "0g",
          "x": 0.28750000000000003,
          "xref": "x1",
          "y": -1.9249999999999998,
          "yref": "y1"
         },
         {
          "font": {
           "color": "rgb(10,10,10)",
           "size": 14
          },
          "showarrow": false,
          "text": "0g",
          "x": 0.6875,
          "xref": "x1",
          "y": -1.9249999999999998,
          "yref": "y1"
         },
         {
          "font": {
           "color": "rgb(10,10,10)",
           "size": 14
          },
          "showarrow": false,
          "text": "0h",
          "x": 0.6125000000000009,
          "xref": "x1",
          "y": -1.9249999999999998,
          "yref": "y1"
         },
         {
          "font": {
           "color": "rgb(10,10,10)",
           "size": 14
          },
          "showarrow": false,
          "text": "0h",
          "x": 0.3375000000000001,
          "xref": "x1",
          "y": -1.9249999999999998,
          "yref": "y1"
         },
         {
          "font": {
           "color": "rgb(10,10,10)",
           "size": 14
          },
          "showarrow": false,
          "text": "1b",
          "x": 0.31562500000000016,
          "xref": "x1",
          "y": -2.1249999999999996,
          "yref": "y1"
         },
         {
          "font": {
           "color": "rgb(10,10,10)",
           "size": 14
          },
          "showarrow": false,
          "text": "1b",
          "x": 0.25625,
          "xref": "x1",
          "y": -2.1249999999999996,
          "yref": "y1"
         },
         {
          "font": {
           "color": "rgb(10,10,10)",
           "size": 14
          },
          "showarrow": false,
          "text": "1b",
          "x": 0.3625000000000001,
          "xref": "x1",
          "y": -2.1249999999999996,
          "yref": "y1"
         },
         {
          "font": {
           "color": "rgb(10,10,10)",
           "size": 14
          },
          "showarrow": false,
          "text": "1c",
          "x": 0.1875,
          "xref": "x1",
          "y": -2.1249999999999996,
          "yref": "y1"
         },
         {
          "font": {
           "color": "rgb(10,10,10)",
           "size": 14
          },
          "showarrow": false,
          "text": "1c",
          "x": 0.562500000000001,
          "xref": "x1",
          "y": -2.1249999999999996,
          "yref": "y1"
         },
         {
          "font": {
           "color": "rgb(10,10,10)",
           "size": 14
          },
          "showarrow": false,
          "text": "1d",
          "x": 0.4375,
          "xref": "x1",
          "y": -2.1249999999999996,
          "yref": "y1"
         },
         {
          "font": {
           "color": "rgb(10,10,10)",
           "size": 14
          },
          "showarrow": false,
          "text": "1d",
          "x": 0.0625,
          "xref": "x1",
          "y": -2.1249999999999996,
          "yref": "y1"
         },
         {
          "font": {
           "color": "rgb(10,10,10)",
           "size": 14
          },
          "showarrow": false,
          "text": "1d",
          "x": 0.26875000000000043,
          "xref": "x1",
          "y": -2.1249999999999996,
          "yref": "y1"
         },
         {
          "font": {
           "color": "rgb(10,10,10)",
           "size": 14
          },
          "showarrow": false,
          "text": "1d",
          "x": 0.3062500000000005,
          "xref": "x1",
          "y": -2.1249999999999996,
          "yref": "y1"
         },
         {
          "font": {
           "color": "rgb(10,10,10)",
           "size": 14
          },
          "showarrow": false,
          "text": "1d",
          "x": 0.6875,
          "xref": "x1",
          "y": -2.1249999999999996,
          "yref": "y1"
         },
         {
          "font": {
           "color": "rgb(10,10,10)",
           "size": 14
          },
          "showarrow": false,
          "text": "1e",
          "x": 0.9375,
          "xref": "x1",
          "y": -2.1249999999999996,
          "yref": "y1"
         },
         {
          "font": {
           "color": "rgb(10,10,10)",
           "size": 14
          },
          "showarrow": false,
          "text": "1e",
          "x": 0.59375,
          "xref": "x1",
          "y": -2.1249999999999996,
          "yref": "y1"
         },
         {
          "font": {
           "color": "rgb(10,10,10)",
           "size": 14
          },
          "showarrow": false,
          "text": "1f",
          "x": 0.8125,
          "xref": "x1",
          "y": -2.1249999999999996,
          "yref": "y1"
         },
         {
          "font": {
           "color": "rgb(10,10,10)",
           "size": 14
          },
          "showarrow": false,
          "text": "1f",
          "x": 0.58125,
          "xref": "x1",
          "y": -2.1249999999999996,
          "yref": "y1"
         },
         {
          "font": {
           "color": "rgb(10,10,10)",
           "size": 14
          },
          "showarrow": false,
          "text": "1f",
          "x": 0.3375000000000001,
          "xref": "x1",
          "y": -2.1249999999999996,
          "yref": "y1"
         },
         {
          "font": {
           "color": "rgb(10,10,10)",
           "size": 14
          },
          "showarrow": false,
          "text": "1f",
          "x": 0.28750000000000003,
          "xref": "x1",
          "y": -2.1249999999999996,
          "yref": "y1"
         },
         {
          "font": {
           "color": "rgb(10,10,10)",
           "size": 14
          },
          "showarrow": false,
          "text": "1f",
          "x": 0.612500000000001,
          "xref": "x1",
          "y": -2.1249999999999996,
          "yref": "y1"
         },
         {
          "font": {
           "color": "rgb(10,10,10)",
           "size": 14
          },
          "showarrow": false,
          "text": "1g",
          "x": 0.32187500000000013,
          "xref": "x1",
          "y": -2.1249999999999996,
          "yref": "y1"
         },
         {
          "font": {
           "color": "rgb(10,10,10)",
           "size": 14
          },
          "showarrow": false,
          "text": "1g",
          "x": 0.537500000000001,
          "xref": "x1",
          "y": -2.1249999999999996,
          "yref": "y1"
         },
         {
          "font": {
           "color": "rgb(10,10,10)",
           "size": 14
          },
          "showarrow": false,
          "text": "1h",
          "x": 0.5125,
          "xref": "x1",
          "y": -2.1249999999999996,
          "yref": "y1"
         },
         {
          "font": {
           "color": "rgb(10,10,10)",
           "size": 14
          },
          "showarrow": false,
          "text": "2c",
          "x": 0.1875,
          "xref": "x1",
          "y": -2.3249999999999997,
          "yref": "y1"
         },
         {
          "font": {
           "color": "rgb(10,10,10)",
           "size": 14
          },
          "showarrow": false,
          "text": "2c",
          "x": 0.3625000000000001,
          "xref": "x1",
          "y": -2.3249999999999997,
          "yref": "y1"
         },
         {
          "font": {
           "color": "rgb(10,10,10)",
           "size": 14
          },
          "showarrow": false,
          "text": "2d",
          "x": 0.3062500000000006,
          "xref": "x1",
          "y": -2.3249999999999997,
          "yref": "y1"
         },
         {
          "font": {
           "color": "rgb(10,10,10)",
           "size": 14
          },
          "showarrow": false,
          "text": "2d",
          "x": 0.32187500000000013,
          "xref": "x1",
          "y": -2.3249999999999997,
          "yref": "y1"
         },
         {
          "font": {
           "color": "rgb(10,10,10)",
           "size": 14
          },
          "showarrow": false,
          "text": "2d",
          "x": 0.4375,
          "xref": "x1",
          "y": -2.3249999999999997,
          "yref": "y1"
         },
         {
          "font": {
           "color": "rgb(10,10,10)",
           "size": 14
          },
          "showarrow": false,
          "text": "2d",
          "x": 0.28750000000000003,
          "xref": "x1",
          "y": -2.3249999999999997,
          "yref": "y1"
         },
         {
          "font": {
           "color": "rgb(10,10,10)",
           "size": 14
          },
          "showarrow": false,
          "text": "2d",
          "x": 0.0625,
          "xref": "x1",
          "y": -2.3249999999999997,
          "yref": "y1"
         },
         {
          "font": {
           "color": "rgb(10,10,10)",
           "size": 14
          },
          "showarrow": false,
          "text": "2d",
          "x": 0.6875,
          "xref": "x1",
          "y": -2.3249999999999997,
          "yref": "y1"
         },
         {
          "font": {
           "color": "rgb(10,10,10)",
           "size": 14
          },
          "showarrow": false,
          "text": "2e",
          "x": 0.3375000000000001,
          "xref": "x1",
          "y": -2.3249999999999997,
          "yref": "y1"
         },
         {
          "font": {
           "color": "rgb(10,10,10)",
           "size": 14
          },
          "showarrow": false,
          "text": "2e",
          "x": 0.31562500000000016,
          "xref": "x1",
          "y": -2.3249999999999997,
          "yref": "y1"
         },
         {
          "font": {
           "color": "rgb(10,10,10)",
           "size": 14
          },
          "showarrow": false,
          "text": "2e",
          "x": 0.25625,
          "xref": "x1",
          "y": -2.3249999999999997,
          "yref": "y1"
         },
         {
          "font": {
           "color": "rgb(10,10,10)",
           "size": 14
          },
          "showarrow": false,
          "text": "2e",
          "x": 0.5625000000000011,
          "xref": "x1",
          "y": -2.3249999999999997,
          "yref": "y1"
         },
         {
          "font": {
           "color": "rgb(10,10,10)",
           "size": 14
          },
          "showarrow": false,
          "text": "2e",
          "x": 0.5375000000000011,
          "xref": "x1",
          "y": -2.3249999999999997,
          "yref": "y1"
         },
         {
          "font": {
           "color": "rgb(10,10,10)",
           "size": 14
          },
          "showarrow": false,
          "text": "2e",
          "x": 0.5125,
          "xref": "x1",
          "y": -2.3249999999999997,
          "yref": "y1"
         },
         {
          "font": {
           "color": "rgb(10,10,10)",
           "size": 14
          },
          "showarrow": false,
          "text": "2f",
          "x": 0.9375,
          "xref": "x1",
          "y": -2.3249999999999997,
          "yref": "y1"
         },
         {
          "font": {
           "color": "rgb(10,10,10)",
           "size": 14
          },
          "showarrow": false,
          "text": "2f",
          "x": 0.6125000000000012,
          "xref": "x1",
          "y": -2.3249999999999997,
          "yref": "y1"
         },
         {
          "font": {
           "color": "rgb(10,10,10)",
           "size": 14
          },
          "showarrow": false,
          "text": "2g",
          "x": 0.2687500000000005,
          "xref": "x1",
          "y": -2.3249999999999997,
          "yref": "y1"
         },
         {
          "font": {
           "color": "rgb(10,10,10)",
           "size": 14
          },
          "showarrow": false,
          "text": "2g",
          "x": 0.8125,
          "xref": "x1",
          "y": -2.3249999999999997,
          "yref": "y1"
         },
         {
          "font": {
           "color": "rgb(10,10,10)",
           "size": 14
          },
          "showarrow": false,
          "text": "2g",
          "x": 0.59375,
          "xref": "x1",
          "y": -2.3249999999999997,
          "yref": "y1"
         },
         {
          "font": {
           "color": "rgb(10,10,10)",
           "size": 14
          },
          "showarrow": false,
          "text": "2g",
          "x": 0.58125,
          "xref": "x1",
          "y": -2.3249999999999997,
          "yref": "y1"
         },
         {
          "font": {
           "color": "rgb(10,10,10)",
           "size": 14
          },
          "showarrow": false,
          "text": "3b",
          "x": 0.6125000000000013,
          "xref": "x1",
          "y": -2.525,
          "yref": "y1"
         },
         {
          "font": {
           "color": "rgb(10,10,10)",
           "size": 14
          },
          "showarrow": false,
          "text": "3b",
          "x": 0.26875000000000054,
          "xref": "x1",
          "y": -2.525,
          "yref": "y1"
         },
         {
          "font": {
           "color": "rgb(10,10,10)",
           "size": 14
          },
          "showarrow": false,
          "text": "3c",
          "x": 0.6875,
          "xref": "x1",
          "y": -2.525,
          "yref": "y1"
         },
         {
          "font": {
           "color": "rgb(10,10,10)",
           "size": 14
          },
          "showarrow": false,
          "text": "3c",
          "x": 0.59375,
          "xref": "x1",
          "y": -2.525,
          "yref": "y1"
         },
         {
          "font": {
           "color": "rgb(10,10,10)",
           "size": 14
          },
          "showarrow": false,
          "text": "3d",
          "x": 0.5625000000000012,
          "xref": "x1",
          "y": -2.525,
          "yref": "y1"
         },
         {
          "font": {
           "color": "rgb(10,10,10)",
           "size": 14
          },
          "showarrow": false,
          "text": "3d",
          "x": 0.30625000000000063,
          "xref": "x1",
          "y": -2.525,
          "yref": "y1"
         },
         {
          "font": {
           "color": "rgb(10,10,10)",
           "size": 14
          },
          "showarrow": false,
          "text": "3d",
          "x": 0.32187500000000013,
          "xref": "x1",
          "y": -2.525,
          "yref": "y1"
         },
         {
          "font": {
           "color": "rgb(10,10,10)",
           "size": 14
          },
          "showarrow": false,
          "text": "3d",
          "x": 0.3375000000000001,
          "xref": "x1",
          "y": -2.525,
          "yref": "y1"
         },
         {
          "font": {
           "color": "rgb(10,10,10)",
           "size": 14
          },
          "showarrow": false,
          "text": "3d",
          "x": 0.25625,
          "xref": "x1",
          "y": -2.525,
          "yref": "y1"
         },
         {
          "font": {
           "color": "rgb(10,10,10)",
           "size": 14
          },
          "showarrow": false,
          "text": "3d",
          "x": 0.3625000000000001,
          "xref": "x1",
          "y": -2.525,
          "yref": "y1"
         },
         {
          "font": {
           "color": "rgb(10,10,10)",
           "size": 14
          },
          "showarrow": false,
          "text": "3d",
          "x": 0.28750000000000003,
          "xref": "x1",
          "y": -2.525,
          "yref": "y1"
         },
         {
          "font": {
           "color": "rgb(10,10,10)",
           "size": 14
          },
          "showarrow": false,
          "text": "3e",
          "x": 0.31562500000000016,
          "xref": "x1",
          "y": -2.525,
          "yref": "y1"
         },
         {
          "font": {
           "color": "rgb(10,10,10)",
           "size": 14
          },
          "showarrow": false,
          "text": "3e",
          "x": 0.8125,
          "xref": "x1",
          "y": -2.525,
          "yref": "y1"
         },
         {
          "font": {
           "color": "rgb(10,10,10)",
           "size": 14
          },
          "showarrow": false,
          "text": "3e",
          "x": 0.5125,
          "xref": "x1",
          "y": -2.525,
          "yref": "y1"
         },
         {
          "font": {
           "color": "rgb(10,10,10)",
           "size": 14
          },
          "showarrow": false,
          "text": "3f",
          "x": 0.5375000000000012,
          "xref": "x1",
          "y": -2.525,
          "yref": "y1"
         },
         {
          "font": {
           "color": "rgb(10,10,10)",
           "size": 14
          },
          "showarrow": false,
          "text": "3g",
          "x": 0.4375,
          "xref": "x1",
          "y": -2.525,
          "yref": "y1"
         },
         {
          "font": {
           "color": "rgb(10,10,10)",
           "size": 14
          },
          "showarrow": false,
          "text": "3g",
          "x": 0.0625,
          "xref": "x1",
          "y": -2.525,
          "yref": "y1"
         },
         {
          "font": {
           "color": "rgb(10,10,10)",
           "size": 14
          },
          "showarrow": false,
          "text": "3g",
          "x": 0.9375,
          "xref": "x1",
          "y": -2.525,
          "yref": "y1"
         },
         {
          "font": {
           "color": "rgb(10,10,10)",
           "size": 14
          },
          "showarrow": false,
          "text": "3g",
          "x": 0.58125,
          "xref": "x1",
          "y": -2.525,
          "yref": "y1"
         },
         {
          "font": {
           "color": "rgb(10,10,10)",
           "size": 14
          },
          "showarrow": false,
          "text": "3g",
          "x": 0.1875,
          "xref": "x1",
          "y": -2.525,
          "yref": "y1"
         },
         {
          "font": {
           "color": "rgb(10,10,10)",
           "size": 14
          },
          "showarrow": false,
          "text": "4c",
          "x": 0.6125000000000014,
          "xref": "x1",
          "y": -2.725,
          "yref": "y1"
         },
         {
          "font": {
           "color": "rgb(10,10,10)",
           "size": 14
          },
          "showarrow": false,
          "text": "4c",
          "x": 0.6875,
          "xref": "x1",
          "y": -2.725,
          "yref": "y1"
         },
         {
          "font": {
           "color": "rgb(10,10,10)",
           "size": 14
          },
          "showarrow": false,
          "text": "4c",
          "x": 0.0625,
          "xref": "x1",
          "y": -2.725,
          "yref": "y1"
         },
         {
          "font": {
           "color": "rgb(10,10,10)",
           "size": 14
          },
          "showarrow": false,
          "text": "4d",
          "x": 0.59375,
          "xref": "x1",
          "y": -2.725,
          "yref": "y1"
         },
         {
          "font": {
           "color": "rgb(10,10,10)",
           "size": 14
          },
          "showarrow": false,
          "text": "4d",
          "x": 0.3625000000000001,
          "xref": "x1",
          "y": -2.725,
          "yref": "y1"
         },
         {
          "font": {
           "color": "rgb(10,10,10)",
           "size": 14
          },
          "showarrow": false,
          "text": "4d",
          "x": 0.28750000000000003,
          "xref": "x1",
          "y": -2.725,
          "yref": "y1"
         },
         {
          "font": {
           "color": "rgb(10,10,10)",
           "size": 14
          },
          "showarrow": false,
          "text": "4d",
          "x": 0.9375,
          "xref": "x1",
          "y": -2.725,
          "yref": "y1"
         },
         {
          "font": {
           "color": "rgb(10,10,10)",
           "size": 14
          },
          "showarrow": false,
          "text": "4e",
          "x": 0.8125,
          "xref": "x1",
          "y": -2.725,
          "yref": "y1"
         },
         {
          "font": {
           "color": "rgb(10,10,10)",
           "size": 14
          },
          "showarrow": false,
          "text": "4e",
          "x": 0.58125,
          "xref": "x1",
          "y": -2.725,
          "yref": "y1"
         },
         {
          "font": {
           "color": "rgb(10,10,10)",
           "size": 14
          },
          "showarrow": false,
          "text": "4e",
          "x": 0.1875,
          "xref": "x1",
          "y": -2.725,
          "yref": "y1"
         },
         {
          "font": {
           "color": "rgb(10,10,10)",
           "size": 14
          },
          "showarrow": false,
          "text": "4e",
          "x": 0.32187500000000013,
          "xref": "x1",
          "y": -2.725,
          "yref": "y1"
         },
         {
          "font": {
           "color": "rgb(10,10,10)",
           "size": 14
          },
          "showarrow": false,
          "text": "4f",
          "x": 0.5125,
          "xref": "x1",
          "y": -2.725,
          "yref": "y1"
         },
         {
          "font": {
           "color": "rgb(10,10,10)",
           "size": 14
          },
          "showarrow": false,
          "text": "4f",
          "x": 0.5625000000000013,
          "xref": "x1",
          "y": -2.725,
          "yref": "y1"
         },
         {
          "font": {
           "color": "rgb(10,10,10)",
           "size": 14
          },
          "showarrow": false,
          "text": "4f",
          "x": 0.3375000000000001,
          "xref": "x1",
          "y": -2.725,
          "yref": "y1"
         },
         {
          "font": {
           "color": "rgb(10,10,10)",
           "size": 14
          },
          "showarrow": false,
          "text": "4f",
          "x": 0.5375000000000013,
          "xref": "x1",
          "y": -2.725,
          "yref": "y1"
         },
         {
          "font": {
           "color": "rgb(10,10,10)",
           "size": 14
          },
          "showarrow": false,
          "text": "4f",
          "x": 0.4375,
          "xref": "x1",
          "y": -2.725,
          "yref": "y1"
         },
         {
          "font": {
           "color": "rgb(10,10,10)",
           "size": 14
          },
          "showarrow": false,
          "text": "4g",
          "x": 0.3062500000000007,
          "xref": "x1",
          "y": -2.725,
          "yref": "y1"
         },
         {
          "font": {
           "color": "rgb(10,10,10)",
           "size": 14
          },
          "showarrow": false,
          "text": "4g",
          "x": 0.25625,
          "xref": "x1",
          "y": -2.725,
          "yref": "y1"
         },
         {
          "font": {
           "color": "rgb(10,10,10)",
           "size": 14
          },
          "showarrow": false,
          "text": "4g",
          "x": 0.31562500000000016,
          "xref": "x1",
          "y": -2.725,
          "yref": "y1"
         },
         {
          "font": {
           "color": "rgb(10,10,10)",
           "size": 14
          },
          "showarrow": false,
          "text": "4h",
          "x": 0.2687500000000006,
          "xref": "x1",
          "y": -2.725,
          "yref": "y1"
         },
         {
          "font": {
           "color": "rgb(10,10,10)",
           "size": 14
          },
          "showarrow": false,
          "text": "5a",
          "x": 0.0625,
          "xref": "x1",
          "y": -2.9250000000000003,
          "yref": "y1"
         },
         {
          "font": {
           "color": "rgb(10,10,10)",
           "size": 14
          },
          "showarrow": false,
          "text": "5b",
          "x": 0.59375,
          "xref": "x1",
          "y": -2.9250000000000003,
          "yref": "y1"
         },
         {
          "font": {
           "color": "rgb(10,10,10)",
           "size": 14
          },
          "showarrow": false,
          "text": "5b",
          "x": 0.1875,
          "xref": "x1",
          "y": -2.9250000000000003,
          "yref": "y1"
         },
         {
          "font": {
           "color": "rgb(10,10,10)",
           "size": 14
          },
          "showarrow": false,
          "text": "5b",
          "x": 0.4375,
          "xref": "x1",
          "y": -2.9250000000000003,
          "yref": "y1"
         },
         {
          "font": {
           "color": "rgb(10,10,10)",
           "size": 14
          },
          "showarrow": false,
          "text": "5c",
          "x": 0.31562500000000016,
          "xref": "x1",
          "y": -2.9250000000000003,
          "yref": "y1"
         },
         {
          "font": {
           "color": "rgb(10,10,10)",
           "size": 14
          },
          "showarrow": false,
          "text": "5d",
          "x": 0.8125,
          "xref": "x1",
          "y": -2.9250000000000003,
          "yref": "y1"
         },
         {
          "font": {
           "color": "rgb(10,10,10)",
           "size": 14
          },
          "showarrow": false,
          "text": "5d",
          "x": 0.5625000000000014,
          "xref": "x1",
          "y": -2.9250000000000003,
          "yref": "y1"
         },
         {
          "font": {
           "color": "rgb(10,10,10)",
           "size": 14
          },
          "showarrow": false,
          "text": "5d",
          "x": 0.6125000000000015,
          "xref": "x1",
          "y": -2.9250000000000003,
          "yref": "y1"
         },
         {
          "font": {
           "color": "rgb(10,10,10)",
           "size": 14
          },
          "showarrow": false,
          "text": "5d",
          "x": 0.6875,
          "xref": "x1",
          "y": -2.9250000000000003,
          "yref": "y1"
         },
         {
          "font": {
           "color": "rgb(10,10,10)",
           "size": 14
          },
          "showarrow": false,
          "text": "5d",
          "x": 0.3625000000000001,
          "xref": "x1",
          "y": -2.9250000000000003,
          "yref": "y1"
         },
         {
          "font": {
           "color": "rgb(10,10,10)",
           "size": 14
          },
          "showarrow": false,
          "text": "5e",
          "x": 0.58125,
          "xref": "x1",
          "y": -2.9250000000000003,
          "yref": "y1"
         },
         {
          "font": {
           "color": "rgb(10,10,10)",
           "size": 14
          },
          "showarrow": false,
          "text": "5f",
          "x": 0.28750000000000003,
          "xref": "x1",
          "y": -2.9250000000000003,
          "yref": "y1"
         },
         {
          "font": {
           "color": "rgb(10,10,10)",
           "size": 14
          },
          "showarrow": false,
          "text": "5f",
          "x": 0.5375000000000014,
          "xref": "x1",
          "y": -2.9250000000000003,
          "yref": "y1"
         },
         {
          "font": {
           "color": "rgb(10,10,10)",
           "size": 14
          },
          "showarrow": false,
          "text": "5g",
          "x": 0.32187500000000013,
          "xref": "x1",
          "y": -2.9250000000000003,
          "yref": "y1"
         },
         {
          "font": {
           "color": "rgb(10,10,10)",
           "size": 14
          },
          "showarrow": false,
          "text": "5g",
          "x": 0.3375000000000001,
          "xref": "x1",
          "y": -2.9250000000000003,
          "yref": "y1"
         },
         {
          "font": {
           "color": "rgb(10,10,10)",
           "size": 14
          },
          "showarrow": false,
          "text": "5g",
          "x": 0.30625000000000074,
          "xref": "x1",
          "y": -2.9250000000000003,
          "yref": "y1"
         },
         {
          "font": {
           "color": "rgb(10,10,10)",
           "size": 14
          },
          "showarrow": false,
          "text": "5g",
          "x": 0.25625,
          "xref": "x1",
          "y": -2.9250000000000003,
          "yref": "y1"
         },
         {
          "font": {
           "color": "rgb(10,10,10)",
           "size": 14
          },
          "showarrow": false,
          "text": "5g",
          "x": 0.5125,
          "xref": "x1",
          "y": -2.9250000000000003,
          "yref": "y1"
         },
         {
          "font": {
           "color": "rgb(10,10,10)",
           "size": 14
          },
          "showarrow": false,
          "text": "5g",
          "x": 0.9375,
          "xref": "x1",
          "y": -2.9250000000000003,
          "yref": "y1"
         },
         {
          "font": {
           "color": "rgb(10,10,10)",
           "size": 14
          },
          "showarrow": false,
          "text": "5h",
          "x": 0.26875000000000066,
          "xref": "x1",
          "y": -2.9250000000000003,
          "yref": "y1"
         },
         {
          "font": {
           "color": "rgb(10,10,10)",
           "size": 14
          },
          "showarrow": false,
          "text": "6a",
          "x": 0.6875,
          "xref": "x1",
          "y": -3.1250000000000004,
          "yref": "y1"
         },
         {
          "font": {
           "color": "rgb(10,10,10)",
           "size": 14
          },
          "showarrow": false,
          "text": "6a",
          "x": 0.3375000000000001,
          "xref": "x1",
          "y": -3.1250000000000004,
          "yref": "y1"
         },
         {
          "font": {
           "color": "rgb(10,10,10)",
           "size": 14
          },
          "showarrow": false,
          "text": "6c",
          "x": 0.59375,
          "xref": "x1",
          "y": -3.1250000000000004,
          "yref": "y1"
         },
         {
          "font": {
           "color": "rgb(10,10,10)",
           "size": 14
          },
          "showarrow": false,
          "text": "6c",
          "x": 0.2687500000000007,
          "xref": "x1",
          "y": -3.1250000000000004,
          "yref": "y1"
         },
         {
          "font": {
           "color": "rgb(10,10,10)",
           "size": 14
          },
          "showarrow": false,
          "text": "6d",
          "x": 0.8125,
          "xref": "x1",
          "y": -3.1250000000000004,
          "yref": "y1"
         },
         {
          "font": {
           "color": "rgb(10,10,10)",
           "size": 14
          },
          "showarrow": false,
          "text": "6d",
          "x": 0.6125000000000016,
          "xref": "x1",
          "y": -3.1250000000000004,
          "yref": "y1"
         },
         {
          "font": {
           "color": "rgb(10,10,10)",
           "size": 14
          },
          "showarrow": false,
          "text": "6d",
          "x": 0.4375,
          "xref": "x1",
          "y": -3.1250000000000004,
          "yref": "y1"
         },
         {
          "font": {
           "color": "rgb(10,10,10)",
           "size": 14
          },
          "showarrow": false,
          "text": "6d",
          "x": 0.31562500000000016,
          "xref": "x1",
          "y": -3.1250000000000004,
          "yref": "y1"
         },
         {
          "font": {
           "color": "rgb(10,10,10)",
           "size": 14
          },
          "showarrow": false,
          "text": "6e",
          "x": 0.3625000000000001,
          "xref": "x1",
          "y": -3.1250000000000004,
          "yref": "y1"
         },
         {
          "font": {
           "color": "rgb(10,10,10)",
           "size": 14
          },
          "showarrow": false,
          "text": "6e",
          "x": 0.58125,
          "xref": "x1",
          "y": -3.1250000000000004,
          "yref": "y1"
         },
         {
          "font": {
           "color": "rgb(10,10,10)",
           "size": 14
          },
          "showarrow": false,
          "text": "6e",
          "x": 0.28750000000000003,
          "xref": "x1",
          "y": -3.1250000000000004,
          "yref": "y1"
         },
         {
          "font": {
           "color": "rgb(10,10,10)",
           "size": 14
          },
          "showarrow": false,
          "text": "6e",
          "x": 0.1875,
          "xref": "x1",
          "y": -3.1250000000000004,
          "yref": "y1"
         },
         {
          "font": {
           "color": "rgb(10,10,10)",
           "size": 14
          },
          "showarrow": false,
          "text": "6e",
          "x": 0.0625,
          "xref": "x1",
          "y": -3.1250000000000004,
          "yref": "y1"
         },
         {
          "font": {
           "color": "rgb(10,10,10)",
           "size": 14
          },
          "showarrow": false,
          "text": "6g",
          "x": 0.5125,
          "xref": "x1",
          "y": -3.1250000000000004,
          "yref": "y1"
         },
         {
          "font": {
           "color": "rgb(10,10,10)",
           "size": 14
          },
          "showarrow": false,
          "text": "6g",
          "x": 0.5375000000000015,
          "xref": "x1",
          "y": -3.1250000000000004,
          "yref": "y1"
         },
         {
          "font": {
           "color": "rgb(10,10,10)",
           "size": 14
          },
          "showarrow": false,
          "text": "6g",
          "x": 0.25625,
          "xref": "x1",
          "y": -3.1250000000000004,
          "yref": "y1"
         },
         {
          "font": {
           "color": "rgb(10,10,10)",
           "size": 14
          },
          "showarrow": false,
          "text": "6g",
          "x": 0.32187500000000013,
          "xref": "x1",
          "y": -3.1250000000000004,
          "yref": "y1"
         },
         {
          "font": {
           "color": "rgb(10,10,10)",
           "size": 14
          },
          "showarrow": false,
          "text": "6g",
          "x": 0.3062500000000008,
          "xref": "x1",
          "y": -3.1250000000000004,
          "yref": "y1"
         },
         {
          "font": {
           "color": "rgb(10,10,10)",
           "size": 14
          },
          "showarrow": false,
          "text": "6g",
          "x": 0.9375,
          "xref": "x1",
          "y": -3.1250000000000004,
          "yref": "y1"
         },
         {
          "font": {
           "color": "rgb(10,10,10)",
           "size": 14
          },
          "showarrow": false,
          "text": "6h",
          "x": 0.5625000000000016,
          "xref": "x1",
          "y": -3.1250000000000004,
          "yref": "y1"
         },
         {
          "font": {
           "color": "rgb(10,10,10)",
           "size": 14
          },
          "showarrow": false,
          "text": "c3",
          "x": 0.9375,
          "xref": "x1",
          "y": -0.125,
          "yref": "y1"
         },
         {
          "font": {
           "color": "rgb(10,10,10)",
           "size": 14
          },
          "showarrow": false,
          "text": "c4",
          "x": 0.0625,
          "xref": "x1",
          "y": -0.125,
          "yref": "y1"
         },
         {
          "font": {
           "color": "rgb(10,10,10)",
           "size": 14
          },
          "showarrow": false,
          "text": "d4",
          "x": 0.5625,
          "xref": "x1",
          "y": -0.125,
          "yref": "y1"
         },
         {
          "font": {
           "color": "rgb(10,10,10)",
           "size": 14
          },
          "showarrow": false,
          "text": "e3",
          "x": 0.8125,
          "xref": "x1",
          "y": -0.125,
          "yref": "y1"
         },
         {
          "font": {
           "color": "rgb(10,10,10)",
           "size": 14
          },
          "showarrow": false,
          "text": "e4",
          "x": 0.3125,
          "xref": "x1",
          "y": -0.125,
          "yref": "y1"
         },
         {
          "font": {
           "color": "rgb(10,10,10)",
           "size": 14
          },
          "showarrow": false,
          "text": "f3",
          "x": 0.6875,
          "xref": "x1",
          "y": -0.125,
          "yref": "y1"
         },
         {
          "font": {
           "color": "rgb(10,10,10)",
           "size": 14
          },
          "showarrow": false,
          "text": "f4",
          "x": 0.4375,
          "xref": "x1",
          "y": -0.125,
          "yref": "y1"
         },
         {
          "font": {
           "color": "rgb(10,10,10)",
           "size": 14
          },
          "showarrow": false,
          "text": "g3",
          "x": 0.1875,
          "xref": "x1",
          "y": -0.125,
          "yref": "y1"
         },
         {
          "font": {
           "color": "rgb(10,10,10)",
           "size": 14
          },
          "showarrow": false,
          "text": "b6",
          "x": 0.5625,
          "xref": "x1",
          "y": -0.325,
          "yref": "y1"
         },
         {
          "font": {
           "color": "rgb(10,10,10)",
           "size": 14
          },
          "showarrow": false,
          "text": "b6",
          "x": 0.4375,
          "xref": "x1",
          "y": -0.325,
          "yref": "y1"
         },
         {
          "font": {
           "color": "rgb(10,10,10)",
           "size": 14
          },
          "showarrow": false,
          "text": "c5",
          "x": 0.2625,
          "xref": "x1",
          "y": -0.325,
          "yref": "y1"
         },
         {
          "font": {
           "color": "rgb(10,10,10)",
           "size": 14
          },
          "showarrow": false,
          "text": "c6",
          "x": 0.5375,
          "xref": "x1",
          "y": -0.325,
          "yref": "y1"
         },
         {
          "font": {
           "color": "rgb(10,10,10)",
           "size": 14
          },
          "showarrow": false,
          "text": "c6",
          "x": 0.28750000000000003,
          "xref": "x1",
          "y": -0.325,
          "yref": "y1"
         },
         {
          "font": {
           "color": "rgb(10,10,10)",
           "size": 14
          },
          "showarrow": false,
          "text": "d5",
          "x": 0.9375,
          "xref": "x1",
          "y": -0.325,
          "yref": "y1"
         },
         {
          "font": {
           "color": "rgb(10,10,10)",
           "size": 14
          },
          "showarrow": false,
          "text": "d5",
          "x": 0.6125,
          "xref": "x1",
          "y": -0.325,
          "yref": "y1"
         },
         {
          "font": {
           "color": "rgb(10,10,10)",
           "size": 14
          },
          "showarrow": false,
          "text": "d6",
          "x": 0.3375000000000001,
          "xref": "x1",
          "y": -0.325,
          "yref": "y1"
         },
         {
          "font": {
           "color": "rgb(10,10,10)",
           "size": 14
          },
          "showarrow": false,
          "text": "e5",
          "x": 0.0625,
          "xref": "x1",
          "y": -0.325,
          "yref": "y1"
         },
         {
          "font": {
           "color": "rgb(10,10,10)",
           "size": 14
          },
          "showarrow": false,
          "text": "e5",
          "x": 0.8125,
          "xref": "x1",
          "y": -0.325,
          "yref": "y1"
         },
         {
          "font": {
           "color": "rgb(10,10,10)",
           "size": 14
          },
          "showarrow": false,
          "text": "e5",
          "x": 0.31250000000000006,
          "xref": "x1",
          "y": -0.325,
          "yref": "y1"
         },
         {
          "font": {
           "color": "rgb(10,10,10)",
           "size": 14
          },
          "showarrow": false,
          "text": "e6",
          "x": 0.5125,
          "xref": "x1",
          "y": -0.325,
          "yref": "y1"
         },
         {
          "font": {
           "color": "rgb(10,10,10)",
           "size": 14
          },
          "showarrow": false,
          "text": "e6",
          "x": 0.3625000000000001,
          "xref": "x1",
          "y": -0.325,
          "yref": "y1"
         },
         {
          "font": {
           "color": "rgb(10,10,10)",
           "size": 14
          },
          "showarrow": false,
          "text": "e6",
          "x": 0.1875,
          "xref": "x1",
          "y": -0.325,
          "yref": "y1"
         },
         {
          "font": {
           "color": "rgb(10,10,10)",
           "size": 14
          },
          "showarrow": false,
          "text": "f5",
          "x": 0.5875,
          "xref": "x1",
          "y": -0.325,
          "yref": "y1"
         },
         {
          "font": {
           "color": "rgb(10,10,10)",
           "size": 14
          },
          "showarrow": false,
          "text": "g6",
          "x": 0.6875,
          "xref": "x1",
          "y": -0.325,
          "yref": "y1"
         },
         {
          "font": {
           "color": "rgb(10,10,10)",
           "size": 14
          },
          "showarrow": false,
          "text": "c3",
          "x": 0.5375000000000001,
          "xref": "x1",
          "y": -0.5250000000000001,
          "yref": "y1"
         },
         {
          "font": {
           "color": "rgb(10,10,10)",
           "size": 14
          },
          "showarrow": false,
          "text": "c3",
          "x": 0.0625,
          "xref": "x1",
          "y": -0.5250000000000001,
          "yref": "y1"
         },
         {
          "font": {
           "color": "rgb(10,10,10)",
           "size": 14
          },
          "showarrow": false,
          "text": "c3",
          "x": 0.8125,
          "xref": "x1",
          "y": -0.5250000000000001,
          "yref": "y1"
         },
         {
          "font": {
           "color": "rgb(10,10,10)",
           "size": 14
          },
          "showarrow": false,
          "text": "c4",
          "x": 0.6125000000000002,
          "xref": "x1",
          "y": -0.5250000000000001,
          "yref": "y1"
         },
         {
          "font": {
           "color": "rgb(10,10,10)",
           "size": 14
          },
          "showarrow": false,
          "text": "c4",
          "x": 0.5125,
          "xref": "x1",
          "y": -0.5250000000000001,
          "yref": "y1"
         },
         {
          "font": {
           "color": "rgb(10,10,10)",
           "size": 14
          },
          "showarrow": false,
          "text": "c4",
          "x": 0.6875,
          "xref": "x1",
          "y": -0.5250000000000001,
          "yref": "y1"
         },
         {
          "font": {
           "color": "rgb(10,10,10)",
           "size": 14
          },
          "showarrow": false,
          "text": "d4",
          "x": 0.3375000000000001,
          "xref": "x1",
          "y": -0.5250000000000001,
          "yref": "y1"
         },
         {
          "font": {
           "color": "rgb(10,10,10)",
           "size": 14
          },
          "showarrow": false,
          "text": "e2",
          "x": 0.25625,
          "xref": "x1",
          "y": -0.5250000000000001,
          "yref": "y1"
         },
         {
          "font": {
           "color": "rgb(10,10,10)",
           "size": 14
          },
          "showarrow": false,
          "text": "e3",
          "x": 0.58125,
          "xref": "x1",
          "y": -0.5250000000000001,
          "yref": "y1"
         },
         {
          "font": {
           "color": "rgb(10,10,10)",
           "size": 14
          },
          "showarrow": false,
          "text": "e4",
          "x": 0.9375,
          "xref": "x1",
          "y": -0.5250000000000001,
          "yref": "y1"
         },
         {
          "font": {
           "color": "rgb(10,10,10)",
           "size": 14
          },
          "showarrow": false,
          "text": "f3",
          "x": 0.4375,
          "xref": "x1",
          "y": -0.5250000000000001,
          "yref": "y1"
         },
         {
          "font": {
           "color": "rgb(10,10,10)",
           "size": 14
          },
          "showarrow": false,
          "text": "f3",
          "x": 0.26875,
          "xref": "x1",
          "y": -0.5250000000000001,
          "yref": "y1"
         },
         {
          "font": {
           "color": "rgb(10,10,10)",
           "size": 14
          },
          "showarrow": false,
          "text": "f3",
          "x": 0.3187500000000001,
          "xref": "x1",
          "y": -0.5250000000000001,
          "yref": "y1"
         },
         {
          "font": {
           "color": "rgb(10,10,10)",
           "size": 14
          },
          "showarrow": false,
          "text": "f3",
          "x": 0.3625000000000001,
          "xref": "x1",
          "y": -0.5250000000000001,
          "yref": "y1"
         },
         {
          "font": {
           "color": "rgb(10,10,10)",
           "size": 14
          },
          "showarrow": false,
          "text": "f3",
          "x": 0.59375,
          "xref": "x1",
          "y": -0.5250000000000001,
          "yref": "y1"
         },
         {
          "font": {
           "color": "rgb(10,10,10)",
           "size": 14
          },
          "showarrow": false,
          "text": "f4",
          "x": 0.5625000000000001,
          "xref": "x1",
          "y": -0.5250000000000001,
          "yref": "y1"
         },
         {
          "font": {
           "color": "rgb(10,10,10)",
           "size": 14
          },
          "showarrow": false,
          "text": "f4",
          "x": 0.3062500000000001,
          "xref": "x1",
          "y": -0.5250000000000001,
          "yref": "y1"
         },
         {
          "font": {
           "color": "rgb(10,10,10)",
           "size": 14
          },
          "showarrow": false,
          "text": "g2",
          "x": 0.1875,
          "xref": "x1",
          "y": -0.5250000000000001,
          "yref": "y1"
         },
         {
          "font": {
           "color": "rgb(10,10,10)",
           "size": 14
          },
          "showarrow": false,
          "text": "g3",
          "x": 0.28750000000000003,
          "xref": "x1",
          "y": -0.5250000000000001,
          "yref": "y1"
         },
         {
          "font": {
           "color": "rgb(10,10,10)",
           "size": 14
          },
          "showarrow": false,
          "text": "b7",
          "x": 0.4375,
          "xref": "x1",
          "y": -0.7250000000000001,
          "yref": "y1"
         },
         {
          "font": {
           "color": "rgb(10,10,10)",
           "size": 14
          },
          "showarrow": false,
          "text": "b7",
          "x": 0.5625000000000002,
          "xref": "x1",
          "y": -0.7250000000000001,
          "yref": "y1"
         },
         {
          "font": {
           "color": "rgb(10,10,10)",
           "size": 14
          },
          "showarrow": false,
          "text": "c6",
          "x": 0.9375,
          "xref": "x1",
          "y": -0.7250000000000001,
          "yref": "y1"
         },
         {
          "font": {
           "color": "rgb(10,10,10)",
           "size": 14
          },
          "showarrow": false,
          "text": "c6",
          "x": 0.31875000000000014,
          "xref": "x1",
          "y": -0.7250000000000001,
          "yref": "y1"
         },
         {
          "font": {
           "color": "rgb(10,10,10)",
           "size": 14
          },
          "showarrow": false,
          "text": "c7",
          "x": 0.5375000000000002,
          "xref": "x1",
          "y": -0.7250000000000001,
          "yref": "y1"
         },
         {
          "font": {
           "color": "rgb(10,10,10)",
           "size": 14
          },
          "showarrow": false,
          "text": "d5",
          "x": 0.8125,
          "xref": "x1",
          "y": -0.7250000000000001,
          "yref": "y1"
         },
         {
          "font": {
           "color": "rgb(10,10,10)",
           "size": 14
          },
          "showarrow": false,
          "text": "d5",
          "x": 0.5125,
          "xref": "x1",
          "y": -0.7250000000000001,
          "yref": "y1"
         },
         {
          "font": {
           "color": "rgb(10,10,10)",
           "size": 14
          },
          "showarrow": false,
          "text": "d5",
          "x": 0.3375000000000001,
          "xref": "x1",
          "y": -0.7250000000000001,
          "yref": "y1"
         },
         {
          "font": {
           "color": "rgb(10,10,10)",
           "size": 14
          },
          "showarrow": false,
          "text": "d5",
          "x": 0.30625000000000013,
          "xref": "x1",
          "y": -0.7250000000000001,
          "yref": "y1"
         },
         {
          "font": {
           "color": "rgb(10,10,10)",
           "size": 14
          },
          "showarrow": false,
          "text": "d5",
          "x": 0.28750000000000003,
          "xref": "x1",
          "y": -0.7250000000000001,
          "yref": "y1"
         },
         {
          "font": {
           "color": "rgb(10,10,10)",
           "size": 14
          },
          "showarrow": false,
          "text": "d6",
          "x": 0.26875000000000004,
          "xref": "x1",
          "y": -0.7250000000000001,
          "yref": "y1"
         },
         {
          "font": {
           "color": "rgb(10,10,10)",
           "size": 14
          },
          "showarrow": false,
          "text": "d6",
          "x": 0.3625000000000001,
          "xref": "x1",
          "y": -0.7250000000000001,
          "yref": "y1"
         },
         {
          "font": {
           "color": "rgb(10,10,10)",
           "size": 14
          },
          "showarrow": false,
          "text": "e6",
          "x": 0.6125000000000003,
          "xref": "x1",
          "y": -0.7250000000000001,
          "yref": "y1"
         },
         {
          "font": {
           "color": "rgb(10,10,10)",
           "size": 14
          },
          "showarrow": false,
          "text": "e6",
          "x": 0.25625,
          "xref": "x1",
          "y": -0.7250000000000001,
          "yref": "y1"
         },
         {
          "font": {
           "color": "rgb(10,10,10)",
           "size": 14
          },
          "showarrow": false,
          "text": "e6",
          "x": 0.59375,
          "xref": "x1",
          "y": -0.7250000000000001,
          "yref": "y1"
         },
         {
          "font": {
           "color": "rgb(10,10,10)",
           "size": 14
          },
          "showarrow": false,
          "text": "f5",
          "x": 0.1875,
          "xref": "x1",
          "y": -0.7250000000000001,
          "yref": "y1"
         },
         {
          "font": {
           "color": "rgb(10,10,10)",
           "size": 14
          },
          "showarrow": false,
          "text": "f6",
          "x": 0.0625,
          "xref": "x1",
          "y": -0.7250000000000001,
          "yref": "y1"
         },
         {
          "font": {
           "color": "rgb(10,10,10)",
           "size": 14
          },
          "showarrow": false,
          "text": "f6",
          "x": 0.58125,
          "xref": "x1",
          "y": -0.7250000000000001,
          "yref": "y1"
         },
         {
          "font": {
           "color": "rgb(10,10,10)",
           "size": 14
          },
          "showarrow": false,
          "text": "g7",
          "x": 0.6875,
          "xref": "x1",
          "y": -0.7250000000000001,
          "yref": "y1"
         },
         {
          "font": {
           "color": "rgb(10,10,10)",
           "size": 14
          },
          "showarrow": false,
          "text": "b5",
          "x": 0.31562500000000016,
          "xref": "x1",
          "y": -0.925,
          "yref": "y1"
         },
         {
          "font": {
           "color": "rgb(10,10,10)",
           "size": 14
          },
          "showarrow": false,
          "text": "b5",
          "x": 0.2687500000000001,
          "xref": "x1",
          "y": -0.925,
          "yref": "y1"
         },
         {
          "font": {
           "color": "rgb(10,10,10)",
           "size": 14
          },
          "showarrow": false,
          "text": "c3",
          "x": 0.6125000000000004,
          "xref": "x1",
          "y": -0.925,
          "yref": "y1"
         },
         {
          "font": {
           "color": "rgb(10,10,10)",
           "size": 14
          },
          "showarrow": false,
          "text": "c4",
          "x": 0.58125,
          "xref": "x1",
          "y": -0.925,
          "yref": "y1"
         },
         {
          "font": {
           "color": "rgb(10,10,10)",
           "size": 14
          },
          "showarrow": false,
          "text": "d3",
          "x": 0.32187500000000013,
          "xref": "x1",
          "y": -0.925,
          "yref": "y1"
         },
         {
          "font": {
           "color": "rgb(10,10,10)",
           "size": 14
          },
          "showarrow": false,
          "text": "d3",
          "x": 0.5375000000000003,
          "xref": "x1",
          "y": -0.925,
          "yref": "y1"
         },
         {
          "font": {
           "color": "rgb(10,10,10)",
           "size": 14
          },
          "showarrow": false,
          "text": "d3",
          "x": 0.1875,
          "xref": "x1",
          "y": -0.925,
          "yref": "y1"
         },
         {
          "font": {
           "color": "rgb(10,10,10)",
           "size": 14
          },
          "showarrow": false,
          "text": "d4",
          "x": 0.9375,
          "xref": "x1",
          "y": -0.925,
          "yref": "y1"
         },
         {
          "font": {
           "color": "rgb(10,10,10)",
           "size": 14
          },
          "showarrow": false,
          "text": "d4",
          "x": 0.8125,
          "xref": "x1",
          "y": -0.925,
          "yref": "y1"
         },
         {
          "font": {
           "color": "rgb(10,10,10)",
           "size": 14
          },
          "showarrow": false,
          "text": "d4",
          "x": 0.3625000000000001,
          "xref": "x1",
          "y": -0.925,
          "yref": "y1"
         },
         {
          "font": {
           "color": "rgb(10,10,10)",
           "size": 14
          },
          "showarrow": false,
          "text": "d5",
          "x": 0.3375000000000001,
          "xref": "x1",
          "y": -0.925,
          "yref": "y1"
         },
         {
          "font": {
           "color": "rgb(10,10,10)",
           "size": 14
          },
          "showarrow": false,
          "text": "d5",
          "x": 0.3062500000000002,
          "xref": "x1",
          "y": -0.925,
          "yref": "y1"
         },
         {
          "font": {
           "color": "rgb(10,10,10)",
           "size": 14
          },
          "showarrow": false,
          "text": "e3",
          "x": 0.4375,
          "xref": "x1",
          "y": -0.925,
          "yref": "y1"
         },
         {
          "font": {
           "color": "rgb(10,10,10)",
           "size": 14
          },
          "showarrow": false,
          "text": "f3",
          "x": 0.5625000000000003,
          "xref": "x1",
          "y": -0.925,
          "yref": "y1"
         },
         {
          "font": {
           "color": "rgb(10,10,10)",
           "size": 14
          },
          "showarrow": false,
          "text": "f3",
          "x": 0.5125,
          "xref": "x1",
          "y": -0.925,
          "yref": "y1"
         },
         {
          "font": {
           "color": "rgb(10,10,10)",
           "size": 14
          },
          "showarrow": false,
          "text": "f3",
          "x": 0.0625,
          "xref": "x1",
          "y": -0.925,
          "yref": "y1"
         },
         {
          "font": {
           "color": "rgb(10,10,10)",
           "size": 14
          },
          "showarrow": false,
          "text": "g2",
          "x": 0.28750000000000003,
          "xref": "x1",
          "y": -0.925,
          "yref": "y1"
         },
         {
          "font": {
           "color": "rgb(10,10,10)",
           "size": 14
          },
          "showarrow": false,
          "text": "g3",
          "x": 0.25625,
          "xref": "x1",
          "y": -0.925,
          "yref": "y1"
         },
         {
          "font": {
           "color": "rgb(10,10,10)",
           "size": 14
          },
          "showarrow": false,
          "text": "g3",
          "x": 0.6875,
          "xref": "x1",
          "y": -0.925,
          "yref": "y1"
         },
         {
          "font": {
           "color": "rgb(10,10,10)",
           "size": 14
          },
          "showarrow": false,
          "text": "g5",
          "x": 0.59375,
          "xref": "x1",
          "y": -0.925,
          "yref": "y1"
         },
         {
          "font": {
           "color": "rgb(10,10,10)",
           "size": 14
          },
          "showarrow": false,
          "text": "a6",
          "x": 0.31562500000000016,
          "xref": "x1",
          "y": -1.125,
          "yref": "y1"
         },
         {
          "font": {
           "color": "rgb(10,10,10)",
           "size": 14
          },
          "showarrow": false,
          "text": "c5",
          "x": 0.0625,
          "xref": "x1",
          "y": -1.125,
          "yref": "y1"
         },
         {
          "font": {
           "color": "rgb(10,10,10)",
           "size": 14
          },
          "showarrow": false,
          "text": "c6",
          "x": 0.5125,
          "xref": "x1",
          "y": -1.125,
          "yref": "y1"
         },
         {
          "font": {
           "color": "rgb(10,10,10)",
           "size": 14
          },
          "showarrow": false,
          "text": "d4",
          "x": 0.8125,
          "xref": "x1",
          "y": -1.125,
          "yref": "y1"
         },
         {
          "font": {
           "color": "rgb(10,10,10)",
           "size": 14
          },
          "showarrow": false,
          "text": "d5",
          "x": 0.3375000000000001,
          "xref": "x1",
          "y": -1.125,
          "yref": "y1"
         },
         {
          "font": {
           "color": "rgb(10,10,10)",
           "size": 14
          },
          "showarrow": false,
          "text": "d5",
          "x": 0.25625,
          "xref": "x1",
          "y": -1.125,
          "yref": "y1"
         },
         {
          "font": {
           "color": "rgb(10,10,10)",
           "size": 14
          },
          "showarrow": false,
          "text": "d6",
          "x": 0.58125,
          "xref": "x1",
          "y": -1.125,
          "yref": "y1"
         },
         {
          "font": {
           "color": "rgb(10,10,10)",
           "size": 14
          },
          "showarrow": false,
          "text": "d6",
          "x": 0.5375000000000004,
          "xref": "x1",
          "y": -1.125,
          "yref": "y1"
         },
         {
          "font": {
           "color": "rgb(10,10,10)",
           "size": 14
          },
          "showarrow": false,
          "text": "d6",
          "x": 0.5625000000000004,
          "xref": "x1",
          "y": -1.125,
          "yref": "y1"
         },
         {
          "font": {
           "color": "rgb(10,10,10)",
           "size": 14
          },
          "showarrow": false,
          "text": "d6",
          "x": 0.6875,
          "xref": "x1",
          "y": -1.125,
          "yref": "y1"
         },
         {
          "font": {
           "color": "rgb(10,10,10)",
           "size": 14
          },
          "showarrow": false,
          "text": "d7",
          "x": 0.26875000000000016,
          "xref": "x1",
          "y": -1.125,
          "yref": "y1"
         },
         {
          "font": {
           "color": "rgb(10,10,10)",
           "size": 14
          },
          "showarrow": false,
          "text": "d7",
          "x": 0.3625000000000001,
          "xref": "x1",
          "y": -1.125,
          "yref": "y1"
         },
         {
          "font": {
           "color": "rgb(10,10,10)",
           "size": 14
          },
          "showarrow": false,
          "text": "e4",
          "x": 0.30625000000000024,
          "xref": "x1",
          "y": -1.125,
          "yref": "y1"
         },
         {
          "font": {
           "color": "rgb(10,10,10)",
           "size": 14
          },
          "showarrow": false,
          "text": "e4",
          "x": 0.28750000000000003,
          "xref": "x1",
          "y": -1.125,
          "yref": "y1"
         },
         {
          "font": {
           "color": "rgb(10,10,10)",
           "size": 14
          },
          "showarrow": false,
          "text": "e5",
          "x": 0.1875,
          "xref": "x1",
          "y": -1.125,
          "yref": "y1"
         },
         {
          "font": {
           "color": "rgb(10,10,10)",
           "size": 14
          },
          "showarrow": false,
          "text": "e6",
          "x": 0.9375,
          "xref": "x1",
          "y": -1.125,
          "yref": "y1"
         },
         {
          "font": {
           "color": "rgb(10,10,10)",
           "size": 14
          },
          "showarrow": false,
          "text": "e7",
          "x": 0.59375,
          "xref": "x1",
          "y": -1.125,
          "yref": "y1"
         },
         {
          "font": {
           "color": "rgb(10,10,10)",
           "size": 14
          },
          "showarrow": false,
          "text": "f6",
          "x": 0.6125000000000005,
          "xref": "x1",
          "y": -1.125,
          "yref": "y1"
         },
         {
          "font": {
           "color": "rgb(10,10,10)",
           "size": 14
          },
          "showarrow": false,
          "text": "f6",
          "x": 0.32187500000000013,
          "xref": "x1",
          "y": -1.125,
          "yref": "y1"
         },
         {
          "font": {
           "color": "rgb(10,10,10)",
           "size": 14
          },
          "showarrow": false,
          "text": "g6",
          "x": 0.4375,
          "xref": "x1",
          "y": -1.125,
          "yref": "y1"
         },
         {
          "font": {
           "color": "rgb(10,10,10)",
           "size": 14
          },
          "showarrow": false,
          "text": "a4",
          "x": 0.31562500000000016,
          "xref": "x1",
          "y": -1.325,
          "yref": "y1"
         },
         {
          "font": {
           "color": "rgb(10,10,10)",
           "size": 14
          },
          "showarrow": false,
          "text": "c3",
          "x": 0.5125,
          "xref": "x1",
          "y": -1.325,
          "yref": "y1"
         },
         {
          "font": {
           "color": "rgb(10,10,10)",
           "size": 14
          },
          "showarrow": false,
          "text": "c3",
          "x": 0.3375000000000001,
          "xref": "x1",
          "y": -1.325,
          "yref": "y1"
         },
         {
          "font": {
           "color": "rgb(10,10,10)",
           "size": 14
          },
          "showarrow": false,
          "text": "c3",
          "x": 0.58125,
          "xref": "x1",
          "y": -1.325,
          "yref": "y1"
         },
         {
          "font": {
           "color": "rgb(10,10,10)",
           "size": 14
          },
          "showarrow": false,
          "text": "c3",
          "x": 0.3625000000000001,
          "xref": "x1",
          "y": -1.325,
          "yref": "y1"
         },
         {
          "font": {
           "color": "rgb(10,10,10)",
           "size": 14
          },
          "showarrow": false,
          "text": "c3",
          "x": 0.3062500000000003,
          "xref": "x1",
          "y": -1.325,
          "yref": "y1"
         },
         {
          "font": {
           "color": "rgb(10,10,10)",
           "size": 14
          },
          "showarrow": false,
          "text": "c4",
          "x": 0.1875,
          "xref": "x1",
          "y": -1.325,
          "yref": "y1"
         },
         {
          "font": {
           "color": "rgb(10,10,10)",
           "size": 14
          },
          "showarrow": false,
          "text": "d4",
          "x": 0.8125,
          "xref": "x1",
          "y": -1.325,
          "yref": "y1"
         },
         {
          "font": {
           "color": "rgb(10,10,10)",
           "size": 14
          },
          "showarrow": false,
          "text": "d5",
          "x": 0.9375,
          "xref": "x1",
          "y": -1.325,
          "yref": "y1"
         },
         {
          "font": {
           "color": "rgb(10,10,10)",
           "size": 14
          },
          "showarrow": false,
          "text": "e2",
          "x": 0.4375,
          "xref": "x1",
          "y": -1.325,
          "yref": "y1"
         },
         {
          "font": {
           "color": "rgb(10,10,10)",
           "size": 14
          },
          "showarrow": false,
          "text": "e3",
          "x": 0.5625000000000006,
          "xref": "x1",
          "y": -1.325,
          "yref": "y1"
         },
         {
          "font": {
           "color": "rgb(10,10,10)",
           "size": 14
          },
          "showarrow": false,
          "text": "e4",
          "x": 0.28750000000000003,
          "xref": "x1",
          "y": -1.325,
          "yref": "y1"
         },
         {
          "font": {
           "color": "rgb(10,10,10)",
           "size": 14
          },
          "showarrow": false,
          "text": "e5",
          "x": 0.25625,
          "xref": "x1",
          "y": -1.325,
          "yref": "y1"
         },
         {
          "font": {
           "color": "rgb(10,10,10)",
           "size": 14
          },
          "showarrow": false,
          "text": "f3",
          "x": 0.6125000000000006,
          "xref": "x1",
          "y": -1.325,
          "yref": "y1"
         },
         {
          "font": {
           "color": "rgb(10,10,10)",
           "size": 14
          },
          "showarrow": false,
          "text": "g1",
          "x": 0.2687500000000002,
          "xref": "x1",
          "y": -1.325,
          "yref": "y1"
         },
         {
          "font": {
           "color": "rgb(10,10,10)",
           "size": 14
          },
          "showarrow": false,
          "text": "g2",
          "x": 0.6875,
          "xref": "x1",
          "y": -1.325,
          "yref": "y1"
         },
         {
          "font": {
           "color": "rgb(10,10,10)",
           "size": 14
          },
          "showarrow": false,
          "text": "g3",
          "x": 0.0625,
          "xref": "x1",
          "y": -1.325,
          "yref": "y1"
         },
         {
          "font": {
           "color": "rgb(10,10,10)",
           "size": 14
          },
          "showarrow": false,
          "text": "g3",
          "x": 0.32187500000000013,
          "xref": "x1",
          "y": -1.325,
          "yref": "y1"
         },
         {
          "font": {
           "color": "rgb(10,10,10)",
           "size": 14
          },
          "showarrow": false,
          "text": "h4",
          "x": 0.5375000000000005,
          "xref": "x1",
          "y": -1.325,
          "yref": "y1"
         },
         {
          "font": {
           "color": "rgb(10,10,10)",
           "size": 14
          },
          "showarrow": false,
          "text": "h4",
          "x": 0.59375,
          "xref": "x1",
          "y": -1.325,
          "yref": "y1"
         },
         {
          "font": {
           "color": "rgb(10,10,10)",
           "size": 14
          },
          "showarrow": false,
          "text": "a6",
          "x": 0.26875000000000027,
          "xref": "x1",
          "y": -1.525,
          "yref": "y1"
         },
         {
          "font": {
           "color": "rgb(10,10,10)",
           "size": 14
          },
          "showarrow": false,
          "text": "b4",
          "x": 0.6125000000000007,
          "xref": "x1",
          "y": -1.525,
          "yref": "y1"
         },
         {
          "font": {
           "color": "rgb(10,10,10)",
           "size": 14
          },
          "showarrow": false,
          "text": "c6",
          "x": 0.3625000000000001,
          "xref": "x1",
          "y": -1.525,
          "yref": "y1"
         },
         {
          "font": {
           "color": "rgb(10,10,10)",
           "size": 14
          },
          "showarrow": false,
          "text": "c6",
          "x": 0.4375,
          "xref": "x1",
          "y": -1.525,
          "yref": "y1"
         },
         {
          "font": {
           "color": "rgb(10,10,10)",
           "size": 14
          },
          "showarrow": false,
          "text": "d4",
          "x": 0.25625,
          "xref": "x1",
          "y": -1.525,
          "yref": "y1"
         },
         {
          "font": {
           "color": "rgb(10,10,10)",
           "size": 14
          },
          "showarrow": false,
          "text": "d5",
          "x": 0.9375,
          "xref": "x1",
          "y": -1.525,
          "yref": "y1"
         },
         {
          "font": {
           "color": "rgb(10,10,10)",
           "size": 14
          },
          "showarrow": false,
          "text": "d5",
          "x": 0.32187500000000013,
          "xref": "x1",
          "y": -1.525,
          "yref": "y1"
         },
         {
          "font": {
           "color": "rgb(10,10,10)",
           "size": 14
          },
          "showarrow": false,
          "text": "d6",
          "x": 0.5125,
          "xref": "x1",
          "y": -1.525,
          "yref": "y1"
         },
         {
          "font": {
           "color": "rgb(10,10,10)",
           "size": 14
          },
          "showarrow": false,
          "text": "d8",
          "x": 0.3375000000000001,
          "xref": "x1",
          "y": -1.525,
          "yref": "y1"
         },
         {
          "font": {
           "color": "rgb(10,10,10)",
           "size": 14
          },
          "showarrow": false,
          "text": "e5",
          "x": 0.5375000000000006,
          "xref": "x1",
          "y": -1.525,
          "yref": "y1"
         },
         {
          "font": {
           "color": "rgb(10,10,10)",
           "size": 14
          },
          "showarrow": false,
          "text": "e6",
          "x": 0.58125,
          "xref": "x1",
          "y": -1.525,
          "yref": "y1"
         },
         {
          "font": {
           "color": "rgb(10,10,10)",
           "size": 14
          },
          "showarrow": false,
          "text": "e6",
          "x": 0.5625000000000007,
          "xref": "x1",
          "y": -1.525,
          "yref": "y1"
         },
         {
          "font": {
           "color": "rgb(10,10,10)",
           "size": 14
          },
          "showarrow": false,
          "text": "f6",
          "x": 0.31562500000000016,
          "xref": "x1",
          "y": -1.525,
          "yref": "y1"
         },
         {
          "font": {
           "color": "rgb(10,10,10)",
           "size": 14
          },
          "showarrow": false,
          "text": "f6",
          "x": 0.30625000000000036,
          "xref": "x1",
          "y": -1.525,
          "yref": "y1"
         },
         {
          "font": {
           "color": "rgb(10,10,10)",
           "size": 14
          },
          "showarrow": false,
          "text": "f6",
          "x": 0.1875,
          "xref": "x1",
          "y": -1.525,
          "yref": "y1"
         },
         {
          "font": {
           "color": "rgb(10,10,10)",
           "size": 14
          },
          "showarrow": false,
          "text": "f6",
          "x": 0.8125,
          "xref": "x1",
          "y": -1.525,
          "yref": "y1"
         },
         {
          "font": {
           "color": "rgb(10,10,10)",
           "size": 14
          },
          "showarrow": false,
          "text": "f6",
          "x": 0.28750000000000003,
          "xref": "x1",
          "y": -1.525,
          "yref": "y1"
         },
         {
          "font": {
           "color": "rgb(10,10,10)",
           "size": 14
          },
          "showarrow": false,
          "text": "f6",
          "x": 0.6875,
          "xref": "x1",
          "y": -1.525,
          "yref": "y1"
         },
         {
          "font": {
           "color": "rgb(10,10,10)",
           "size": 14
          },
          "showarrow": false,
          "text": "f6",
          "x": 0.59375,
          "xref": "x1",
          "y": -1.525,
          "yref": "y1"
         },
         {
          "font": {
           "color": "rgb(10,10,10)",
           "size": 14
          },
          "showarrow": false,
          "text": "g8",
          "x": 0.0625,
          "xref": "x1",
          "y": -1.525,
          "yref": "y1"
         },
         {
          "font": {
           "color": "rgb(10,10,10)",
           "size": 14
          },
          "showarrow": false,
          "text": "c3",
          "x": 0.8125,
          "xref": "x1",
          "y": -1.7249999999999999,
          "yref": "y1"
         },
         {
          "font": {
           "color": "rgb(10,10,10)",
           "size": 14
          },
          "showarrow": false,
          "text": "c4",
          "x": 0.3062500000000004,
          "xref": "x1",
          "y": -1.7249999999999999,
          "yref": "y1"
         },
         {
          "font": {
           "color": "rgb(10,10,10)",
           "size": 14
          },
          "showarrow": false,
          "text": "d3",
          "x": 0.58125,
          "xref": "x1",
          "y": -1.7249999999999999,
          "yref": "y1"
         },
         {
          "font": {
           "color": "rgb(10,10,10)",
           "size": 14
          },
          "showarrow": false,
          "text": "d4",
          "x": 0.4375,
          "xref": "x1",
          "y": -1.7249999999999999,
          "yref": "y1"
         },
         {
          "font": {
           "color": "rgb(10,10,10)",
           "size": 14
          },
          "showarrow": false,
          "text": "d5",
          "x": 0.5375000000000008,
          "xref": "x1",
          "y": -1.7249999999999999,
          "yref": "y1"
         },
         {
          "font": {
           "color": "rgb(10,10,10)",
           "size": 14
          },
          "showarrow": false,
          "text": "d7",
          "x": 0.2687500000000003,
          "xref": "x1",
          "y": -1.7249999999999999,
          "yref": "y1"
         },
         {
          "font": {
           "color": "rgb(10,10,10)",
           "size": 14
          },
          "showarrow": false,
          "text": "f3",
          "x": 0.9375,
          "xref": "x1",
          "y": -1.7249999999999999,
          "yref": "y1"
         },
         {
          "font": {
           "color": "rgb(10,10,10)",
           "size": 14
          },
          "showarrow": false,
          "text": "f3",
          "x": 0.1875,
          "xref": "x1",
          "y": -1.7249999999999999,
          "yref": "y1"
         },
         {
          "font": {
           "color": "rgb(10,10,10)",
           "size": 14
          },
          "showarrow": false,
          "text": "f3",
          "x": 0.28750000000000003,
          "xref": "x1",
          "y": -1.7249999999999999,
          "yref": "y1"
         },
         {
          "font": {
           "color": "rgb(10,10,10)",
           "size": 14
          },
          "showarrow": false,
          "text": "f4",
          "x": 0.3625000000000001,
          "xref": "x1",
          "y": -1.7249999999999999,
          "yref": "y1"
         },
         {
          "font": {
           "color": "rgb(10,10,10)",
           "size": 14
          },
          "showarrow": false,
          "text": "f4",
          "x": 0.25625,
          "xref": "x1",
          "y": -1.7249999999999999,
          "yref": "y1"
         },
         {
          "font": {
           "color": "rgb(10,10,10)",
           "size": 14
          },
          "showarrow": false,
          "text": "f6",
          "x": 0.59375,
          "xref": "x1",
          "y": -1.7249999999999999,
          "yref": "y1"
         },
         {
          "font": {
           "color": "rgb(10,10,10)",
           "size": 14
          },
          "showarrow": false,
          "text": "g1",
          "x": 0.31562500000000016,
          "xref": "x1",
          "y": -1.7249999999999999,
          "yref": "y1"
         },
         {
          "font": {
           "color": "rgb(10,10,10)",
           "size": 14
          },
          "showarrow": false,
          "text": "g1",
          "x": 0.6875,
          "xref": "x1",
          "y": -1.7249999999999999,
          "yref": "y1"
         },
         {
          "font": {
           "color": "rgb(10,10,10)",
           "size": 14
          },
          "showarrow": false,
          "text": "g2",
          "x": 0.32187500000000013,
          "xref": "x1",
          "y": -1.7249999999999999,
          "yref": "y1"
         },
         {
          "font": {
           "color": "rgb(10,10,10)",
           "size": 14
          },
          "showarrow": false,
          "text": "g2",
          "x": 0.0625,
          "xref": "x1",
          "y": -1.7249999999999999,
          "yref": "y1"
         },
         {
          "font": {
           "color": "rgb(10,10,10)",
           "size": 14
          },
          "showarrow": false,
          "text": "g5",
          "x": 0.6125000000000008,
          "xref": "x1",
          "y": -1.7249999999999999,
          "yref": "y1"
         },
         {
          "font": {
           "color": "rgb(10,10,10)",
           "size": 14
          },
          "showarrow": false,
          "text": "g5",
          "x": 0.5125,
          "xref": "x1",
          "y": -1.7249999999999999,
          "yref": "y1"
         },
         {
          "font": {
           "color": "rgb(10,10,10)",
           "size": 14
          },
          "showarrow": false,
          "text": "h3",
          "x": 0.3375000000000001,
          "xref": "x1",
          "y": -1.7249999999999999,
          "yref": "y1"
         },
         {
          "font": {
           "color": "rgb(10,10,10)",
           "size": 14
          },
          "showarrow": false,
          "text": "h3",
          "x": 0.5625000000000008,
          "xref": "x1",
          "y": -1.7249999999999999,
          "yref": "y1"
         }
        ],
        "autosize": false,
        "font": {
         "family": "Balto"
        },
        "height": 600,
        "hovermode": "closest",
        "margin": {
         "b": 85,
         "l": 40,
         "pad": 0,
         "r": 40,
         "t": 100
        },
        "plot_bgcolor": "#efecea",
        "showlegend": false,
        "title": "Graph",
        "width": 600,
        "xaxis": {
         "showgrid": false,
         "showline": false,
         "showticklabels": false,
         "title": "",
         "zeroline": false
        },
        "yaxis": {
         "showgrid": false,
         "showline": false,
         "showticklabels": false,
         "title": "",
         "zeroline": false
        }
       }
      },
      "text/html": [
       "<div id=\"b1540b12-729d-4996-a979-663ea5afb32c\" style=\"height: 600px; width: 600px;\" class=\"plotly-graph-div\"></div><script type=\"text/javascript\">require([\"plotly\"], function(Plotly) { window.PLOTLYENV=window.PLOTLYENV || {};window.PLOTLYENV.BASE_URL=\"https://plot.ly\";Plotly.newPlot(\"b1540b12-729d-4996-a979-663ea5afb32c\", [{\"mode\": \"lines\", \"hoverinfo\": \"none\", \"y\": [-2.6, -2.8000000000000003, null, -2.6, -2.4, null, -2.8000000000000003, -3.0000000000000004, null, -2.8000000000000003, -2.6, null, -1.4, -1.2, null, -1.4, -1.5999999999999999, null, -2.8000000000000003, -3.0000000000000004, null, -2.8000000000000003, -2.6, null, -1.4, -1.5999999999999999, null, -1.4, -1.2, null, -2.4, -2.1999999999999997, null, -2.4, -2.6, null, -2.8000000000000003, -2.6, null, -2.8000000000000003, -3.0000000000000004, null, -0.8, -1.0, null, -0.8, -0.6000000000000001, null, -2.6, -2.4, null, -2.6, -2.8000000000000003, null, -1.0, -1.2, null, -1.0, -0.8, null, -3.2000000000000006, -3.0000000000000004, null, -3.0000000000000004, -2.8000000000000003, null, -3.0000000000000004, -3.2000000000000006, null, -1.9999999999999998, -2.1999999999999997, null, -1.9999999999999998, -1.7999999999999998, null, -1.9999999999999998, -2.1999999999999997, null, -1.9999999999999998, -1.7999999999999998, null, -1.5999999999999999, -1.4, null, -1.5999999999999999, -1.7999999999999998, null, -1.2, -1.0, null, -1.2, -1.4, null, -1.7999999999999998, -1.9999999999999998, null, -1.7999999999999998, -1.5999999999999999, null, -0.8, -1.0, null, -0.8, -1.0, null, -0.8, -0.6000000000000001, null, -2.1999999999999997, -1.9999999999999998, null, -2.4, -2.6, null, -2.4, -2.1999999999999997, null, -2.8000000000000003, -3.0000000000000004, null, -2.8000000000000003, -2.6, null, -0.4, -0.2, null, -0.4, -0.6000000000000001, null, -1.4, -1.5999999999999999, null, -1.4, -1.2, null, -1.9999999999999998, -1.7999999999999998, null, -2.8000000000000003, -3.0000000000000004, null, -2.8000000000000003, -2.6, null, -0.6000000000000001, -0.8, null, -0.6000000000000001, -0.4, null, -1.4, -1.2, null, -2.4, -2.1999999999999997, null, -2.4, -2.6, null, -1.9999999999999998, -2.1999999999999997, null, -1.9999999999999998, -1.7999999999999998, null, -2.1999999999999997, -1.9999999999999998, null, -2.1999999999999997, -2.4, null, -2.1999999999999997, -2.4, null, -2.1999999999999997, -1.9999999999999998, null, -3.0000000000000004, -2.8000000000000003, null, -3.0000000000000004, -3.2000000000000006, null, -1.7999999999999998, -1.5999999999999999, null, -1.7999999999999998, -1.9999999999999998, null, -0.8, -0.6000000000000001, null, -0.8, -1.0, null, -0.8, -0.6000000000000001, null, -0.8, -1.0, null, -3.2000000000000006, -3.0000000000000004, null, -2.1999999999999997, -2.4, null, -2.6, -2.4, null, -3.2000000000000006, -3.0000000000000004, null, -1.0, -0.8, null, -1.0, -1.2, null, -1.7999999999999998, -1.9999999999999998, null, -1.7999999999999998, -1.5999999999999999, null, -1.9999999999999998, -1.7999999999999998, null, -1.9999999999999998, -2.1999999999999997, null, -1.5999999999999999, -1.7999999999999998, null, -0.6000000000000001, -0.4, null, -1.5999999999999999, -1.4, null, -0.4, -0.6000000000000001, null, -0.4, -0.2, null, -1.2, -1.0, null, -1.2, -1.4, null, -1.4, -1.2, null, -1.4, -1.5999999999999999, null, -1.5999999999999999, -1.4, null, -1.5999999999999999, -1.7999999999999998, null, -2.1999999999999997, -1.9999999999999998, null, -2.1999999999999997, -2.4, null, -2.4, -2.1999999999999997, null, -2.6, -2.8000000000000003, null, -0.4, -0.6000000000000001, null, -0.4, -0.2, null, -0.4, -0.6000000000000001, null, -0.2, 0, null, -1.4, -1.5999999999999999, null, -1.4, -1.2, null, -1.4, -1.2, null, -1.4, -1.5999999999999999, null, -2.1999999999999997, -2.4, null, -2.1999999999999997, -1.9999999999999998, null, -1.0, -0.8, null, -1.0, -1.2, null, -3.2000000000000006, -3.0000000000000004, null, -0.4, -0.6000000000000001, null, -0.4, -0.2, null, -1.7999999999999998, -1.5999999999999999, null, -1.7999999999999998, -1.9999999999999998, null, -0.6000000000000001, -0.4, null, -0.6000000000000001, -0.8, null, -2.8000000000000003, -2.6, null, -2.8000000000000003, -3.0000000000000004, null, -1.2, -1.4, null, -3.2000000000000006, -3.0000000000000004, null, -3.2000000000000006, -3.0000000000000004, null, -2.6, -2.4, null, -2.6, -2.8000000000000003, null, -1.2, -1.0, null, -1.9999999999999998, -2.1999999999999997, null, -1.9999999999999998, -1.7999999999999998, null, -1.7999999999999998, -1.9999999999999998, null, -1.5999999999999999, -1.7999999999999998, null, -1.5999999999999999, -1.4, null, -1.0, -1.2, null, -1.0, -0.8, null, -2.6, -2.4, null, -1.0, -0.8, null, -1.0, -1.2, null, -2.4, -2.6, null, -2.4, -2.1999999999999997, null, -2.4, -2.6, null, -2.4, -2.1999999999999997, null, -0.4, -0.2, null, -0.4, -0.6000000000000001, null, -2.8000000000000003, -3.0000000000000004, null, -2.8000000000000003, -2.6, null, -1.5999999999999999, -1.7999999999999998, null, -1.7999999999999998, -1.5999999999999999, null, -1.0, -1.2, null, -1.2, -1.4, null, -0.6000000000000001, -0.8, null, -3.2000000000000006, -3.0000000000000004, null, -0.2, 0, null, 0, -0.2, null, 0, -0.2, null, 0, -0.2, null, 0, -0.2, null, 0, -0.2, null, 0, -0.2, null, -2.4, -2.6, null, -3.2000000000000006, -3.0000000000000004, null, -1.2, -1.4, null, -1.2, -1.4, null, -1.2, -1.0, null, -1.0, -1.2, null, -1.0, -0.8, null, -1.5999999999999999, -1.4, null, -1.5999999999999999, -1.7999999999999998, null, -2.1999999999999997, -2.4, null, -2.1999999999999997, -1.9999999999999998, null, -0.8, -0.6000000000000001, null, -0.8, -1.0, null, -3.0000000000000004, -2.8000000000000003, null, -3.0000000000000004, -3.2000000000000006, null, -2.4, -2.1999999999999997, null, -2.4, -2.6, null, -2.6, -2.8000000000000003, null, -0.4, -0.2, null, -0.4, -0.6000000000000001, null, -0.4, -0.6000000000000001, null, -0.6000000000000001, -0.8, null, -0.6000000000000001, -0.4, null, -1.4, -1.5999999999999999, null, -0.2, -0.4, null, -0.6000000000000001, -0.8, null, -0.6000000000000001, -0.4, null, -2.6, -2.4, null, -3.2000000000000006, -3.0000000000000004, null, -3.0000000000000004, -2.8000000000000003, null, -3.0000000000000004, -3.2000000000000006, null, -1.7999999999999998, -1.5999999999999999, null, -1.7999999999999998, -1.9999999999999998, null, -1.0, -0.8, null, -0.8, -1.0, null, -0.8, -0.6000000000000001, null, -1.2, -1.0, null, -0.6000000000000001, -0.8, null, -2.4, -2.6, null, -1.2, -1.4, null, -1.2, -1.0, null, -1.0, -0.8, null, -0.4, -0.2, null, -2.8000000000000003, -2.6, null, -2.8000000000000003, -3.0000000000000004, null, -1.0, -0.8, null, -1.0, -1.2, null, -0.4, -0.2, null, -0.4, -0.6000000000000001, null, -1.9999999999999998, -1.7999999999999998, null, -1.9999999999999998, -2.1999999999999997, null, -1.5999999999999999, -1.7999999999999998, null, -1.5999999999999999, -1.4, null, -0.6000000000000001, -0.8, null, -1.9999999999999998, -1.7999999999999998, null, -2.1999999999999997, -1.9999999999999998, null, -2.6, -2.4, null, -2.1999999999999997, -1.9999999999999998, null, -1.4, -1.2, null, -1.2, -1.0, null, -2.6, -2.4, null, -2.6, -2.4, null, -3.2000000000000006, -3.0000000000000004, null, -2.8000000000000003, -3.0000000000000004, null, -3.0000000000000004, -3.2000000000000006, null, -3.0000000000000004, -2.8000000000000003, null, -1.5999999999999999, -1.7999999999999998, null, -1.2, -1.4, null, -2.6, -2.8000000000000003, null, -2.6, -2.4, null, -1.0, -1.2, null, -0.2, -0.4, null, -0.2, -0.4, null, -2.4, -2.1999999999999997, null, -0.6000000000000001, -0.8, null, -1.7999999999999998, -1.9999999999999998, null, -1.0, -0.8, null, -3.2000000000000006, -3.0000000000000004, null, -2.8000000000000003, -3.0000000000000004, null, -1.7999999999999998, -1.9999999999999998, null, -1.7999999999999998, -1.5999999999999999, null, -1.9999999999999998, -2.1999999999999997, null, -2.8000000000000003, -2.6, null, -2.8000000000000003, -3.0000000000000004, null, -1.4, -1.2, null, -1.7999999999999998, -1.9999999999999998, null, -1.4, -1.5999999999999999, null, -0.4, -0.2, null, -0.4, -0.6000000000000001, null, -0.4, -0.6000000000000001, null, -2.6, -2.8000000000000003, null, -2.1999999999999997, -1.9999999999999998, null, -2.1999999999999997, -1.9999999999999998, null, -2.1999999999999997, -1.9999999999999998, null, -1.9999999999999998, -1.7999999999999998, null, -1.7999999999999998, -1.5999999999999999, null, -1.4, -1.2, null, -2.8000000000000003, -2.6, null, -0.6000000000000001, -0.8, null, -2.1999999999999997, -2.4, null, -1.0, -0.8, null, -1.7999999999999998, -1.5999999999999999, null, -2.8000000000000003, -3.0000000000000004, null, -1.5999999999999999, -1.7999999999999998, null, -1.5999999999999999, -1.4, null, -3.0000000000000004, -3.2000000000000006, null, -3.0000000000000004, -3.2000000000000006, null, -1.4, -1.5999999999999999, null, -1.2, -1.0, null, -1.2, -1.4, null, -0.2, -0.4, null, -0.4, -0.2, null, -0.4, -0.6000000000000001, null, -1.0, -1.2, null, -1.0, -0.8, null, -2.8000000000000003, -3.0000000000000004, null, -1.0, -1.2, null, -0.6000000000000001, -0.8, null, -1.2, -1.0, null, -1.5999999999999999, -1.4, null, -1.5999999999999999, -1.7999999999999998, null, -0.2, -0.4, null, -2.8000000000000003, -3.0000000000000004, null, -2.8000000000000003, -2.6, null, -1.4, -1.2, null, -0.6000000000000001, -0.4, null, -1.4, -1.5999999999999999, null, -0.8, -1.0, null, -2.1999999999999997, -2.4, null, -2.1999999999999997, -1.9999999999999998, null, -2.4, -2.1999999999999997, null, -0.2, -0.4, null, -2.1999999999999997, -1.9999999999999998, null, -0.6000000000000001, -0.8, null, -2.8000000000000003, -2.6, null, -0.6000000000000001, -0.8, null, -2.4, -2.6, null, -2.8000000000000003, -2.6, null, -1.5999999999999999, -1.4, null, -0.4, -0.6000000000000001, null, -3.2000000000000006, -3.0000000000000004, null, -1.7999999999999998, -1.5999999999999999, null, -2.4, -2.1999999999999997, null, -2.4, -2.6, null, -2.1999999999999997, -2.4, null, -0.8, -0.6000000000000001, null, -1.5999999999999999, -1.4, null, -1.9999999999999998, -1.7999999999999998, null, -3.0000000000000004, -2.8000000000000003, null, -3.0000000000000004, -3.2000000000000006, null, -2.1999999999999997, -2.4, null, -1.7999999999999998, -1.9999999999999998, null], \"x\": [0.32187500000000013, 0.32187500000000013, null, 0.32187500000000013, 0.32187500000000013, null, 0.5625000000000013, 0.5625000000000014, null, 0.5625000000000013, 0.5625000000000012, null, 0.4375, 0.4375, null, 0.4375, 0.4375, null, 0.1875, 0.1875, null, 0.1875, 0.1875, null, 0.58125, 0.58125, null, 0.58125, 0.58125, null, 0.2687500000000005, 0.26875000000000043, null, 0.2687500000000005, 0.26875000000000054, null, 0.6125000000000014, 0.6125000000000013, null, 0.6125000000000014, 0.6125000000000015, null, 0.3625000000000001, 0.3625000000000001, null, 0.3625000000000001, 0.3625000000000001, null, 0.59375, 0.59375, null, 0.59375, 0.59375, null, 0.6125000000000004, 0.6125000000000005, null, 0.6125000000000004, 0.6125000000000003, null, 0.3375000000000001, 0.3375000000000001, null, 0.3625000000000001, 0.3625000000000001, null, 0.3625000000000001, 0.3625000000000001, null, 0.5375000000000009, 0.537500000000001, null, 0.5375000000000009, 0.5375000000000008, null, 0.9375, 0.9375, null, 0.9375, 0.9375, null, 0.31562500000000016, 0.31562500000000016, null, 0.31562500000000016, 0.31562500000000016, null, 0.25625, 0.25625, null, 0.25625, 0.25625, null, 0.6125000000000008, 0.6125000000000009, null, 0.6125000000000008, 0.6125000000000007, null, 0.31875000000000014, 0.31562500000000016, null, 0.31875000000000014, 0.32187500000000013, null, 0.31875000000000014, 0.3187500000000001, null, 0.26875000000000043, 0.2687500000000004, null, 0.5125, 0.5125, null, 0.5125, 0.5125, null, 0.28750000000000003, 0.28750000000000003, null, 0.28750000000000003, 0.28750000000000003, null, 0.0625, 0.0625, null, 0.0625, 0.0625, null, 0.5625000000000006, 0.5625000000000007, null, 0.5625000000000006, 0.5625000000000004, null, 0.2687500000000004, 0.2687500000000003, null, 0.4375, 0.4375, null, 0.4375, 0.4375, null, 0.5625000000000001, 0.5625000000000002, null, 0.5625000000000001, 0.5625, null, 0.31562500000000016, 0.31562500000000016, null, 0.28750000000000003, 0.28750000000000003, null, 0.28750000000000003, 0.28750000000000003, null, 0.1875, 0.1875, null, 0.1875, 0.1875, null, 0.3375000000000001, 0.3375000000000001, null, 0.3375000000000001, 0.3375000000000001, null, 0.3625000000000001, 0.3625000000000001, null, 0.3625000000000001, 0.3625000000000001, null, 0.9375, 0.9375, null, 0.9375, 0.9375, null, 0.4375, 0.4375, null, 0.4375, 0.4375, null, 0.4375, 0.4375, null, 0.4375, 0.4375, null, 0.3375000000000001, 0.3375000000000001, null, 0.3375000000000001, 0.3375000000000001, null, 0.1875, 0.1875, null, 0.537500000000001, 0.5375000000000011, null, 0.6125000000000013, 0.6125000000000012, null, 0.5125, 0.5125, null, 0.0625, 0.0625, null, 0.0625, 0.0625, null, 0.3625000000000001, 0.3625000000000001, null, 0.3625000000000001, 0.3625000000000001, null, 0.59375, 0.59375, null, 0.59375, 0.59375, null, 0.58125, 0.58125, null, 0.3187500000000001, 0.31250000000000006, null, 0.3625000000000001, 0.3625000000000001, null, 0.4375, 0.4375, null, 0.4375, 0.4375, null, 0.26875000000000016, 0.2687500000000001, null, 0.26875000000000016, 0.2687500000000002, null, 0.8125, 0.8125, null, 0.8125, 0.8125, null, 0.28750000000000003, 0.28750000000000003, null, 0.28750000000000003, 0.28750000000000003, null, 0.25625, 0.25625, null, 0.25625, 0.25625, null, 0.32187500000000013, 0.32187500000000013, null, 0.26875000000000054, 0.2687500000000006, null, 0.2625, 0.25625, null, 0.2625, 0.3125, null, 0.2625, 0.26875, null, 0.4375, 0.5, null, 0.5375000000000005, 0.5375000000000006, null, 0.5375000000000005, 0.5375000000000004, null, 0.59375, 0.59375, null, 0.59375, 0.59375, null, 0.0625, 0.0625, null, 0.0625, 0.0625, null, 0.5625000000000003, 0.5625000000000002, null, 0.5625000000000003, 0.5625000000000004, null, 0.25625, 0.25625, null, 0.1875, 0.1875, null, 0.1875, 0.1875, null, 0.3062500000000004, 0.30625000000000036, null, 0.3062500000000004, 0.30625000000000047, null, 0.5375000000000001, 0.5375, null, 0.5375000000000001, 0.5375000000000002, null, 0.25625, 0.25625, null, 0.25625, 0.25625, null, 0.0625, 0.0625, null, 0.5625000000000016, 0.5625000000000014, null, 0.8125, 0.8125, null, 0.3625000000000001, 0.3625000000000001, null, 0.3625000000000001, 0.3625000000000001, null, 0.5375000000000004, 0.5375000000000003, null, 0.5625000000000009, 0.562500000000001, null, 0.5625000000000009, 0.5625000000000008, null, 0.31562500000000016, 0.31562500000000016, null, 0.25625, 0.25625, null, 0.25625, 0.25625, null, 0.59375, 0.59375, null, 0.59375, 0.59375, null, 0.4375, 0.4375, null, 0.5125, 0.5125, null, 0.5125, 0.5125, null, 0.9375, 0.9375, null, 0.9375, 0.9375, null, 0.8125, 0.8125, null, 0.8125, 0.8125, null, 0.5125, 0.5625, null, 0.5125, 0.5125, null, 0.6875, 0.6875, null, 0.6875, 0.6875, null, 0.5625000000000007, 0.5625000000000008, null, 0.2687500000000003, 0.26875000000000027, null, 0.3375000000000001, 0.3375000000000001, null, 0.6125000000000005, 0.6125000000000006, null, 0.0625, 0.0625, null, 0.4375, 0.4375, null, 0.0625, 0.5, null, 0.5, 0.1875, null, 0.5, 0.3125, null, 0.5, 0.5625, null, 0.5, 0.6875, null, 0.5, 0.8125, null, 0.5, 0.9375, null, 0.3375000000000001, 0.3375000000000001, null, 0.6125000000000016, 0.6125000000000015, null, 0.5125, 0.5125, null, 0.30625000000000024, 0.3062500000000003, null, 0.30625000000000024, 0.3062500000000002, null, 0.1875, 0.1875, null, 0.1875, 0.1875, null, 0.1875, 0.1875, null, 0.1875, 0.1875, null, 0.4375, 0.4375, null, 0.4375, 0.4375, null, 0.28750000000000003, 0.28750000000000003, null, 0.28750000000000003, 0.28750000000000003, null, 0.31562500000000016, 0.31562500000000016, null, 0.31562500000000016, 0.31562500000000016, null, 0.3062500000000006, 0.3062500000000005, null, 0.3062500000000006, 0.30625000000000063, null, 0.30625000000000063, 0.3062500000000007, null, 0.5875, 0.5625, null, 0.5875, 0.58125, null, 0.5875, 0.59375, null, 0.9375, 0.9375, null, 0.9375, 0.9375, null, 0.3062500000000003, 0.30625000000000036, null, 0.8125, 0.8125, null, 0.6875, 0.6875, null, 0.6875, 0.6875, null, 0.6875, 0.6875, null, 0.28750000000000003, 0.28750000000000003, null, 0.58125, 0.58125, null, 0.58125, 0.58125, null, 0.8125, 0.8125, null, 0.8125, 0.8125, null, 0.5375000000000003, 0.5375000000000002, null, 0.58125, 0.58125, null, 0.58125, 0.58125, null, 0.58125, 0.58125, null, 0.1875, 0.1875, null, 0.5375000000000011, 0.5375000000000012, null, 0.6875, 0.6875, null, 0.6875, 0.6875, null, 0.3062500000000002, 0.30625000000000013, null, 0.5625, 0.5625, null, 0.0625, 0.0625, null, 0.0625, 0.0625, null, 0.9375, 0.9375, null, 0.9375, 0.9375, null, 0.3375000000000001, 0.3125, null, 0.3375000000000001, 0.3375000000000001, null, 0.6875, 0.6875, null, 0.6875, 0.6875, null, 0.32187500000000013, 0.32187500000000013, null, 0.32187500000000013, 0.32187500000000013, null, 0.26875, 0.26875000000000004, null, 0.0625, 0.0625, null, 0.32187500000000013, 0.32187500000000013, null, 0.1875, 0.1875, null, 0.28750000000000003, 0.28750000000000003, null, 0.3625000000000001, 0.3625000000000001, null, 0.31562500000000016, 0.31562500000000016, null, 0.0625, 0.0625, null, 0.25625, 0.25625, null, 0.32187500000000013, 0.32187500000000013, null, 0.2687500000000006, 0.26875000000000066, null, 0.5375000000000014, 0.5375000000000015, null, 0.5375000000000014, 0.5375000000000013, null, 0.59375, 0.59375, null, 0.3375000000000001, 0.3375000000000001, null, 0.31562500000000016, 0.31562500000000016, null, 0.31562500000000016, 0.31562500000000016, null, 0.3625000000000001, 0.3625000000000001, null, 0.5625, 0.5375, null, 0.5625, 0.6125, null, 0.6875, 0.6875, null, 0.59375, 0.59375, null, 0.32187500000000013, 0.32187500000000013, null, 0.25625, 0.25625, null, 0.3062500000000008, 0.30625000000000074, null, 0.59375, 0.59375, null, 0.5125, 0.5125, null, 0.5125, 0.5125, null, 0.6125000000000009, 0.612500000000001, null, 0.5125, 0.5125, null, 0.5125, 0.5125, null, 0.32187500000000013, 0.32187500000000013, null, 0.58125, 0.58125, null, 0.5125, 0.5125, null, 0.3625000000000001, 0.3125, null, 0.3625000000000001, 0.3625000000000001, null, 0.6125, 0.6125000000000002, null, 0.3375000000000001, 0.3375000000000001, null, 0.5125, 0.5125, null, 0.8125, 0.8125, null, 0.3062500000000005, 0.30625000000000047, null, 0.3375000000000001, 0.3375000000000001, null, 0.5375000000000008, 0.5375000000000006, null, 0.1875, 0.1875, null, 0.5375000000000013, 0.5375000000000012, null, 0.25625, 0.25625, null, 0.562500000000001, 0.5625000000000011, null, 0.6875, 0.6875, null, 0.6875, 0.6875, null, 0.3062500000000007, 0.30625000000000074, null, 0.3375000000000001, 0.3375000000000001, null, 0.3375000000000001, 0.3375000000000001, null, 0.0625, 0.0625, null, 0.6875, 0.6875, null, 0.6125000000000006, 0.6125000000000007, null, 0.28750000000000003, 0.28750000000000003, null, 0.28750000000000003, 0.28750000000000003, null, 0.9375, 0.9375, null, 0.31250000000000006, 0.3125, null, 0.31250000000000006, 0.3062500000000001, null, 0.8125, 0.8125, null, 0.8125, 0.8125, null, 0.32187500000000013, 0.32187500000000013, null, 0.32187500000000013, 0.32187500000000013, null, 0.6125000000000002, 0.6125000000000003, null, 0.4375, 0.4375, null, 0.9375, 0.9375, null, 0.9375, 0.9375, null, 0.3125, 0.28750000000000003, null, 0.8125, 0.8125, null, 0.8125, 0.8125, null, 0.9375, 0.9375, null, 0.28750000000000003, 0.28750000000000003, null, 0.0625, 0.0625, null, 0.26875000000000004, 0.2687500000000001, null, 0.58125, 0.58125, null, 0.58125, 0.58125, null, 0.31562500000000016, 0.31562500000000016, null, 0.6875, 0.6875, null, 0.31562500000000016, 0.31562500000000016, null, 0.3062500000000001, 0.30625000000000013, null, 0.9375, 0.9375, null, 0.5125, 0.5125, null, 0.5625000000000011, 0.5625000000000012, null, 0.58125, 0.58125, null, 0.26875000000000027, 0.2687500000000002, null, 0.8125, 0.8125, null, 0.59375, 0.59375, null, 0.0625, 0.0625, null, 0.6125000000000012, 0.612500000000001, null, 0.58125, 0.58125, null, 0.59375, 0.59375, null, 0.8125, 0.8125, null, 0.6875, 0.6875, null, 0.25625, 0.25625, null, 0.3375000000000001, 0.3375000000000001, null, 0.26875000000000066, 0.2687500000000007, null, 0.1875, 0.1875, null, 0.28750000000000003, 0.28750000000000003, null], \"line\": {\"color\": \"rgb(25,25,25)\", \"width\": 1}, \"type\": \"scatter\"}, {\"text\": [\"00\", \"0b\", \"0b\", \"0b\", \"0c\", \"0c\", \"0d\", \"0d\", \"0d\", \"0d\", \"0e\", \"0e\", \"0e\", \"0f\", \"0f\", \"0f\", \"0f\", \"0g\", \"0g\", \"0h\", \"0h\", \"1b\", \"1b\", \"1b\", \"1c\", \"1c\", \"1d\", \"1d\", \"1d\", \"1d\", \"1d\", \"1e\", \"1e\", \"1f\", \"1f\", \"1f\", \"1f\", \"1f\", \"1g\", \"1g\", \"1h\", \"2c\", \"2c\", \"2d\", \"2d\", \"2d\", \"2d\", \"2d\", \"2d\", \"2e\", \"2e\", \"2e\", \"2e\", \"2e\", \"2e\", \"2f\", \"2f\", \"2g\", \"2g\", \"2g\", \"2g\", \"3b\", \"3b\", \"3c\", \"3c\", \"3d\", \"3d\", \"3d\", \"3d\", \"3d\", \"3d\", \"3d\", \"3e\", \"3e\", \"3e\", \"3f\", \"3g\", \"3g\", \"3g\", \"3g\", \"3g\", \"4c\", \"4c\", \"4c\", \"4d\", \"4d\", \"4d\", \"4d\", \"4e\", \"4e\", \"4e\", \"4e\", \"4f\", \"4f\", \"4f\", \"4f\", \"4f\", \"4g\", \"4g\", \"4g\", \"4h\", \"5a\", \"5b\", \"5b\", \"5b\", \"5c\", \"5d\", \"5d\", \"5d\", \"5d\", \"5d\", \"5e\", \"5f\", \"5f\", \"5g\", \"5g\", \"5g\", \"5g\", \"5g\", \"5g\", \"5h\", \"6a\", \"6a\", \"6c\", \"6c\", \"6d\", \"6d\", \"6d\", \"6d\", \"6e\", \"6e\", \"6e\", \"6e\", \"6e\", \"6g\", \"6g\", \"6g\", \"6g\", \"6g\", \"6g\", \"6h\", \"c3\", \"c4\", \"d4\", \"e3\", \"e4\", \"f3\", \"f4\", \"g3\", \"b6\", \"b6\", \"c5\", \"c6\", \"c6\", \"d5\", \"d5\", \"d6\", \"e5\", \"e5\", \"e5\", \"e6\", \"e6\", \"e6\", \"f5\", \"g6\", \"c3\", \"c3\", \"c3\", \"c4\", \"c4\", \"c4\", \"d4\", \"e2\", \"e3\", \"e4\", \"f3\", \"f3\", \"f3\", \"f3\", \"f3\", \"f4\", \"f4\", \"g2\", \"g3\", \"b7\", \"b7\", \"c6\", \"c6\", \"c7\", \"d5\", \"d5\", \"d5\", \"d5\", \"d5\", \"d6\", \"d6\", \"e6\", \"e6\", \"e6\", \"f5\", \"f6\", \"f6\", \"g7\", \"b5\", \"b5\", \"c3\", \"c4\", \"d3\", \"d3\", \"d3\", \"d4\", \"d4\", \"d4\", \"d5\", \"d5\", \"e3\", \"f3\", \"f3\", \"f3\", \"g2\", \"g3\", \"g3\", \"g5\", \"a6\", \"c5\", \"c6\", \"d4\", \"d5\", \"d5\", \"d6\", \"d6\", \"d6\", \"d6\", \"d7\", \"d7\", \"e4\", \"e4\", \"e5\", \"e6\", \"e7\", \"f6\", \"f6\", \"g6\", \"a4\", \"c3\", \"c3\", \"c3\", \"c3\", \"c3\", \"c4\", \"d4\", \"d5\", \"e2\", \"e3\", \"e4\", \"e5\", \"f3\", \"g1\", \"g2\", \"g3\", \"g3\", \"h4\", \"h4\", \"a6\", \"b4\", \"c6\", \"c6\", \"d4\", \"d5\", \"d5\", \"d6\", \"d8\", \"e5\", \"e6\", \"e6\", \"f6\", \"f6\", \"f6\", \"f6\", \"f6\", \"f6\", \"f6\", \"g8\", \"c3\", \"c4\", \"d3\", \"d4\", \"d5\", \"d7\", \"f3\", \"f3\", \"f3\", \"f4\", \"f4\", \"f6\", \"g1\", \"g1\", \"g2\", \"g2\", \"g5\", \"g5\", \"h3\", \"h3\"], \"y\": [0, -1.9999999999999998, -1.9999999999999998, -1.9999999999999998, -1.9999999999999998, -1.9999999999999998, -1.9999999999999998, -1.9999999999999998, -1.9999999999999998, -1.9999999999999998, -1.9999999999999998, -1.9999999999999998, -1.9999999999999998, -1.9999999999999998, -1.9999999999999998, -1.9999999999999998, -1.9999999999999998, -1.9999999999999998, -1.9999999999999998, -1.9999999999999998, -1.9999999999999998, -2.1999999999999997, -2.1999999999999997, -2.1999999999999997, -2.1999999999999997, -2.1999999999999997, -2.1999999999999997, -2.1999999999999997, -2.1999999999999997, -2.1999999999999997, -2.1999999999999997, -2.1999999999999997, -2.1999999999999997, -2.1999999999999997, -2.1999999999999997, -2.1999999999999997, -2.1999999999999997, -2.1999999999999997, -2.1999999999999997, -2.1999999999999997, -2.1999999999999997, -2.4, -2.4, -2.4, -2.4, -2.4, -2.4, -2.4, -2.4, -2.4, -2.4, -2.4, -2.4, -2.4, -2.4, -2.4, -2.4, -2.4, -2.4, -2.4, -2.4, -2.6, -2.6, -2.6, -2.6, -2.6, -2.6, -2.6, -2.6, -2.6, -2.6, -2.6, -2.6, -2.6, -2.6, -2.6, -2.6, -2.6, -2.6, -2.6, -2.6, -2.8000000000000003, -2.8000000000000003, -2.8000000000000003, -2.8000000000000003, -2.8000000000000003, -2.8000000000000003, -2.8000000000000003, -2.8000000000000003, -2.8000000000000003, -2.8000000000000003, -2.8000000000000003, -2.8000000000000003, -2.8000000000000003, -2.8000000000000003, -2.8000000000000003, -2.8000000000000003, -2.8000000000000003, -2.8000000000000003, -2.8000000000000003, -2.8000000000000003, -3.0000000000000004, -3.0000000000000004, -3.0000000000000004, -3.0000000000000004, -3.0000000000000004, -3.0000000000000004, -3.0000000000000004, -3.0000000000000004, -3.0000000000000004, -3.0000000000000004, -3.0000000000000004, -3.0000000000000004, -3.0000000000000004, -3.0000000000000004, -3.0000000000000004, -3.0000000000000004, -3.0000000000000004, -3.0000000000000004, -3.0000000000000004, -3.0000000000000004, -3.2000000000000006, -3.2000000000000006, -3.2000000000000006, -3.2000000000000006, -3.2000000000000006, -3.2000000000000006, -3.2000000000000006, -3.2000000000000006, -3.2000000000000006, -3.2000000000000006, -3.2000000000000006, -3.2000000000000006, -3.2000000000000006, -3.2000000000000006, -3.2000000000000006, -3.2000000000000006, -3.2000000000000006, -3.2000000000000006, -3.2000000000000006, -3.2000000000000006, -0.2, -0.2, -0.2, -0.2, -0.2, -0.2, -0.2, -0.2, -0.4, -0.4, -0.4, -0.4, -0.4, -0.4, -0.4, -0.4, -0.4, -0.4, -0.4, -0.4, -0.4, -0.4, -0.4, -0.4, -0.6000000000000001, -0.6000000000000001, -0.6000000000000001, -0.6000000000000001, -0.6000000000000001, -0.6000000000000001, -0.6000000000000001, -0.6000000000000001, -0.6000000000000001, -0.6000000000000001, -0.6000000000000001, -0.6000000000000001, -0.6000000000000001, -0.6000000000000001, -0.6000000000000001, -0.6000000000000001, -0.6000000000000001, -0.6000000000000001, -0.6000000000000001, -0.8, -0.8, -0.8, -0.8, -0.8, -0.8, -0.8, -0.8, -0.8, -0.8, -0.8, -0.8, -0.8, -0.8, -0.8, -0.8, -0.8, -0.8, -0.8, -1.0, -1.0, -1.0, -1.0, -1.0, -1.0, -1.0, -1.0, -1.0, -1.0, -1.0, -1.0, -1.0, -1.0, -1.0, -1.0, -1.0, -1.0, -1.0, -1.0, -1.2, -1.2, -1.2, -1.2, -1.2, -1.2, -1.2, -1.2, -1.2, -1.2, -1.2, -1.2, -1.2, -1.2, -1.2, -1.2, -1.2, -1.2, -1.2, -1.2, -1.4, -1.4, -1.4, -1.4, -1.4, -1.4, -1.4, -1.4, -1.4, -1.4, -1.4, -1.4, -1.4, -1.4, -1.4, -1.4, -1.4, -1.4, -1.4, -1.4, -1.5999999999999999, -1.5999999999999999, -1.5999999999999999, -1.5999999999999999, -1.5999999999999999, -1.5999999999999999, -1.5999999999999999, -1.5999999999999999, -1.5999999999999999, -1.5999999999999999, -1.5999999999999999, -1.5999999999999999, -1.5999999999999999, -1.5999999999999999, -1.5999999999999999, -1.5999999999999999, -1.5999999999999999, -1.5999999999999999, -1.5999999999999999, -1.5999999999999999, -1.7999999999999998, -1.7999999999999998, -1.7999999999999998, -1.7999999999999998, -1.7999999999999998, -1.7999999999999998, -1.7999999999999998, -1.7999999999999998, -1.7999999999999998, -1.7999999999999998, -1.7999999999999998, -1.7999999999999998, -1.7999999999999998, -1.7999999999999998, -1.7999999999999998, -1.7999999999999998, -1.7999999999999998, -1.7999999999999998, -1.7999999999999998, -1.7999999999999998], \"mode\": \"markers\", \"hoverinfo\": \"text\", \"marker\": {\"color\": \"rgb(0,240,0)\", \"symbol\": \"dot\", \"size\": 28}, \"x\": [0.5, 0.8125, 0.31562500000000016, 0.4375, 0.30625000000000047, 0.25625, 0.1875, 0.0625, 0.2687500000000004, 0.5625000000000009, 0.32187500000000013, 0.58125, 0.3625000000000001, 0.9375, 0.5375000000000009, 0.59375, 0.5125, 0.28750000000000003, 0.6875, 0.6125000000000009, 0.3375000000000001, 0.31562500000000016, 0.25625, 0.3625000000000001, 0.1875, 0.562500000000001, 0.4375, 0.0625, 0.26875000000000043, 0.3062500000000005, 0.6875, 0.9375, 0.59375, 0.8125, 0.58125, 0.3375000000000001, 0.28750000000000003, 0.612500000000001, 0.32187500000000013, 0.537500000000001, 0.5125, 0.1875, 0.3625000000000001, 0.3062500000000006, 0.32187500000000013, 0.4375, 0.28750000000000003, 0.0625, 0.6875, 0.3375000000000001, 0.31562500000000016, 0.25625, 0.5625000000000011, 0.5375000000000011, 0.5125, 0.9375, 0.6125000000000012, 0.2687500000000005, 0.8125, 0.59375, 0.58125, 0.6125000000000013, 0.26875000000000054, 0.6875, 0.59375, 0.5625000000000012, 0.30625000000000063, 0.32187500000000013, 0.3375000000000001, 0.25625, 0.3625000000000001, 0.28750000000000003, 0.31562500000000016, 0.8125, 0.5125, 0.5375000000000012, 0.4375, 0.0625, 0.9375, 0.58125, 0.1875, 0.6125000000000014, 0.6875, 0.0625, 0.59375, 0.3625000000000001, 0.28750000000000003, 0.9375, 0.8125, 0.58125, 0.1875, 0.32187500000000013, 0.5125, 0.5625000000000013, 0.3375000000000001, 0.5375000000000013, 0.4375, 0.3062500000000007, 0.25625, 0.31562500000000016, 0.2687500000000006, 0.0625, 0.59375, 0.1875, 0.4375, 0.31562500000000016, 0.8125, 0.5625000000000014, 0.6125000000000015, 0.6875, 0.3625000000000001, 0.58125, 0.28750000000000003, 0.5375000000000014, 0.32187500000000013, 0.3375000000000001, 0.30625000000000074, 0.25625, 0.5125, 0.9375, 0.26875000000000066, 0.6875, 0.3375000000000001, 0.59375, 0.2687500000000007, 0.8125, 0.6125000000000016, 0.4375, 0.31562500000000016, 0.3625000000000001, 0.58125, 0.28750000000000003, 0.1875, 0.0625, 0.5125, 0.5375000000000015, 0.25625, 0.32187500000000013, 0.3062500000000008, 0.9375, 0.5625000000000016, 0.9375, 0.0625, 0.5625, 0.8125, 0.3125, 0.6875, 0.4375, 0.1875, 0.5625, 0.4375, 0.2625, 0.5375, 0.28750000000000003, 0.9375, 0.6125, 0.3375000000000001, 0.0625, 0.8125, 0.31250000000000006, 0.5125, 0.3625000000000001, 0.1875, 0.5875, 0.6875, 0.5375000000000001, 0.0625, 0.8125, 0.6125000000000002, 0.5125, 0.6875, 0.3375000000000001, 0.25625, 0.58125, 0.9375, 0.4375, 0.26875, 0.3187500000000001, 0.3625000000000001, 0.59375, 0.5625000000000001, 0.3062500000000001, 0.1875, 0.28750000000000003, 0.4375, 0.5625000000000002, 0.9375, 0.31875000000000014, 0.5375000000000002, 0.8125, 0.5125, 0.3375000000000001, 0.30625000000000013, 0.28750000000000003, 0.26875000000000004, 0.3625000000000001, 0.6125000000000003, 0.25625, 0.59375, 0.1875, 0.0625, 0.58125, 0.6875, 0.31562500000000016, 0.2687500000000001, 0.6125000000000004, 0.58125, 0.32187500000000013, 0.5375000000000003, 0.1875, 0.9375, 0.8125, 0.3625000000000001, 0.3375000000000001, 0.3062500000000002, 0.4375, 0.5625000000000003, 0.5125, 0.0625, 0.28750000000000003, 0.25625, 0.6875, 0.59375, 0.31562500000000016, 0.0625, 0.5125, 0.8125, 0.3375000000000001, 0.25625, 0.58125, 0.5375000000000004, 0.5625000000000004, 0.6875, 0.26875000000000016, 0.3625000000000001, 0.30625000000000024, 0.28750000000000003, 0.1875, 0.9375, 0.59375, 0.6125000000000005, 0.32187500000000013, 0.4375, 0.31562500000000016, 0.5125, 0.3375000000000001, 0.58125, 0.3625000000000001, 0.3062500000000003, 0.1875, 0.8125, 0.9375, 0.4375, 0.5625000000000006, 0.28750000000000003, 0.25625, 0.6125000000000006, 0.2687500000000002, 0.6875, 0.0625, 0.32187500000000013, 0.5375000000000005, 0.59375, 0.26875000000000027, 0.6125000000000007, 0.3625000000000001, 0.4375, 0.25625, 0.9375, 0.32187500000000013, 0.5125, 0.3375000000000001, 0.5375000000000006, 0.58125, 0.5625000000000007, 0.31562500000000016, 0.30625000000000036, 0.1875, 0.8125, 0.28750000000000003, 0.6875, 0.59375, 0.0625, 0.8125, 0.3062500000000004, 0.58125, 0.4375, 0.5375000000000008, 0.2687500000000003, 0.9375, 0.1875, 0.28750000000000003, 0.3625000000000001, 0.25625, 0.59375, 0.31562500000000016, 0.6875, 0.32187500000000013, 0.0625, 0.6125000000000008, 0.5125, 0.3375000000000001, 0.5625000000000008], \"type\": \"scatter\"}], {\"autosize\": false, \"title\": \"Graph\", \"plot_bgcolor\": \"#efecea\", \"yaxis\": {\"zeroline\": false, \"showline\": false, \"showticklabels\": false, \"showgrid\": false, \"title\": \"\"}, \"showlegend\": false, \"height\": 600, \"width\": 600, \"xaxis\": {\"zeroline\": false, \"showline\": false, \"showticklabels\": false, \"showgrid\": false, \"title\": \"\"}, \"hovermode\": \"closest\", \"font\": {\"family\": \"Balto\"}, \"margin\": {\"b\": 85, \"r\": 40, \"pad\": 0, \"t\": 100, \"l\": 40}, \"annotations\": [{\"xref\": \"x1\", \"yref\": \"y1\", \"text\": \"00\", \"y\": 0.075, \"x\": 0.5, \"font\": {\"color\": \"rgb(10,10,10)\", \"size\": 14}, \"showarrow\": false}, {\"xref\": \"x1\", \"yref\": \"y1\", \"text\": \"0b\", \"y\": -1.9249999999999998, \"x\": 0.8125, \"font\": {\"color\": \"rgb(10,10,10)\", \"size\": 14}, \"showarrow\": false}, {\"xref\": \"x1\", \"yref\": \"y1\", \"text\": \"0b\", \"y\": -1.9249999999999998, \"x\": 0.31562500000000016, \"font\": {\"color\": \"rgb(10,10,10)\", \"size\": 14}, \"showarrow\": false}, {\"xref\": \"x1\", \"yref\": \"y1\", \"text\": \"0b\", \"y\": -1.9249999999999998, \"x\": 0.4375, \"font\": {\"color\": \"rgb(10,10,10)\", \"size\": 14}, \"showarrow\": false}, {\"xref\": \"x1\", \"yref\": \"y1\", \"text\": \"0c\", \"y\": -1.9249999999999998, \"x\": 0.30625000000000047, \"font\": {\"color\": \"rgb(10,10,10)\", \"size\": 14}, \"showarrow\": false}, {\"xref\": \"x1\", \"yref\": \"y1\", \"text\": \"0c\", \"y\": -1.9249999999999998, \"x\": 0.25625, \"font\": {\"color\": \"rgb(10,10,10)\", \"size\": 14}, \"showarrow\": false}, {\"xref\": \"x1\", \"yref\": \"y1\", \"text\": \"0d\", \"y\": -1.9249999999999998, \"x\": 0.1875, \"font\": {\"color\": \"rgb(10,10,10)\", \"size\": 14}, \"showarrow\": false}, {\"xref\": \"x1\", \"yref\": \"y1\", \"text\": \"0d\", \"y\": -1.9249999999999998, \"x\": 0.0625, \"font\": {\"color\": \"rgb(10,10,10)\", \"size\": 14}, \"showarrow\": false}, {\"xref\": \"x1\", \"yref\": \"y1\", \"text\": \"0d\", \"y\": -1.9249999999999998, \"x\": 0.2687500000000004, \"font\": {\"color\": \"rgb(10,10,10)\", \"size\": 14}, \"showarrow\": false}, {\"xref\": \"x1\", \"yref\": \"y1\", \"text\": \"0d\", \"y\": -1.9249999999999998, \"x\": 0.5625000000000009, \"font\": {\"color\": \"rgb(10,10,10)\", \"size\": 14}, \"showarrow\": false}, {\"xref\": \"x1\", \"yref\": \"y1\", \"text\": \"0e\", \"y\": -1.9249999999999998, \"x\": 0.32187500000000013, \"font\": {\"color\": \"rgb(10,10,10)\", \"size\": 14}, \"showarrow\": false}, {\"xref\": \"x1\", \"yref\": \"y1\", \"text\": \"0e\", \"y\": -1.9249999999999998, \"x\": 0.58125, \"font\": {\"color\": \"rgb(10,10,10)\", \"size\": 14}, \"showarrow\": false}, {\"xref\": \"x1\", \"yref\": \"y1\", \"text\": \"0e\", \"y\": -1.9249999999999998, \"x\": 0.3625000000000001, \"font\": {\"color\": \"rgb(10,10,10)\", \"size\": 14}, \"showarrow\": false}, {\"xref\": \"x1\", \"yref\": \"y1\", \"text\": \"0f\", \"y\": -1.9249999999999998, \"x\": 0.9375, \"font\": {\"color\": \"rgb(10,10,10)\", \"size\": 14}, \"showarrow\": false}, {\"xref\": \"x1\", \"yref\": \"y1\", \"text\": \"0f\", \"y\": -1.9249999999999998, \"x\": 0.5375000000000009, \"font\": {\"color\": \"rgb(10,10,10)\", \"size\": 14}, \"showarrow\": false}, {\"xref\": \"x1\", \"yref\": \"y1\", \"text\": \"0f\", \"y\": -1.9249999999999998, \"x\": 0.59375, \"font\": {\"color\": \"rgb(10,10,10)\", \"size\": 14}, \"showarrow\": false}, {\"xref\": \"x1\", \"yref\": \"y1\", \"text\": \"0f\", \"y\": -1.9249999999999998, \"x\": 0.5125, \"font\": {\"color\": \"rgb(10,10,10)\", \"size\": 14}, \"showarrow\": false}, {\"xref\": \"x1\", \"yref\": \"y1\", \"text\": \"0g\", \"y\": -1.9249999999999998, \"x\": 0.28750000000000003, \"font\": {\"color\": \"rgb(10,10,10)\", \"size\": 14}, \"showarrow\": false}, {\"xref\": \"x1\", \"yref\": \"y1\", \"text\": \"0g\", \"y\": -1.9249999999999998, \"x\": 0.6875, \"font\": {\"color\": \"rgb(10,10,10)\", \"size\": 14}, \"showarrow\": false}, {\"xref\": \"x1\", \"yref\": \"y1\", \"text\": \"0h\", \"y\": -1.9249999999999998, \"x\": 0.6125000000000009, \"font\": {\"color\": \"rgb(10,10,10)\", \"size\": 14}, \"showarrow\": false}, {\"xref\": \"x1\", \"yref\": \"y1\", \"text\": \"0h\", \"y\": -1.9249999999999998, \"x\": 0.3375000000000001, \"font\": {\"color\": \"rgb(10,10,10)\", \"size\": 14}, \"showarrow\": false}, {\"xref\": \"x1\", \"yref\": \"y1\", \"text\": \"1b\", \"y\": -2.1249999999999996, \"x\": 0.31562500000000016, \"font\": {\"color\": \"rgb(10,10,10)\", \"size\": 14}, \"showarrow\": false}, {\"xref\": \"x1\", \"yref\": \"y1\", \"text\": \"1b\", \"y\": -2.1249999999999996, \"x\": 0.25625, \"font\": {\"color\": \"rgb(10,10,10)\", \"size\": 14}, \"showarrow\": false}, {\"xref\": \"x1\", \"yref\": \"y1\", \"text\": \"1b\", \"y\": -2.1249999999999996, \"x\": 0.3625000000000001, \"font\": {\"color\": \"rgb(10,10,10)\", \"size\": 14}, \"showarrow\": false}, {\"xref\": \"x1\", \"yref\": \"y1\", \"text\": \"1c\", \"y\": -2.1249999999999996, \"x\": 0.1875, \"font\": {\"color\": \"rgb(10,10,10)\", \"size\": 14}, \"showarrow\": false}, {\"xref\": \"x1\", \"yref\": \"y1\", \"text\": \"1c\", \"y\": -2.1249999999999996, \"x\": 0.562500000000001, \"font\": {\"color\": \"rgb(10,10,10)\", \"size\": 14}, \"showarrow\": false}, {\"xref\": \"x1\", \"yref\": \"y1\", \"text\": \"1d\", \"y\": -2.1249999999999996, \"x\": 0.4375, \"font\": {\"color\": \"rgb(10,10,10)\", \"size\": 14}, \"showarrow\": false}, {\"xref\": \"x1\", \"yref\": \"y1\", \"text\": \"1d\", \"y\": -2.1249999999999996, \"x\": 0.0625, \"font\": {\"color\": \"rgb(10,10,10)\", \"size\": 14}, \"showarrow\": false}, {\"xref\": \"x1\", \"yref\": \"y1\", \"text\": \"1d\", \"y\": -2.1249999999999996, \"x\": 0.26875000000000043, \"font\": {\"color\": \"rgb(10,10,10)\", \"size\": 14}, \"showarrow\": false}, {\"xref\": \"x1\", \"yref\": \"y1\", \"text\": \"1d\", \"y\": -2.1249999999999996, \"x\": 0.3062500000000005, \"font\": {\"color\": \"rgb(10,10,10)\", \"size\": 14}, \"showarrow\": false}, {\"xref\": \"x1\", \"yref\": \"y1\", \"text\": \"1d\", \"y\": -2.1249999999999996, \"x\": 0.6875, \"font\": {\"color\": \"rgb(10,10,10)\", \"size\": 14}, \"showarrow\": false}, {\"xref\": \"x1\", \"yref\": \"y1\", \"text\": \"1e\", \"y\": -2.1249999999999996, \"x\": 0.9375, \"font\": {\"color\": \"rgb(10,10,10)\", \"size\": 14}, \"showarrow\": false}, {\"xref\": \"x1\", \"yref\": \"y1\", \"text\": \"1e\", \"y\": -2.1249999999999996, \"x\": 0.59375, \"font\": {\"color\": \"rgb(10,10,10)\", \"size\": 14}, \"showarrow\": false}, {\"xref\": \"x1\", \"yref\": \"y1\", \"text\": \"1f\", \"y\": -2.1249999999999996, \"x\": 0.8125, \"font\": {\"color\": \"rgb(10,10,10)\", \"size\": 14}, \"showarrow\": false}, {\"xref\": \"x1\", \"yref\": \"y1\", \"text\": \"1f\", \"y\": -2.1249999999999996, \"x\": 0.58125, \"font\": {\"color\": \"rgb(10,10,10)\", \"size\": 14}, \"showarrow\": false}, {\"xref\": \"x1\", \"yref\": \"y1\", \"text\": \"1f\", \"y\": -2.1249999999999996, \"x\": 0.3375000000000001, \"font\": {\"color\": \"rgb(10,10,10)\", \"size\": 14}, \"showarrow\": false}, {\"xref\": \"x1\", \"yref\": \"y1\", \"text\": \"1f\", \"y\": -2.1249999999999996, \"x\": 0.28750000000000003, \"font\": {\"color\": \"rgb(10,10,10)\", \"size\": 14}, \"showarrow\": false}, {\"xref\": \"x1\", \"yref\": \"y1\", \"text\": \"1f\", \"y\": -2.1249999999999996, \"x\": 0.612500000000001, \"font\": {\"color\": \"rgb(10,10,10)\", \"size\": 14}, \"showarrow\": false}, {\"xref\": \"x1\", \"yref\": \"y1\", \"text\": \"1g\", \"y\": -2.1249999999999996, \"x\": 0.32187500000000013, \"font\": {\"color\": \"rgb(10,10,10)\", \"size\": 14}, \"showarrow\": false}, {\"xref\": \"x1\", \"yref\": \"y1\", \"text\": \"1g\", \"y\": -2.1249999999999996, \"x\": 0.537500000000001, \"font\": {\"color\": \"rgb(10,10,10)\", \"size\": 14}, \"showarrow\": false}, {\"xref\": \"x1\", \"yref\": \"y1\", \"text\": \"1h\", \"y\": -2.1249999999999996, \"x\": 0.5125, \"font\": {\"color\": \"rgb(10,10,10)\", \"size\": 14}, \"showarrow\": false}, {\"xref\": \"x1\", \"yref\": \"y1\", \"text\": \"2c\", \"y\": -2.3249999999999997, \"x\": 0.1875, \"font\": {\"color\": \"rgb(10,10,10)\", \"size\": 14}, \"showarrow\": false}, {\"xref\": \"x1\", \"yref\": \"y1\", \"text\": \"2c\", \"y\": -2.3249999999999997, \"x\": 0.3625000000000001, \"font\": {\"color\": \"rgb(10,10,10)\", \"size\": 14}, \"showarrow\": false}, {\"xref\": \"x1\", \"yref\": \"y1\", \"text\": \"2d\", \"y\": -2.3249999999999997, \"x\": 0.3062500000000006, \"font\": {\"color\": \"rgb(10,10,10)\", \"size\": 14}, \"showarrow\": false}, {\"xref\": \"x1\", \"yref\": \"y1\", \"text\": \"2d\", \"y\": -2.3249999999999997, \"x\": 0.32187500000000013, \"font\": {\"color\": \"rgb(10,10,10)\", \"size\": 14}, \"showarrow\": false}, {\"xref\": \"x1\", \"yref\": \"y1\", \"text\": \"2d\", \"y\": -2.3249999999999997, \"x\": 0.4375, \"font\": {\"color\": \"rgb(10,10,10)\", \"size\": 14}, \"showarrow\": false}, {\"xref\": \"x1\", \"yref\": \"y1\", \"text\": \"2d\", \"y\": -2.3249999999999997, \"x\": 0.28750000000000003, \"font\": {\"color\": \"rgb(10,10,10)\", \"size\": 14}, \"showarrow\": false}, {\"xref\": \"x1\", \"yref\": \"y1\", \"text\": \"2d\", \"y\": -2.3249999999999997, \"x\": 0.0625, \"font\": {\"color\": \"rgb(10,10,10)\", \"size\": 14}, \"showarrow\": false}, {\"xref\": \"x1\", \"yref\": \"y1\", \"text\": \"2d\", \"y\": -2.3249999999999997, \"x\": 0.6875, \"font\": {\"color\": \"rgb(10,10,10)\", \"size\": 14}, \"showarrow\": false}, {\"xref\": \"x1\", \"yref\": \"y1\", \"text\": \"2e\", \"y\": -2.3249999999999997, \"x\": 0.3375000000000001, \"font\": {\"color\": \"rgb(10,10,10)\", \"size\": 14}, \"showarrow\": false}, {\"xref\": \"x1\", \"yref\": \"y1\", \"text\": \"2e\", \"y\": -2.3249999999999997, \"x\": 0.31562500000000016, \"font\": {\"color\": \"rgb(10,10,10)\", \"size\": 14}, \"showarrow\": false}, {\"xref\": \"x1\", \"yref\": \"y1\", \"text\": \"2e\", \"y\": -2.3249999999999997, \"x\": 0.25625, \"font\": {\"color\": \"rgb(10,10,10)\", \"size\": 14}, \"showarrow\": false}, {\"xref\": \"x1\", \"yref\": \"y1\", \"text\": \"2e\", \"y\": -2.3249999999999997, \"x\": 0.5625000000000011, \"font\": {\"color\": \"rgb(10,10,10)\", \"size\": 14}, \"showarrow\": false}, {\"xref\": \"x1\", \"yref\": \"y1\", \"text\": \"2e\", \"y\": -2.3249999999999997, \"x\": 0.5375000000000011, \"font\": {\"color\": \"rgb(10,10,10)\", \"size\": 14}, \"showarrow\": false}, {\"xref\": \"x1\", \"yref\": \"y1\", \"text\": \"2e\", \"y\": -2.3249999999999997, \"x\": 0.5125, \"font\": {\"color\": \"rgb(10,10,10)\", \"size\": 14}, \"showarrow\": false}, {\"xref\": \"x1\", \"yref\": \"y1\", \"text\": \"2f\", \"y\": -2.3249999999999997, \"x\": 0.9375, \"font\": {\"color\": \"rgb(10,10,10)\", \"size\": 14}, \"showarrow\": false}, {\"xref\": \"x1\", \"yref\": \"y1\", \"text\": \"2f\", \"y\": -2.3249999999999997, \"x\": 0.6125000000000012, \"font\": {\"color\": \"rgb(10,10,10)\", \"size\": 14}, \"showarrow\": false}, {\"xref\": \"x1\", \"yref\": \"y1\", \"text\": \"2g\", \"y\": -2.3249999999999997, \"x\": 0.2687500000000005, \"font\": {\"color\": \"rgb(10,10,10)\", \"size\": 14}, \"showarrow\": false}, {\"xref\": \"x1\", \"yref\": \"y1\", \"text\": \"2g\", \"y\": -2.3249999999999997, \"x\": 0.8125, \"font\": {\"color\": \"rgb(10,10,10)\", \"size\": 14}, \"showarrow\": false}, {\"xref\": \"x1\", \"yref\": \"y1\", \"text\": \"2g\", \"y\": -2.3249999999999997, \"x\": 0.59375, \"font\": {\"color\": \"rgb(10,10,10)\", \"size\": 14}, \"showarrow\": false}, {\"xref\": \"x1\", \"yref\": \"y1\", \"text\": \"2g\", \"y\": -2.3249999999999997, \"x\": 0.58125, \"font\": {\"color\": \"rgb(10,10,10)\", \"size\": 14}, \"showarrow\": false}, {\"xref\": \"x1\", \"yref\": \"y1\", \"text\": \"3b\", \"y\": -2.525, \"x\": 0.6125000000000013, \"font\": {\"color\": \"rgb(10,10,10)\", \"size\": 14}, \"showarrow\": false}, {\"xref\": \"x1\", \"yref\": \"y1\", \"text\": \"3b\", \"y\": -2.525, \"x\": 0.26875000000000054, \"font\": {\"color\": \"rgb(10,10,10)\", \"size\": 14}, \"showarrow\": false}, {\"xref\": \"x1\", \"yref\": \"y1\", \"text\": \"3c\", \"y\": -2.525, \"x\": 0.6875, \"font\": {\"color\": \"rgb(10,10,10)\", \"size\": 14}, \"showarrow\": false}, {\"xref\": \"x1\", \"yref\": \"y1\", \"text\": \"3c\", \"y\": -2.525, \"x\": 0.59375, \"font\": {\"color\": \"rgb(10,10,10)\", \"size\": 14}, \"showarrow\": false}, {\"xref\": \"x1\", \"yref\": \"y1\", \"text\": \"3d\", \"y\": -2.525, \"x\": 0.5625000000000012, \"font\": {\"color\": \"rgb(10,10,10)\", \"size\": 14}, \"showarrow\": false}, {\"xref\": \"x1\", \"yref\": \"y1\", \"text\": \"3d\", \"y\": -2.525, \"x\": 0.30625000000000063, \"font\": {\"color\": \"rgb(10,10,10)\", \"size\": 14}, \"showarrow\": false}, {\"xref\": \"x1\", \"yref\": \"y1\", \"text\": \"3d\", \"y\": -2.525, \"x\": 0.32187500000000013, \"font\": {\"color\": \"rgb(10,10,10)\", \"size\": 14}, \"showarrow\": false}, {\"xref\": \"x1\", \"yref\": \"y1\", \"text\": \"3d\", \"y\": -2.525, \"x\": 0.3375000000000001, \"font\": {\"color\": \"rgb(10,10,10)\", \"size\": 14}, \"showarrow\": false}, {\"xref\": \"x1\", \"yref\": \"y1\", \"text\": \"3d\", \"y\": -2.525, \"x\": 0.25625, \"font\": {\"color\": \"rgb(10,10,10)\", \"size\": 14}, \"showarrow\": false}, {\"xref\": \"x1\", \"yref\": \"y1\", \"text\": \"3d\", \"y\": -2.525, \"x\": 0.3625000000000001, \"font\": {\"color\": \"rgb(10,10,10)\", \"size\": 14}, \"showarrow\": false}, {\"xref\": \"x1\", \"yref\": \"y1\", \"text\": \"3d\", \"y\": -2.525, \"x\": 0.28750000000000003, \"font\": {\"color\": \"rgb(10,10,10)\", \"size\": 14}, \"showarrow\": false}, {\"xref\": \"x1\", \"yref\": \"y1\", \"text\": \"3e\", \"y\": -2.525, \"x\": 0.31562500000000016, \"font\": {\"color\": \"rgb(10,10,10)\", \"size\": 14}, \"showarrow\": false}, {\"xref\": \"x1\", \"yref\": \"y1\", \"text\": \"3e\", \"y\": -2.525, \"x\": 0.8125, \"font\": {\"color\": \"rgb(10,10,10)\", \"size\": 14}, \"showarrow\": false}, {\"xref\": \"x1\", \"yref\": \"y1\", \"text\": \"3e\", \"y\": -2.525, \"x\": 0.5125, \"font\": {\"color\": \"rgb(10,10,10)\", \"size\": 14}, \"showarrow\": false}, {\"xref\": \"x1\", \"yref\": \"y1\", \"text\": \"3f\", \"y\": -2.525, \"x\": 0.5375000000000012, \"font\": {\"color\": \"rgb(10,10,10)\", \"size\": 14}, \"showarrow\": false}, {\"xref\": \"x1\", \"yref\": \"y1\", \"text\": \"3g\", \"y\": -2.525, \"x\": 0.4375, \"font\": {\"color\": \"rgb(10,10,10)\", \"size\": 14}, \"showarrow\": false}, {\"xref\": \"x1\", \"yref\": \"y1\", \"text\": \"3g\", \"y\": -2.525, \"x\": 0.0625, \"font\": {\"color\": \"rgb(10,10,10)\", \"size\": 14}, \"showarrow\": false}, {\"xref\": \"x1\", \"yref\": \"y1\", \"text\": \"3g\", \"y\": -2.525, \"x\": 0.9375, \"font\": {\"color\": \"rgb(10,10,10)\", \"size\": 14}, \"showarrow\": false}, {\"xref\": \"x1\", \"yref\": \"y1\", \"text\": \"3g\", \"y\": -2.525, \"x\": 0.58125, \"font\": {\"color\": \"rgb(10,10,10)\", \"size\": 14}, \"showarrow\": false}, {\"xref\": \"x1\", \"yref\": \"y1\", \"text\": \"3g\", \"y\": -2.525, \"x\": 0.1875, \"font\": {\"color\": \"rgb(10,10,10)\", \"size\": 14}, \"showarrow\": false}, {\"xref\": \"x1\", \"yref\": \"y1\", \"text\": \"4c\", \"y\": -2.725, \"x\": 0.6125000000000014, \"font\": {\"color\": \"rgb(10,10,10)\", \"size\": 14}, \"showarrow\": false}, {\"xref\": \"x1\", \"yref\": \"y1\", \"text\": \"4c\", \"y\": -2.725, \"x\": 0.6875, \"font\": {\"color\": \"rgb(10,10,10)\", \"size\": 14}, \"showarrow\": false}, {\"xref\": \"x1\", \"yref\": \"y1\", \"text\": \"4c\", \"y\": -2.725, \"x\": 0.0625, \"font\": {\"color\": \"rgb(10,10,10)\", \"size\": 14}, \"showarrow\": false}, {\"xref\": \"x1\", \"yref\": \"y1\", \"text\": \"4d\", \"y\": -2.725, \"x\": 0.59375, \"font\": {\"color\": \"rgb(10,10,10)\", \"size\": 14}, \"showarrow\": false}, {\"xref\": \"x1\", \"yref\": \"y1\", \"text\": \"4d\", \"y\": -2.725, \"x\": 0.3625000000000001, \"font\": {\"color\": \"rgb(10,10,10)\", \"size\": 14}, \"showarrow\": false}, {\"xref\": \"x1\", \"yref\": \"y1\", \"text\": \"4d\", \"y\": -2.725, \"x\": 0.28750000000000003, \"font\": {\"color\": \"rgb(10,10,10)\", \"size\": 14}, \"showarrow\": false}, {\"xref\": \"x1\", \"yref\": \"y1\", \"text\": \"4d\", \"y\": -2.725, \"x\": 0.9375, \"font\": {\"color\": \"rgb(10,10,10)\", \"size\": 14}, \"showarrow\": false}, {\"xref\": \"x1\", \"yref\": \"y1\", \"text\": \"4e\", \"y\": -2.725, \"x\": 0.8125, \"font\": {\"color\": \"rgb(10,10,10)\", \"size\": 14}, \"showarrow\": false}, {\"xref\": \"x1\", \"yref\": \"y1\", \"text\": \"4e\", \"y\": -2.725, \"x\": 0.58125, \"font\": {\"color\": \"rgb(10,10,10)\", \"size\": 14}, \"showarrow\": false}, {\"xref\": \"x1\", \"yref\": \"y1\", \"text\": \"4e\", \"y\": -2.725, \"x\": 0.1875, \"font\": {\"color\": \"rgb(10,10,10)\", \"size\": 14}, \"showarrow\": false}, {\"xref\": \"x1\", \"yref\": \"y1\", \"text\": \"4e\", \"y\": -2.725, \"x\": 0.32187500000000013, \"font\": {\"color\": \"rgb(10,10,10)\", \"size\": 14}, \"showarrow\": false}, {\"xref\": \"x1\", \"yref\": \"y1\", \"text\": \"4f\", \"y\": -2.725, \"x\": 0.5125, \"font\": {\"color\": \"rgb(10,10,10)\", \"size\": 14}, \"showarrow\": false}, {\"xref\": \"x1\", \"yref\": \"y1\", \"text\": \"4f\", \"y\": -2.725, \"x\": 0.5625000000000013, \"font\": {\"color\": \"rgb(10,10,10)\", \"size\": 14}, \"showarrow\": false}, {\"xref\": \"x1\", \"yref\": \"y1\", \"text\": \"4f\", \"y\": -2.725, \"x\": 0.3375000000000001, \"font\": {\"color\": \"rgb(10,10,10)\", \"size\": 14}, \"showarrow\": false}, {\"xref\": \"x1\", \"yref\": \"y1\", \"text\": \"4f\", \"y\": -2.725, \"x\": 0.5375000000000013, \"font\": {\"color\": \"rgb(10,10,10)\", \"size\": 14}, \"showarrow\": false}, {\"xref\": \"x1\", \"yref\": \"y1\", \"text\": \"4f\", \"y\": -2.725, \"x\": 0.4375, \"font\": {\"color\": \"rgb(10,10,10)\", \"size\": 14}, \"showarrow\": false}, {\"xref\": \"x1\", \"yref\": \"y1\", \"text\": \"4g\", \"y\": -2.725, \"x\": 0.3062500000000007, \"font\": {\"color\": \"rgb(10,10,10)\", \"size\": 14}, \"showarrow\": false}, {\"xref\": \"x1\", \"yref\": \"y1\", \"text\": \"4g\", \"y\": -2.725, \"x\": 0.25625, \"font\": {\"color\": \"rgb(10,10,10)\", \"size\": 14}, \"showarrow\": false}, {\"xref\": \"x1\", \"yref\": \"y1\", \"text\": \"4g\", \"y\": -2.725, \"x\": 0.31562500000000016, \"font\": {\"color\": \"rgb(10,10,10)\", \"size\": 14}, \"showarrow\": false}, {\"xref\": \"x1\", \"yref\": \"y1\", \"text\": \"4h\", \"y\": -2.725, \"x\": 0.2687500000000006, \"font\": {\"color\": \"rgb(10,10,10)\", \"size\": 14}, \"showarrow\": false}, {\"xref\": \"x1\", \"yref\": \"y1\", \"text\": \"5a\", \"y\": -2.9250000000000003, \"x\": 0.0625, \"font\": {\"color\": \"rgb(10,10,10)\", \"size\": 14}, \"showarrow\": false}, {\"xref\": \"x1\", \"yref\": \"y1\", \"text\": \"5b\", \"y\": -2.9250000000000003, \"x\": 0.59375, \"font\": {\"color\": \"rgb(10,10,10)\", \"size\": 14}, \"showarrow\": false}, {\"xref\": \"x1\", \"yref\": \"y1\", \"text\": \"5b\", \"y\": -2.9250000000000003, \"x\": 0.1875, \"font\": {\"color\": \"rgb(10,10,10)\", \"size\": 14}, \"showarrow\": false}, {\"xref\": \"x1\", \"yref\": \"y1\", \"text\": \"5b\", \"y\": -2.9250000000000003, \"x\": 0.4375, \"font\": {\"color\": \"rgb(10,10,10)\", \"size\": 14}, \"showarrow\": false}, {\"xref\": \"x1\", \"yref\": \"y1\", \"text\": \"5c\", \"y\": -2.9250000000000003, \"x\": 0.31562500000000016, \"font\": {\"color\": \"rgb(10,10,10)\", \"size\": 14}, \"showarrow\": false}, {\"xref\": \"x1\", \"yref\": \"y1\", \"text\": \"5d\", \"y\": -2.9250000000000003, \"x\": 0.8125, \"font\": {\"color\": \"rgb(10,10,10)\", \"size\": 14}, \"showarrow\": false}, {\"xref\": \"x1\", \"yref\": \"y1\", \"text\": \"5d\", \"y\": -2.9250000000000003, \"x\": 0.5625000000000014, \"font\": {\"color\": \"rgb(10,10,10)\", \"size\": 14}, \"showarrow\": false}, {\"xref\": \"x1\", \"yref\": \"y1\", \"text\": \"5d\", \"y\": -2.9250000000000003, \"x\": 0.6125000000000015, \"font\": {\"color\": \"rgb(10,10,10)\", \"size\": 14}, \"showarrow\": false}, {\"xref\": \"x1\", \"yref\": \"y1\", \"text\": \"5d\", \"y\": -2.9250000000000003, \"x\": 0.6875, \"font\": {\"color\": \"rgb(10,10,10)\", \"size\": 14}, \"showarrow\": false}, {\"xref\": \"x1\", \"yref\": \"y1\", \"text\": \"5d\", \"y\": -2.9250000000000003, \"x\": 0.3625000000000001, \"font\": {\"color\": \"rgb(10,10,10)\", \"size\": 14}, \"showarrow\": false}, {\"xref\": \"x1\", \"yref\": \"y1\", \"text\": \"5e\", \"y\": -2.9250000000000003, \"x\": 0.58125, \"font\": {\"color\": \"rgb(10,10,10)\", \"size\": 14}, \"showarrow\": false}, {\"xref\": \"x1\", \"yref\": \"y1\", \"text\": \"5f\", \"y\": -2.9250000000000003, \"x\": 0.28750000000000003, \"font\": {\"color\": \"rgb(10,10,10)\", \"size\": 14}, \"showarrow\": false}, {\"xref\": \"x1\", \"yref\": \"y1\", \"text\": \"5f\", \"y\": -2.9250000000000003, \"x\": 0.5375000000000014, \"font\": {\"color\": \"rgb(10,10,10)\", \"size\": 14}, \"showarrow\": false}, {\"xref\": \"x1\", \"yref\": \"y1\", \"text\": \"5g\", \"y\": -2.9250000000000003, \"x\": 0.32187500000000013, \"font\": {\"color\": \"rgb(10,10,10)\", \"size\": 14}, \"showarrow\": false}, {\"xref\": \"x1\", \"yref\": \"y1\", \"text\": \"5g\", \"y\": -2.9250000000000003, \"x\": 0.3375000000000001, \"font\": {\"color\": \"rgb(10,10,10)\", \"size\": 14}, \"showarrow\": false}, {\"xref\": \"x1\", \"yref\": \"y1\", \"text\": \"5g\", \"y\": -2.9250000000000003, \"x\": 0.30625000000000074, \"font\": {\"color\": \"rgb(10,10,10)\", \"size\": 14}, \"showarrow\": false}, {\"xref\": \"x1\", \"yref\": \"y1\", \"text\": \"5g\", \"y\": -2.9250000000000003, \"x\": 0.25625, \"font\": {\"color\": \"rgb(10,10,10)\", \"size\": 14}, \"showarrow\": false}, {\"xref\": \"x1\", \"yref\": \"y1\", \"text\": \"5g\", \"y\": -2.9250000000000003, \"x\": 0.5125, \"font\": {\"color\": \"rgb(10,10,10)\", \"size\": 14}, \"showarrow\": false}, {\"xref\": \"x1\", \"yref\": \"y1\", \"text\": \"5g\", \"y\": -2.9250000000000003, \"x\": 0.9375, \"font\": {\"color\": \"rgb(10,10,10)\", \"size\": 14}, \"showarrow\": false}, {\"xref\": \"x1\", \"yref\": \"y1\", \"text\": \"5h\", \"y\": -2.9250000000000003, \"x\": 0.26875000000000066, \"font\": {\"color\": \"rgb(10,10,10)\", \"size\": 14}, \"showarrow\": false}, {\"xref\": \"x1\", \"yref\": \"y1\", \"text\": \"6a\", \"y\": -3.1250000000000004, \"x\": 0.6875, \"font\": {\"color\": \"rgb(10,10,10)\", \"size\": 14}, \"showarrow\": false}, {\"xref\": \"x1\", \"yref\": \"y1\", \"text\": \"6a\", \"y\": -3.1250000000000004, \"x\": 0.3375000000000001, \"font\": {\"color\": \"rgb(10,10,10)\", \"size\": 14}, \"showarrow\": false}, {\"xref\": \"x1\", \"yref\": \"y1\", \"text\": \"6c\", \"y\": -3.1250000000000004, \"x\": 0.59375, \"font\": {\"color\": \"rgb(10,10,10)\", \"size\": 14}, \"showarrow\": false}, {\"xref\": \"x1\", \"yref\": \"y1\", \"text\": \"6c\", \"y\": -3.1250000000000004, \"x\": 0.2687500000000007, \"font\": {\"color\": \"rgb(10,10,10)\", \"size\": 14}, \"showarrow\": false}, {\"xref\": \"x1\", \"yref\": \"y1\", \"text\": \"6d\", \"y\": -3.1250000000000004, \"x\": 0.8125, \"font\": {\"color\": \"rgb(10,10,10)\", \"size\": 14}, \"showarrow\": false}, {\"xref\": \"x1\", \"yref\": \"y1\", \"text\": \"6d\", \"y\": -3.1250000000000004, \"x\": 0.6125000000000016, \"font\": {\"color\": \"rgb(10,10,10)\", \"size\": 14}, \"showarrow\": false}, {\"xref\": \"x1\", \"yref\": \"y1\", \"text\": \"6d\", \"y\": -3.1250000000000004, \"x\": 0.4375, \"font\": {\"color\": \"rgb(10,10,10)\", \"size\": 14}, \"showarrow\": false}, {\"xref\": \"x1\", \"yref\": \"y1\", \"text\": \"6d\", \"y\": -3.1250000000000004, \"x\": 0.31562500000000016, \"font\": {\"color\": \"rgb(10,10,10)\", \"size\": 14}, \"showarrow\": false}, {\"xref\": \"x1\", \"yref\": \"y1\", \"text\": \"6e\", \"y\": -3.1250000000000004, \"x\": 0.3625000000000001, \"font\": {\"color\": \"rgb(10,10,10)\", \"size\": 14}, \"showarrow\": false}, {\"xref\": \"x1\", \"yref\": \"y1\", \"text\": \"6e\", \"y\": -3.1250000000000004, \"x\": 0.58125, \"font\": {\"color\": \"rgb(10,10,10)\", \"size\": 14}, \"showarrow\": false}, {\"xref\": \"x1\", \"yref\": \"y1\", \"text\": \"6e\", \"y\": -3.1250000000000004, \"x\": 0.28750000000000003, \"font\": {\"color\": \"rgb(10,10,10)\", \"size\": 14}, \"showarrow\": false}, {\"xref\": \"x1\", \"yref\": \"y1\", \"text\": \"6e\", \"y\": -3.1250000000000004, \"x\": 0.1875, \"font\": {\"color\": \"rgb(10,10,10)\", \"size\": 14}, \"showarrow\": false}, {\"xref\": \"x1\", \"yref\": \"y1\", \"text\": \"6e\", \"y\": -3.1250000000000004, \"x\": 0.0625, \"font\": {\"color\": \"rgb(10,10,10)\", \"size\": 14}, \"showarrow\": false}, {\"xref\": \"x1\", \"yref\": \"y1\", \"text\": \"6g\", \"y\": -3.1250000000000004, \"x\": 0.5125, \"font\": {\"color\": \"rgb(10,10,10)\", \"size\": 14}, \"showarrow\": false}, {\"xref\": \"x1\", \"yref\": \"y1\", \"text\": \"6g\", \"y\": -3.1250000000000004, \"x\": 0.5375000000000015, \"font\": {\"color\": \"rgb(10,10,10)\", \"size\": 14}, \"showarrow\": false}, {\"xref\": \"x1\", \"yref\": \"y1\", \"text\": \"6g\", \"y\": -3.1250000000000004, \"x\": 0.25625, \"font\": {\"color\": \"rgb(10,10,10)\", \"size\": 14}, \"showarrow\": false}, {\"xref\": \"x1\", \"yref\": \"y1\", \"text\": \"6g\", \"y\": -3.1250000000000004, \"x\": 0.32187500000000013, \"font\": {\"color\": \"rgb(10,10,10)\", \"size\": 14}, \"showarrow\": false}, {\"xref\": \"x1\", \"yref\": \"y1\", \"text\": \"6g\", \"y\": -3.1250000000000004, \"x\": 0.3062500000000008, \"font\": {\"color\": \"rgb(10,10,10)\", \"size\": 14}, \"showarrow\": false}, {\"xref\": \"x1\", \"yref\": \"y1\", \"text\": \"6g\", \"y\": -3.1250000000000004, \"x\": 0.9375, \"font\": {\"color\": \"rgb(10,10,10)\", \"size\": 14}, \"showarrow\": false}, {\"xref\": \"x1\", \"yref\": \"y1\", \"text\": \"6h\", \"y\": -3.1250000000000004, \"x\": 0.5625000000000016, \"font\": {\"color\": \"rgb(10,10,10)\", \"size\": 14}, \"showarrow\": false}, {\"xref\": \"x1\", \"yref\": \"y1\", \"text\": \"c3\", \"y\": -0.125, \"x\": 0.9375, \"font\": {\"color\": \"rgb(10,10,10)\", \"size\": 14}, \"showarrow\": false}, {\"xref\": \"x1\", \"yref\": \"y1\", \"text\": \"c4\", \"y\": -0.125, \"x\": 0.0625, \"font\": {\"color\": \"rgb(10,10,10)\", \"size\": 14}, \"showarrow\": false}, {\"xref\": \"x1\", \"yref\": \"y1\", \"text\": \"d4\", \"y\": -0.125, \"x\": 0.5625, \"font\": {\"color\": \"rgb(10,10,10)\", \"size\": 14}, \"showarrow\": false}, {\"xref\": \"x1\", \"yref\": \"y1\", \"text\": \"e3\", \"y\": -0.125, \"x\": 0.8125, \"font\": {\"color\": \"rgb(10,10,10)\", \"size\": 14}, \"showarrow\": false}, {\"xref\": \"x1\", \"yref\": \"y1\", \"text\": \"e4\", \"y\": -0.125, \"x\": 0.3125, \"font\": {\"color\": \"rgb(10,10,10)\", \"size\": 14}, \"showarrow\": false}, {\"xref\": \"x1\", \"yref\": \"y1\", \"text\": \"f3\", \"y\": -0.125, \"x\": 0.6875, \"font\": {\"color\": \"rgb(10,10,10)\", \"size\": 14}, \"showarrow\": false}, {\"xref\": \"x1\", \"yref\": \"y1\", \"text\": \"f4\", \"y\": -0.125, \"x\": 0.4375, \"font\": {\"color\": \"rgb(10,10,10)\", \"size\": 14}, \"showarrow\": false}, {\"xref\": \"x1\", \"yref\": \"y1\", \"text\": \"g3\", \"y\": -0.125, \"x\": 0.1875, \"font\": {\"color\": \"rgb(10,10,10)\", \"size\": 14}, \"showarrow\": false}, {\"xref\": \"x1\", \"yref\": \"y1\", \"text\": \"b6\", \"y\": -0.325, \"x\": 0.5625, \"font\": {\"color\": \"rgb(10,10,10)\", \"size\": 14}, \"showarrow\": false}, {\"xref\": \"x1\", \"yref\": \"y1\", \"text\": \"b6\", \"y\": -0.325, \"x\": 0.4375, \"font\": {\"color\": \"rgb(10,10,10)\", \"size\": 14}, \"showarrow\": false}, {\"xref\": \"x1\", \"yref\": \"y1\", \"text\": \"c5\", \"y\": -0.325, \"x\": 0.2625, \"font\": {\"color\": \"rgb(10,10,10)\", \"size\": 14}, \"showarrow\": false}, {\"xref\": \"x1\", \"yref\": \"y1\", \"text\": \"c6\", \"y\": -0.325, \"x\": 0.5375, \"font\": {\"color\": \"rgb(10,10,10)\", \"size\": 14}, \"showarrow\": false}, {\"xref\": \"x1\", \"yref\": \"y1\", \"text\": \"c6\", \"y\": -0.325, \"x\": 0.28750000000000003, \"font\": {\"color\": \"rgb(10,10,10)\", \"size\": 14}, \"showarrow\": false}, {\"xref\": \"x1\", \"yref\": \"y1\", \"text\": \"d5\", \"y\": -0.325, \"x\": 0.9375, \"font\": {\"color\": \"rgb(10,10,10)\", \"size\": 14}, \"showarrow\": false}, {\"xref\": \"x1\", \"yref\": \"y1\", \"text\": \"d5\", \"y\": -0.325, \"x\": 0.6125, \"font\": {\"color\": \"rgb(10,10,10)\", \"size\": 14}, \"showarrow\": false}, {\"xref\": \"x1\", \"yref\": \"y1\", \"text\": \"d6\", \"y\": -0.325, \"x\": 0.3375000000000001, \"font\": {\"color\": \"rgb(10,10,10)\", \"size\": 14}, \"showarrow\": false}, {\"xref\": \"x1\", \"yref\": \"y1\", \"text\": \"e5\", \"y\": -0.325, \"x\": 0.0625, \"font\": {\"color\": \"rgb(10,10,10)\", \"size\": 14}, \"showarrow\": false}, {\"xref\": \"x1\", \"yref\": \"y1\", \"text\": \"e5\", \"y\": -0.325, \"x\": 0.8125, \"font\": {\"color\": \"rgb(10,10,10)\", \"size\": 14}, \"showarrow\": false}, {\"xref\": \"x1\", \"yref\": \"y1\", \"text\": \"e5\", \"y\": -0.325, \"x\": 0.31250000000000006, \"font\": {\"color\": \"rgb(10,10,10)\", \"size\": 14}, \"showarrow\": false}, {\"xref\": \"x1\", \"yref\": \"y1\", \"text\": \"e6\", \"y\": -0.325, \"x\": 0.5125, \"font\": {\"color\": \"rgb(10,10,10)\", \"size\": 14}, \"showarrow\": false}, {\"xref\": \"x1\", \"yref\": \"y1\", \"text\": \"e6\", \"y\": -0.325, \"x\": 0.3625000000000001, \"font\": {\"color\": \"rgb(10,10,10)\", \"size\": 14}, \"showarrow\": false}, {\"xref\": \"x1\", \"yref\": \"y1\", \"text\": \"e6\", \"y\": -0.325, \"x\": 0.1875, \"font\": {\"color\": \"rgb(10,10,10)\", \"size\": 14}, \"showarrow\": false}, {\"xref\": \"x1\", \"yref\": \"y1\", \"text\": \"f5\", \"y\": -0.325, \"x\": 0.5875, \"font\": {\"color\": \"rgb(10,10,10)\", \"size\": 14}, \"showarrow\": false}, {\"xref\": \"x1\", \"yref\": \"y1\", \"text\": \"g6\", \"y\": -0.325, \"x\": 0.6875, \"font\": {\"color\": \"rgb(10,10,10)\", \"size\": 14}, \"showarrow\": false}, {\"xref\": \"x1\", \"yref\": \"y1\", \"text\": \"c3\", \"y\": -0.5250000000000001, \"x\": 0.5375000000000001, \"font\": {\"color\": \"rgb(10,10,10)\", \"size\": 14}, \"showarrow\": false}, {\"xref\": \"x1\", \"yref\": \"y1\", \"text\": \"c3\", \"y\": -0.5250000000000001, \"x\": 0.0625, \"font\": {\"color\": \"rgb(10,10,10)\", \"size\": 14}, \"showarrow\": false}, {\"xref\": \"x1\", \"yref\": \"y1\", \"text\": \"c3\", \"y\": -0.5250000000000001, \"x\": 0.8125, \"font\": {\"color\": \"rgb(10,10,10)\", \"size\": 14}, \"showarrow\": false}, {\"xref\": \"x1\", \"yref\": \"y1\", \"text\": \"c4\", \"y\": -0.5250000000000001, \"x\": 0.6125000000000002, \"font\": {\"color\": \"rgb(10,10,10)\", \"size\": 14}, \"showarrow\": false}, {\"xref\": \"x1\", \"yref\": \"y1\", \"text\": \"c4\", \"y\": -0.5250000000000001, \"x\": 0.5125, \"font\": {\"color\": \"rgb(10,10,10)\", \"size\": 14}, \"showarrow\": false}, {\"xref\": \"x1\", \"yref\": \"y1\", \"text\": \"c4\", \"y\": -0.5250000000000001, \"x\": 0.6875, \"font\": {\"color\": \"rgb(10,10,10)\", \"size\": 14}, \"showarrow\": false}, {\"xref\": \"x1\", \"yref\": \"y1\", \"text\": \"d4\", \"y\": -0.5250000000000001, \"x\": 0.3375000000000001, \"font\": {\"color\": \"rgb(10,10,10)\", \"size\": 14}, \"showarrow\": false}, {\"xref\": \"x1\", \"yref\": \"y1\", \"text\": \"e2\", \"y\": -0.5250000000000001, \"x\": 0.25625, \"font\": {\"color\": \"rgb(10,10,10)\", \"size\": 14}, \"showarrow\": false}, {\"xref\": \"x1\", \"yref\": \"y1\", \"text\": \"e3\", \"y\": -0.5250000000000001, \"x\": 0.58125, \"font\": {\"color\": \"rgb(10,10,10)\", \"size\": 14}, \"showarrow\": false}, {\"xref\": \"x1\", \"yref\": \"y1\", \"text\": \"e4\", \"y\": -0.5250000000000001, \"x\": 0.9375, \"font\": {\"color\": \"rgb(10,10,10)\", \"size\": 14}, \"showarrow\": false}, {\"xref\": \"x1\", \"yref\": \"y1\", \"text\": \"f3\", \"y\": -0.5250000000000001, \"x\": 0.4375, \"font\": {\"color\": \"rgb(10,10,10)\", \"size\": 14}, \"showarrow\": false}, {\"xref\": \"x1\", \"yref\": \"y1\", \"text\": \"f3\", \"y\": -0.5250000000000001, \"x\": 0.26875, \"font\": {\"color\": \"rgb(10,10,10)\", \"size\": 14}, \"showarrow\": false}, {\"xref\": \"x1\", \"yref\": \"y1\", \"text\": \"f3\", \"y\": -0.5250000000000001, \"x\": 0.3187500000000001, \"font\": {\"color\": \"rgb(10,10,10)\", \"size\": 14}, \"showarrow\": false}, {\"xref\": \"x1\", \"yref\": \"y1\", \"text\": \"f3\", \"y\": -0.5250000000000001, \"x\": 0.3625000000000001, \"font\": {\"color\": \"rgb(10,10,10)\", \"size\": 14}, \"showarrow\": false}, {\"xref\": \"x1\", \"yref\": \"y1\", \"text\": \"f3\", \"y\": -0.5250000000000001, \"x\": 0.59375, \"font\": {\"color\": \"rgb(10,10,10)\", \"size\": 14}, \"showarrow\": false}, {\"xref\": \"x1\", \"yref\": \"y1\", \"text\": \"f4\", \"y\": -0.5250000000000001, \"x\": 0.5625000000000001, \"font\": {\"color\": \"rgb(10,10,10)\", \"size\": 14}, \"showarrow\": false}, {\"xref\": \"x1\", \"yref\": \"y1\", \"text\": \"f4\", \"y\": -0.5250000000000001, \"x\": 0.3062500000000001, \"font\": {\"color\": \"rgb(10,10,10)\", \"size\": 14}, \"showarrow\": false}, {\"xref\": \"x1\", \"yref\": \"y1\", \"text\": \"g2\", \"y\": -0.5250000000000001, \"x\": 0.1875, \"font\": {\"color\": \"rgb(10,10,10)\", \"size\": 14}, \"showarrow\": false}, {\"xref\": \"x1\", \"yref\": \"y1\", \"text\": \"g3\", \"y\": -0.5250000000000001, \"x\": 0.28750000000000003, \"font\": {\"color\": \"rgb(10,10,10)\", \"size\": 14}, \"showarrow\": false}, {\"xref\": \"x1\", \"yref\": \"y1\", \"text\": \"b7\", \"y\": -0.7250000000000001, \"x\": 0.4375, \"font\": {\"color\": \"rgb(10,10,10)\", \"size\": 14}, \"showarrow\": false}, {\"xref\": \"x1\", \"yref\": \"y1\", \"text\": \"b7\", \"y\": -0.7250000000000001, \"x\": 0.5625000000000002, \"font\": {\"color\": \"rgb(10,10,10)\", \"size\": 14}, \"showarrow\": false}, {\"xref\": \"x1\", \"yref\": \"y1\", \"text\": \"c6\", \"y\": -0.7250000000000001, \"x\": 0.9375, \"font\": {\"color\": \"rgb(10,10,10)\", \"size\": 14}, \"showarrow\": false}, {\"xref\": \"x1\", \"yref\": \"y1\", \"text\": \"c6\", \"y\": -0.7250000000000001, \"x\": 0.31875000000000014, \"font\": {\"color\": \"rgb(10,10,10)\", \"size\": 14}, \"showarrow\": false}, {\"xref\": \"x1\", \"yref\": \"y1\", \"text\": \"c7\", \"y\": -0.7250000000000001, \"x\": 0.5375000000000002, \"font\": {\"color\": \"rgb(10,10,10)\", \"size\": 14}, \"showarrow\": false}, {\"xref\": \"x1\", \"yref\": \"y1\", \"text\": \"d5\", \"y\": -0.7250000000000001, \"x\": 0.8125, \"font\": {\"color\": \"rgb(10,10,10)\", \"size\": 14}, \"showarrow\": false}, {\"xref\": \"x1\", \"yref\": \"y1\", \"text\": \"d5\", \"y\": -0.7250000000000001, \"x\": 0.5125, \"font\": {\"color\": \"rgb(10,10,10)\", \"size\": 14}, \"showarrow\": false}, {\"xref\": \"x1\", \"yref\": \"y1\", \"text\": \"d5\", \"y\": -0.7250000000000001, \"x\": 0.3375000000000001, \"font\": {\"color\": \"rgb(10,10,10)\", \"size\": 14}, \"showarrow\": false}, {\"xref\": \"x1\", \"yref\": \"y1\", \"text\": \"d5\", \"y\": -0.7250000000000001, \"x\": 0.30625000000000013, \"font\": {\"color\": \"rgb(10,10,10)\", \"size\": 14}, \"showarrow\": false}, {\"xref\": \"x1\", \"yref\": \"y1\", \"text\": \"d5\", \"y\": -0.7250000000000001, \"x\": 0.28750000000000003, \"font\": {\"color\": \"rgb(10,10,10)\", \"size\": 14}, \"showarrow\": false}, {\"xref\": \"x1\", \"yref\": \"y1\", \"text\": \"d6\", \"y\": -0.7250000000000001, \"x\": 0.26875000000000004, \"font\": {\"color\": \"rgb(10,10,10)\", \"size\": 14}, \"showarrow\": false}, {\"xref\": \"x1\", \"yref\": \"y1\", \"text\": \"d6\", \"y\": -0.7250000000000001, \"x\": 0.3625000000000001, \"font\": {\"color\": \"rgb(10,10,10)\", \"size\": 14}, \"showarrow\": false}, {\"xref\": \"x1\", \"yref\": \"y1\", \"text\": \"e6\", \"y\": -0.7250000000000001, \"x\": 0.6125000000000003, \"font\": {\"color\": \"rgb(10,10,10)\", \"size\": 14}, \"showarrow\": false}, {\"xref\": \"x1\", \"yref\": \"y1\", \"text\": \"e6\", \"y\": -0.7250000000000001, \"x\": 0.25625, \"font\": {\"color\": \"rgb(10,10,10)\", \"size\": 14}, \"showarrow\": false}, {\"xref\": \"x1\", \"yref\": \"y1\", \"text\": \"e6\", \"y\": -0.7250000000000001, \"x\": 0.59375, \"font\": {\"color\": \"rgb(10,10,10)\", \"size\": 14}, \"showarrow\": false}, {\"xref\": \"x1\", \"yref\": \"y1\", \"text\": \"f5\", \"y\": -0.7250000000000001, \"x\": 0.1875, \"font\": {\"color\": \"rgb(10,10,10)\", \"size\": 14}, \"showarrow\": false}, {\"xref\": \"x1\", \"yref\": \"y1\", \"text\": \"f6\", \"y\": -0.7250000000000001, \"x\": 0.0625, \"font\": {\"color\": \"rgb(10,10,10)\", \"size\": 14}, \"showarrow\": false}, {\"xref\": \"x1\", \"yref\": \"y1\", \"text\": \"f6\", \"y\": -0.7250000000000001, \"x\": 0.58125, \"font\": {\"color\": \"rgb(10,10,10)\", \"size\": 14}, \"showarrow\": false}, {\"xref\": \"x1\", \"yref\": \"y1\", \"text\": \"g7\", \"y\": -0.7250000000000001, \"x\": 0.6875, \"font\": {\"color\": \"rgb(10,10,10)\", \"size\": 14}, \"showarrow\": false}, {\"xref\": \"x1\", \"yref\": \"y1\", \"text\": \"b5\", \"y\": -0.925, \"x\": 0.31562500000000016, \"font\": {\"color\": \"rgb(10,10,10)\", \"size\": 14}, \"showarrow\": false}, {\"xref\": \"x1\", \"yref\": \"y1\", \"text\": \"b5\", \"y\": -0.925, \"x\": 0.2687500000000001, \"font\": {\"color\": \"rgb(10,10,10)\", \"size\": 14}, \"showarrow\": false}, {\"xref\": \"x1\", \"yref\": \"y1\", \"text\": \"c3\", \"y\": -0.925, \"x\": 0.6125000000000004, \"font\": {\"color\": \"rgb(10,10,10)\", \"size\": 14}, \"showarrow\": false}, {\"xref\": \"x1\", \"yref\": \"y1\", \"text\": \"c4\", \"y\": -0.925, \"x\": 0.58125, \"font\": {\"color\": \"rgb(10,10,10)\", \"size\": 14}, \"showarrow\": false}, {\"xref\": \"x1\", \"yref\": \"y1\", \"text\": \"d3\", \"y\": -0.925, \"x\": 0.32187500000000013, \"font\": {\"color\": \"rgb(10,10,10)\", \"size\": 14}, \"showarrow\": false}, {\"xref\": \"x1\", \"yref\": \"y1\", \"text\": \"d3\", \"y\": -0.925, \"x\": 0.5375000000000003, \"font\": {\"color\": \"rgb(10,10,10)\", \"size\": 14}, \"showarrow\": false}, {\"xref\": \"x1\", \"yref\": \"y1\", \"text\": \"d3\", \"y\": -0.925, \"x\": 0.1875, \"font\": {\"color\": \"rgb(10,10,10)\", \"size\": 14}, \"showarrow\": false}, {\"xref\": \"x1\", \"yref\": \"y1\", \"text\": \"d4\", \"y\": -0.925, \"x\": 0.9375, \"font\": {\"color\": \"rgb(10,10,10)\", \"size\": 14}, \"showarrow\": false}, {\"xref\": \"x1\", \"yref\": \"y1\", \"text\": \"d4\", \"y\": -0.925, \"x\": 0.8125, \"font\": {\"color\": \"rgb(10,10,10)\", \"size\": 14}, \"showarrow\": false}, {\"xref\": \"x1\", \"yref\": \"y1\", \"text\": \"d4\", \"y\": -0.925, \"x\": 0.3625000000000001, \"font\": {\"color\": \"rgb(10,10,10)\", \"size\": 14}, \"showarrow\": false}, {\"xref\": \"x1\", \"yref\": \"y1\", \"text\": \"d5\", \"y\": -0.925, \"x\": 0.3375000000000001, \"font\": {\"color\": \"rgb(10,10,10)\", \"size\": 14}, \"showarrow\": false}, {\"xref\": \"x1\", \"yref\": \"y1\", \"text\": \"d5\", \"y\": -0.925, \"x\": 0.3062500000000002, \"font\": {\"color\": \"rgb(10,10,10)\", \"size\": 14}, \"showarrow\": false}, {\"xref\": \"x1\", \"yref\": \"y1\", \"text\": \"e3\", \"y\": -0.925, \"x\": 0.4375, \"font\": {\"color\": \"rgb(10,10,10)\", \"size\": 14}, \"showarrow\": false}, {\"xref\": \"x1\", \"yref\": \"y1\", \"text\": \"f3\", \"y\": -0.925, \"x\": 0.5625000000000003, \"font\": {\"color\": \"rgb(10,10,10)\", \"size\": 14}, \"showarrow\": false}, {\"xref\": \"x1\", \"yref\": \"y1\", \"text\": \"f3\", \"y\": -0.925, \"x\": 0.5125, \"font\": {\"color\": \"rgb(10,10,10)\", \"size\": 14}, \"showarrow\": false}, {\"xref\": \"x1\", \"yref\": \"y1\", \"text\": \"f3\", \"y\": -0.925, \"x\": 0.0625, \"font\": {\"color\": \"rgb(10,10,10)\", \"size\": 14}, \"showarrow\": false}, {\"xref\": \"x1\", \"yref\": \"y1\", \"text\": \"g2\", \"y\": -0.925, \"x\": 0.28750000000000003, \"font\": {\"color\": \"rgb(10,10,10)\", \"size\": 14}, \"showarrow\": false}, {\"xref\": \"x1\", \"yref\": \"y1\", \"text\": \"g3\", \"y\": -0.925, \"x\": 0.25625, \"font\": {\"color\": \"rgb(10,10,10)\", \"size\": 14}, \"showarrow\": false}, {\"xref\": \"x1\", \"yref\": \"y1\", \"text\": \"g3\", \"y\": -0.925, \"x\": 0.6875, \"font\": {\"color\": \"rgb(10,10,10)\", \"size\": 14}, \"showarrow\": false}, {\"xref\": \"x1\", \"yref\": \"y1\", \"text\": \"g5\", \"y\": -0.925, \"x\": 0.59375, \"font\": {\"color\": \"rgb(10,10,10)\", \"size\": 14}, \"showarrow\": false}, {\"xref\": \"x1\", \"yref\": \"y1\", \"text\": \"a6\", \"y\": -1.125, \"x\": 0.31562500000000016, \"font\": {\"color\": \"rgb(10,10,10)\", \"size\": 14}, \"showarrow\": false}, {\"xref\": \"x1\", \"yref\": \"y1\", \"text\": \"c5\", \"y\": -1.125, \"x\": 0.0625, \"font\": {\"color\": \"rgb(10,10,10)\", \"size\": 14}, \"showarrow\": false}, {\"xref\": \"x1\", \"yref\": \"y1\", \"text\": \"c6\", \"y\": -1.125, \"x\": 0.5125, \"font\": {\"color\": \"rgb(10,10,10)\", \"size\": 14}, \"showarrow\": false}, {\"xref\": \"x1\", \"yref\": \"y1\", \"text\": \"d4\", \"y\": -1.125, \"x\": 0.8125, \"font\": {\"color\": \"rgb(10,10,10)\", \"size\": 14}, \"showarrow\": false}, {\"xref\": \"x1\", \"yref\": \"y1\", \"text\": \"d5\", \"y\": -1.125, \"x\": 0.3375000000000001, \"font\": {\"color\": \"rgb(10,10,10)\", \"size\": 14}, \"showarrow\": false}, {\"xref\": \"x1\", \"yref\": \"y1\", \"text\": \"d5\", \"y\": -1.125, \"x\": 0.25625, \"font\": {\"color\": \"rgb(10,10,10)\", \"size\": 14}, \"showarrow\": false}, {\"xref\": \"x1\", \"yref\": \"y1\", \"text\": \"d6\", \"y\": -1.125, \"x\": 0.58125, \"font\": {\"color\": \"rgb(10,10,10)\", \"size\": 14}, \"showarrow\": false}, {\"xref\": \"x1\", \"yref\": \"y1\", \"text\": \"d6\", \"y\": -1.125, \"x\": 0.5375000000000004, \"font\": {\"color\": \"rgb(10,10,10)\", \"size\": 14}, \"showarrow\": false}, {\"xref\": \"x1\", \"yref\": \"y1\", \"text\": \"d6\", \"y\": -1.125, \"x\": 0.5625000000000004, \"font\": {\"color\": \"rgb(10,10,10)\", \"size\": 14}, \"showarrow\": false}, {\"xref\": \"x1\", \"yref\": \"y1\", \"text\": \"d6\", \"y\": -1.125, \"x\": 0.6875, \"font\": {\"color\": \"rgb(10,10,10)\", \"size\": 14}, \"showarrow\": false}, {\"xref\": \"x1\", \"yref\": \"y1\", \"text\": \"d7\", \"y\": -1.125, \"x\": 0.26875000000000016, \"font\": {\"color\": \"rgb(10,10,10)\", \"size\": 14}, \"showarrow\": false}, {\"xref\": \"x1\", \"yref\": \"y1\", \"text\": \"d7\", \"y\": -1.125, \"x\": 0.3625000000000001, \"font\": {\"color\": \"rgb(10,10,10)\", \"size\": 14}, \"showarrow\": false}, {\"xref\": \"x1\", \"yref\": \"y1\", \"text\": \"e4\", \"y\": -1.125, \"x\": 0.30625000000000024, \"font\": {\"color\": \"rgb(10,10,10)\", \"size\": 14}, \"showarrow\": false}, {\"xref\": \"x1\", \"yref\": \"y1\", \"text\": \"e4\", \"y\": -1.125, \"x\": 0.28750000000000003, \"font\": {\"color\": \"rgb(10,10,10)\", \"size\": 14}, \"showarrow\": false}, {\"xref\": \"x1\", \"yref\": \"y1\", \"text\": \"e5\", \"y\": -1.125, \"x\": 0.1875, \"font\": {\"color\": \"rgb(10,10,10)\", \"size\": 14}, \"showarrow\": false}, {\"xref\": \"x1\", \"yref\": \"y1\", \"text\": \"e6\", \"y\": -1.125, \"x\": 0.9375, \"font\": {\"color\": \"rgb(10,10,10)\", \"size\": 14}, \"showarrow\": false}, {\"xref\": \"x1\", \"yref\": \"y1\", \"text\": \"e7\", \"y\": -1.125, \"x\": 0.59375, \"font\": {\"color\": \"rgb(10,10,10)\", \"size\": 14}, \"showarrow\": false}, {\"xref\": \"x1\", \"yref\": \"y1\", \"text\": \"f6\", \"y\": -1.125, \"x\": 0.6125000000000005, \"font\": {\"color\": \"rgb(10,10,10)\", \"size\": 14}, \"showarrow\": false}, {\"xref\": \"x1\", \"yref\": \"y1\", \"text\": \"f6\", \"y\": -1.125, \"x\": 0.32187500000000013, \"font\": {\"color\": \"rgb(10,10,10)\", \"size\": 14}, \"showarrow\": false}, {\"xref\": \"x1\", \"yref\": \"y1\", \"text\": \"g6\", \"y\": -1.125, \"x\": 0.4375, \"font\": {\"color\": \"rgb(10,10,10)\", \"size\": 14}, \"showarrow\": false}, {\"xref\": \"x1\", \"yref\": \"y1\", \"text\": \"a4\", \"y\": -1.325, \"x\": 0.31562500000000016, \"font\": {\"color\": \"rgb(10,10,10)\", \"size\": 14}, \"showarrow\": false}, {\"xref\": \"x1\", \"yref\": \"y1\", \"text\": \"c3\", \"y\": -1.325, \"x\": 0.5125, \"font\": {\"color\": \"rgb(10,10,10)\", \"size\": 14}, \"showarrow\": false}, {\"xref\": \"x1\", \"yref\": \"y1\", \"text\": \"c3\", \"y\": -1.325, \"x\": 0.3375000000000001, \"font\": {\"color\": \"rgb(10,10,10)\", \"size\": 14}, \"showarrow\": false}, {\"xref\": \"x1\", \"yref\": \"y1\", \"text\": \"c3\", \"y\": -1.325, \"x\": 0.58125, \"font\": {\"color\": \"rgb(10,10,10)\", \"size\": 14}, \"showarrow\": false}, {\"xref\": \"x1\", \"yref\": \"y1\", \"text\": \"c3\", \"y\": -1.325, \"x\": 0.3625000000000001, \"font\": {\"color\": \"rgb(10,10,10)\", \"size\": 14}, \"showarrow\": false}, {\"xref\": \"x1\", \"yref\": \"y1\", \"text\": \"c3\", \"y\": -1.325, \"x\": 0.3062500000000003, \"font\": {\"color\": \"rgb(10,10,10)\", \"size\": 14}, \"showarrow\": false}, {\"xref\": \"x1\", \"yref\": \"y1\", \"text\": \"c4\", \"y\": -1.325, \"x\": 0.1875, \"font\": {\"color\": \"rgb(10,10,10)\", \"size\": 14}, \"showarrow\": false}, {\"xref\": \"x1\", \"yref\": \"y1\", \"text\": \"d4\", \"y\": -1.325, \"x\": 0.8125, \"font\": {\"color\": \"rgb(10,10,10)\", \"size\": 14}, \"showarrow\": false}, {\"xref\": \"x1\", \"yref\": \"y1\", \"text\": \"d5\", \"y\": -1.325, \"x\": 0.9375, \"font\": {\"color\": \"rgb(10,10,10)\", \"size\": 14}, \"showarrow\": false}, {\"xref\": \"x1\", \"yref\": \"y1\", \"text\": \"e2\", \"y\": -1.325, \"x\": 0.4375, \"font\": {\"color\": \"rgb(10,10,10)\", \"size\": 14}, \"showarrow\": false}, {\"xref\": \"x1\", \"yref\": \"y1\", \"text\": \"e3\", \"y\": -1.325, \"x\": 0.5625000000000006, \"font\": {\"color\": \"rgb(10,10,10)\", \"size\": 14}, \"showarrow\": false}, {\"xref\": \"x1\", \"yref\": \"y1\", \"text\": \"e4\", \"y\": -1.325, \"x\": 0.28750000000000003, \"font\": {\"color\": \"rgb(10,10,10)\", \"size\": 14}, \"showarrow\": false}, {\"xref\": \"x1\", \"yref\": \"y1\", \"text\": \"e5\", \"y\": -1.325, \"x\": 0.25625, \"font\": {\"color\": \"rgb(10,10,10)\", \"size\": 14}, \"showarrow\": false}, {\"xref\": \"x1\", \"yref\": \"y1\", \"text\": \"f3\", \"y\": -1.325, \"x\": 0.6125000000000006, \"font\": {\"color\": \"rgb(10,10,10)\", \"size\": 14}, \"showarrow\": false}, {\"xref\": \"x1\", \"yref\": \"y1\", \"text\": \"g1\", \"y\": -1.325, \"x\": 0.2687500000000002, \"font\": {\"color\": \"rgb(10,10,10)\", \"size\": 14}, \"showarrow\": false}, {\"xref\": \"x1\", \"yref\": \"y1\", \"text\": \"g2\", \"y\": -1.325, \"x\": 0.6875, \"font\": {\"color\": \"rgb(10,10,10)\", \"size\": 14}, \"showarrow\": false}, {\"xref\": \"x1\", \"yref\": \"y1\", \"text\": \"g3\", \"y\": -1.325, \"x\": 0.0625, \"font\": {\"color\": \"rgb(10,10,10)\", \"size\": 14}, \"showarrow\": false}, {\"xref\": \"x1\", \"yref\": \"y1\", \"text\": \"g3\", \"y\": -1.325, \"x\": 0.32187500000000013, \"font\": {\"color\": \"rgb(10,10,10)\", \"size\": 14}, \"showarrow\": false}, {\"xref\": \"x1\", \"yref\": \"y1\", \"text\": \"h4\", \"y\": -1.325, \"x\": 0.5375000000000005, \"font\": {\"color\": \"rgb(10,10,10)\", \"size\": 14}, \"showarrow\": false}, {\"xref\": \"x1\", \"yref\": \"y1\", \"text\": \"h4\", \"y\": -1.325, \"x\": 0.59375, \"font\": {\"color\": \"rgb(10,10,10)\", \"size\": 14}, \"showarrow\": false}, {\"xref\": \"x1\", \"yref\": \"y1\", \"text\": \"a6\", \"y\": -1.525, \"x\": 0.26875000000000027, \"font\": {\"color\": \"rgb(10,10,10)\", \"size\": 14}, \"showarrow\": false}, {\"xref\": \"x1\", \"yref\": \"y1\", \"text\": \"b4\", \"y\": -1.525, \"x\": 0.6125000000000007, \"font\": {\"color\": \"rgb(10,10,10)\", \"size\": 14}, \"showarrow\": false}, {\"xref\": \"x1\", \"yref\": \"y1\", \"text\": \"c6\", \"y\": -1.525, \"x\": 0.3625000000000001, \"font\": {\"color\": \"rgb(10,10,10)\", \"size\": 14}, \"showarrow\": false}, {\"xref\": \"x1\", \"yref\": \"y1\", \"text\": \"c6\", \"y\": -1.525, \"x\": 0.4375, \"font\": {\"color\": \"rgb(10,10,10)\", \"size\": 14}, \"showarrow\": false}, {\"xref\": \"x1\", \"yref\": \"y1\", \"text\": \"d4\", \"y\": -1.525, \"x\": 0.25625, \"font\": {\"color\": \"rgb(10,10,10)\", \"size\": 14}, \"showarrow\": false}, {\"xref\": \"x1\", \"yref\": \"y1\", \"text\": \"d5\", \"y\": -1.525, \"x\": 0.9375, \"font\": {\"color\": \"rgb(10,10,10)\", \"size\": 14}, \"showarrow\": false}, {\"xref\": \"x1\", \"yref\": \"y1\", \"text\": \"d5\", \"y\": -1.525, \"x\": 0.32187500000000013, \"font\": {\"color\": \"rgb(10,10,10)\", \"size\": 14}, \"showarrow\": false}, {\"xref\": \"x1\", \"yref\": \"y1\", \"text\": \"d6\", \"y\": -1.525, \"x\": 0.5125, \"font\": {\"color\": \"rgb(10,10,10)\", \"size\": 14}, \"showarrow\": false}, {\"xref\": \"x1\", \"yref\": \"y1\", \"text\": \"d8\", \"y\": -1.525, \"x\": 0.3375000000000001, \"font\": {\"color\": \"rgb(10,10,10)\", \"size\": 14}, \"showarrow\": false}, {\"xref\": \"x1\", \"yref\": \"y1\", \"text\": \"e5\", \"y\": -1.525, \"x\": 0.5375000000000006, \"font\": {\"color\": \"rgb(10,10,10)\", \"size\": 14}, \"showarrow\": false}, {\"xref\": \"x1\", \"yref\": \"y1\", \"text\": \"e6\", \"y\": -1.525, \"x\": 0.58125, \"font\": {\"color\": \"rgb(10,10,10)\", \"size\": 14}, \"showarrow\": false}, {\"xref\": \"x1\", \"yref\": \"y1\", \"text\": \"e6\", \"y\": -1.525, \"x\": 0.5625000000000007, \"font\": {\"color\": \"rgb(10,10,10)\", \"size\": 14}, \"showarrow\": false}, {\"xref\": \"x1\", \"yref\": \"y1\", \"text\": \"f6\", \"y\": -1.525, \"x\": 0.31562500000000016, \"font\": {\"color\": \"rgb(10,10,10)\", \"size\": 14}, \"showarrow\": false}, {\"xref\": \"x1\", \"yref\": \"y1\", \"text\": \"f6\", \"y\": -1.525, \"x\": 0.30625000000000036, \"font\": {\"color\": \"rgb(10,10,10)\", \"size\": 14}, \"showarrow\": false}, {\"xref\": \"x1\", \"yref\": \"y1\", \"text\": \"f6\", \"y\": -1.525, \"x\": 0.1875, \"font\": {\"color\": \"rgb(10,10,10)\", \"size\": 14}, \"showarrow\": false}, {\"xref\": \"x1\", \"yref\": \"y1\", \"text\": \"f6\", \"y\": -1.525, \"x\": 0.8125, \"font\": {\"color\": \"rgb(10,10,10)\", \"size\": 14}, \"showarrow\": false}, {\"xref\": \"x1\", \"yref\": \"y1\", \"text\": \"f6\", \"y\": -1.525, \"x\": 0.28750000000000003, \"font\": {\"color\": \"rgb(10,10,10)\", \"size\": 14}, \"showarrow\": false}, {\"xref\": \"x1\", \"yref\": \"y1\", \"text\": \"f6\", \"y\": -1.525, \"x\": 0.6875, \"font\": {\"color\": \"rgb(10,10,10)\", \"size\": 14}, \"showarrow\": false}, {\"xref\": \"x1\", \"yref\": \"y1\", \"text\": \"f6\", \"y\": -1.525, \"x\": 0.59375, \"font\": {\"color\": \"rgb(10,10,10)\", \"size\": 14}, \"showarrow\": false}, {\"xref\": \"x1\", \"yref\": \"y1\", \"text\": \"g8\", \"y\": -1.525, \"x\": 0.0625, \"font\": {\"color\": \"rgb(10,10,10)\", \"size\": 14}, \"showarrow\": false}, {\"xref\": \"x1\", \"yref\": \"y1\", \"text\": \"c3\", \"y\": -1.7249999999999999, \"x\": 0.8125, \"font\": {\"color\": \"rgb(10,10,10)\", \"size\": 14}, \"showarrow\": false}, {\"xref\": \"x1\", \"yref\": \"y1\", \"text\": \"c4\", \"y\": -1.7249999999999999, \"x\": 0.3062500000000004, \"font\": {\"color\": \"rgb(10,10,10)\", \"size\": 14}, \"showarrow\": false}, {\"xref\": \"x1\", \"yref\": \"y1\", \"text\": \"d3\", \"y\": -1.7249999999999999, \"x\": 0.58125, \"font\": {\"color\": \"rgb(10,10,10)\", \"size\": 14}, \"showarrow\": false}, {\"xref\": \"x1\", \"yref\": \"y1\", \"text\": \"d4\", \"y\": -1.7249999999999999, \"x\": 0.4375, \"font\": {\"color\": \"rgb(10,10,10)\", \"size\": 14}, \"showarrow\": false}, {\"xref\": \"x1\", \"yref\": \"y1\", \"text\": \"d5\", \"y\": -1.7249999999999999, \"x\": 0.5375000000000008, \"font\": {\"color\": \"rgb(10,10,10)\", \"size\": 14}, \"showarrow\": false}, {\"xref\": \"x1\", \"yref\": \"y1\", \"text\": \"d7\", \"y\": -1.7249999999999999, \"x\": 0.2687500000000003, \"font\": {\"color\": \"rgb(10,10,10)\", \"size\": 14}, \"showarrow\": false}, {\"xref\": \"x1\", \"yref\": \"y1\", \"text\": \"f3\", \"y\": -1.7249999999999999, \"x\": 0.9375, \"font\": {\"color\": \"rgb(10,10,10)\", \"size\": 14}, \"showarrow\": false}, {\"xref\": \"x1\", \"yref\": \"y1\", \"text\": \"f3\", \"y\": -1.7249999999999999, \"x\": 0.1875, \"font\": {\"color\": \"rgb(10,10,10)\", \"size\": 14}, \"showarrow\": false}, {\"xref\": \"x1\", \"yref\": \"y1\", \"text\": \"f3\", \"y\": -1.7249999999999999, \"x\": 0.28750000000000003, \"font\": {\"color\": \"rgb(10,10,10)\", \"size\": 14}, \"showarrow\": false}, {\"xref\": \"x1\", \"yref\": \"y1\", \"text\": \"f4\", \"y\": -1.7249999999999999, \"x\": 0.3625000000000001, \"font\": {\"color\": \"rgb(10,10,10)\", \"size\": 14}, \"showarrow\": false}, {\"xref\": \"x1\", \"yref\": \"y1\", \"text\": \"f4\", \"y\": -1.7249999999999999, \"x\": 0.25625, \"font\": {\"color\": \"rgb(10,10,10)\", \"size\": 14}, \"showarrow\": false}, {\"xref\": \"x1\", \"yref\": \"y1\", \"text\": \"f6\", \"y\": -1.7249999999999999, \"x\": 0.59375, \"font\": {\"color\": \"rgb(10,10,10)\", \"size\": 14}, \"showarrow\": false}, {\"xref\": \"x1\", \"yref\": \"y1\", \"text\": \"g1\", \"y\": -1.7249999999999999, \"x\": 0.31562500000000016, \"font\": {\"color\": \"rgb(10,10,10)\", \"size\": 14}, \"showarrow\": false}, {\"xref\": \"x1\", \"yref\": \"y1\", \"text\": \"g1\", \"y\": -1.7249999999999999, \"x\": 0.6875, \"font\": {\"color\": \"rgb(10,10,10)\", \"size\": 14}, \"showarrow\": false}, {\"xref\": \"x1\", \"yref\": \"y1\", \"text\": \"g2\", \"y\": -1.7249999999999999, \"x\": 0.32187500000000013, \"font\": {\"color\": \"rgb(10,10,10)\", \"size\": 14}, \"showarrow\": false}, {\"xref\": \"x1\", \"yref\": \"y1\", \"text\": \"g2\", \"y\": -1.7249999999999999, \"x\": 0.0625, \"font\": {\"color\": \"rgb(10,10,10)\", \"size\": 14}, \"showarrow\": false}, {\"xref\": \"x1\", \"yref\": \"y1\", \"text\": \"g5\", \"y\": -1.7249999999999999, \"x\": 0.6125000000000008, \"font\": {\"color\": \"rgb(10,10,10)\", \"size\": 14}, \"showarrow\": false}, {\"xref\": \"x1\", \"yref\": \"y1\", \"text\": \"g5\", \"y\": -1.7249999999999999, \"x\": 0.5125, \"font\": {\"color\": \"rgb(10,10,10)\", \"size\": 14}, \"showarrow\": false}, {\"xref\": \"x1\", \"yref\": \"y1\", \"text\": \"h3\", \"y\": -1.7249999999999999, \"x\": 0.3375000000000001, \"font\": {\"color\": \"rgb(10,10,10)\", \"size\": 14}, \"showarrow\": false}, {\"xref\": \"x1\", \"yref\": \"y1\", \"text\": \"h3\", \"y\": -1.7249999999999999, \"x\": 0.5625000000000008, \"font\": {\"color\": \"rgb(10,10,10)\", \"size\": 14}, \"showarrow\": false}]}, {\"linkText\": \"Export to plot.ly\", \"showLink\": true})});</script>"
      ],
      "text/vnd.plotly.v1+html": [
       "<div id=\"b1540b12-729d-4996-a979-663ea5afb32c\" style=\"height: 600px; width: 600px;\" class=\"plotly-graph-div\"></div><script type=\"text/javascript\">require([\"plotly\"], function(Plotly) { window.PLOTLYENV=window.PLOTLYENV || {};window.PLOTLYENV.BASE_URL=\"https://plot.ly\";Plotly.newPlot(\"b1540b12-729d-4996-a979-663ea5afb32c\", [{\"mode\": \"lines\", \"hoverinfo\": \"none\", \"y\": [-2.6, -2.8000000000000003, null, -2.6, -2.4, null, -2.8000000000000003, -3.0000000000000004, null, -2.8000000000000003, -2.6, null, -1.4, -1.2, null, -1.4, -1.5999999999999999, null, -2.8000000000000003, -3.0000000000000004, null, -2.8000000000000003, -2.6, null, -1.4, -1.5999999999999999, null, -1.4, -1.2, null, -2.4, -2.1999999999999997, null, -2.4, -2.6, null, -2.8000000000000003, -2.6, null, -2.8000000000000003, -3.0000000000000004, null, -0.8, -1.0, null, -0.8, -0.6000000000000001, null, -2.6, -2.4, null, -2.6, -2.8000000000000003, null, -1.0, -1.2, null, -1.0, -0.8, null, -3.2000000000000006, -3.0000000000000004, null, -3.0000000000000004, -2.8000000000000003, null, -3.0000000000000004, -3.2000000000000006, null, -1.9999999999999998, -2.1999999999999997, null, -1.9999999999999998, -1.7999999999999998, null, -1.9999999999999998, -2.1999999999999997, null, -1.9999999999999998, -1.7999999999999998, null, -1.5999999999999999, -1.4, null, -1.5999999999999999, -1.7999999999999998, null, -1.2, -1.0, null, -1.2, -1.4, null, -1.7999999999999998, -1.9999999999999998, null, -1.7999999999999998, -1.5999999999999999, null, -0.8, -1.0, null, -0.8, -1.0, null, -0.8, -0.6000000000000001, null, -2.1999999999999997, -1.9999999999999998, null, -2.4, -2.6, null, -2.4, -2.1999999999999997, null, -2.8000000000000003, -3.0000000000000004, null, -2.8000000000000003, -2.6, null, -0.4, -0.2, null, -0.4, -0.6000000000000001, null, -1.4, -1.5999999999999999, null, -1.4, -1.2, null, -1.9999999999999998, -1.7999999999999998, null, -2.8000000000000003, -3.0000000000000004, null, -2.8000000000000003, -2.6, null, -0.6000000000000001, -0.8, null, -0.6000000000000001, -0.4, null, -1.4, -1.2, null, -2.4, -2.1999999999999997, null, -2.4, -2.6, null, -1.9999999999999998, -2.1999999999999997, null, -1.9999999999999998, -1.7999999999999998, null, -2.1999999999999997, -1.9999999999999998, null, -2.1999999999999997, -2.4, null, -2.1999999999999997, -2.4, null, -2.1999999999999997, -1.9999999999999998, null, -3.0000000000000004, -2.8000000000000003, null, -3.0000000000000004, -3.2000000000000006, null, -1.7999999999999998, -1.5999999999999999, null, -1.7999999999999998, -1.9999999999999998, null, -0.8, -0.6000000000000001, null, -0.8, -1.0, null, -0.8, -0.6000000000000001, null, -0.8, -1.0, null, -3.2000000000000006, -3.0000000000000004, null, -2.1999999999999997, -2.4, null, -2.6, -2.4, null, -3.2000000000000006, -3.0000000000000004, null, -1.0, -0.8, null, -1.0, -1.2, null, -1.7999999999999998, -1.9999999999999998, null, -1.7999999999999998, -1.5999999999999999, null, -1.9999999999999998, -1.7999999999999998, null, -1.9999999999999998, -2.1999999999999997, null, -1.5999999999999999, -1.7999999999999998, null, -0.6000000000000001, -0.4, null, -1.5999999999999999, -1.4, null, -0.4, -0.6000000000000001, null, -0.4, -0.2, null, -1.2, -1.0, null, -1.2, -1.4, null, -1.4, -1.2, null, -1.4, -1.5999999999999999, null, -1.5999999999999999, -1.4, null, -1.5999999999999999, -1.7999999999999998, null, -2.1999999999999997, -1.9999999999999998, null, -2.1999999999999997, -2.4, null, -2.4, -2.1999999999999997, null, -2.6, -2.8000000000000003, null, -0.4, -0.6000000000000001, null, -0.4, -0.2, null, -0.4, -0.6000000000000001, null, -0.2, 0, null, -1.4, -1.5999999999999999, null, -1.4, -1.2, null, -1.4, -1.2, null, -1.4, -1.5999999999999999, null, -2.1999999999999997, -2.4, null, -2.1999999999999997, -1.9999999999999998, null, -1.0, -0.8, null, -1.0, -1.2, null, -3.2000000000000006, -3.0000000000000004, null, -0.4, -0.6000000000000001, null, -0.4, -0.2, null, -1.7999999999999998, -1.5999999999999999, null, -1.7999999999999998, -1.9999999999999998, null, -0.6000000000000001, -0.4, null, -0.6000000000000001, -0.8, null, -2.8000000000000003, -2.6, null, -2.8000000000000003, -3.0000000000000004, null, -1.2, -1.4, null, -3.2000000000000006, -3.0000000000000004, null, -3.2000000000000006, -3.0000000000000004, null, -2.6, -2.4, null, -2.6, -2.8000000000000003, null, -1.2, -1.0, null, -1.9999999999999998, -2.1999999999999997, null, -1.9999999999999998, -1.7999999999999998, null, -1.7999999999999998, -1.9999999999999998, null, -1.5999999999999999, -1.7999999999999998, null, -1.5999999999999999, -1.4, null, -1.0, -1.2, null, -1.0, -0.8, null, -2.6, -2.4, null, -1.0, -0.8, null, -1.0, -1.2, null, -2.4, -2.6, null, -2.4, -2.1999999999999997, null, -2.4, -2.6, null, -2.4, -2.1999999999999997, null, -0.4, -0.2, null, -0.4, -0.6000000000000001, null, -2.8000000000000003, -3.0000000000000004, null, -2.8000000000000003, -2.6, null, -1.5999999999999999, -1.7999999999999998, null, -1.7999999999999998, -1.5999999999999999, null, -1.0, -1.2, null, -1.2, -1.4, null, -0.6000000000000001, -0.8, null, -3.2000000000000006, -3.0000000000000004, null, -0.2, 0, null, 0, -0.2, null, 0, -0.2, null, 0, -0.2, null, 0, -0.2, null, 0, -0.2, null, 0, -0.2, null, -2.4, -2.6, null, -3.2000000000000006, -3.0000000000000004, null, -1.2, -1.4, null, -1.2, -1.4, null, -1.2, -1.0, null, -1.0, -1.2, null, -1.0, -0.8, null, -1.5999999999999999, -1.4, null, -1.5999999999999999, -1.7999999999999998, null, -2.1999999999999997, -2.4, null, -2.1999999999999997, -1.9999999999999998, null, -0.8, -0.6000000000000001, null, -0.8, -1.0, null, -3.0000000000000004, -2.8000000000000003, null, -3.0000000000000004, -3.2000000000000006, null, -2.4, -2.1999999999999997, null, -2.4, -2.6, null, -2.6, -2.8000000000000003, null, -0.4, -0.2, null, -0.4, -0.6000000000000001, null, -0.4, -0.6000000000000001, null, -0.6000000000000001, -0.8, null, -0.6000000000000001, -0.4, null, -1.4, -1.5999999999999999, null, -0.2, -0.4, null, -0.6000000000000001, -0.8, null, -0.6000000000000001, -0.4, null, -2.6, -2.4, null, -3.2000000000000006, -3.0000000000000004, null, -3.0000000000000004, -2.8000000000000003, null, -3.0000000000000004, -3.2000000000000006, null, -1.7999999999999998, -1.5999999999999999, null, -1.7999999999999998, -1.9999999999999998, null, -1.0, -0.8, null, -0.8, -1.0, null, -0.8, -0.6000000000000001, null, -1.2, -1.0, null, -0.6000000000000001, -0.8, null, -2.4, -2.6, null, -1.2, -1.4, null, -1.2, -1.0, null, -1.0, -0.8, null, -0.4, -0.2, null, -2.8000000000000003, -2.6, null, -2.8000000000000003, -3.0000000000000004, null, -1.0, -0.8, null, -1.0, -1.2, null, -0.4, -0.2, null, -0.4, -0.6000000000000001, null, -1.9999999999999998, -1.7999999999999998, null, -1.9999999999999998, -2.1999999999999997, null, -1.5999999999999999, -1.7999999999999998, null, -1.5999999999999999, -1.4, null, -0.6000000000000001, -0.8, null, -1.9999999999999998, -1.7999999999999998, null, -2.1999999999999997, -1.9999999999999998, null, -2.6, -2.4, null, -2.1999999999999997, -1.9999999999999998, null, -1.4, -1.2, null, -1.2, -1.0, null, -2.6, -2.4, null, -2.6, -2.4, null, -3.2000000000000006, -3.0000000000000004, null, -2.8000000000000003, -3.0000000000000004, null, -3.0000000000000004, -3.2000000000000006, null, -3.0000000000000004, -2.8000000000000003, null, -1.5999999999999999, -1.7999999999999998, null, -1.2, -1.4, null, -2.6, -2.8000000000000003, null, -2.6, -2.4, null, -1.0, -1.2, null, -0.2, -0.4, null, -0.2, -0.4, null, -2.4, -2.1999999999999997, null, -0.6000000000000001, -0.8, null, -1.7999999999999998, -1.9999999999999998, null, -1.0, -0.8, null, -3.2000000000000006, -3.0000000000000004, null, -2.8000000000000003, -3.0000000000000004, null, -1.7999999999999998, -1.9999999999999998, null, -1.7999999999999998, -1.5999999999999999, null, -1.9999999999999998, -2.1999999999999997, null, -2.8000000000000003, -2.6, null, -2.8000000000000003, -3.0000000000000004, null, -1.4, -1.2, null, -1.7999999999999998, -1.9999999999999998, null, -1.4, -1.5999999999999999, null, -0.4, -0.2, null, -0.4, -0.6000000000000001, null, -0.4, -0.6000000000000001, null, -2.6, -2.8000000000000003, null, -2.1999999999999997, -1.9999999999999998, null, -2.1999999999999997, -1.9999999999999998, null, -2.1999999999999997, -1.9999999999999998, null, -1.9999999999999998, -1.7999999999999998, null, -1.7999999999999998, -1.5999999999999999, null, -1.4, -1.2, null, -2.8000000000000003, -2.6, null, -0.6000000000000001, -0.8, null, -2.1999999999999997, -2.4, null, -1.0, -0.8, null, -1.7999999999999998, -1.5999999999999999, null, -2.8000000000000003, -3.0000000000000004, null, -1.5999999999999999, -1.7999999999999998, null, -1.5999999999999999, -1.4, null, -3.0000000000000004, -3.2000000000000006, null, -3.0000000000000004, -3.2000000000000006, null, -1.4, -1.5999999999999999, null, -1.2, -1.0, null, -1.2, -1.4, null, -0.2, -0.4, null, -0.4, -0.2, null, -0.4, -0.6000000000000001, null, -1.0, -1.2, null, -1.0, -0.8, null, -2.8000000000000003, -3.0000000000000004, null, -1.0, -1.2, null, -0.6000000000000001, -0.8, null, -1.2, -1.0, null, -1.5999999999999999, -1.4, null, -1.5999999999999999, -1.7999999999999998, null, -0.2, -0.4, null, -2.8000000000000003, -3.0000000000000004, null, -2.8000000000000003, -2.6, null, -1.4, -1.2, null, -0.6000000000000001, -0.4, null, -1.4, -1.5999999999999999, null, -0.8, -1.0, null, -2.1999999999999997, -2.4, null, -2.1999999999999997, -1.9999999999999998, null, -2.4, -2.1999999999999997, null, -0.2, -0.4, null, -2.1999999999999997, -1.9999999999999998, null, -0.6000000000000001, -0.8, null, -2.8000000000000003, -2.6, null, -0.6000000000000001, -0.8, null, -2.4, -2.6, null, -2.8000000000000003, -2.6, null, -1.5999999999999999, -1.4, null, -0.4, -0.6000000000000001, null, -3.2000000000000006, -3.0000000000000004, null, -1.7999999999999998, -1.5999999999999999, null, -2.4, -2.1999999999999997, null, -2.4, -2.6, null, -2.1999999999999997, -2.4, null, -0.8, -0.6000000000000001, null, -1.5999999999999999, -1.4, null, -1.9999999999999998, -1.7999999999999998, null, -3.0000000000000004, -2.8000000000000003, null, -3.0000000000000004, -3.2000000000000006, null, -2.1999999999999997, -2.4, null, -1.7999999999999998, -1.9999999999999998, null], \"x\": [0.32187500000000013, 0.32187500000000013, null, 0.32187500000000013, 0.32187500000000013, null, 0.5625000000000013, 0.5625000000000014, null, 0.5625000000000013, 0.5625000000000012, null, 0.4375, 0.4375, null, 0.4375, 0.4375, null, 0.1875, 0.1875, null, 0.1875, 0.1875, null, 0.58125, 0.58125, null, 0.58125, 0.58125, null, 0.2687500000000005, 0.26875000000000043, null, 0.2687500000000005, 0.26875000000000054, null, 0.6125000000000014, 0.6125000000000013, null, 0.6125000000000014, 0.6125000000000015, null, 0.3625000000000001, 0.3625000000000001, null, 0.3625000000000001, 0.3625000000000001, null, 0.59375, 0.59375, null, 0.59375, 0.59375, null, 0.6125000000000004, 0.6125000000000005, null, 0.6125000000000004, 0.6125000000000003, null, 0.3375000000000001, 0.3375000000000001, null, 0.3625000000000001, 0.3625000000000001, null, 0.3625000000000001, 0.3625000000000001, null, 0.5375000000000009, 0.537500000000001, null, 0.5375000000000009, 0.5375000000000008, null, 0.9375, 0.9375, null, 0.9375, 0.9375, null, 0.31562500000000016, 0.31562500000000016, null, 0.31562500000000016, 0.31562500000000016, null, 0.25625, 0.25625, null, 0.25625, 0.25625, null, 0.6125000000000008, 0.6125000000000009, null, 0.6125000000000008, 0.6125000000000007, null, 0.31875000000000014, 0.31562500000000016, null, 0.31875000000000014, 0.32187500000000013, null, 0.31875000000000014, 0.3187500000000001, null, 0.26875000000000043, 0.2687500000000004, null, 0.5125, 0.5125, null, 0.5125, 0.5125, null, 0.28750000000000003, 0.28750000000000003, null, 0.28750000000000003, 0.28750000000000003, null, 0.0625, 0.0625, null, 0.0625, 0.0625, null, 0.5625000000000006, 0.5625000000000007, null, 0.5625000000000006, 0.5625000000000004, null, 0.2687500000000004, 0.2687500000000003, null, 0.4375, 0.4375, null, 0.4375, 0.4375, null, 0.5625000000000001, 0.5625000000000002, null, 0.5625000000000001, 0.5625, null, 0.31562500000000016, 0.31562500000000016, null, 0.28750000000000003, 0.28750000000000003, null, 0.28750000000000003, 0.28750000000000003, null, 0.1875, 0.1875, null, 0.1875, 0.1875, null, 0.3375000000000001, 0.3375000000000001, null, 0.3375000000000001, 0.3375000000000001, null, 0.3625000000000001, 0.3625000000000001, null, 0.3625000000000001, 0.3625000000000001, null, 0.9375, 0.9375, null, 0.9375, 0.9375, null, 0.4375, 0.4375, null, 0.4375, 0.4375, null, 0.4375, 0.4375, null, 0.4375, 0.4375, null, 0.3375000000000001, 0.3375000000000001, null, 0.3375000000000001, 0.3375000000000001, null, 0.1875, 0.1875, null, 0.537500000000001, 0.5375000000000011, null, 0.6125000000000013, 0.6125000000000012, null, 0.5125, 0.5125, null, 0.0625, 0.0625, null, 0.0625, 0.0625, null, 0.3625000000000001, 0.3625000000000001, null, 0.3625000000000001, 0.3625000000000001, null, 0.59375, 0.59375, null, 0.59375, 0.59375, null, 0.58125, 0.58125, null, 0.3187500000000001, 0.31250000000000006, null, 0.3625000000000001, 0.3625000000000001, null, 0.4375, 0.4375, null, 0.4375, 0.4375, null, 0.26875000000000016, 0.2687500000000001, null, 0.26875000000000016, 0.2687500000000002, null, 0.8125, 0.8125, null, 0.8125, 0.8125, null, 0.28750000000000003, 0.28750000000000003, null, 0.28750000000000003, 0.28750000000000003, null, 0.25625, 0.25625, null, 0.25625, 0.25625, null, 0.32187500000000013, 0.32187500000000013, null, 0.26875000000000054, 0.2687500000000006, null, 0.2625, 0.25625, null, 0.2625, 0.3125, null, 0.2625, 0.26875, null, 0.4375, 0.5, null, 0.5375000000000005, 0.5375000000000006, null, 0.5375000000000005, 0.5375000000000004, null, 0.59375, 0.59375, null, 0.59375, 0.59375, null, 0.0625, 0.0625, null, 0.0625, 0.0625, null, 0.5625000000000003, 0.5625000000000002, null, 0.5625000000000003, 0.5625000000000004, null, 0.25625, 0.25625, null, 0.1875, 0.1875, null, 0.1875, 0.1875, null, 0.3062500000000004, 0.30625000000000036, null, 0.3062500000000004, 0.30625000000000047, null, 0.5375000000000001, 0.5375, null, 0.5375000000000001, 0.5375000000000002, null, 0.25625, 0.25625, null, 0.25625, 0.25625, null, 0.0625, 0.0625, null, 0.5625000000000016, 0.5625000000000014, null, 0.8125, 0.8125, null, 0.3625000000000001, 0.3625000000000001, null, 0.3625000000000001, 0.3625000000000001, null, 0.5375000000000004, 0.5375000000000003, null, 0.5625000000000009, 0.562500000000001, null, 0.5625000000000009, 0.5625000000000008, null, 0.31562500000000016, 0.31562500000000016, null, 0.25625, 0.25625, null, 0.25625, 0.25625, null, 0.59375, 0.59375, null, 0.59375, 0.59375, null, 0.4375, 0.4375, null, 0.5125, 0.5125, null, 0.5125, 0.5125, null, 0.9375, 0.9375, null, 0.9375, 0.9375, null, 0.8125, 0.8125, null, 0.8125, 0.8125, null, 0.5125, 0.5625, null, 0.5125, 0.5125, null, 0.6875, 0.6875, null, 0.6875, 0.6875, null, 0.5625000000000007, 0.5625000000000008, null, 0.2687500000000003, 0.26875000000000027, null, 0.3375000000000001, 0.3375000000000001, null, 0.6125000000000005, 0.6125000000000006, null, 0.0625, 0.0625, null, 0.4375, 0.4375, null, 0.0625, 0.5, null, 0.5, 0.1875, null, 0.5, 0.3125, null, 0.5, 0.5625, null, 0.5, 0.6875, null, 0.5, 0.8125, null, 0.5, 0.9375, null, 0.3375000000000001, 0.3375000000000001, null, 0.6125000000000016, 0.6125000000000015, null, 0.5125, 0.5125, null, 0.30625000000000024, 0.3062500000000003, null, 0.30625000000000024, 0.3062500000000002, null, 0.1875, 0.1875, null, 0.1875, 0.1875, null, 0.1875, 0.1875, null, 0.1875, 0.1875, null, 0.4375, 0.4375, null, 0.4375, 0.4375, null, 0.28750000000000003, 0.28750000000000003, null, 0.28750000000000003, 0.28750000000000003, null, 0.31562500000000016, 0.31562500000000016, null, 0.31562500000000016, 0.31562500000000016, null, 0.3062500000000006, 0.3062500000000005, null, 0.3062500000000006, 0.30625000000000063, null, 0.30625000000000063, 0.3062500000000007, null, 0.5875, 0.5625, null, 0.5875, 0.58125, null, 0.5875, 0.59375, null, 0.9375, 0.9375, null, 0.9375, 0.9375, null, 0.3062500000000003, 0.30625000000000036, null, 0.8125, 0.8125, null, 0.6875, 0.6875, null, 0.6875, 0.6875, null, 0.6875, 0.6875, null, 0.28750000000000003, 0.28750000000000003, null, 0.58125, 0.58125, null, 0.58125, 0.58125, null, 0.8125, 0.8125, null, 0.8125, 0.8125, null, 0.5375000000000003, 0.5375000000000002, null, 0.58125, 0.58125, null, 0.58125, 0.58125, null, 0.58125, 0.58125, null, 0.1875, 0.1875, null, 0.5375000000000011, 0.5375000000000012, null, 0.6875, 0.6875, null, 0.6875, 0.6875, null, 0.3062500000000002, 0.30625000000000013, null, 0.5625, 0.5625, null, 0.0625, 0.0625, null, 0.0625, 0.0625, null, 0.9375, 0.9375, null, 0.9375, 0.9375, null, 0.3375000000000001, 0.3125, null, 0.3375000000000001, 0.3375000000000001, null, 0.6875, 0.6875, null, 0.6875, 0.6875, null, 0.32187500000000013, 0.32187500000000013, null, 0.32187500000000013, 0.32187500000000013, null, 0.26875, 0.26875000000000004, null, 0.0625, 0.0625, null, 0.32187500000000013, 0.32187500000000013, null, 0.1875, 0.1875, null, 0.28750000000000003, 0.28750000000000003, null, 0.3625000000000001, 0.3625000000000001, null, 0.31562500000000016, 0.31562500000000016, null, 0.0625, 0.0625, null, 0.25625, 0.25625, null, 0.32187500000000013, 0.32187500000000013, null, 0.2687500000000006, 0.26875000000000066, null, 0.5375000000000014, 0.5375000000000015, null, 0.5375000000000014, 0.5375000000000013, null, 0.59375, 0.59375, null, 0.3375000000000001, 0.3375000000000001, null, 0.31562500000000016, 0.31562500000000016, null, 0.31562500000000016, 0.31562500000000016, null, 0.3625000000000001, 0.3625000000000001, null, 0.5625, 0.5375, null, 0.5625, 0.6125, null, 0.6875, 0.6875, null, 0.59375, 0.59375, null, 0.32187500000000013, 0.32187500000000013, null, 0.25625, 0.25625, null, 0.3062500000000008, 0.30625000000000074, null, 0.59375, 0.59375, null, 0.5125, 0.5125, null, 0.5125, 0.5125, null, 0.6125000000000009, 0.612500000000001, null, 0.5125, 0.5125, null, 0.5125, 0.5125, null, 0.32187500000000013, 0.32187500000000013, null, 0.58125, 0.58125, null, 0.5125, 0.5125, null, 0.3625000000000001, 0.3125, null, 0.3625000000000001, 0.3625000000000001, null, 0.6125, 0.6125000000000002, null, 0.3375000000000001, 0.3375000000000001, null, 0.5125, 0.5125, null, 0.8125, 0.8125, null, 0.3062500000000005, 0.30625000000000047, null, 0.3375000000000001, 0.3375000000000001, null, 0.5375000000000008, 0.5375000000000006, null, 0.1875, 0.1875, null, 0.5375000000000013, 0.5375000000000012, null, 0.25625, 0.25625, null, 0.562500000000001, 0.5625000000000011, null, 0.6875, 0.6875, null, 0.6875, 0.6875, null, 0.3062500000000007, 0.30625000000000074, null, 0.3375000000000001, 0.3375000000000001, null, 0.3375000000000001, 0.3375000000000001, null, 0.0625, 0.0625, null, 0.6875, 0.6875, null, 0.6125000000000006, 0.6125000000000007, null, 0.28750000000000003, 0.28750000000000003, null, 0.28750000000000003, 0.28750000000000003, null, 0.9375, 0.9375, null, 0.31250000000000006, 0.3125, null, 0.31250000000000006, 0.3062500000000001, null, 0.8125, 0.8125, null, 0.8125, 0.8125, null, 0.32187500000000013, 0.32187500000000013, null, 0.32187500000000013, 0.32187500000000013, null, 0.6125000000000002, 0.6125000000000003, null, 0.4375, 0.4375, null, 0.9375, 0.9375, null, 0.9375, 0.9375, null, 0.3125, 0.28750000000000003, null, 0.8125, 0.8125, null, 0.8125, 0.8125, null, 0.9375, 0.9375, null, 0.28750000000000003, 0.28750000000000003, null, 0.0625, 0.0625, null, 0.26875000000000004, 0.2687500000000001, null, 0.58125, 0.58125, null, 0.58125, 0.58125, null, 0.31562500000000016, 0.31562500000000016, null, 0.6875, 0.6875, null, 0.31562500000000016, 0.31562500000000016, null, 0.3062500000000001, 0.30625000000000013, null, 0.9375, 0.9375, null, 0.5125, 0.5125, null, 0.5625000000000011, 0.5625000000000012, null, 0.58125, 0.58125, null, 0.26875000000000027, 0.2687500000000002, null, 0.8125, 0.8125, null, 0.59375, 0.59375, null, 0.0625, 0.0625, null, 0.6125000000000012, 0.612500000000001, null, 0.58125, 0.58125, null, 0.59375, 0.59375, null, 0.8125, 0.8125, null, 0.6875, 0.6875, null, 0.25625, 0.25625, null, 0.3375000000000001, 0.3375000000000001, null, 0.26875000000000066, 0.2687500000000007, null, 0.1875, 0.1875, null, 0.28750000000000003, 0.28750000000000003, null], \"line\": {\"color\": \"rgb(25,25,25)\", \"width\": 1}, \"type\": \"scatter\"}, {\"text\": [\"00\", \"0b\", \"0b\", \"0b\", \"0c\", \"0c\", \"0d\", \"0d\", \"0d\", \"0d\", \"0e\", \"0e\", \"0e\", \"0f\", \"0f\", \"0f\", \"0f\", \"0g\", \"0g\", \"0h\", \"0h\", \"1b\", \"1b\", \"1b\", \"1c\", \"1c\", \"1d\", \"1d\", \"1d\", \"1d\", \"1d\", \"1e\", \"1e\", \"1f\", \"1f\", \"1f\", \"1f\", \"1f\", \"1g\", \"1g\", \"1h\", \"2c\", \"2c\", \"2d\", \"2d\", \"2d\", \"2d\", \"2d\", \"2d\", \"2e\", \"2e\", \"2e\", \"2e\", \"2e\", \"2e\", \"2f\", \"2f\", \"2g\", \"2g\", \"2g\", \"2g\", \"3b\", \"3b\", \"3c\", \"3c\", \"3d\", \"3d\", \"3d\", \"3d\", \"3d\", \"3d\", \"3d\", \"3e\", \"3e\", \"3e\", \"3f\", \"3g\", \"3g\", \"3g\", \"3g\", \"3g\", \"4c\", \"4c\", \"4c\", \"4d\", \"4d\", \"4d\", \"4d\", \"4e\", \"4e\", \"4e\", \"4e\", \"4f\", \"4f\", \"4f\", \"4f\", \"4f\", \"4g\", \"4g\", \"4g\", \"4h\", \"5a\", \"5b\", \"5b\", \"5b\", \"5c\", \"5d\", \"5d\", \"5d\", \"5d\", \"5d\", \"5e\", \"5f\", \"5f\", \"5g\", \"5g\", \"5g\", \"5g\", \"5g\", \"5g\", \"5h\", \"6a\", \"6a\", \"6c\", \"6c\", \"6d\", \"6d\", \"6d\", \"6d\", \"6e\", \"6e\", \"6e\", \"6e\", \"6e\", \"6g\", \"6g\", \"6g\", \"6g\", \"6g\", \"6g\", \"6h\", \"c3\", \"c4\", \"d4\", \"e3\", \"e4\", \"f3\", \"f4\", \"g3\", \"b6\", \"b6\", \"c5\", \"c6\", \"c6\", \"d5\", \"d5\", \"d6\", \"e5\", \"e5\", \"e5\", \"e6\", \"e6\", \"e6\", \"f5\", \"g6\", \"c3\", \"c3\", \"c3\", \"c4\", \"c4\", \"c4\", \"d4\", \"e2\", \"e3\", \"e4\", \"f3\", \"f3\", \"f3\", \"f3\", \"f3\", \"f4\", \"f4\", \"g2\", \"g3\", \"b7\", \"b7\", \"c6\", \"c6\", \"c7\", \"d5\", \"d5\", \"d5\", \"d5\", \"d5\", \"d6\", \"d6\", \"e6\", \"e6\", \"e6\", \"f5\", \"f6\", \"f6\", \"g7\", \"b5\", \"b5\", \"c3\", \"c4\", \"d3\", \"d3\", \"d3\", \"d4\", \"d4\", \"d4\", \"d5\", \"d5\", \"e3\", \"f3\", \"f3\", \"f3\", \"g2\", \"g3\", \"g3\", \"g5\", \"a6\", \"c5\", \"c6\", \"d4\", \"d5\", \"d5\", \"d6\", \"d6\", \"d6\", \"d6\", \"d7\", \"d7\", \"e4\", \"e4\", \"e5\", \"e6\", \"e7\", \"f6\", \"f6\", \"g6\", \"a4\", \"c3\", \"c3\", \"c3\", \"c3\", \"c3\", \"c4\", \"d4\", \"d5\", \"e2\", \"e3\", \"e4\", \"e5\", \"f3\", \"g1\", \"g2\", \"g3\", \"g3\", \"h4\", \"h4\", \"a6\", \"b4\", \"c6\", \"c6\", \"d4\", \"d5\", \"d5\", \"d6\", \"d8\", \"e5\", \"e6\", \"e6\", \"f6\", \"f6\", \"f6\", \"f6\", \"f6\", \"f6\", \"f6\", \"g8\", \"c3\", \"c4\", \"d3\", \"d4\", \"d5\", \"d7\", \"f3\", \"f3\", \"f3\", \"f4\", \"f4\", \"f6\", \"g1\", \"g1\", \"g2\", \"g2\", \"g5\", \"g5\", \"h3\", \"h3\"], \"y\": [0, -1.9999999999999998, -1.9999999999999998, -1.9999999999999998, -1.9999999999999998, -1.9999999999999998, -1.9999999999999998, -1.9999999999999998, -1.9999999999999998, -1.9999999999999998, -1.9999999999999998, -1.9999999999999998, -1.9999999999999998, -1.9999999999999998, -1.9999999999999998, -1.9999999999999998, -1.9999999999999998, -1.9999999999999998, -1.9999999999999998, -1.9999999999999998, -1.9999999999999998, -2.1999999999999997, -2.1999999999999997, -2.1999999999999997, -2.1999999999999997, -2.1999999999999997, -2.1999999999999997, -2.1999999999999997, -2.1999999999999997, -2.1999999999999997, -2.1999999999999997, -2.1999999999999997, -2.1999999999999997, -2.1999999999999997, -2.1999999999999997, -2.1999999999999997, -2.1999999999999997, -2.1999999999999997, -2.1999999999999997, -2.1999999999999997, -2.1999999999999997, -2.4, -2.4, -2.4, -2.4, -2.4, -2.4, -2.4, -2.4, -2.4, -2.4, -2.4, -2.4, -2.4, -2.4, -2.4, -2.4, -2.4, -2.4, -2.4, -2.4, -2.6, -2.6, -2.6, -2.6, -2.6, -2.6, -2.6, -2.6, -2.6, -2.6, -2.6, -2.6, -2.6, -2.6, -2.6, -2.6, -2.6, -2.6, -2.6, -2.6, -2.8000000000000003, -2.8000000000000003, -2.8000000000000003, -2.8000000000000003, -2.8000000000000003, -2.8000000000000003, -2.8000000000000003, -2.8000000000000003, -2.8000000000000003, -2.8000000000000003, -2.8000000000000003, -2.8000000000000003, -2.8000000000000003, -2.8000000000000003, -2.8000000000000003, -2.8000000000000003, -2.8000000000000003, -2.8000000000000003, -2.8000000000000003, -2.8000000000000003, -3.0000000000000004, -3.0000000000000004, -3.0000000000000004, -3.0000000000000004, -3.0000000000000004, -3.0000000000000004, -3.0000000000000004, -3.0000000000000004, -3.0000000000000004, -3.0000000000000004, -3.0000000000000004, -3.0000000000000004, -3.0000000000000004, -3.0000000000000004, -3.0000000000000004, -3.0000000000000004, -3.0000000000000004, -3.0000000000000004, -3.0000000000000004, -3.0000000000000004, -3.2000000000000006, -3.2000000000000006, -3.2000000000000006, -3.2000000000000006, -3.2000000000000006, -3.2000000000000006, -3.2000000000000006, -3.2000000000000006, -3.2000000000000006, -3.2000000000000006, -3.2000000000000006, -3.2000000000000006, -3.2000000000000006, -3.2000000000000006, -3.2000000000000006, -3.2000000000000006, -3.2000000000000006, -3.2000000000000006, -3.2000000000000006, -3.2000000000000006, -0.2, -0.2, -0.2, -0.2, -0.2, -0.2, -0.2, -0.2, -0.4, -0.4, -0.4, -0.4, -0.4, -0.4, -0.4, -0.4, -0.4, -0.4, -0.4, -0.4, -0.4, -0.4, -0.4, -0.4, -0.6000000000000001, -0.6000000000000001, -0.6000000000000001, -0.6000000000000001, -0.6000000000000001, -0.6000000000000001, -0.6000000000000001, -0.6000000000000001, -0.6000000000000001, -0.6000000000000001, -0.6000000000000001, -0.6000000000000001, -0.6000000000000001, -0.6000000000000001, -0.6000000000000001, -0.6000000000000001, -0.6000000000000001, -0.6000000000000001, -0.6000000000000001, -0.8, -0.8, -0.8, -0.8, -0.8, -0.8, -0.8, -0.8, -0.8, -0.8, -0.8, -0.8, -0.8, -0.8, -0.8, -0.8, -0.8, -0.8, -0.8, -1.0, -1.0, -1.0, -1.0, -1.0, -1.0, -1.0, -1.0, -1.0, -1.0, -1.0, -1.0, -1.0, -1.0, -1.0, -1.0, -1.0, -1.0, -1.0, -1.0, -1.2, -1.2, -1.2, -1.2, -1.2, -1.2, -1.2, -1.2, -1.2, -1.2, -1.2, -1.2, -1.2, -1.2, -1.2, -1.2, -1.2, -1.2, -1.2, -1.2, -1.4, -1.4, -1.4, -1.4, -1.4, -1.4, -1.4, -1.4, -1.4, -1.4, -1.4, -1.4, -1.4, -1.4, -1.4, -1.4, -1.4, -1.4, -1.4, -1.4, -1.5999999999999999, -1.5999999999999999, -1.5999999999999999, -1.5999999999999999, -1.5999999999999999, -1.5999999999999999, -1.5999999999999999, -1.5999999999999999, -1.5999999999999999, -1.5999999999999999, -1.5999999999999999, -1.5999999999999999, -1.5999999999999999, -1.5999999999999999, -1.5999999999999999, -1.5999999999999999, -1.5999999999999999, -1.5999999999999999, -1.5999999999999999, -1.5999999999999999, -1.7999999999999998, -1.7999999999999998, -1.7999999999999998, -1.7999999999999998, -1.7999999999999998, -1.7999999999999998, -1.7999999999999998, -1.7999999999999998, -1.7999999999999998, -1.7999999999999998, -1.7999999999999998, -1.7999999999999998, -1.7999999999999998, -1.7999999999999998, -1.7999999999999998, -1.7999999999999998, -1.7999999999999998, -1.7999999999999998, -1.7999999999999998, -1.7999999999999998], \"mode\": \"markers\", \"hoverinfo\": \"text\", \"marker\": {\"color\": \"rgb(0,240,0)\", \"symbol\": \"dot\", \"size\": 28}, \"x\": [0.5, 0.8125, 0.31562500000000016, 0.4375, 0.30625000000000047, 0.25625, 0.1875, 0.0625, 0.2687500000000004, 0.5625000000000009, 0.32187500000000013, 0.58125, 0.3625000000000001, 0.9375, 0.5375000000000009, 0.59375, 0.5125, 0.28750000000000003, 0.6875, 0.6125000000000009, 0.3375000000000001, 0.31562500000000016, 0.25625, 0.3625000000000001, 0.1875, 0.562500000000001, 0.4375, 0.0625, 0.26875000000000043, 0.3062500000000005, 0.6875, 0.9375, 0.59375, 0.8125, 0.58125, 0.3375000000000001, 0.28750000000000003, 0.612500000000001, 0.32187500000000013, 0.537500000000001, 0.5125, 0.1875, 0.3625000000000001, 0.3062500000000006, 0.32187500000000013, 0.4375, 0.28750000000000003, 0.0625, 0.6875, 0.3375000000000001, 0.31562500000000016, 0.25625, 0.5625000000000011, 0.5375000000000011, 0.5125, 0.9375, 0.6125000000000012, 0.2687500000000005, 0.8125, 0.59375, 0.58125, 0.6125000000000013, 0.26875000000000054, 0.6875, 0.59375, 0.5625000000000012, 0.30625000000000063, 0.32187500000000013, 0.3375000000000001, 0.25625, 0.3625000000000001, 0.28750000000000003, 0.31562500000000016, 0.8125, 0.5125, 0.5375000000000012, 0.4375, 0.0625, 0.9375, 0.58125, 0.1875, 0.6125000000000014, 0.6875, 0.0625, 0.59375, 0.3625000000000001, 0.28750000000000003, 0.9375, 0.8125, 0.58125, 0.1875, 0.32187500000000013, 0.5125, 0.5625000000000013, 0.3375000000000001, 0.5375000000000013, 0.4375, 0.3062500000000007, 0.25625, 0.31562500000000016, 0.2687500000000006, 0.0625, 0.59375, 0.1875, 0.4375, 0.31562500000000016, 0.8125, 0.5625000000000014, 0.6125000000000015, 0.6875, 0.3625000000000001, 0.58125, 0.28750000000000003, 0.5375000000000014, 0.32187500000000013, 0.3375000000000001, 0.30625000000000074, 0.25625, 0.5125, 0.9375, 0.26875000000000066, 0.6875, 0.3375000000000001, 0.59375, 0.2687500000000007, 0.8125, 0.6125000000000016, 0.4375, 0.31562500000000016, 0.3625000000000001, 0.58125, 0.28750000000000003, 0.1875, 0.0625, 0.5125, 0.5375000000000015, 0.25625, 0.32187500000000013, 0.3062500000000008, 0.9375, 0.5625000000000016, 0.9375, 0.0625, 0.5625, 0.8125, 0.3125, 0.6875, 0.4375, 0.1875, 0.5625, 0.4375, 0.2625, 0.5375, 0.28750000000000003, 0.9375, 0.6125, 0.3375000000000001, 0.0625, 0.8125, 0.31250000000000006, 0.5125, 0.3625000000000001, 0.1875, 0.5875, 0.6875, 0.5375000000000001, 0.0625, 0.8125, 0.6125000000000002, 0.5125, 0.6875, 0.3375000000000001, 0.25625, 0.58125, 0.9375, 0.4375, 0.26875, 0.3187500000000001, 0.3625000000000001, 0.59375, 0.5625000000000001, 0.3062500000000001, 0.1875, 0.28750000000000003, 0.4375, 0.5625000000000002, 0.9375, 0.31875000000000014, 0.5375000000000002, 0.8125, 0.5125, 0.3375000000000001, 0.30625000000000013, 0.28750000000000003, 0.26875000000000004, 0.3625000000000001, 0.6125000000000003, 0.25625, 0.59375, 0.1875, 0.0625, 0.58125, 0.6875, 0.31562500000000016, 0.2687500000000001, 0.6125000000000004, 0.58125, 0.32187500000000013, 0.5375000000000003, 0.1875, 0.9375, 0.8125, 0.3625000000000001, 0.3375000000000001, 0.3062500000000002, 0.4375, 0.5625000000000003, 0.5125, 0.0625, 0.28750000000000003, 0.25625, 0.6875, 0.59375, 0.31562500000000016, 0.0625, 0.5125, 0.8125, 0.3375000000000001, 0.25625, 0.58125, 0.5375000000000004, 0.5625000000000004, 0.6875, 0.26875000000000016, 0.3625000000000001, 0.30625000000000024, 0.28750000000000003, 0.1875, 0.9375, 0.59375, 0.6125000000000005, 0.32187500000000013, 0.4375, 0.31562500000000016, 0.5125, 0.3375000000000001, 0.58125, 0.3625000000000001, 0.3062500000000003, 0.1875, 0.8125, 0.9375, 0.4375, 0.5625000000000006, 0.28750000000000003, 0.25625, 0.6125000000000006, 0.2687500000000002, 0.6875, 0.0625, 0.32187500000000013, 0.5375000000000005, 0.59375, 0.26875000000000027, 0.6125000000000007, 0.3625000000000001, 0.4375, 0.25625, 0.9375, 0.32187500000000013, 0.5125, 0.3375000000000001, 0.5375000000000006, 0.58125, 0.5625000000000007, 0.31562500000000016, 0.30625000000000036, 0.1875, 0.8125, 0.28750000000000003, 0.6875, 0.59375, 0.0625, 0.8125, 0.3062500000000004, 0.58125, 0.4375, 0.5375000000000008, 0.2687500000000003, 0.9375, 0.1875, 0.28750000000000003, 0.3625000000000001, 0.25625, 0.59375, 0.31562500000000016, 0.6875, 0.32187500000000013, 0.0625, 0.6125000000000008, 0.5125, 0.3375000000000001, 0.5625000000000008], \"type\": \"scatter\"}], {\"autosize\": false, \"title\": \"Graph\", \"plot_bgcolor\": \"#efecea\", \"yaxis\": {\"zeroline\": false, \"showline\": false, \"showticklabels\": false, \"showgrid\": false, \"title\": \"\"}, \"showlegend\": false, \"height\": 600, \"width\": 600, \"xaxis\": {\"zeroline\": false, \"showline\": false, \"showticklabels\": false, \"showgrid\": false, \"title\": \"\"}, \"hovermode\": \"closest\", \"font\": {\"family\": \"Balto\"}, \"margin\": {\"b\": 85, \"r\": 40, \"pad\": 0, \"t\": 100, \"l\": 40}, \"annotations\": [{\"xref\": \"x1\", \"yref\": \"y1\", \"text\": \"00\", \"y\": 0.075, \"x\": 0.5, \"font\": {\"color\": \"rgb(10,10,10)\", \"size\": 14}, \"showarrow\": false}, {\"xref\": \"x1\", \"yref\": \"y1\", \"text\": \"0b\", \"y\": -1.9249999999999998, \"x\": 0.8125, \"font\": {\"color\": \"rgb(10,10,10)\", \"size\": 14}, \"showarrow\": false}, {\"xref\": \"x1\", \"yref\": \"y1\", \"text\": \"0b\", \"y\": -1.9249999999999998, \"x\": 0.31562500000000016, \"font\": {\"color\": \"rgb(10,10,10)\", \"size\": 14}, \"showarrow\": false}, {\"xref\": \"x1\", \"yref\": \"y1\", \"text\": \"0b\", \"y\": -1.9249999999999998, \"x\": 0.4375, \"font\": {\"color\": \"rgb(10,10,10)\", \"size\": 14}, \"showarrow\": false}, {\"xref\": \"x1\", \"yref\": \"y1\", \"text\": \"0c\", \"y\": -1.9249999999999998, \"x\": 0.30625000000000047, \"font\": {\"color\": \"rgb(10,10,10)\", \"size\": 14}, \"showarrow\": false}, {\"xref\": \"x1\", \"yref\": \"y1\", \"text\": \"0c\", \"y\": -1.9249999999999998, \"x\": 0.25625, \"font\": {\"color\": \"rgb(10,10,10)\", \"size\": 14}, \"showarrow\": false}, {\"xref\": \"x1\", \"yref\": \"y1\", \"text\": \"0d\", \"y\": -1.9249999999999998, \"x\": 0.1875, \"font\": {\"color\": \"rgb(10,10,10)\", \"size\": 14}, \"showarrow\": false}, {\"xref\": \"x1\", \"yref\": \"y1\", \"text\": \"0d\", \"y\": -1.9249999999999998, \"x\": 0.0625, \"font\": {\"color\": \"rgb(10,10,10)\", \"size\": 14}, \"showarrow\": false}, {\"xref\": \"x1\", \"yref\": \"y1\", \"text\": \"0d\", \"y\": -1.9249999999999998, \"x\": 0.2687500000000004, \"font\": {\"color\": \"rgb(10,10,10)\", \"size\": 14}, \"showarrow\": false}, {\"xref\": \"x1\", \"yref\": \"y1\", \"text\": \"0d\", \"y\": -1.9249999999999998, \"x\": 0.5625000000000009, \"font\": {\"color\": \"rgb(10,10,10)\", \"size\": 14}, \"showarrow\": false}, {\"xref\": \"x1\", \"yref\": \"y1\", \"text\": \"0e\", \"y\": -1.9249999999999998, \"x\": 0.32187500000000013, \"font\": {\"color\": \"rgb(10,10,10)\", \"size\": 14}, \"showarrow\": false}, {\"xref\": \"x1\", \"yref\": \"y1\", \"text\": \"0e\", \"y\": -1.9249999999999998, \"x\": 0.58125, \"font\": {\"color\": \"rgb(10,10,10)\", \"size\": 14}, \"showarrow\": false}, {\"xref\": \"x1\", \"yref\": \"y1\", \"text\": \"0e\", \"y\": -1.9249999999999998, \"x\": 0.3625000000000001, \"font\": {\"color\": \"rgb(10,10,10)\", \"size\": 14}, \"showarrow\": false}, {\"xref\": \"x1\", \"yref\": \"y1\", \"text\": \"0f\", \"y\": -1.9249999999999998, \"x\": 0.9375, \"font\": {\"color\": \"rgb(10,10,10)\", \"size\": 14}, \"showarrow\": false}, {\"xref\": \"x1\", \"yref\": \"y1\", \"text\": \"0f\", \"y\": -1.9249999999999998, \"x\": 0.5375000000000009, \"font\": {\"color\": \"rgb(10,10,10)\", \"size\": 14}, \"showarrow\": false}, {\"xref\": \"x1\", \"yref\": \"y1\", \"text\": \"0f\", \"y\": -1.9249999999999998, \"x\": 0.59375, \"font\": {\"color\": \"rgb(10,10,10)\", \"size\": 14}, \"showarrow\": false}, {\"xref\": \"x1\", \"yref\": \"y1\", \"text\": \"0f\", \"y\": -1.9249999999999998, \"x\": 0.5125, \"font\": {\"color\": \"rgb(10,10,10)\", \"size\": 14}, \"showarrow\": false}, {\"xref\": \"x1\", \"yref\": \"y1\", \"text\": \"0g\", \"y\": -1.9249999999999998, \"x\": 0.28750000000000003, \"font\": {\"color\": \"rgb(10,10,10)\", \"size\": 14}, \"showarrow\": false}, {\"xref\": \"x1\", \"yref\": \"y1\", \"text\": \"0g\", \"y\": -1.9249999999999998, \"x\": 0.6875, \"font\": {\"color\": \"rgb(10,10,10)\", \"size\": 14}, \"showarrow\": false}, {\"xref\": \"x1\", \"yref\": \"y1\", \"text\": \"0h\", \"y\": -1.9249999999999998, \"x\": 0.6125000000000009, \"font\": {\"color\": \"rgb(10,10,10)\", \"size\": 14}, \"showarrow\": false}, {\"xref\": \"x1\", \"yref\": \"y1\", \"text\": \"0h\", \"y\": -1.9249999999999998, \"x\": 0.3375000000000001, \"font\": {\"color\": \"rgb(10,10,10)\", \"size\": 14}, \"showarrow\": false}, {\"xref\": \"x1\", \"yref\": \"y1\", \"text\": \"1b\", \"y\": -2.1249999999999996, \"x\": 0.31562500000000016, \"font\": {\"color\": \"rgb(10,10,10)\", \"size\": 14}, \"showarrow\": false}, {\"xref\": \"x1\", \"yref\": \"y1\", \"text\": \"1b\", \"y\": -2.1249999999999996, \"x\": 0.25625, \"font\": {\"color\": \"rgb(10,10,10)\", \"size\": 14}, \"showarrow\": false}, {\"xref\": \"x1\", \"yref\": \"y1\", \"text\": \"1b\", \"y\": -2.1249999999999996, \"x\": 0.3625000000000001, \"font\": {\"color\": \"rgb(10,10,10)\", \"size\": 14}, \"showarrow\": false}, {\"xref\": \"x1\", \"yref\": \"y1\", \"text\": \"1c\", \"y\": -2.1249999999999996, \"x\": 0.1875, \"font\": {\"color\": \"rgb(10,10,10)\", \"size\": 14}, \"showarrow\": false}, {\"xref\": \"x1\", \"yref\": \"y1\", \"text\": \"1c\", \"y\": -2.1249999999999996, \"x\": 0.562500000000001, \"font\": {\"color\": \"rgb(10,10,10)\", \"size\": 14}, \"showarrow\": false}, {\"xref\": \"x1\", \"yref\": \"y1\", \"text\": \"1d\", \"y\": -2.1249999999999996, \"x\": 0.4375, \"font\": {\"color\": \"rgb(10,10,10)\", \"size\": 14}, \"showarrow\": false}, {\"xref\": \"x1\", \"yref\": \"y1\", \"text\": \"1d\", \"y\": -2.1249999999999996, \"x\": 0.0625, \"font\": {\"color\": \"rgb(10,10,10)\", \"size\": 14}, \"showarrow\": false}, {\"xref\": \"x1\", \"yref\": \"y1\", \"text\": \"1d\", \"y\": -2.1249999999999996, \"x\": 0.26875000000000043, \"font\": {\"color\": \"rgb(10,10,10)\", \"size\": 14}, \"showarrow\": false}, {\"xref\": \"x1\", \"yref\": \"y1\", \"text\": \"1d\", \"y\": -2.1249999999999996, \"x\": 0.3062500000000005, \"font\": {\"color\": \"rgb(10,10,10)\", \"size\": 14}, \"showarrow\": false}, {\"xref\": \"x1\", \"yref\": \"y1\", \"text\": \"1d\", \"y\": -2.1249999999999996, \"x\": 0.6875, \"font\": {\"color\": \"rgb(10,10,10)\", \"size\": 14}, \"showarrow\": false}, {\"xref\": \"x1\", \"yref\": \"y1\", \"text\": \"1e\", \"y\": -2.1249999999999996, \"x\": 0.9375, \"font\": {\"color\": \"rgb(10,10,10)\", \"size\": 14}, \"showarrow\": false}, {\"xref\": \"x1\", \"yref\": \"y1\", \"text\": \"1e\", \"y\": -2.1249999999999996, \"x\": 0.59375, \"font\": {\"color\": \"rgb(10,10,10)\", \"size\": 14}, \"showarrow\": false}, {\"xref\": \"x1\", \"yref\": \"y1\", \"text\": \"1f\", \"y\": -2.1249999999999996, \"x\": 0.8125, \"font\": {\"color\": \"rgb(10,10,10)\", \"size\": 14}, \"showarrow\": false}, {\"xref\": \"x1\", \"yref\": \"y1\", \"text\": \"1f\", \"y\": -2.1249999999999996, \"x\": 0.58125, \"font\": {\"color\": \"rgb(10,10,10)\", \"size\": 14}, \"showarrow\": false}, {\"xref\": \"x1\", \"yref\": \"y1\", \"text\": \"1f\", \"y\": -2.1249999999999996, \"x\": 0.3375000000000001, \"font\": {\"color\": \"rgb(10,10,10)\", \"size\": 14}, \"showarrow\": false}, {\"xref\": \"x1\", \"yref\": \"y1\", \"text\": \"1f\", \"y\": -2.1249999999999996, \"x\": 0.28750000000000003, \"font\": {\"color\": \"rgb(10,10,10)\", \"size\": 14}, \"showarrow\": false}, {\"xref\": \"x1\", \"yref\": \"y1\", \"text\": \"1f\", \"y\": -2.1249999999999996, \"x\": 0.612500000000001, \"font\": {\"color\": \"rgb(10,10,10)\", \"size\": 14}, \"showarrow\": false}, {\"xref\": \"x1\", \"yref\": \"y1\", \"text\": \"1g\", \"y\": -2.1249999999999996, \"x\": 0.32187500000000013, \"font\": {\"color\": \"rgb(10,10,10)\", \"size\": 14}, \"showarrow\": false}, {\"xref\": \"x1\", \"yref\": \"y1\", \"text\": \"1g\", \"y\": -2.1249999999999996, \"x\": 0.537500000000001, \"font\": {\"color\": \"rgb(10,10,10)\", \"size\": 14}, \"showarrow\": false}, {\"xref\": \"x1\", \"yref\": \"y1\", \"text\": \"1h\", \"y\": -2.1249999999999996, \"x\": 0.5125, \"font\": {\"color\": \"rgb(10,10,10)\", \"size\": 14}, \"showarrow\": false}, {\"xref\": \"x1\", \"yref\": \"y1\", \"text\": \"2c\", \"y\": -2.3249999999999997, \"x\": 0.1875, \"font\": {\"color\": \"rgb(10,10,10)\", \"size\": 14}, \"showarrow\": false}, {\"xref\": \"x1\", \"yref\": \"y1\", \"text\": \"2c\", \"y\": -2.3249999999999997, \"x\": 0.3625000000000001, \"font\": {\"color\": \"rgb(10,10,10)\", \"size\": 14}, \"showarrow\": false}, {\"xref\": \"x1\", \"yref\": \"y1\", \"text\": \"2d\", \"y\": -2.3249999999999997, \"x\": 0.3062500000000006, \"font\": {\"color\": \"rgb(10,10,10)\", \"size\": 14}, \"showarrow\": false}, {\"xref\": \"x1\", \"yref\": \"y1\", \"text\": \"2d\", \"y\": -2.3249999999999997, \"x\": 0.32187500000000013, \"font\": {\"color\": \"rgb(10,10,10)\", \"size\": 14}, \"showarrow\": false}, {\"xref\": \"x1\", \"yref\": \"y1\", \"text\": \"2d\", \"y\": -2.3249999999999997, \"x\": 0.4375, \"font\": {\"color\": \"rgb(10,10,10)\", \"size\": 14}, \"showarrow\": false}, {\"xref\": \"x1\", \"yref\": \"y1\", \"text\": \"2d\", \"y\": -2.3249999999999997, \"x\": 0.28750000000000003, \"font\": {\"color\": \"rgb(10,10,10)\", \"size\": 14}, \"showarrow\": false}, {\"xref\": \"x1\", \"yref\": \"y1\", \"text\": \"2d\", \"y\": -2.3249999999999997, \"x\": 0.0625, \"font\": {\"color\": \"rgb(10,10,10)\", \"size\": 14}, \"showarrow\": false}, {\"xref\": \"x1\", \"yref\": \"y1\", \"text\": \"2d\", \"y\": -2.3249999999999997, \"x\": 0.6875, \"font\": {\"color\": \"rgb(10,10,10)\", \"size\": 14}, \"showarrow\": false}, {\"xref\": \"x1\", \"yref\": \"y1\", \"text\": \"2e\", \"y\": -2.3249999999999997, \"x\": 0.3375000000000001, \"font\": {\"color\": \"rgb(10,10,10)\", \"size\": 14}, \"showarrow\": false}, {\"xref\": \"x1\", \"yref\": \"y1\", \"text\": \"2e\", \"y\": -2.3249999999999997, \"x\": 0.31562500000000016, \"font\": {\"color\": \"rgb(10,10,10)\", \"size\": 14}, \"showarrow\": false}, {\"xref\": \"x1\", \"yref\": \"y1\", \"text\": \"2e\", \"y\": -2.3249999999999997, \"x\": 0.25625, \"font\": {\"color\": \"rgb(10,10,10)\", \"size\": 14}, \"showarrow\": false}, {\"xref\": \"x1\", \"yref\": \"y1\", \"text\": \"2e\", \"y\": -2.3249999999999997, \"x\": 0.5625000000000011, \"font\": {\"color\": \"rgb(10,10,10)\", \"size\": 14}, \"showarrow\": false}, {\"xref\": \"x1\", \"yref\": \"y1\", \"text\": \"2e\", \"y\": -2.3249999999999997, \"x\": 0.5375000000000011, \"font\": {\"color\": \"rgb(10,10,10)\", \"size\": 14}, \"showarrow\": false}, {\"xref\": \"x1\", \"yref\": \"y1\", \"text\": \"2e\", \"y\": -2.3249999999999997, \"x\": 0.5125, \"font\": {\"color\": \"rgb(10,10,10)\", \"size\": 14}, \"showarrow\": false}, {\"xref\": \"x1\", \"yref\": \"y1\", \"text\": \"2f\", \"y\": -2.3249999999999997, \"x\": 0.9375, \"font\": {\"color\": \"rgb(10,10,10)\", \"size\": 14}, \"showarrow\": false}, {\"xref\": \"x1\", \"yref\": \"y1\", \"text\": \"2f\", \"y\": -2.3249999999999997, \"x\": 0.6125000000000012, \"font\": {\"color\": \"rgb(10,10,10)\", \"size\": 14}, \"showarrow\": false}, {\"xref\": \"x1\", \"yref\": \"y1\", \"text\": \"2g\", \"y\": -2.3249999999999997, \"x\": 0.2687500000000005, \"font\": {\"color\": \"rgb(10,10,10)\", \"size\": 14}, \"showarrow\": false}, {\"xref\": \"x1\", \"yref\": \"y1\", \"text\": \"2g\", \"y\": -2.3249999999999997, \"x\": 0.8125, \"font\": {\"color\": \"rgb(10,10,10)\", \"size\": 14}, \"showarrow\": false}, {\"xref\": \"x1\", \"yref\": \"y1\", \"text\": \"2g\", \"y\": -2.3249999999999997, \"x\": 0.59375, \"font\": {\"color\": \"rgb(10,10,10)\", \"size\": 14}, \"showarrow\": false}, {\"xref\": \"x1\", \"yref\": \"y1\", \"text\": \"2g\", \"y\": -2.3249999999999997, \"x\": 0.58125, \"font\": {\"color\": \"rgb(10,10,10)\", \"size\": 14}, \"showarrow\": false}, {\"xref\": \"x1\", \"yref\": \"y1\", \"text\": \"3b\", \"y\": -2.525, \"x\": 0.6125000000000013, \"font\": {\"color\": \"rgb(10,10,10)\", \"size\": 14}, \"showarrow\": false}, {\"xref\": \"x1\", \"yref\": \"y1\", \"text\": \"3b\", \"y\": -2.525, \"x\": 0.26875000000000054, \"font\": {\"color\": \"rgb(10,10,10)\", \"size\": 14}, \"showarrow\": false}, {\"xref\": \"x1\", \"yref\": \"y1\", \"text\": \"3c\", \"y\": -2.525, \"x\": 0.6875, \"font\": {\"color\": \"rgb(10,10,10)\", \"size\": 14}, \"showarrow\": false}, {\"xref\": \"x1\", \"yref\": \"y1\", \"text\": \"3c\", \"y\": -2.525, \"x\": 0.59375, \"font\": {\"color\": \"rgb(10,10,10)\", \"size\": 14}, \"showarrow\": false}, {\"xref\": \"x1\", \"yref\": \"y1\", \"text\": \"3d\", \"y\": -2.525, \"x\": 0.5625000000000012, \"font\": {\"color\": \"rgb(10,10,10)\", \"size\": 14}, \"showarrow\": false}, {\"xref\": \"x1\", \"yref\": \"y1\", \"text\": \"3d\", \"y\": -2.525, \"x\": 0.30625000000000063, \"font\": {\"color\": \"rgb(10,10,10)\", \"size\": 14}, \"showarrow\": false}, {\"xref\": \"x1\", \"yref\": \"y1\", \"text\": \"3d\", \"y\": -2.525, \"x\": 0.32187500000000013, \"font\": {\"color\": \"rgb(10,10,10)\", \"size\": 14}, \"showarrow\": false}, {\"xref\": \"x1\", \"yref\": \"y1\", \"text\": \"3d\", \"y\": -2.525, \"x\": 0.3375000000000001, \"font\": {\"color\": \"rgb(10,10,10)\", \"size\": 14}, \"showarrow\": false}, {\"xref\": \"x1\", \"yref\": \"y1\", \"text\": \"3d\", \"y\": -2.525, \"x\": 0.25625, \"font\": {\"color\": \"rgb(10,10,10)\", \"size\": 14}, \"showarrow\": false}, {\"xref\": \"x1\", \"yref\": \"y1\", \"text\": \"3d\", \"y\": -2.525, \"x\": 0.3625000000000001, \"font\": {\"color\": \"rgb(10,10,10)\", \"size\": 14}, \"showarrow\": false}, {\"xref\": \"x1\", \"yref\": \"y1\", \"text\": \"3d\", \"y\": -2.525, \"x\": 0.28750000000000003, \"font\": {\"color\": \"rgb(10,10,10)\", \"size\": 14}, \"showarrow\": false}, {\"xref\": \"x1\", \"yref\": \"y1\", \"text\": \"3e\", \"y\": -2.525, \"x\": 0.31562500000000016, \"font\": {\"color\": \"rgb(10,10,10)\", \"size\": 14}, \"showarrow\": false}, {\"xref\": \"x1\", \"yref\": \"y1\", \"text\": \"3e\", \"y\": -2.525, \"x\": 0.8125, \"font\": {\"color\": \"rgb(10,10,10)\", \"size\": 14}, \"showarrow\": false}, {\"xref\": \"x1\", \"yref\": \"y1\", \"text\": \"3e\", \"y\": -2.525, \"x\": 0.5125, \"font\": {\"color\": \"rgb(10,10,10)\", \"size\": 14}, \"showarrow\": false}, {\"xref\": \"x1\", \"yref\": \"y1\", \"text\": \"3f\", \"y\": -2.525, \"x\": 0.5375000000000012, \"font\": {\"color\": \"rgb(10,10,10)\", \"size\": 14}, \"showarrow\": false}, {\"xref\": \"x1\", \"yref\": \"y1\", \"text\": \"3g\", \"y\": -2.525, \"x\": 0.4375, \"font\": {\"color\": \"rgb(10,10,10)\", \"size\": 14}, \"showarrow\": false}, {\"xref\": \"x1\", \"yref\": \"y1\", \"text\": \"3g\", \"y\": -2.525, \"x\": 0.0625, \"font\": {\"color\": \"rgb(10,10,10)\", \"size\": 14}, \"showarrow\": false}, {\"xref\": \"x1\", \"yref\": \"y1\", \"text\": \"3g\", \"y\": -2.525, \"x\": 0.9375, \"font\": {\"color\": \"rgb(10,10,10)\", \"size\": 14}, \"showarrow\": false}, {\"xref\": \"x1\", \"yref\": \"y1\", \"text\": \"3g\", \"y\": -2.525, \"x\": 0.58125, \"font\": {\"color\": \"rgb(10,10,10)\", \"size\": 14}, \"showarrow\": false}, {\"xref\": \"x1\", \"yref\": \"y1\", \"text\": \"3g\", \"y\": -2.525, \"x\": 0.1875, \"font\": {\"color\": \"rgb(10,10,10)\", \"size\": 14}, \"showarrow\": false}, {\"xref\": \"x1\", \"yref\": \"y1\", \"text\": \"4c\", \"y\": -2.725, \"x\": 0.6125000000000014, \"font\": {\"color\": \"rgb(10,10,10)\", \"size\": 14}, \"showarrow\": false}, {\"xref\": \"x1\", \"yref\": \"y1\", \"text\": \"4c\", \"y\": -2.725, \"x\": 0.6875, \"font\": {\"color\": \"rgb(10,10,10)\", \"size\": 14}, \"showarrow\": false}, {\"xref\": \"x1\", \"yref\": \"y1\", \"text\": \"4c\", \"y\": -2.725, \"x\": 0.0625, \"font\": {\"color\": \"rgb(10,10,10)\", \"size\": 14}, \"showarrow\": false}, {\"xref\": \"x1\", \"yref\": \"y1\", \"text\": \"4d\", \"y\": -2.725, \"x\": 0.59375, \"font\": {\"color\": \"rgb(10,10,10)\", \"size\": 14}, \"showarrow\": false}, {\"xref\": \"x1\", \"yref\": \"y1\", \"text\": \"4d\", \"y\": -2.725, \"x\": 0.3625000000000001, \"font\": {\"color\": \"rgb(10,10,10)\", \"size\": 14}, \"showarrow\": false}, {\"xref\": \"x1\", \"yref\": \"y1\", \"text\": \"4d\", \"y\": -2.725, \"x\": 0.28750000000000003, \"font\": {\"color\": \"rgb(10,10,10)\", \"size\": 14}, \"showarrow\": false}, {\"xref\": \"x1\", \"yref\": \"y1\", \"text\": \"4d\", \"y\": -2.725, \"x\": 0.9375, \"font\": {\"color\": \"rgb(10,10,10)\", \"size\": 14}, \"showarrow\": false}, {\"xref\": \"x1\", \"yref\": \"y1\", \"text\": \"4e\", \"y\": -2.725, \"x\": 0.8125, \"font\": {\"color\": \"rgb(10,10,10)\", \"size\": 14}, \"showarrow\": false}, {\"xref\": \"x1\", \"yref\": \"y1\", \"text\": \"4e\", \"y\": -2.725, \"x\": 0.58125, \"font\": {\"color\": \"rgb(10,10,10)\", \"size\": 14}, \"showarrow\": false}, {\"xref\": \"x1\", \"yref\": \"y1\", \"text\": \"4e\", \"y\": -2.725, \"x\": 0.1875, \"font\": {\"color\": \"rgb(10,10,10)\", \"size\": 14}, \"showarrow\": false}, {\"xref\": \"x1\", \"yref\": \"y1\", \"text\": \"4e\", \"y\": -2.725, \"x\": 0.32187500000000013, \"font\": {\"color\": \"rgb(10,10,10)\", \"size\": 14}, \"showarrow\": false}, {\"xref\": \"x1\", \"yref\": \"y1\", \"text\": \"4f\", \"y\": -2.725, \"x\": 0.5125, \"font\": {\"color\": \"rgb(10,10,10)\", \"size\": 14}, \"showarrow\": false}, {\"xref\": \"x1\", \"yref\": \"y1\", \"text\": \"4f\", \"y\": -2.725, \"x\": 0.5625000000000013, \"font\": {\"color\": \"rgb(10,10,10)\", \"size\": 14}, \"showarrow\": false}, {\"xref\": \"x1\", \"yref\": \"y1\", \"text\": \"4f\", \"y\": -2.725, \"x\": 0.3375000000000001, \"font\": {\"color\": \"rgb(10,10,10)\", \"size\": 14}, \"showarrow\": false}, {\"xref\": \"x1\", \"yref\": \"y1\", \"text\": \"4f\", \"y\": -2.725, \"x\": 0.5375000000000013, \"font\": {\"color\": \"rgb(10,10,10)\", \"size\": 14}, \"showarrow\": false}, {\"xref\": \"x1\", \"yref\": \"y1\", \"text\": \"4f\", \"y\": -2.725, \"x\": 0.4375, \"font\": {\"color\": \"rgb(10,10,10)\", \"size\": 14}, \"showarrow\": false}, {\"xref\": \"x1\", \"yref\": \"y1\", \"text\": \"4g\", \"y\": -2.725, \"x\": 0.3062500000000007, \"font\": {\"color\": \"rgb(10,10,10)\", \"size\": 14}, \"showarrow\": false}, {\"xref\": \"x1\", \"yref\": \"y1\", \"text\": \"4g\", \"y\": -2.725, \"x\": 0.25625, \"font\": {\"color\": \"rgb(10,10,10)\", \"size\": 14}, \"showarrow\": false}, {\"xref\": \"x1\", \"yref\": \"y1\", \"text\": \"4g\", \"y\": -2.725, \"x\": 0.31562500000000016, \"font\": {\"color\": \"rgb(10,10,10)\", \"size\": 14}, \"showarrow\": false}, {\"xref\": \"x1\", \"yref\": \"y1\", \"text\": \"4h\", \"y\": -2.725, \"x\": 0.2687500000000006, \"font\": {\"color\": \"rgb(10,10,10)\", \"size\": 14}, \"showarrow\": false}, {\"xref\": \"x1\", \"yref\": \"y1\", \"text\": \"5a\", \"y\": -2.9250000000000003, \"x\": 0.0625, \"font\": {\"color\": \"rgb(10,10,10)\", \"size\": 14}, \"showarrow\": false}, {\"xref\": \"x1\", \"yref\": \"y1\", \"text\": \"5b\", \"y\": -2.9250000000000003, \"x\": 0.59375, \"font\": {\"color\": \"rgb(10,10,10)\", \"size\": 14}, \"showarrow\": false}, {\"xref\": \"x1\", \"yref\": \"y1\", \"text\": \"5b\", \"y\": -2.9250000000000003, \"x\": 0.1875, \"font\": {\"color\": \"rgb(10,10,10)\", \"size\": 14}, \"showarrow\": false}, {\"xref\": \"x1\", \"yref\": \"y1\", \"text\": \"5b\", \"y\": -2.9250000000000003, \"x\": 0.4375, \"font\": {\"color\": \"rgb(10,10,10)\", \"size\": 14}, \"showarrow\": false}, {\"xref\": \"x1\", \"yref\": \"y1\", \"text\": \"5c\", \"y\": -2.9250000000000003, \"x\": 0.31562500000000016, \"font\": {\"color\": \"rgb(10,10,10)\", \"size\": 14}, \"showarrow\": false}, {\"xref\": \"x1\", \"yref\": \"y1\", \"text\": \"5d\", \"y\": -2.9250000000000003, \"x\": 0.8125, \"font\": {\"color\": \"rgb(10,10,10)\", \"size\": 14}, \"showarrow\": false}, {\"xref\": \"x1\", \"yref\": \"y1\", \"text\": \"5d\", \"y\": -2.9250000000000003, \"x\": 0.5625000000000014, \"font\": {\"color\": \"rgb(10,10,10)\", \"size\": 14}, \"showarrow\": false}, {\"xref\": \"x1\", \"yref\": \"y1\", \"text\": \"5d\", \"y\": -2.9250000000000003, \"x\": 0.6125000000000015, \"font\": {\"color\": \"rgb(10,10,10)\", \"size\": 14}, \"showarrow\": false}, {\"xref\": \"x1\", \"yref\": \"y1\", \"text\": \"5d\", \"y\": -2.9250000000000003, \"x\": 0.6875, \"font\": {\"color\": \"rgb(10,10,10)\", \"size\": 14}, \"showarrow\": false}, {\"xref\": \"x1\", \"yref\": \"y1\", \"text\": \"5d\", \"y\": -2.9250000000000003, \"x\": 0.3625000000000001, \"font\": {\"color\": \"rgb(10,10,10)\", \"size\": 14}, \"showarrow\": false}, {\"xref\": \"x1\", \"yref\": \"y1\", \"text\": \"5e\", \"y\": -2.9250000000000003, \"x\": 0.58125, \"font\": {\"color\": \"rgb(10,10,10)\", \"size\": 14}, \"showarrow\": false}, {\"xref\": \"x1\", \"yref\": \"y1\", \"text\": \"5f\", \"y\": -2.9250000000000003, \"x\": 0.28750000000000003, \"font\": {\"color\": \"rgb(10,10,10)\", \"size\": 14}, \"showarrow\": false}, {\"xref\": \"x1\", \"yref\": \"y1\", \"text\": \"5f\", \"y\": -2.9250000000000003, \"x\": 0.5375000000000014, \"font\": {\"color\": \"rgb(10,10,10)\", \"size\": 14}, \"showarrow\": false}, {\"xref\": \"x1\", \"yref\": \"y1\", \"text\": \"5g\", \"y\": -2.9250000000000003, \"x\": 0.32187500000000013, \"font\": {\"color\": \"rgb(10,10,10)\", \"size\": 14}, \"showarrow\": false}, {\"xref\": \"x1\", \"yref\": \"y1\", \"text\": \"5g\", \"y\": -2.9250000000000003, \"x\": 0.3375000000000001, \"font\": {\"color\": \"rgb(10,10,10)\", \"size\": 14}, \"showarrow\": false}, {\"xref\": \"x1\", \"yref\": \"y1\", \"text\": \"5g\", \"y\": -2.9250000000000003, \"x\": 0.30625000000000074, \"font\": {\"color\": \"rgb(10,10,10)\", \"size\": 14}, \"showarrow\": false}, {\"xref\": \"x1\", \"yref\": \"y1\", \"text\": \"5g\", \"y\": -2.9250000000000003, \"x\": 0.25625, \"font\": {\"color\": \"rgb(10,10,10)\", \"size\": 14}, \"showarrow\": false}, {\"xref\": \"x1\", \"yref\": \"y1\", \"text\": \"5g\", \"y\": -2.9250000000000003, \"x\": 0.5125, \"font\": {\"color\": \"rgb(10,10,10)\", \"size\": 14}, \"showarrow\": false}, {\"xref\": \"x1\", \"yref\": \"y1\", \"text\": \"5g\", \"y\": -2.9250000000000003, \"x\": 0.9375, \"font\": {\"color\": \"rgb(10,10,10)\", \"size\": 14}, \"showarrow\": false}, {\"xref\": \"x1\", \"yref\": \"y1\", \"text\": \"5h\", \"y\": -2.9250000000000003, \"x\": 0.26875000000000066, \"font\": {\"color\": \"rgb(10,10,10)\", \"size\": 14}, \"showarrow\": false}, {\"xref\": \"x1\", \"yref\": \"y1\", \"text\": \"6a\", \"y\": -3.1250000000000004, \"x\": 0.6875, \"font\": {\"color\": \"rgb(10,10,10)\", \"size\": 14}, \"showarrow\": false}, {\"xref\": \"x1\", \"yref\": \"y1\", \"text\": \"6a\", \"y\": -3.1250000000000004, \"x\": 0.3375000000000001, \"font\": {\"color\": \"rgb(10,10,10)\", \"size\": 14}, \"showarrow\": false}, {\"xref\": \"x1\", \"yref\": \"y1\", \"text\": \"6c\", \"y\": -3.1250000000000004, \"x\": 0.59375, \"font\": {\"color\": \"rgb(10,10,10)\", \"size\": 14}, \"showarrow\": false}, {\"xref\": \"x1\", \"yref\": \"y1\", \"text\": \"6c\", \"y\": -3.1250000000000004, \"x\": 0.2687500000000007, \"font\": {\"color\": \"rgb(10,10,10)\", \"size\": 14}, \"showarrow\": false}, {\"xref\": \"x1\", \"yref\": \"y1\", \"text\": \"6d\", \"y\": -3.1250000000000004, \"x\": 0.8125, \"font\": {\"color\": \"rgb(10,10,10)\", \"size\": 14}, \"showarrow\": false}, {\"xref\": \"x1\", \"yref\": \"y1\", \"text\": \"6d\", \"y\": -3.1250000000000004, \"x\": 0.6125000000000016, \"font\": {\"color\": \"rgb(10,10,10)\", \"size\": 14}, \"showarrow\": false}, {\"xref\": \"x1\", \"yref\": \"y1\", \"text\": \"6d\", \"y\": -3.1250000000000004, \"x\": 0.4375, \"font\": {\"color\": \"rgb(10,10,10)\", \"size\": 14}, \"showarrow\": false}, {\"xref\": \"x1\", \"yref\": \"y1\", \"text\": \"6d\", \"y\": -3.1250000000000004, \"x\": 0.31562500000000016, \"font\": {\"color\": \"rgb(10,10,10)\", \"size\": 14}, \"showarrow\": false}, {\"xref\": \"x1\", \"yref\": \"y1\", \"text\": \"6e\", \"y\": -3.1250000000000004, \"x\": 0.3625000000000001, \"font\": {\"color\": \"rgb(10,10,10)\", \"size\": 14}, \"showarrow\": false}, {\"xref\": \"x1\", \"yref\": \"y1\", \"text\": \"6e\", \"y\": -3.1250000000000004, \"x\": 0.58125, \"font\": {\"color\": \"rgb(10,10,10)\", \"size\": 14}, \"showarrow\": false}, {\"xref\": \"x1\", \"yref\": \"y1\", \"text\": \"6e\", \"y\": -3.1250000000000004, \"x\": 0.28750000000000003, \"font\": {\"color\": \"rgb(10,10,10)\", \"size\": 14}, \"showarrow\": false}, {\"xref\": \"x1\", \"yref\": \"y1\", \"text\": \"6e\", \"y\": -3.1250000000000004, \"x\": 0.1875, \"font\": {\"color\": \"rgb(10,10,10)\", \"size\": 14}, \"showarrow\": false}, {\"xref\": \"x1\", \"yref\": \"y1\", \"text\": \"6e\", \"y\": -3.1250000000000004, \"x\": 0.0625, \"font\": {\"color\": \"rgb(10,10,10)\", \"size\": 14}, \"showarrow\": false}, {\"xref\": \"x1\", \"yref\": \"y1\", \"text\": \"6g\", \"y\": -3.1250000000000004, \"x\": 0.5125, \"font\": {\"color\": \"rgb(10,10,10)\", \"size\": 14}, \"showarrow\": false}, {\"xref\": \"x1\", \"yref\": \"y1\", \"text\": \"6g\", \"y\": -3.1250000000000004, \"x\": 0.5375000000000015, \"font\": {\"color\": \"rgb(10,10,10)\", \"size\": 14}, \"showarrow\": false}, {\"xref\": \"x1\", \"yref\": \"y1\", \"text\": \"6g\", \"y\": -3.1250000000000004, \"x\": 0.25625, \"font\": {\"color\": \"rgb(10,10,10)\", \"size\": 14}, \"showarrow\": false}, {\"xref\": \"x1\", \"yref\": \"y1\", \"text\": \"6g\", \"y\": -3.1250000000000004, \"x\": 0.32187500000000013, \"font\": {\"color\": \"rgb(10,10,10)\", \"size\": 14}, \"showarrow\": false}, {\"xref\": \"x1\", \"yref\": \"y1\", \"text\": \"6g\", \"y\": -3.1250000000000004, \"x\": 0.3062500000000008, \"font\": {\"color\": \"rgb(10,10,10)\", \"size\": 14}, \"showarrow\": false}, {\"xref\": \"x1\", \"yref\": \"y1\", \"text\": \"6g\", \"y\": -3.1250000000000004, \"x\": 0.9375, \"font\": {\"color\": \"rgb(10,10,10)\", \"size\": 14}, \"showarrow\": false}, {\"xref\": \"x1\", \"yref\": \"y1\", \"text\": \"6h\", \"y\": -3.1250000000000004, \"x\": 0.5625000000000016, \"font\": {\"color\": \"rgb(10,10,10)\", \"size\": 14}, \"showarrow\": false}, {\"xref\": \"x1\", \"yref\": \"y1\", \"text\": \"c3\", \"y\": -0.125, \"x\": 0.9375, \"font\": {\"color\": \"rgb(10,10,10)\", \"size\": 14}, \"showarrow\": false}, {\"xref\": \"x1\", \"yref\": \"y1\", \"text\": \"c4\", \"y\": -0.125, \"x\": 0.0625, \"font\": {\"color\": \"rgb(10,10,10)\", \"size\": 14}, \"showarrow\": false}, {\"xref\": \"x1\", \"yref\": \"y1\", \"text\": \"d4\", \"y\": -0.125, \"x\": 0.5625, \"font\": {\"color\": \"rgb(10,10,10)\", \"size\": 14}, \"showarrow\": false}, {\"xref\": \"x1\", \"yref\": \"y1\", \"text\": \"e3\", \"y\": -0.125, \"x\": 0.8125, \"font\": {\"color\": \"rgb(10,10,10)\", \"size\": 14}, \"showarrow\": false}, {\"xref\": \"x1\", \"yref\": \"y1\", \"text\": \"e4\", \"y\": -0.125, \"x\": 0.3125, \"font\": {\"color\": \"rgb(10,10,10)\", \"size\": 14}, \"showarrow\": false}, {\"xref\": \"x1\", \"yref\": \"y1\", \"text\": \"f3\", \"y\": -0.125, \"x\": 0.6875, \"font\": {\"color\": \"rgb(10,10,10)\", \"size\": 14}, \"showarrow\": false}, {\"xref\": \"x1\", \"yref\": \"y1\", \"text\": \"f4\", \"y\": -0.125, \"x\": 0.4375, \"font\": {\"color\": \"rgb(10,10,10)\", \"size\": 14}, \"showarrow\": false}, {\"xref\": \"x1\", \"yref\": \"y1\", \"text\": \"g3\", \"y\": -0.125, \"x\": 0.1875, \"font\": {\"color\": \"rgb(10,10,10)\", \"size\": 14}, \"showarrow\": false}, {\"xref\": \"x1\", \"yref\": \"y1\", \"text\": \"b6\", \"y\": -0.325, \"x\": 0.5625, \"font\": {\"color\": \"rgb(10,10,10)\", \"size\": 14}, \"showarrow\": false}, {\"xref\": \"x1\", \"yref\": \"y1\", \"text\": \"b6\", \"y\": -0.325, \"x\": 0.4375, \"font\": {\"color\": \"rgb(10,10,10)\", \"size\": 14}, \"showarrow\": false}, {\"xref\": \"x1\", \"yref\": \"y1\", \"text\": \"c5\", \"y\": -0.325, \"x\": 0.2625, \"font\": {\"color\": \"rgb(10,10,10)\", \"size\": 14}, \"showarrow\": false}, {\"xref\": \"x1\", \"yref\": \"y1\", \"text\": \"c6\", \"y\": -0.325, \"x\": 0.5375, \"font\": {\"color\": \"rgb(10,10,10)\", \"size\": 14}, \"showarrow\": false}, {\"xref\": \"x1\", \"yref\": \"y1\", \"text\": \"c6\", \"y\": -0.325, \"x\": 0.28750000000000003, \"font\": {\"color\": \"rgb(10,10,10)\", \"size\": 14}, \"showarrow\": false}, {\"xref\": \"x1\", \"yref\": \"y1\", \"text\": \"d5\", \"y\": -0.325, \"x\": 0.9375, \"font\": {\"color\": \"rgb(10,10,10)\", \"size\": 14}, \"showarrow\": false}, {\"xref\": \"x1\", \"yref\": \"y1\", \"text\": \"d5\", \"y\": -0.325, \"x\": 0.6125, \"font\": {\"color\": \"rgb(10,10,10)\", \"size\": 14}, \"showarrow\": false}, {\"xref\": \"x1\", \"yref\": \"y1\", \"text\": \"d6\", \"y\": -0.325, \"x\": 0.3375000000000001, \"font\": {\"color\": \"rgb(10,10,10)\", \"size\": 14}, \"showarrow\": false}, {\"xref\": \"x1\", \"yref\": \"y1\", \"text\": \"e5\", \"y\": -0.325, \"x\": 0.0625, \"font\": {\"color\": \"rgb(10,10,10)\", \"size\": 14}, \"showarrow\": false}, {\"xref\": \"x1\", \"yref\": \"y1\", \"text\": \"e5\", \"y\": -0.325, \"x\": 0.8125, \"font\": {\"color\": \"rgb(10,10,10)\", \"size\": 14}, \"showarrow\": false}, {\"xref\": \"x1\", \"yref\": \"y1\", \"text\": \"e5\", \"y\": -0.325, \"x\": 0.31250000000000006, \"font\": {\"color\": \"rgb(10,10,10)\", \"size\": 14}, \"showarrow\": false}, {\"xref\": \"x1\", \"yref\": \"y1\", \"text\": \"e6\", \"y\": -0.325, \"x\": 0.5125, \"font\": {\"color\": \"rgb(10,10,10)\", \"size\": 14}, \"showarrow\": false}, {\"xref\": \"x1\", \"yref\": \"y1\", \"text\": \"e6\", \"y\": -0.325, \"x\": 0.3625000000000001, \"font\": {\"color\": \"rgb(10,10,10)\", \"size\": 14}, \"showarrow\": false}, {\"xref\": \"x1\", \"yref\": \"y1\", \"text\": \"e6\", \"y\": -0.325, \"x\": 0.1875, \"font\": {\"color\": \"rgb(10,10,10)\", \"size\": 14}, \"showarrow\": false}, {\"xref\": \"x1\", \"yref\": \"y1\", \"text\": \"f5\", \"y\": -0.325, \"x\": 0.5875, \"font\": {\"color\": \"rgb(10,10,10)\", \"size\": 14}, \"showarrow\": false}, {\"xref\": \"x1\", \"yref\": \"y1\", \"text\": \"g6\", \"y\": -0.325, \"x\": 0.6875, \"font\": {\"color\": \"rgb(10,10,10)\", \"size\": 14}, \"showarrow\": false}, {\"xref\": \"x1\", \"yref\": \"y1\", \"text\": \"c3\", \"y\": -0.5250000000000001, \"x\": 0.5375000000000001, \"font\": {\"color\": \"rgb(10,10,10)\", \"size\": 14}, \"showarrow\": false}, {\"xref\": \"x1\", \"yref\": \"y1\", \"text\": \"c3\", \"y\": -0.5250000000000001, \"x\": 0.0625, \"font\": {\"color\": \"rgb(10,10,10)\", \"size\": 14}, \"showarrow\": false}, {\"xref\": \"x1\", \"yref\": \"y1\", \"text\": \"c3\", \"y\": -0.5250000000000001, \"x\": 0.8125, \"font\": {\"color\": \"rgb(10,10,10)\", \"size\": 14}, \"showarrow\": false}, {\"xref\": \"x1\", \"yref\": \"y1\", \"text\": \"c4\", \"y\": -0.5250000000000001, \"x\": 0.6125000000000002, \"font\": {\"color\": \"rgb(10,10,10)\", \"size\": 14}, \"showarrow\": false}, {\"xref\": \"x1\", \"yref\": \"y1\", \"text\": \"c4\", \"y\": -0.5250000000000001, \"x\": 0.5125, \"font\": {\"color\": \"rgb(10,10,10)\", \"size\": 14}, \"showarrow\": false}, {\"xref\": \"x1\", \"yref\": \"y1\", \"text\": \"c4\", \"y\": -0.5250000000000001, \"x\": 0.6875, \"font\": {\"color\": \"rgb(10,10,10)\", \"size\": 14}, \"showarrow\": false}, {\"xref\": \"x1\", \"yref\": \"y1\", \"text\": \"d4\", \"y\": -0.5250000000000001, \"x\": 0.3375000000000001, \"font\": {\"color\": \"rgb(10,10,10)\", \"size\": 14}, \"showarrow\": false}, {\"xref\": \"x1\", \"yref\": \"y1\", \"text\": \"e2\", \"y\": -0.5250000000000001, \"x\": 0.25625, \"font\": {\"color\": \"rgb(10,10,10)\", \"size\": 14}, \"showarrow\": false}, {\"xref\": \"x1\", \"yref\": \"y1\", \"text\": \"e3\", \"y\": -0.5250000000000001, \"x\": 0.58125, \"font\": {\"color\": \"rgb(10,10,10)\", \"size\": 14}, \"showarrow\": false}, {\"xref\": \"x1\", \"yref\": \"y1\", \"text\": \"e4\", \"y\": -0.5250000000000001, \"x\": 0.9375, \"font\": {\"color\": \"rgb(10,10,10)\", \"size\": 14}, \"showarrow\": false}, {\"xref\": \"x1\", \"yref\": \"y1\", \"text\": \"f3\", \"y\": -0.5250000000000001, \"x\": 0.4375, \"font\": {\"color\": \"rgb(10,10,10)\", \"size\": 14}, \"showarrow\": false}, {\"xref\": \"x1\", \"yref\": \"y1\", \"text\": \"f3\", \"y\": -0.5250000000000001, \"x\": 0.26875, \"font\": {\"color\": \"rgb(10,10,10)\", \"size\": 14}, \"showarrow\": false}, {\"xref\": \"x1\", \"yref\": \"y1\", \"text\": \"f3\", \"y\": -0.5250000000000001, \"x\": 0.3187500000000001, \"font\": {\"color\": \"rgb(10,10,10)\", \"size\": 14}, \"showarrow\": false}, {\"xref\": \"x1\", \"yref\": \"y1\", \"text\": \"f3\", \"y\": -0.5250000000000001, \"x\": 0.3625000000000001, \"font\": {\"color\": \"rgb(10,10,10)\", \"size\": 14}, \"showarrow\": false}, {\"xref\": \"x1\", \"yref\": \"y1\", \"text\": \"f3\", \"y\": -0.5250000000000001, \"x\": 0.59375, \"font\": {\"color\": \"rgb(10,10,10)\", \"size\": 14}, \"showarrow\": false}, {\"xref\": \"x1\", \"yref\": \"y1\", \"text\": \"f4\", \"y\": -0.5250000000000001, \"x\": 0.5625000000000001, \"font\": {\"color\": \"rgb(10,10,10)\", \"size\": 14}, \"showarrow\": false}, {\"xref\": \"x1\", \"yref\": \"y1\", \"text\": \"f4\", \"y\": -0.5250000000000001, \"x\": 0.3062500000000001, \"font\": {\"color\": \"rgb(10,10,10)\", \"size\": 14}, \"showarrow\": false}, {\"xref\": \"x1\", \"yref\": \"y1\", \"text\": \"g2\", \"y\": -0.5250000000000001, \"x\": 0.1875, \"font\": {\"color\": \"rgb(10,10,10)\", \"size\": 14}, \"showarrow\": false}, {\"xref\": \"x1\", \"yref\": \"y1\", \"text\": \"g3\", \"y\": -0.5250000000000001, \"x\": 0.28750000000000003, \"font\": {\"color\": \"rgb(10,10,10)\", \"size\": 14}, \"showarrow\": false}, {\"xref\": \"x1\", \"yref\": \"y1\", \"text\": \"b7\", \"y\": -0.7250000000000001, \"x\": 0.4375, \"font\": {\"color\": \"rgb(10,10,10)\", \"size\": 14}, \"showarrow\": false}, {\"xref\": \"x1\", \"yref\": \"y1\", \"text\": \"b7\", \"y\": -0.7250000000000001, \"x\": 0.5625000000000002, \"font\": {\"color\": \"rgb(10,10,10)\", \"size\": 14}, \"showarrow\": false}, {\"xref\": \"x1\", \"yref\": \"y1\", \"text\": \"c6\", \"y\": -0.7250000000000001, \"x\": 0.9375, \"font\": {\"color\": \"rgb(10,10,10)\", \"size\": 14}, \"showarrow\": false}, {\"xref\": \"x1\", \"yref\": \"y1\", \"text\": \"c6\", \"y\": -0.7250000000000001, \"x\": 0.31875000000000014, \"font\": {\"color\": \"rgb(10,10,10)\", \"size\": 14}, \"showarrow\": false}, {\"xref\": \"x1\", \"yref\": \"y1\", \"text\": \"c7\", \"y\": -0.7250000000000001, \"x\": 0.5375000000000002, \"font\": {\"color\": \"rgb(10,10,10)\", \"size\": 14}, \"showarrow\": false}, {\"xref\": \"x1\", \"yref\": \"y1\", \"text\": \"d5\", \"y\": -0.7250000000000001, \"x\": 0.8125, \"font\": {\"color\": \"rgb(10,10,10)\", \"size\": 14}, \"showarrow\": false}, {\"xref\": \"x1\", \"yref\": \"y1\", \"text\": \"d5\", \"y\": -0.7250000000000001, \"x\": 0.5125, \"font\": {\"color\": \"rgb(10,10,10)\", \"size\": 14}, \"showarrow\": false}, {\"xref\": \"x1\", \"yref\": \"y1\", \"text\": \"d5\", \"y\": -0.7250000000000001, \"x\": 0.3375000000000001, \"font\": {\"color\": \"rgb(10,10,10)\", \"size\": 14}, \"showarrow\": false}, {\"xref\": \"x1\", \"yref\": \"y1\", \"text\": \"d5\", \"y\": -0.7250000000000001, \"x\": 0.30625000000000013, \"font\": {\"color\": \"rgb(10,10,10)\", \"size\": 14}, \"showarrow\": false}, {\"xref\": \"x1\", \"yref\": \"y1\", \"text\": \"d5\", \"y\": -0.7250000000000001, \"x\": 0.28750000000000003, \"font\": {\"color\": \"rgb(10,10,10)\", \"size\": 14}, \"showarrow\": false}, {\"xref\": \"x1\", \"yref\": \"y1\", \"text\": \"d6\", \"y\": -0.7250000000000001, \"x\": 0.26875000000000004, \"font\": {\"color\": \"rgb(10,10,10)\", \"size\": 14}, \"showarrow\": false}, {\"xref\": \"x1\", \"yref\": \"y1\", \"text\": \"d6\", \"y\": -0.7250000000000001, \"x\": 0.3625000000000001, \"font\": {\"color\": \"rgb(10,10,10)\", \"size\": 14}, \"showarrow\": false}, {\"xref\": \"x1\", \"yref\": \"y1\", \"text\": \"e6\", \"y\": -0.7250000000000001, \"x\": 0.6125000000000003, \"font\": {\"color\": \"rgb(10,10,10)\", \"size\": 14}, \"showarrow\": false}, {\"xref\": \"x1\", \"yref\": \"y1\", \"text\": \"e6\", \"y\": -0.7250000000000001, \"x\": 0.25625, \"font\": {\"color\": \"rgb(10,10,10)\", \"size\": 14}, \"showarrow\": false}, {\"xref\": \"x1\", \"yref\": \"y1\", \"text\": \"e6\", \"y\": -0.7250000000000001, \"x\": 0.59375, \"font\": {\"color\": \"rgb(10,10,10)\", \"size\": 14}, \"showarrow\": false}, {\"xref\": \"x1\", \"yref\": \"y1\", \"text\": \"f5\", \"y\": -0.7250000000000001, \"x\": 0.1875, \"font\": {\"color\": \"rgb(10,10,10)\", \"size\": 14}, \"showarrow\": false}, {\"xref\": \"x1\", \"yref\": \"y1\", \"text\": \"f6\", \"y\": -0.7250000000000001, \"x\": 0.0625, \"font\": {\"color\": \"rgb(10,10,10)\", \"size\": 14}, \"showarrow\": false}, {\"xref\": \"x1\", \"yref\": \"y1\", \"text\": \"f6\", \"y\": -0.7250000000000001, \"x\": 0.58125, \"font\": {\"color\": \"rgb(10,10,10)\", \"size\": 14}, \"showarrow\": false}, {\"xref\": \"x1\", \"yref\": \"y1\", \"text\": \"g7\", \"y\": -0.7250000000000001, \"x\": 0.6875, \"font\": {\"color\": \"rgb(10,10,10)\", \"size\": 14}, \"showarrow\": false}, {\"xref\": \"x1\", \"yref\": \"y1\", \"text\": \"b5\", \"y\": -0.925, \"x\": 0.31562500000000016, \"font\": {\"color\": \"rgb(10,10,10)\", \"size\": 14}, \"showarrow\": false}, {\"xref\": \"x1\", \"yref\": \"y1\", \"text\": \"b5\", \"y\": -0.925, \"x\": 0.2687500000000001, \"font\": {\"color\": \"rgb(10,10,10)\", \"size\": 14}, \"showarrow\": false}, {\"xref\": \"x1\", \"yref\": \"y1\", \"text\": \"c3\", \"y\": -0.925, \"x\": 0.6125000000000004, \"font\": {\"color\": \"rgb(10,10,10)\", \"size\": 14}, \"showarrow\": false}, {\"xref\": \"x1\", \"yref\": \"y1\", \"text\": \"c4\", \"y\": -0.925, \"x\": 0.58125, \"font\": {\"color\": \"rgb(10,10,10)\", \"size\": 14}, \"showarrow\": false}, {\"xref\": \"x1\", \"yref\": \"y1\", \"text\": \"d3\", \"y\": -0.925, \"x\": 0.32187500000000013, \"font\": {\"color\": \"rgb(10,10,10)\", \"size\": 14}, \"showarrow\": false}, {\"xref\": \"x1\", \"yref\": \"y1\", \"text\": \"d3\", \"y\": -0.925, \"x\": 0.5375000000000003, \"font\": {\"color\": \"rgb(10,10,10)\", \"size\": 14}, \"showarrow\": false}, {\"xref\": \"x1\", \"yref\": \"y1\", \"text\": \"d3\", \"y\": -0.925, \"x\": 0.1875, \"font\": {\"color\": \"rgb(10,10,10)\", \"size\": 14}, \"showarrow\": false}, {\"xref\": \"x1\", \"yref\": \"y1\", \"text\": \"d4\", \"y\": -0.925, \"x\": 0.9375, \"font\": {\"color\": \"rgb(10,10,10)\", \"size\": 14}, \"showarrow\": false}, {\"xref\": \"x1\", \"yref\": \"y1\", \"text\": \"d4\", \"y\": -0.925, \"x\": 0.8125, \"font\": {\"color\": \"rgb(10,10,10)\", \"size\": 14}, \"showarrow\": false}, {\"xref\": \"x1\", \"yref\": \"y1\", \"text\": \"d4\", \"y\": -0.925, \"x\": 0.3625000000000001, \"font\": {\"color\": \"rgb(10,10,10)\", \"size\": 14}, \"showarrow\": false}, {\"xref\": \"x1\", \"yref\": \"y1\", \"text\": \"d5\", \"y\": -0.925, \"x\": 0.3375000000000001, \"font\": {\"color\": \"rgb(10,10,10)\", \"size\": 14}, \"showarrow\": false}, {\"xref\": \"x1\", \"yref\": \"y1\", \"text\": \"d5\", \"y\": -0.925, \"x\": 0.3062500000000002, \"font\": {\"color\": \"rgb(10,10,10)\", \"size\": 14}, \"showarrow\": false}, {\"xref\": \"x1\", \"yref\": \"y1\", \"text\": \"e3\", \"y\": -0.925, \"x\": 0.4375, \"font\": {\"color\": \"rgb(10,10,10)\", \"size\": 14}, \"showarrow\": false}, {\"xref\": \"x1\", \"yref\": \"y1\", \"text\": \"f3\", \"y\": -0.925, \"x\": 0.5625000000000003, \"font\": {\"color\": \"rgb(10,10,10)\", \"size\": 14}, \"showarrow\": false}, {\"xref\": \"x1\", \"yref\": \"y1\", \"text\": \"f3\", \"y\": -0.925, \"x\": 0.5125, \"font\": {\"color\": \"rgb(10,10,10)\", \"size\": 14}, \"showarrow\": false}, {\"xref\": \"x1\", \"yref\": \"y1\", \"text\": \"f3\", \"y\": -0.925, \"x\": 0.0625, \"font\": {\"color\": \"rgb(10,10,10)\", \"size\": 14}, \"showarrow\": false}, {\"xref\": \"x1\", \"yref\": \"y1\", \"text\": \"g2\", \"y\": -0.925, \"x\": 0.28750000000000003, \"font\": {\"color\": \"rgb(10,10,10)\", \"size\": 14}, \"showarrow\": false}, {\"xref\": \"x1\", \"yref\": \"y1\", \"text\": \"g3\", \"y\": -0.925, \"x\": 0.25625, \"font\": {\"color\": \"rgb(10,10,10)\", \"size\": 14}, \"showarrow\": false}, {\"xref\": \"x1\", \"yref\": \"y1\", \"text\": \"g3\", \"y\": -0.925, \"x\": 0.6875, \"font\": {\"color\": \"rgb(10,10,10)\", \"size\": 14}, \"showarrow\": false}, {\"xref\": \"x1\", \"yref\": \"y1\", \"text\": \"g5\", \"y\": -0.925, \"x\": 0.59375, \"font\": {\"color\": \"rgb(10,10,10)\", \"size\": 14}, \"showarrow\": false}, {\"xref\": \"x1\", \"yref\": \"y1\", \"text\": \"a6\", \"y\": -1.125, \"x\": 0.31562500000000016, \"font\": {\"color\": \"rgb(10,10,10)\", \"size\": 14}, \"showarrow\": false}, {\"xref\": \"x1\", \"yref\": \"y1\", \"text\": \"c5\", \"y\": -1.125, \"x\": 0.0625, \"font\": {\"color\": \"rgb(10,10,10)\", \"size\": 14}, \"showarrow\": false}, {\"xref\": \"x1\", \"yref\": \"y1\", \"text\": \"c6\", \"y\": -1.125, \"x\": 0.5125, \"font\": {\"color\": \"rgb(10,10,10)\", \"size\": 14}, \"showarrow\": false}, {\"xref\": \"x1\", \"yref\": \"y1\", \"text\": \"d4\", \"y\": -1.125, \"x\": 0.8125, \"font\": {\"color\": \"rgb(10,10,10)\", \"size\": 14}, \"showarrow\": false}, {\"xref\": \"x1\", \"yref\": \"y1\", \"text\": \"d5\", \"y\": -1.125, \"x\": 0.3375000000000001, \"font\": {\"color\": \"rgb(10,10,10)\", \"size\": 14}, \"showarrow\": false}, {\"xref\": \"x1\", \"yref\": \"y1\", \"text\": \"d5\", \"y\": -1.125, \"x\": 0.25625, \"font\": {\"color\": \"rgb(10,10,10)\", \"size\": 14}, \"showarrow\": false}, {\"xref\": \"x1\", \"yref\": \"y1\", \"text\": \"d6\", \"y\": -1.125, \"x\": 0.58125, \"font\": {\"color\": \"rgb(10,10,10)\", \"size\": 14}, \"showarrow\": false}, {\"xref\": \"x1\", \"yref\": \"y1\", \"text\": \"d6\", \"y\": -1.125, \"x\": 0.5375000000000004, \"font\": {\"color\": \"rgb(10,10,10)\", \"size\": 14}, \"showarrow\": false}, {\"xref\": \"x1\", \"yref\": \"y1\", \"text\": \"d6\", \"y\": -1.125, \"x\": 0.5625000000000004, \"font\": {\"color\": \"rgb(10,10,10)\", \"size\": 14}, \"showarrow\": false}, {\"xref\": \"x1\", \"yref\": \"y1\", \"text\": \"d6\", \"y\": -1.125, \"x\": 0.6875, \"font\": {\"color\": \"rgb(10,10,10)\", \"size\": 14}, \"showarrow\": false}, {\"xref\": \"x1\", \"yref\": \"y1\", \"text\": \"d7\", \"y\": -1.125, \"x\": 0.26875000000000016, \"font\": {\"color\": \"rgb(10,10,10)\", \"size\": 14}, \"showarrow\": false}, {\"xref\": \"x1\", \"yref\": \"y1\", \"text\": \"d7\", \"y\": -1.125, \"x\": 0.3625000000000001, \"font\": {\"color\": \"rgb(10,10,10)\", \"size\": 14}, \"showarrow\": false}, {\"xref\": \"x1\", \"yref\": \"y1\", \"text\": \"e4\", \"y\": -1.125, \"x\": 0.30625000000000024, \"font\": {\"color\": \"rgb(10,10,10)\", \"size\": 14}, \"showarrow\": false}, {\"xref\": \"x1\", \"yref\": \"y1\", \"text\": \"e4\", \"y\": -1.125, \"x\": 0.28750000000000003, \"font\": {\"color\": \"rgb(10,10,10)\", \"size\": 14}, \"showarrow\": false}, {\"xref\": \"x1\", \"yref\": \"y1\", \"text\": \"e5\", \"y\": -1.125, \"x\": 0.1875, \"font\": {\"color\": \"rgb(10,10,10)\", \"size\": 14}, \"showarrow\": false}, {\"xref\": \"x1\", \"yref\": \"y1\", \"text\": \"e6\", \"y\": -1.125, \"x\": 0.9375, \"font\": {\"color\": \"rgb(10,10,10)\", \"size\": 14}, \"showarrow\": false}, {\"xref\": \"x1\", \"yref\": \"y1\", \"text\": \"e7\", \"y\": -1.125, \"x\": 0.59375, \"font\": {\"color\": \"rgb(10,10,10)\", \"size\": 14}, \"showarrow\": false}, {\"xref\": \"x1\", \"yref\": \"y1\", \"text\": \"f6\", \"y\": -1.125, \"x\": 0.6125000000000005, \"font\": {\"color\": \"rgb(10,10,10)\", \"size\": 14}, \"showarrow\": false}, {\"xref\": \"x1\", \"yref\": \"y1\", \"text\": \"f6\", \"y\": -1.125, \"x\": 0.32187500000000013, \"font\": {\"color\": \"rgb(10,10,10)\", \"size\": 14}, \"showarrow\": false}, {\"xref\": \"x1\", \"yref\": \"y1\", \"text\": \"g6\", \"y\": -1.125, \"x\": 0.4375, \"font\": {\"color\": \"rgb(10,10,10)\", \"size\": 14}, \"showarrow\": false}, {\"xref\": \"x1\", \"yref\": \"y1\", \"text\": \"a4\", \"y\": -1.325, \"x\": 0.31562500000000016, \"font\": {\"color\": \"rgb(10,10,10)\", \"size\": 14}, \"showarrow\": false}, {\"xref\": \"x1\", \"yref\": \"y1\", \"text\": \"c3\", \"y\": -1.325, \"x\": 0.5125, \"font\": {\"color\": \"rgb(10,10,10)\", \"size\": 14}, \"showarrow\": false}, {\"xref\": \"x1\", \"yref\": \"y1\", \"text\": \"c3\", \"y\": -1.325, \"x\": 0.3375000000000001, \"font\": {\"color\": \"rgb(10,10,10)\", \"size\": 14}, \"showarrow\": false}, {\"xref\": \"x1\", \"yref\": \"y1\", \"text\": \"c3\", \"y\": -1.325, \"x\": 0.58125, \"font\": {\"color\": \"rgb(10,10,10)\", \"size\": 14}, \"showarrow\": false}, {\"xref\": \"x1\", \"yref\": \"y1\", \"text\": \"c3\", \"y\": -1.325, \"x\": 0.3625000000000001, \"font\": {\"color\": \"rgb(10,10,10)\", \"size\": 14}, \"showarrow\": false}, {\"xref\": \"x1\", \"yref\": \"y1\", \"text\": \"c3\", \"y\": -1.325, \"x\": 0.3062500000000003, \"font\": {\"color\": \"rgb(10,10,10)\", \"size\": 14}, \"showarrow\": false}, {\"xref\": \"x1\", \"yref\": \"y1\", \"text\": \"c4\", \"y\": -1.325, \"x\": 0.1875, \"font\": {\"color\": \"rgb(10,10,10)\", \"size\": 14}, \"showarrow\": false}, {\"xref\": \"x1\", \"yref\": \"y1\", \"text\": \"d4\", \"y\": -1.325, \"x\": 0.8125, \"font\": {\"color\": \"rgb(10,10,10)\", \"size\": 14}, \"showarrow\": false}, {\"xref\": \"x1\", \"yref\": \"y1\", \"text\": \"d5\", \"y\": -1.325, \"x\": 0.9375, \"font\": {\"color\": \"rgb(10,10,10)\", \"size\": 14}, \"showarrow\": false}, {\"xref\": \"x1\", \"yref\": \"y1\", \"text\": \"e2\", \"y\": -1.325, \"x\": 0.4375, \"font\": {\"color\": \"rgb(10,10,10)\", \"size\": 14}, \"showarrow\": false}, {\"xref\": \"x1\", \"yref\": \"y1\", \"text\": \"e3\", \"y\": -1.325, \"x\": 0.5625000000000006, \"font\": {\"color\": \"rgb(10,10,10)\", \"size\": 14}, \"showarrow\": false}, {\"xref\": \"x1\", \"yref\": \"y1\", \"text\": \"e4\", \"y\": -1.325, \"x\": 0.28750000000000003, \"font\": {\"color\": \"rgb(10,10,10)\", \"size\": 14}, \"showarrow\": false}, {\"xref\": \"x1\", \"yref\": \"y1\", \"text\": \"e5\", \"y\": -1.325, \"x\": 0.25625, \"font\": {\"color\": \"rgb(10,10,10)\", \"size\": 14}, \"showarrow\": false}, {\"xref\": \"x1\", \"yref\": \"y1\", \"text\": \"f3\", \"y\": -1.325, \"x\": 0.6125000000000006, \"font\": {\"color\": \"rgb(10,10,10)\", \"size\": 14}, \"showarrow\": false}, {\"xref\": \"x1\", \"yref\": \"y1\", \"text\": \"g1\", \"y\": -1.325, \"x\": 0.2687500000000002, \"font\": {\"color\": \"rgb(10,10,10)\", \"size\": 14}, \"showarrow\": false}, {\"xref\": \"x1\", \"yref\": \"y1\", \"text\": \"g2\", \"y\": -1.325, \"x\": 0.6875, \"font\": {\"color\": \"rgb(10,10,10)\", \"size\": 14}, \"showarrow\": false}, {\"xref\": \"x1\", \"yref\": \"y1\", \"text\": \"g3\", \"y\": -1.325, \"x\": 0.0625, \"font\": {\"color\": \"rgb(10,10,10)\", \"size\": 14}, \"showarrow\": false}, {\"xref\": \"x1\", \"yref\": \"y1\", \"text\": \"g3\", \"y\": -1.325, \"x\": 0.32187500000000013, \"font\": {\"color\": \"rgb(10,10,10)\", \"size\": 14}, \"showarrow\": false}, {\"xref\": \"x1\", \"yref\": \"y1\", \"text\": \"h4\", \"y\": -1.325, \"x\": 0.5375000000000005, \"font\": {\"color\": \"rgb(10,10,10)\", \"size\": 14}, \"showarrow\": false}, {\"xref\": \"x1\", \"yref\": \"y1\", \"text\": \"h4\", \"y\": -1.325, \"x\": 0.59375, \"font\": {\"color\": \"rgb(10,10,10)\", \"size\": 14}, \"showarrow\": false}, {\"xref\": \"x1\", \"yref\": \"y1\", \"text\": \"a6\", \"y\": -1.525, \"x\": 0.26875000000000027, \"font\": {\"color\": \"rgb(10,10,10)\", \"size\": 14}, \"showarrow\": false}, {\"xref\": \"x1\", \"yref\": \"y1\", \"text\": \"b4\", \"y\": -1.525, \"x\": 0.6125000000000007, \"font\": {\"color\": \"rgb(10,10,10)\", \"size\": 14}, \"showarrow\": false}, {\"xref\": \"x1\", \"yref\": \"y1\", \"text\": \"c6\", \"y\": -1.525, \"x\": 0.3625000000000001, \"font\": {\"color\": \"rgb(10,10,10)\", \"size\": 14}, \"showarrow\": false}, {\"xref\": \"x1\", \"yref\": \"y1\", \"text\": \"c6\", \"y\": -1.525, \"x\": 0.4375, \"font\": {\"color\": \"rgb(10,10,10)\", \"size\": 14}, \"showarrow\": false}, {\"xref\": \"x1\", \"yref\": \"y1\", \"text\": \"d4\", \"y\": -1.525, \"x\": 0.25625, \"font\": {\"color\": \"rgb(10,10,10)\", \"size\": 14}, \"showarrow\": false}, {\"xref\": \"x1\", \"yref\": \"y1\", \"text\": \"d5\", \"y\": -1.525, \"x\": 0.9375, \"font\": {\"color\": \"rgb(10,10,10)\", \"size\": 14}, \"showarrow\": false}, {\"xref\": \"x1\", \"yref\": \"y1\", \"text\": \"d5\", \"y\": -1.525, \"x\": 0.32187500000000013, \"font\": {\"color\": \"rgb(10,10,10)\", \"size\": 14}, \"showarrow\": false}, {\"xref\": \"x1\", \"yref\": \"y1\", \"text\": \"d6\", \"y\": -1.525, \"x\": 0.5125, \"font\": {\"color\": \"rgb(10,10,10)\", \"size\": 14}, \"showarrow\": false}, {\"xref\": \"x1\", \"yref\": \"y1\", \"text\": \"d8\", \"y\": -1.525, \"x\": 0.3375000000000001, \"font\": {\"color\": \"rgb(10,10,10)\", \"size\": 14}, \"showarrow\": false}, {\"xref\": \"x1\", \"yref\": \"y1\", \"text\": \"e5\", \"y\": -1.525, \"x\": 0.5375000000000006, \"font\": {\"color\": \"rgb(10,10,10)\", \"size\": 14}, \"showarrow\": false}, {\"xref\": \"x1\", \"yref\": \"y1\", \"text\": \"e6\", \"y\": -1.525, \"x\": 0.58125, \"font\": {\"color\": \"rgb(10,10,10)\", \"size\": 14}, \"showarrow\": false}, {\"xref\": \"x1\", \"yref\": \"y1\", \"text\": \"e6\", \"y\": -1.525, \"x\": 0.5625000000000007, \"font\": {\"color\": \"rgb(10,10,10)\", \"size\": 14}, \"showarrow\": false}, {\"xref\": \"x1\", \"yref\": \"y1\", \"text\": \"f6\", \"y\": -1.525, \"x\": 0.31562500000000016, \"font\": {\"color\": \"rgb(10,10,10)\", \"size\": 14}, \"showarrow\": false}, {\"xref\": \"x1\", \"yref\": \"y1\", \"text\": \"f6\", \"y\": -1.525, \"x\": 0.30625000000000036, \"font\": {\"color\": \"rgb(10,10,10)\", \"size\": 14}, \"showarrow\": false}, {\"xref\": \"x1\", \"yref\": \"y1\", \"text\": \"f6\", \"y\": -1.525, \"x\": 0.1875, \"font\": {\"color\": \"rgb(10,10,10)\", \"size\": 14}, \"showarrow\": false}, {\"xref\": \"x1\", \"yref\": \"y1\", \"text\": \"f6\", \"y\": -1.525, \"x\": 0.8125, \"font\": {\"color\": \"rgb(10,10,10)\", \"size\": 14}, \"showarrow\": false}, {\"xref\": \"x1\", \"yref\": \"y1\", \"text\": \"f6\", \"y\": -1.525, \"x\": 0.28750000000000003, \"font\": {\"color\": \"rgb(10,10,10)\", \"size\": 14}, \"showarrow\": false}, {\"xref\": \"x1\", \"yref\": \"y1\", \"text\": \"f6\", \"y\": -1.525, \"x\": 0.6875, \"font\": {\"color\": \"rgb(10,10,10)\", \"size\": 14}, \"showarrow\": false}, {\"xref\": \"x1\", \"yref\": \"y1\", \"text\": \"f6\", \"y\": -1.525, \"x\": 0.59375, \"font\": {\"color\": \"rgb(10,10,10)\", \"size\": 14}, \"showarrow\": false}, {\"xref\": \"x1\", \"yref\": \"y1\", \"text\": \"g8\", \"y\": -1.525, \"x\": 0.0625, \"font\": {\"color\": \"rgb(10,10,10)\", \"size\": 14}, \"showarrow\": false}, {\"xref\": \"x1\", \"yref\": \"y1\", \"text\": \"c3\", \"y\": -1.7249999999999999, \"x\": 0.8125, \"font\": {\"color\": \"rgb(10,10,10)\", \"size\": 14}, \"showarrow\": false}, {\"xref\": \"x1\", \"yref\": \"y1\", \"text\": \"c4\", \"y\": -1.7249999999999999, \"x\": 0.3062500000000004, \"font\": {\"color\": \"rgb(10,10,10)\", \"size\": 14}, \"showarrow\": false}, {\"xref\": \"x1\", \"yref\": \"y1\", \"text\": \"d3\", \"y\": -1.7249999999999999, \"x\": 0.58125, \"font\": {\"color\": \"rgb(10,10,10)\", \"size\": 14}, \"showarrow\": false}, {\"xref\": \"x1\", \"yref\": \"y1\", \"text\": \"d4\", \"y\": -1.7249999999999999, \"x\": 0.4375, \"font\": {\"color\": \"rgb(10,10,10)\", \"size\": 14}, \"showarrow\": false}, {\"xref\": \"x1\", \"yref\": \"y1\", \"text\": \"d5\", \"y\": -1.7249999999999999, \"x\": 0.5375000000000008, \"font\": {\"color\": \"rgb(10,10,10)\", \"size\": 14}, \"showarrow\": false}, {\"xref\": \"x1\", \"yref\": \"y1\", \"text\": \"d7\", \"y\": -1.7249999999999999, \"x\": 0.2687500000000003, \"font\": {\"color\": \"rgb(10,10,10)\", \"size\": 14}, \"showarrow\": false}, {\"xref\": \"x1\", \"yref\": \"y1\", \"text\": \"f3\", \"y\": -1.7249999999999999, \"x\": 0.9375, \"font\": {\"color\": \"rgb(10,10,10)\", \"size\": 14}, \"showarrow\": false}, {\"xref\": \"x1\", \"yref\": \"y1\", \"text\": \"f3\", \"y\": -1.7249999999999999, \"x\": 0.1875, \"font\": {\"color\": \"rgb(10,10,10)\", \"size\": 14}, \"showarrow\": false}, {\"xref\": \"x1\", \"yref\": \"y1\", \"text\": \"f3\", \"y\": -1.7249999999999999, \"x\": 0.28750000000000003, \"font\": {\"color\": \"rgb(10,10,10)\", \"size\": 14}, \"showarrow\": false}, {\"xref\": \"x1\", \"yref\": \"y1\", \"text\": \"f4\", \"y\": -1.7249999999999999, \"x\": 0.3625000000000001, \"font\": {\"color\": \"rgb(10,10,10)\", \"size\": 14}, \"showarrow\": false}, {\"xref\": \"x1\", \"yref\": \"y1\", \"text\": \"f4\", \"y\": -1.7249999999999999, \"x\": 0.25625, \"font\": {\"color\": \"rgb(10,10,10)\", \"size\": 14}, \"showarrow\": false}, {\"xref\": \"x1\", \"yref\": \"y1\", \"text\": \"f6\", \"y\": -1.7249999999999999, \"x\": 0.59375, \"font\": {\"color\": \"rgb(10,10,10)\", \"size\": 14}, \"showarrow\": false}, {\"xref\": \"x1\", \"yref\": \"y1\", \"text\": \"g1\", \"y\": -1.7249999999999999, \"x\": 0.31562500000000016, \"font\": {\"color\": \"rgb(10,10,10)\", \"size\": 14}, \"showarrow\": false}, {\"xref\": \"x1\", \"yref\": \"y1\", \"text\": \"g1\", \"y\": -1.7249999999999999, \"x\": 0.6875, \"font\": {\"color\": \"rgb(10,10,10)\", \"size\": 14}, \"showarrow\": false}, {\"xref\": \"x1\", \"yref\": \"y1\", \"text\": \"g2\", \"y\": -1.7249999999999999, \"x\": 0.32187500000000013, \"font\": {\"color\": \"rgb(10,10,10)\", \"size\": 14}, \"showarrow\": false}, {\"xref\": \"x1\", \"yref\": \"y1\", \"text\": \"g2\", \"y\": -1.7249999999999999, \"x\": 0.0625, \"font\": {\"color\": \"rgb(10,10,10)\", \"size\": 14}, \"showarrow\": false}, {\"xref\": \"x1\", \"yref\": \"y1\", \"text\": \"g5\", \"y\": -1.7249999999999999, \"x\": 0.6125000000000008, \"font\": {\"color\": \"rgb(10,10,10)\", \"size\": 14}, \"showarrow\": false}, {\"xref\": \"x1\", \"yref\": \"y1\", \"text\": \"g5\", \"y\": -1.7249999999999999, \"x\": 0.5125, \"font\": {\"color\": \"rgb(10,10,10)\", \"size\": 14}, \"showarrow\": false}, {\"xref\": \"x1\", \"yref\": \"y1\", \"text\": \"h3\", \"y\": -1.7249999999999999, \"x\": 0.3375000000000001, \"font\": {\"color\": \"rgb(10,10,10)\", \"size\": 14}, \"showarrow\": false}, {\"xref\": \"x1\", \"yref\": \"y1\", \"text\": \"h3\", \"y\": -1.7249999999999999, \"x\": 0.5625000000000008, \"font\": {\"color\": \"rgb(10,10,10)\", \"size\": 14}, \"showarrow\": false}]}, {\"linkText\": \"Export to plot.ly\", \"showLink\": true})});</script>"
      ]
     },
     "metadata": {},
     "output_type": "display_data"
    }
   ],
   "source": [
    "plotly.offline.iplot(fig, filename='Tree-Reingold-Tilf')"
   ]
  },
  {
   "cell_type": "markdown",
   "metadata": {},
   "source": [
    "Next steps:\n",
    "- make the edges fater if a lot of people did that move\n",
    "- add stuff in the annotation, like the piece that moved and the color of the player\n",
    "- add different color per level"
   ]
  },
  {
   "cell_type": "markdown",
   "metadata": {},
   "source": [
    "For hierarcical networks:\n",
    "- https://plot.ly/python/tree-plots/ (but I couldn't get igraph to work and recursion is not solved)\n",
    "- https://stackoverflow.com/questions/29586520/can-one-get-hierarchical-graphs-from-networkx-with-python-3?utm_medium=organic&utm_source=google_rich_qa&utm_campaign=google_rich_qa (after that example, I think we really need to create our own function)"
   ]
  }
 ],
 "metadata": {
  "kernelspec": {
   "display_name": "Python 2",
   "language": "python",
   "name": "python2"
  },
  "language_info": {
   "codemirror_mode": {
    "name": "ipython",
    "version": 2
   },
   "file_extension": ".py",
   "mimetype": "text/x-python",
   "name": "python",
   "nbconvert_exporter": "python",
   "pygments_lexer": "ipython2",
   "version": "2.7.14"
  }
 },
 "nbformat": 4,
 "nbformat_minor": 2
}
